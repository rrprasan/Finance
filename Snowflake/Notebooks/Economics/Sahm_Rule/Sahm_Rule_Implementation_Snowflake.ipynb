{
 "metadata": {
  "kernelspec": {
   "display_name": "Streamlit Notebook",
   "name": "streamlit"
  }
 },
 "nbformat_minor": 5,
 "nbformat": 4,
 "cells": [
  {
   "cell_type": "markdown",
   "id": "bf43560c-e7b4-49c2-811e-fd61b81f7dc0",
   "metadata": {
    "name": "Notebook_Title_MD",
    "collapsed": false,
    "resultHeight": 74
   },
   "source": "# Implementing the Sahm Rule Recession Indicator in Snowflake "
  },
  {
   "cell_type": "markdown",
   "id": "35e53b31-cc8d-450f-9aa8-cb8c754c2f70",
   "metadata": {
    "name": "What_Is_Sahm_Rule_MD",
    "collapsed": false,
    "resultHeight": 202
   },
   "source": "# What's the Sahm rule? \n1. [Claudia Sahm](https://en.wikipedia.org/wiki/Claudia_Sahm) is an American Economist who worked for the United States [Federal Reserve Board of Governors](https://www.federalreserve.gov/) when she developed this rule named after her.\n2. Sahm rule [recession indicator](https://en.wikipedia.org/wiki/Sahm_rule) is a heuristic measure for determining when an economy has entered a recession.  \n3. You can also read about the more recent application of Sahm rule in [this post](https://live.barcap.com/publiccp/RSR/nyfipubs/barcap-email-mkting/html/eagle-eye-newsletter/2024-10-03-eagle-eye-website.html#section1-chart1) by [Barclays Investment Bank](https://www.ib.barclays/)"
  },
  {
   "cell_type": "markdown",
   "id": "f82bc249-526e-4050-888b-ad2e8a51f8c5",
   "metadata": {
    "name": "Sahm_Rule_MD",
    "collapsed": false,
    "resultHeight": 260
   },
   "source": "# Components of the Sahm Rule\n### 1. The Sahm rule indicator is triggered when the unemployment rate goes *half a percentage point above its 12-month low*.\n### 2. Another version of this rule looks at the three-month moving average of the unemployment rate.\n### 3. The Sahm rule does work with a lag. \n### 4. It has correctly identified all recessions since 1970, performing better than other indicators."
  },
  {
   "cell_type": "markdown",
   "id": "a75c72c9-4669-4f88-9435-b6d6cc0b3b4f",
   "metadata": {
    "name": "Create_Stage_MD",
    "collapsed": false,
    "resultHeight": 181
   },
   "source": "# Create a stage in Snowflake to hold the data.\n## The data was downloaded from the United States Bureau of Labor Statistics\n### You can use the U.S. BLS API to download the data.  "
  },
  {
   "cell_type": "code",
   "id": "062d8db7-6b20-4f4e-8f2a-102ecf90f422",
   "metadata": {
    "language": "sql",
    "name": "Create_Int_Stg_SQL",
    "collapsed": false,
    "resultHeight": 87
   },
   "outputs": [],
   "source": "CREATE STAGE US_UNEMPLOYMENT_RAW_DATA_STAGE \n\tDIRECTORY = ( ENABLE = true );",
   "execution_count": null
  },
  {
   "cell_type": "markdown",
   "id": "305aeb04-7431-4ba3-86c9-e7af74a05357",
   "metadata": {
    "name": "Upload_Files_to_Stg_MD",
    "collapsed": false,
    "resultHeight": 542
   },
   "source": "# Instructions to upload the unemployment rate data files into the stage.\n- Copy the unemployment rate JSON data files into the Snowflake internal stage - US_UNEMPLOYMENT_RAW_DATA_STAGE.\n- Follow the [following steps](https://docs.snowflake.com/en/user-guide/data-load-local-file-system-stage-ui#upload-files-onto-a-named-internal-stage) in Snowsight.  \n### 1. Sign in to Snowsight.\n### 2. Select Data » Add Data.\n### 3. On the Add Data page, select Load files into a Stage.\n### 4. In the Upload Your Files dialog that appears, select the files that you want to upload. You can upload multiple files at the same time.\n### 5. Select the database schema in which you created the stage, then select the stage.\n### 6. Optionally, select or create a path where you want to save your files within the stage.\n### 7. Select Upload.\n\n### You can download all the U.S. Unemployment Data JSON files from [Github here](https://github.com/rrprasan/Finance/tree/main/Snowflake/Notebooks/Economics)"
  },
  {
   "cell_type": "code",
   "id": "7f71e2da-a285-443f-9791-7285e101f47d",
   "metadata": {
    "language": "sql",
    "name": "List_Files_In_Stg",
    "resultHeight": 322,
    "collapsed": false
   },
   "outputs": [],
   "source": "LIST @US_UNEMPLOYMENT_RAW_DATA_STAGE;",
   "execution_count": null
  },
  {
   "cell_type": "markdown",
   "id": "1bcca72b-e136-4ac8-b5a6-7583c4bda246",
   "metadata": {
    "name": "Create_Table_MD",
    "collapsed": false,
    "resultHeight": 167
   },
   "source": "# Create a table with one column of data type VARIANT.\n### 1. The JSON document in each file will be stored in the VARIANT column. \n### 2. We will have six rows in the table.  "
  },
  {
   "cell_type": "code",
   "id": "c8a49db8-a5f3-46fe-83b5-7765010f39df",
   "metadata": {
    "language": "sql",
    "name": "CREATE_TBL_SQL",
    "resultHeight": 112,
    "collapsed": false
   },
   "outputs": [],
   "source": "CREATE OR REPLACE TABLE US_UNEMPLOYMENT_RATE_DATA_TBL \n(\n    UNEMPLOYMENT_RATE_JSON VARIANT\n);",
   "execution_count": null
  },
  {
   "cell_type": "markdown",
   "id": "c95d2250-35ed-4e5b-94e2-c2a44a8d9837",
   "metadata": {
    "name": "Copy_CMD_MD",
    "collapsed": false,
    "resultHeight": 120
   },
   "source": "# Load data into the US_UNEMPLOYMENT_RATE_DATA_TBL table. \n### 1. We will use Snowflake's [COPY](https://docs.snowflake.com/en/sql-reference/sql/copy-into-table) command. "
  },
  {
   "cell_type": "code",
   "id": "fc0647a8-f9d3-4b66-8ebd-f4283a2fb519",
   "metadata": {
    "language": "sql",
    "name": "COPY_INTO_TBL_SQL",
    "resultHeight": 287,
    "collapsed": false
   },
   "outputs": [],
   "source": "COPY INTO US_UNEMPLOYMENT_RATE_DATA_TBL \nFROM \n    @US_UNEMPLOYMENT_RAW_DATA_STAGE \nFILES = (\n    'US_Unemployment_Rate_1970_1979.json',\n    'US_Unemployment_Rate_1980_1989.json', \n    'US_Unemployment_Rate_1990_1999.json', \n    'US_Unemployment_Rate_2000_2009.json', \n    'US_Unemployment_Rate_2010_2019.json', \n    'US_Unemployment_Rate_2020_2024.json')\nFILE_FORMAT = (TYPE = JSON);",
   "execution_count": null
  },
  {
   "cell_type": "markdown",
   "id": "6121e380-0a5e-42d8-875c-d5867a022dae",
   "metadata": {
    "name": "Querying_JSON_MD",
    "collapsed": false,
    "resultHeight": 153
   },
   "source": "## Example: Query the JSON Data in the US_UNEMPLOYMENT_RATE_DATA_TBL Table\n### 1. We use the [LATERAL](https://community.snowflake.com/s/article/Dynamically-extract-multi-level-JSON-object-using-lateral-flatten) [FLATTEN](https://docs.snowflake.com/en/sql-reference/functions/flatten) SQL functions. \n### 2. [FLATTEN](https://docs.snowflake.com/en/sql-reference/functions/flatten) can be used to convert semi-structured data to a relational representation."
  },
  {
   "cell_type": "code",
   "id": "657b8e9f-5fda-4f05-a7aa-93cb3d8b963e",
   "metadata": {
    "language": "sql",
    "name": "Querying_JSON_Data_SQL",
    "resultHeight": 439,
    "collapsed": false
   },
   "outputs": [],
   "source": "SELECT\n    ft.VALUE:\"periodName\"::STRING UNEMPLOYMENT_DATA_MONTH,\n    ft.VALUE:\"year\"::NUMBER UNEMPLOYMENT_DATA_YEAR,\n    ft.VALUE:\"value\"::NUMBER(5,2) UNEMPLOYMENT_RATE\nFROM \n    US_UNEMPLOYMENT_RATE_DATA_TBL UNER,\n    LATERAL FLATTEN (input => parse_json(UNER.UNEMPLOYMENT_RATE_JSON:\"data\")) ft\nORDER BY UNEMPLOYMENT_DATA_YEAR ASC;",
   "execution_count": null
  },
  {
   "cell_type": "markdown",
   "id": "402935ad-44e4-4081-8513-27de5eb3062f",
   "metadata": {
    "name": "US_RECESSIONS_MD",
    "collapsed": false,
    "resultHeight": 714
   },
   "source": "# US RECESSIONS 1970 - 2024\n## In the US, the [Business Cycle Dating Committee](https://www.nber.org/research/business-cycle-dating) of the National Bureau of Economic Research ([NBER](https://www.nber.org/)) is reponsible for dating recessions.\n## These are the official recession dates. \n## We will check the performance of our query against these dates. \n### 1. December 1969 - November 1970 (11 Months)\n### 2. November 1973 – March 1975    (1 year 4 months)\n### 3. January  1980 – July 1980     (6 months)\n### 4. July     1981 – November 1982 (1 year 4 months)\n### 5. July     1990 – March 1991    (8 months)\n### 6. March    2001 – November 2001 (8 months)\n### 7. December 2007 – June 2009     (1 year 6 months)\n### 8. February 2020 – April 2020    (2 months)\n\n> Source: [Wikipedia](https://en.wikipedia.org/wiki/List_of_recessions_in_the_United_States)\n"
  },
  {
   "cell_type": "markdown",
   "id": "163bf24d-cf7f-4bc0-99de-703b597572eb",
   "metadata": {
    "name": "Implement_Sahm_Rule_MD",
    "collapsed": false,
    "resultHeight": 106
   },
   "source": "# Implement Sahm Rule in Snowflake Using a SQL Query.\n## \n"
  },
  {
   "cell_type": "markdown",
   "id": "5d7d21de-1195-44c0-b5a5-75d569e3667b",
   "metadata": {
    "name": "Query_Explanation_MD",
    "collapsed": false,
    "resultHeight": 639
   },
   "source": "# Explaining the Query Using [Snowflake Copilot](https://docs.snowflake.com/en/user-guide/snowflake-copilot)\n### Although I wrote this query, explaining how it works can be time-consuming. So, naturally, I used AI to help me with this task.\n### I used Snowflake Copilot, which is built into the Snowflake Snowsight, to explain this query. Snowflake Copilot's explanation was detailed and thorough. \n### Here's what [Snowflake Copilot](https://docs.snowflake.com/en/user-guide/snowflake-copilot) said about the query:\nThis query is designed to analyze unemployment rate data and determine if a recession is imminent. Here's a breakdown of how it works:\n\n- The query first creates a subquery that extracts unemployment data from a JSON object stored in the US_UNEMPLOYMENT_RATE_DATA_TBL table. The subquery uses the FLATTEN function to parse the JSON object and extract the relevant data, including the month and year of the unemployment data, the unemployment rate, and a formatted date that combines the month and year.\n- The outer query then selects the extracted data from the subquery and calculates the minimum and maximum unemployment rates for the current row and the 11 preceding rows (i.e., the past year). It also calculates the difference between the maximum and minimum unemployment rates and checks if this difference is greater than or equal to 0.5. If it is, and the current unemployment rate is greater than the unemployment rate from 11 rows ago (i.e., a year ago), the query returns the string 'RECESSION IMMINENT'. Otherwise, it returns 'NO RECESSION'.\nIn summary, this query uses window functions and conditional logic to analyze unemployment rate data and determine if a recession is imminent based on certain criteria.\n### This is a great example of where AI can make you more productive.\n### AI does not absolve us from knowing and understanding the technical details. Nor does it absolve you from mastering the business domain of your choice. It's still extremely important for humans to put pen to paper and practice writing code or learning a concept by doing."
  },
  {
   "cell_type": "markdown",
   "id": "8464f7f4-4910-4f03-8449-c689b5f9b8e7",
   "metadata": {
    "name": "WhatsImplemented_MD",
    "collapsed": false,
    "resultHeight": 228
   },
   "source": "## In this implementation of the query the Sahm rule is triggered when the unemployment rate goes *half a percentage point above its 12-month low*.\n\n### Although the query results agrees with the recessions, the starting and ending period differs by a few months. \n### Yet, this is a good tool in any economist's toolkit. \n### You can take this data and the query and improve on it.  "
  },
  {
   "cell_type": "markdown",
   "id": "2547caed-842e-4eb0-a233-0d975bdaa8b6",
   "metadata": {
    "name": "cell1",
    "collapsed": false,
    "resultHeight": 391
   },
   "source": "# Definitions of Various SQL Functions Used. \n## Snowflake Copilot Generated these Definitions. \n\nHere are the definitions of the SQL functions used in the query:\n\n- MIN: Returns the minimum value of a specified column.\n- MAX: Returns the maximum value of a specified column.\n- LAG: Returns the value of a specified column from a previous row.\n- IFF: Returns one of two values depending on whether a specified condition is true or false.\n- TO_DATE: Converts a string to a date data type.\n- FLATTEN: Extracts data from a semi-structured or nested data structure, such as a JSON object, and returns it as a set of rows.\n- For more information on window functions in Snowflake, you can refer to the [Window function syntax and usage](https://docs.snowflake.com/en/sql-reference/functions-window-syntax) documentation."
  },
  {
   "cell_type": "code",
   "id": "d106e6bf-b8f6-46cd-a656-6b70a5f72629",
   "metadata": {
    "language": "sql",
    "name": "Sahm_Rule_Query_SQL",
    "resultHeight": 439,
    "collapsed": false
   },
   "outputs": [],
   "source": "SELECT\n    UNEMPLOYMENT_DATA_MONTH,\n    UNEMPLOYMENT_DATA_YEAR,\n    IFF((MAX(UNEMPLOYMENT_RATE) OVER (ORDER BY UNEMPLOYMENT_DATA_YEAR ASC ROWS BETWEEN 11 PRECEDING AND CURRENT ROW)) - (MIN(UNEMPLOYMENT_RATE) OVER (ORDER BY UNEMPLOYMENT_DATA_YEAR ASC ROWS BETWEEN 11 PRECEDING AND CURRENT ROW)) >= 0.5 AND (UNEMPLOYMENT_RATE - LAG(UNEMPLOYMENT_RATE, 11, NULL) OVER (ORDER BY MONTH_YEAR ASC)) > 0, 'RECESSION IMMINENT', 'NO RECESSION' ) IS_RECESSION,\n    MONTH_YEAR,\n    UNEMPLOYMENT_RATE,\n    MIN(UNEMPLOYMENT_RATE) OVER (ORDER BY UNEMPLOYMENT_DATA_YEAR ASC ROWS BETWEEN 11 PRECEDING AND CURRENT ROW) MIN_UNEMPLOYMENT_RATE,\n    MAX(UNEMPLOYMENT_RATE) OVER (ORDER BY UNEMPLOYMENT_DATA_YEAR ASC ROWS BETWEEN 11 PRECEDING AND CURRENT ROW) MAX_UNEMPLOYMENT_RATE,\nFROM\n(SELECT\n    ft.VALUE:\"periodName\"::STRING UNEMPLOYMENT_DATA_MONTH,\n    ft.VALUE:\"year\"::NUMBER UNEMPLOYMENT_DATA_YEAR,\n    ft.VALUE:\"value\"::NUMBER(5,2) UNEMPLOYMENT_RATE,\n    TO_DATE(ft.VALUE:\"periodName\"::STRING || '-' || ft.VALUE:\"year\"::STRING, 'MON-YYYY') MONTH_YEAR\nFROM \n    US_UNEMPLOYMENT_RATE_DATA_TBL UNER,\n    LATERAL FLATTEN (input => parse_json(UNER.UNEMPLOYMENT_RATE_JSON:\"data\")) ft)",
   "execution_count": null
  },
  {
   "cell_type": "markdown",
   "id": "e51fd13c-b8f9-414a-b5ff-a032f07f9240",
   "metadata": {
    "name": "MaxUnemployment_MD",
    "collapsed": false,
    "resultHeight": 74
   },
   "source": "# Find the maximum unemployment rate during each recession."
  },
  {
   "cell_type": "code",
   "id": "79104d1f-2f78-48b9-8696-c24bfdf048db",
   "metadata": {
    "language": "sql",
    "name": "MaxUnemploymentDuringRecessionSQL",
    "resultHeight": 439,
    "collapsed": false
   },
   "outputs": [],
   "source": "SELECT\n    UNEMPLOYMENT_DATA_YEAR,\n    MAX(UNEMPLOYMENT_RATE) MAX_UNEMPLOYMENT_RATE\nFROM\n(SELECT\n    UNEMPLOYMENT_DATA_MONTH,\n    UNEMPLOYMENT_DATA_YEAR,\n    MONTH_YEAR,\n    UNEMPLOYMENT_RATE,\n    MIN(UNEMPLOYMENT_RATE) OVER (ORDER BY UNEMPLOYMENT_DATA_YEAR ASC ROWS BETWEEN 11 PRECEDING AND CURRENT ROW) MIN_UNEMPLOYMENT_RATE,\n    MAX(UNEMPLOYMENT_RATE) OVER (ORDER BY UNEMPLOYMENT_DATA_YEAR ASC ROWS BETWEEN 11 PRECEDING AND CURRENT ROW) MAX_UNEMPLOYMENT_RATE,\n    IFF((MAX(UNEMPLOYMENT_RATE) OVER (ORDER BY UNEMPLOYMENT_DATA_YEAR ASC ROWS BETWEEN 11 PRECEDING AND CURRENT ROW)) - (MIN(UNEMPLOYMENT_RATE) OVER (ORDER BY UNEMPLOYMENT_DATA_YEAR ASC ROWS BETWEEN 11 PRECEDING AND CURRENT ROW)) >= 0.5 AND (UNEMPLOYMENT_RATE - LAG(UNEMPLOYMENT_RATE, 11, NULL) OVER (ORDER BY MONTH_YEAR ASC)) > 0, 'RECESSION IMMINENT', 'NO RECESSION' ) IS_RECESSION,\nFROM\n(SELECT\n    ft.VALUE:\"periodName\"::STRING UNEMPLOYMENT_DATA_MONTH,\n    ft.VALUE:\"year\"::NUMBER UNEMPLOYMENT_DATA_YEAR,\n    ft.VALUE:\"value\"::NUMBER(5,2) UNEMPLOYMENT_RATE,\n    TO_DATE(ft.VALUE:\"periodName\"::STRING || '-' || ft.VALUE:\"year\"::STRING, 'MON-YYYY') MONTH_YEAR\nFROM \n    US_UNEMPLOYMENT_RATE_DATA_TBL UNER,\n    LATERAL FLATTEN (input => parse_json(UNER.UNEMPLOYMENT_RATE_JSON:\"data\")) ft\nORDER BY UNEMPLOYMENT_DATA_YEAR ASC))\nWHERE\n    IS_RECESSION = 'RECESSION IMMINENT'\nGROUP BY UNEMPLOYMENT_DATA_YEAR\nORDER BY UNEMPLOYMENT_DATA_YEAR ASC;",
   "execution_count": null
  },
  {
   "cell_type": "markdown",
   "id": "7766eadc-f10d-40c0-ba75-1eed3ad4dd67",
   "metadata": {
    "name": "Resetting_DB_MD",
    "collapsed": false,
    "resultHeight": 168
   },
   "source": "### IF YOU PREFER, RESET YOUR DATABASE. \n## - DROP THE STAGE\n## - DROP THE TABLE"
  },
  {
   "cell_type": "code",
   "id": "6cd9ab02-8062-4ee4-b158-c5bb5149d6ea",
   "metadata": {
    "language": "sql",
    "name": "Drop_Stage",
    "resultHeight": 112,
    "collapsed": false
   },
   "outputs": [],
   "source": "DROP STAGE US_UNEMPLOYMENT_RAW_DATA_STAGE;",
   "execution_count": null
  },
  {
   "cell_type": "code",
   "id": "bc5a6d11-1b92-42f0-972d-7c6392acfca3",
   "metadata": {
    "language": "sql",
    "name": "Drop_Table",
    "resultHeight": 112
   },
   "outputs": [],
   "source": "DROP TABLE US_UNEMPLOYMENT_RATE_DATA_TBL;",
   "execution_count": null
  }
 ]
}
