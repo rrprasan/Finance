{
 "metadata": {
  "kernelspec": {
   "display_name": "Streamlit Notebook",
   "name": "streamlit"
  },
  "lastEditStatus": {
   "notebookId": "zgvleqs56glt2re7uoao",
   "authorId": "8795186554644",
   "authorName": "PRAJAGOPAL",
   "authorEmail": "prasanna.rajagopal@snowflake.com",
   "sessionId": "6e2c3a7d-e9e4-4606-b2c4-3108515a6f9b",
   "lastEditTime": 1746061610737
  }
 },
 "nbformat_minor": 5,
 "nbformat": 4,
 "cells": [
  {
   "cell_type": "markdown",
   "id": "ee236e4e-67c3-4b19-b784-58704a997bea",
   "metadata": {
    "name": "MDIcebergTablesWithSnowflakeCatalog",
    "collapsed": false
   },
   "source": "# :snowflake: Snowflake-Managed :snowflake: Iceberg Tables\n## Creating & Managing Iceberg Tables on AWS Using Snowflake as the Iceberg Catalog\nAuthor: [Prasanna Rajagopal](https://www.linkedin.com/in/prasannarajagopal/)\n\nCreated: **April, 2025.** "
  },
  {
   "cell_type": "markdown",
   "id": "8a5471d7-8839-42b0-9f35-9e4556686504",
   "metadata": {
    "name": "MDNOTEBOOK_IMAGES_STAGE",
    "collapsed": false
   },
   "source": "## Optional Step:\n### If you wish to see the embedded slide images in the various cells, we need to create a stage and upload the images to that stage. \n### If not, you can skip this step and the associated image cells.  \n## Create a NOTEBOOK_IMAGES_STG to store images to display in your notebook.\n```\nCREATE STAGE NOTEBOOK_IMAGES_STG\n\tDIRECTORY = ( ENABLE = true ) \n\tENCRYPTION = ( TYPE = 'SNOWFLAKE_SSE' );\n```\n### Copy the following image files into the stage:\n- The image zip file (Images_Snowflake_Managed_Iceberg_Tables_On_AWS.zip) can be [found here](https://github.com/rrprasan/Finance/tree/main/Snowflake/Notebooks/Miscellaneous_Topics/Iceberg_Tables/Snowflake_Managed_Iceberg_Tables_On_AWS)\n- Load the images into the following subdirectory in the stage:\n```\n@NOTEBOOK_IMAGES_STG/Snowflake_Managed_Iceberg_Tables_On_AWS/\n```\n- Apache_Iceberg_Open_Table_Format.png\n- Comparing_Table_Formats_In_Snowflake.png\n- Customer_Using_Apache_Iceberg_On_Snowflake.png\n- External_Vol_Int_Iceberg_Tables.png\n- Goldman_Sachs_Curation_Distribution.png\n- Goldman_Sachs_Dynamic_Tables.png\n- Snowflake_Lakehouse_Architecture_Polaris_Iceberg.png"
  },
  {
   "cell_type": "code",
   "id": "2d4a59ed-657b-45fd-ba61-d46944ded7d2",
   "metadata": {
    "language": "sql",
    "name": "SQLCREATE_NOTEBOOK_IMAGES_STG"
   },
   "outputs": [],
   "source": "CREATE STAGE NOTEBOOK_IMAGES_STG\n\tDIRECTORY = ( ENABLE = true ) \n\tENCRYPTION = ( TYPE = 'SNOWFLAKE_SSE' );",
   "execution_count": null
  },
  {
   "cell_type": "markdown",
   "id": "3ffb9113-f3b8-481a-a8e5-5450ff5070cc",
   "metadata": {
    "name": "MDPyImportStmtsGetActiveSession",
    "collapsed": false
   },
   "source": "## :truck: Import Python Packages and Get Active Session to Snowflake :snowflake:"
  },
  {
   "cell_type": "code",
   "id": "6d302fa5-a50e-4b66-a68c-7fd644c50fb2",
   "metadata": {
    "language": "python",
    "name": "PyPythonImportStmtsGetActiveSession",
    "collapsed": false,
    "codeCollapsed": false
   },
   "outputs": [],
   "source": "# Snowpark Pandas API\nimport modin.pandas as spd\n# Import the Snowpark pandas plugin for modin\nimport streamlit as st\nimport matplotlib.pyplot as plt\nimport snowflake.snowpark.modin.plugin\n\nfrom snowflake.snowpark.context import get_active_session\n# Create a snowpark session\nsession = get_active_session()",
   "execution_count": null
  },
  {
   "cell_type": "code",
   "id": "27124422-507e-4ed6-9ae8-8f09e4c5bb1d",
   "metadata": {
    "language": "python",
    "name": "PyImageApcaheIcebergTableFormat",
    "collapsed": false,
    "codeCollapsed": false
   },
   "outputs": [],
   "source": "image = session.file.get_stream(\"@NOTEBOOK_IMAGES_STG/Snowflake_Managed_Iceberg_Tables_On_AWS/Apache_Iceberg_Open_Table_Format.png\" , decompress=False).read() \n# Display the image\nst.image(image)",
   "execution_count": null
  },
  {
   "cell_type": "code",
   "id": "01a360a3-e2b9-405b-8b2f-b03cee8807e4",
   "metadata": {
    "language": "python",
    "name": "PyComparingTableFormatsInSnowflake",
    "collapsed": false,
    "codeCollapsed": true
   },
   "outputs": [],
   "source": "image = session.file.get_stream(\"@NOTEBOOK_IMAGES_STG/Snowflake_Managed_Iceberg_Tables_On_AWS/Comparing_Table_Formats_In_Snowflake.png\" , decompress=False).read() \n# Display the image\nst.image(image)",
   "execution_count": null
  },
  {
   "cell_type": "code",
   "id": "028de860-ec8f-4966-91e2-4a4b98e1a4f7",
   "metadata": {
    "language": "python",
    "name": "PySnowflakeLakehouseArchitecture",
    "collapsed": false,
    "codeCollapsed": true
   },
   "outputs": [],
   "source": "image = session.file.get_stream(\"@NOTEBOOK_IMAGES_STG/Snowflake_Managed_Iceberg_Tables_On_AWS/Snowflake_Lakehouse_Architecture_Polaris_Iceberg.png\" , decompress=False).read() \n# Display the image\nst.image(image)",
   "execution_count": null
  },
  {
   "cell_type": "code",
   "id": "7713a1aa-9c2c-454d-b604-574af0b1ebf7",
   "metadata": {
    "language": "python",
    "name": "PySlideCustomerUsingApacheIcebergOnSnowflake",
    "collapsed": false,
    "codeCollapsed": true
   },
   "outputs": [],
   "source": "image = session.file.get_stream(\"@NOTEBOOK_IMAGES_STG/Snowflake_Managed_Iceberg_Tables_On_AWS/Customer_Using_Apache_Iceberg_On_Snowflake.png\" , decompress=False).read() \n# Display the image\nst.image(image)",
   "execution_count": null
  },
  {
   "cell_type": "markdown",
   "id": "dd5525ef-03c2-4948-8a9f-17da0d239aa3",
   "metadata": {
    "name": "MDIcebergCustomerStories",
    "collapsed": false
   },
   "source": "## Customers Using Apache Iceberg on Snowflake\n### Customer Stories\n- [Goldman Sachs](https://www.youtube.com/watch?v=b2cnGMJl2iU)\n- [Allianz](https://www.youtube.com/watch?v=2y6y_gIkPpc)"
  },
  {
   "cell_type": "markdown",
   "id": "3e545789-727e-4a6e-9c53-a7ab6eb3e01e",
   "metadata": {
    "name": "MSGSVendorDataDistribution",
    "collapsed": false
   },
   "source": "## Snowflake With Iceberg Used By Goldman Sachs for Vendor Data"
  },
  {
   "cell_type": "code",
   "id": "ee0e4854-a7f2-4b8e-89ce-eecc988af410",
   "metadata": {
    "language": "python",
    "name": "PyGSVendorDataCurationDistribution",
    "collapsed": false,
    "codeCollapsed": true
   },
   "outputs": [],
   "source": "image = session.file.get_stream(\"@NOTEBOOK_IMAGES_STG/Snowflake_Managed_Iceberg_Tables_On_AWS/Goldman_Sachs_Curation_Distribution.png\" , decompress=False).read() \n# Display the image\nst.image(image)",
   "execution_count": null
  },
  {
   "cell_type": "markdown",
   "id": "dbf8b0df-ab1b-4249-87e6-9fd62a9a7bd3",
   "metadata": {
    "name": "MDGSUseOfDynamicTables",
    "collapsed": false
   },
   "source": "## Goldman Sachs (GS) is a Fan & User of [Snowflake Dynamic Tables](https://docs.snowflake.com/en/user-guide/dynamic-tables-intro). \n### Source: GS at [Snowflake Data Cloud Summit](https://www.youtube.com/watch?v=b2cnGMJl2iU)\n### Example Notebook: Volume Weighted Average Price Using [Dynamic Table Notebook](https://github.com/rrprasan/Finance/tree/main/Snowflake/Notebooks/Technical_Indicators/VWAP_Using_Dynamic_Tables)"
  },
  {
   "cell_type": "code",
   "id": "caaf93d6-b5cd-4eb5-bb3a-fd8b6e58ce46",
   "metadata": {
    "language": "python",
    "name": "PyImageGSDynamicTables",
    "collapsed": false,
    "codeCollapsed": true
   },
   "outputs": [],
   "source": "image = session.file.get_stream(\"@NOTEBOOK_IMAGES_STG/Snowflake_Managed_Iceberg_Tables_On_AWS/Goldman_Sachs_Dynamic_Tables.png\" , decompress=False).read() \n# Display the image\nst.image(image)",
   "execution_count": null
  },
  {
   "cell_type": "code",
   "id": "8c8b4563-87d2-49bf-b1a7-59ed927d7da6",
   "metadata": {
    "language": "python",
    "name": "PyEXT_VOL_ICEBERG_INTEGRATION",
    "collapsed": false,
    "codeCollapsed": true
   },
   "outputs": [],
   "source": "image = session.file.get_stream(\"@NOTEBOOK_IMAGES_STG/Snowflake_Managed_Iceberg_Tables_On_AWS/External_Vol_Int_Iceberg_Tables.png\" , decompress=False).read() \n# Display the image\nst.image(image)",
   "execution_count": null
  },
  {
   "cell_type": "markdown",
   "id": "62abb394-a833-4484-b4b6-2a401f17bfc4",
   "metadata": {
    "name": "MDIcebergOnAWSPrerequisites",
    "collapsed": false
   },
   "source": "## [Prerequisites](https://docs.snowflake.com/en/user-guide/tables-iceberg-configure-external-volume-s3#prerequisites)\nBefore you configure an external volume, you need the following:\n\n### An S3 storage bucket.\n\n- To use Snowflake as the catalog, **the bucket must be in the same region that hosts your Snowflake account**.\n- To use the external volume for **externally managed Iceberg tables**, all of **your table data and metadata files must be located in a bucket that hosts your Snowflake account**.\n- Snowflake **can’t support external volumes with S3 bucket names that contain dots** (for example, my.s3.bucket). S3 doesn’t support SSL for virtual-hosted-style buckets with dots in the name, and Snowflake uses virtual-host-style paths and HTTPS to access data in S3.\n- To support data recovery, enable versioning for your external cloud storage location.\n- Permissions in AWS to create and manage IAM policies and roles. If you aren’t an AWS administrator, ask your AWS administrator to perform these tasks."
  },
  {
   "cell_type": "markdown",
   "id": "feca2bc4-7595-4f06-9f7b-0bc11f5aa97e",
   "metadata": {
    "name": "MDStepsToCreateIcebergTablesInAWS",
    "collapsed": false
   },
   "source": "## Steps to Create Snowflake-Managed Iceberg Tables in AWS\n### 8 Easy Steps to Using [Apache Iceberg Tables in Snowflake](https://docs.snowflake.com/en/user-guide/tables-iceberg) \n#### - Create an AWS [S3 Bucket](https://docs.aws.amazon.com/AmazonS3/latest/userguide/create-bucket-overview.html) in AWS\n#### - Create an AWS [IAM Policy](https://docs.aws.amazon.com/IAM/latest/UserGuide/access_policies_create-console.html) in AWS\n#### - Create an AWS [IAM Role](https://docs.aws.amazon.com/IAM/latest/UserGuide/id_roles_create.html)\n#### - Create a [External Volume](https://docs.snowflake.com/en/user-guide/tables-iceberg-configure-external-volume-s3#step-4-create-an-external-volume-in-snowflake) in Snowflake pointing to the AWS Storage Bucket. \n#### - [Describe the External Volume](https://docs.snowflake.com/en/user-guide/tables-iceberg-configure-external-volume-s3#step-5-retrieve-the-aws-iam-user-for-your-snowflake-account) and Retrieve the AWS IAM User for your Snowflake Account.\n#### - [Grant the Snowflake's IAM user permissions to access bucket objects](https://docs.snowflake.com/en/user-guide/tables-iceberg-configure-external-volume-s3#step-6-grant-the-iam-user-permissions-to-access-bucket-objects)\n#### - Test the External Volume to verify that the privileges on the storage bucket.  \n#### - Create Iceberg Tables.\n"
  },
  {
   "cell_type": "markdown",
   "id": "d80ce35a-8de7-49b9-8bc2-0076740791ac",
   "metadata": {
    "name": "MDCreateAWSS3Bucket",
    "collapsed": false
   },
   "source": "## Step 1: Create Storage Bucket in AWS S3"
  },
  {
   "cell_type": "markdown",
   "id": "8be77b6a-9b54-4bcd-ab5d-90a6bfa78372",
   "metadata": {
    "name": "MDCreateAWSIAMPolicy",
    "collapsed": false
   },
   "source": "### Step 2: [Create an AWS IAM Policy that Grants Access to Your S3 Location](https://docs.snowflake.com/en/user-guide/tables-iceberg-configure-external-volume-s3#step-1-create-an-iam-policy-that-grants-access-to-your-s3-location)\n\n#### Policies to provide Snowflake with the required permissions to read and write data to your S3 location.\n#### Change the ```my_bucket``` to your AWS S3 bucket name.  \n\n```JSON\n{\n   \"Version\": \"2012-10-17\",\n   \"Statement\": [\n         {\n            \"Effect\": \"Allow\",\n            \"Action\": [\n               \"s3:PutObject\",\n               \"s3:GetObject\",\n               \"s3:GetObjectVersion\",\n               \"s3:DeleteObject\",\n               \"s3:DeleteObjectVersion\"\n            ],\n            \"Resource\": \"arn:aws:s3:::<my_bucket>/*\"\n         },\n         {\n            \"Effect\": \"Allow\",\n            \"Action\": [\n               \"s3:ListBucket\",\n               \"s3:GetBucketLocation\"\n            ],\n            \"Resource\": \"arn:aws:s3:::<my_bucket>\",\n            \"Condition\": {\n               \"StringLike\": {\n                     \"s3:prefix\": [\n                        \"*\"\n                     ]\n               }\n            }\n         }\n   ]\n}\n```"
  },
  {
   "cell_type": "markdown",
   "id": "d5d41ea0-59c2-48cb-b54d-d4b846f77133",
   "metadata": {
    "name": "MDCreateAWSIAMRole",
    "collapsed": false
   },
   "source": "### Step 3: [Create an AWS IAM Role](https://docs.snowflake.com/en/user-guide/tables-iceberg-configure-external-volume-s3#step-2-create-an-iam-role)"
  },
  {
   "cell_type": "markdown",
   "id": "0b5bda4a-22de-40ec-a77c-9f2d52bd6796",
   "metadata": {
    "name": "MDEncryptionKeys",
    "collapsed": false
   },
   "source": "### Step 4: (Optional) [Grant privileges required for SSE-KMS encryption to the IAM role](https://docs.snowflake.com/en/user-guide/tables-iceberg-configure-external-volume-s3#step-3-grant-privileges-required-for-sse-kms-encryption-to-the-iam-role-optional)\n#### Not Required if Server-side encryption with Amazon S3 managed keys (SSE-S3)"
  },
  {
   "cell_type": "markdown",
   "id": "689482bd-9772-4d2e-bca9-b5a7b1765473",
   "metadata": {
    "name": "MDCreateExternalVolInSnowflake",
    "collapsed": false
   },
   "source": "### Step 5: [Create an External Volume in Snowflake](https://docs.snowflake.com/en/user-guide/tables-iceberg-configure-external-volume-s3#step-4-create-an-external-volume-in-snowflake)\n- An external volume is a named, account-level Snowflake object that you use to connect Snowflake to your external cloud storage for Iceberg tables. \n- An external volume stores an identity and access management (IAM) entity for your storage location. \n- Snowflake uses the IAM entity to securely connect to your storage for accessing table data, Iceberg metadata, and manifest files that store the table schema, partitions, and other metadata.\n- A single external volume can support one or more Iceberg tables.\n\n\n#### Change the ```my_bucket``` to your AWS S3 bucket name.\n```SQL\nCREATE OR REPLACE EXTERNAL VOLUME iceberg_external_volume\n   STORAGE_LOCATIONS =\n      (\n         (\n            NAME = 'my-s3-us-west-2'\n            STORAGE_PROVIDER = 'S3'\n            STORAGE_BASE_URL = 's3://<my_bucket>/'\n            STORAGE_AWS_ROLE_ARN = '<arn:aws:iam::123456789012:role/myrole>'\n            STORAGE_AWS_EXTERNAL_ID = 'iceberg_table_external_id'\n         )\n      )\n      ALLOW_WRITES = TRUE;\n```"
  },
  {
   "cell_type": "markdown",
   "id": "a2ba3dec-1b38-49f6-9ee3-a558e811cbef",
   "metadata": {
    "name": "MDManagingStorageLocationsForIcebergTables",
    "collapsed": false
   },
   "source": "## [Create enough external volumes for your use case](https://docs.snowflake.com/en/user-guide/tables-iceberg-best-practices#create-enough-external-volumes-for-your-use-case)\n\n- Each external volume is associated with a particular Active storage location, and a single external volume can support multiple Iceberg tables. \n- However, the number of external volumes you need depends on how you want to store, organize, and secure your table data.\n- You can use a single external volume if you want the data and metadata for all of your Snowflake-Iceberg tables in subdirectories under the same storage location (for example, in the same S3 bucket). \n- To configure these directories for Snowflake-managed tables, see Data and metadata directories.\n- Alternatively, you can create multiple external volumes to secure various storage locations differently. \n- For example, you might create the following external volumes:\n    - A read-only external volume for externally managed Iceberg tables.\n    - An external volume configured with read and write access for Snowflake-managed tables.\n- You can’t drop or replace an external volume if one or more Iceberg tables are associated with the external volume."
  },
  {
   "cell_type": "markdown",
   "id": "194d8205-af41-46d7-9395-ed641a5ea6ff",
   "metadata": {
    "name": "MDRetrieveAWSIAMUserForYourSnowflakeAccount",
    "collapsed": false
   },
   "source": "### Step 6: [Retrieve the AWS IAM user for your Snowflake account](https://docs.snowflake.com/en/user-guide/tables-iceberg-configure-external-volume-s3#step-5-retrieve-the-aws-iam-user-for-your-snowflake-account)\n1. Retrieve the ARN for the AWS IAM user that was created automatically for your Snowflake account using the DESCRIBE EXTERNAL VOLUME command. \n    - Specify the name of your external volume.\n    - The following example describes an external volume named iceberg_external_volume.\n```SQL\nDESC EXTERNAL VOLUME iceberg_external_volume;\n``` \n2. Record the value for the ```STORAGE_AWS_IAM_USER_ARN``` property, which is the AWS IAM user created for your Snowflake account; \n    - For example:\n``` arn:aws:iam::123456789001:user/abc1-b-self1234```\n3. **Snowflake provisions a single IAM user for your entire Snowflake account.** \n    - All S3 external volumes in your account use that IAM user.\n\n"
  },
  {
   "cell_type": "markdown",
   "id": "66c71ac5-7735-4f17-a6e3-329530b002d5",
   "metadata": {
    "name": "MDGrantIAMUserPermissions",
    "collapsed": false
   },
   "source": "### Step 7: [Grant the IAM user permissions to access bucket objects](https://docs.snowflake.com/en/user-guide/tables-iceberg-configure-external-volume-s3#step-6-grant-the-iam-user-permissions-to-access-bucket-objects)\n#### Policy Document for AWS IAM Role\n\nWhere:\n\n- ```snowflake_user_arn``` is the STORAGE_AWS_IAM_USER_ARN value you recorded in the previous step using the ```DESC EXTERNAL VOL``` command.\n\n- ```iceberg_table_external_id``` is your external ID. \n    - If you already specified an external ID when you created the role, and used the same ID to create your external volume, leave the value as-is. \n    - Otherwise, update sts:ExternalId with the value that you recorded.\n\n```JSON\n{\n  \"Version\": \"2012-10-17\",\n  \"Statement\": [\n    {\n      \"Sid\": \"\",\n      \"Effect\": \"Allow\",\n      \"Principal\": {\n        \"AWS\": \"<snowflake_user_arn>\"\n      },\n      \"Action\": \"sts:AssumeRole\",\n      \"Condition\": {\n        \"StringEquals\": {\n          \"sts:ExternalId\": \"<iceberg_table_external_id>\"\n        }\n      }\n    }\n  ]\n}\n```"
  },
  {
   "cell_type": "markdown",
   "id": "ae4b8889-6726-46c1-be05-233a15f6884e",
   "metadata": {
    "name": "MDVerifyAccessToExternalVolume",
    "collapsed": false
   },
   "source": "### Step 8: [Verify Snowflake's Access to your AWS S3 Storage Bucket](https://docs.snowflake.com/en/user-guide/tables-iceberg-configure-external-volume-s3#step-7-verify-storage-access) \n```SQL\nSELECT SYSTEM$VERIFY_EXTERNAL_VOLUME('my_external_volume');\n```\n#### Sample Output:\n```\n{\n\"success\":true,\n\"storageLocationSelectionResult\":\"PASSED\",\n\"storageLocationName\":\"my-s3-us-west-2\",\n\"servicePrincipalProperties\":\n\"STORAGE_AWS_IAM_USER_ARN: <Snowflake IAM User>; \n STORAGE_AWS_EXTERNAL_ID: snowflake_managed_iceberg_table_external_id\",\n\"location\":\"s3://snowflake-managed-iceberg-tables-aws-s3 bucket/\",\n\"storageAccount\":null,\n\"region\":\"us-west-2\",\n\"writeResult\":\"PASSED\",\n\"readResult\":\"PASSED\",\n\"listResult\":\"PASSED\",\n\"deleteResult\":\"PASSED\",\n\"awsRoleArnValidationResult\":\"PASSED\",\n\"azureGetUserDelegationKeyResult\":\"SKIPPED\"\n}\n```"
  },
  {
   "cell_type": "code",
   "id": "b5002a15-56d5-4019-a77b-4db32db53491",
   "metadata": {
    "language": "sql",
    "name": "SQLCreateExternalVol"
   },
   "outputs": [],
   "source": "CREATE OR REPLACE EXTERNAL VOLUME aws_us_west_2_s3_iceberg_ext_vol\n   STORAGE_LOCATIONS =\n      (\n         (\n            NAME = 'my-s3-us-west-2'\n            STORAGE_PROVIDER = 'S3'\n            STORAGE_BASE_URL = 's3://snowflake-managed-iceberg-tables-aws-s3-bucket/'\n            STORAGE_AWS_ROLE_ARN = '<AWS ROLE ARN>'\n            STORAGE_AWS_EXTERNAL_ID = 'snowflake_managed_iceberg_table_external_id'\n         )\n      )\n      ALLOW_WRITES = TRUE;",
   "execution_count": null
  },
  {
   "cell_type": "code",
   "id": "5820c43d-83d1-4e6c-99b9-a94e69c98c07",
   "metadata": {
    "language": "sql",
    "name": "SQLDescExternalVol"
   },
   "outputs": [],
   "source": "DESC EXTERNAL VOLUME aws_us_west_2_s3_iceberg_ext_vol;",
   "execution_count": null
  },
  {
   "cell_type": "markdown",
   "id": "69de0720-44ab-4b28-82cd-5185661a3790",
   "metadata": {
    "name": "MDDESCExternalVolResults",
    "collapsed": false
   },
   "source": "Result of the Describe External Volume Command:\n```JSON\n{\n\"NAME\":\"my-s3-us-west-2\",\n\"STORAGE_PROVIDER\":\"S3\",\n\"STORAGE_BASE_URL\":\"s3://snowflake-managed-iceberg-tables-aws-s3-bucket/\",\n\"STORAGE_ALLOWED_LOCATIONS\":[\"s3://snowflake-managed-iceberg-tables-aws-s3-bucket/*\"],\n\"STORAGE_REGION\":\"us-west-2\",\n\"PRIVILEGES_VERIFIED\":true,\n\"STORAGE_AWS_ROLE_ARN\":\"<AWS ROLE ARN>\",\n\"STORAGE_AWS_IAM_USER_ARN\":\"<Snowflake AWS User>\",\n\"STORAGE_AWS_EXTERNAL_ID\":\"snowflake_managed_iceberg_table_external_id\",\n\"ENCRYPTION_TYPE\":\"NONE\",\n\"ENCRYPTION_KMS_KEY_ID\":\"\"\n}\n```"
  },
  {
   "cell_type": "markdown",
   "id": "23cd68c4-2f64-4928-861e-5862729f6bbd",
   "metadata": {
    "name": "MDCreateIcebergTable",
    "collapsed": false
   },
   "source": "## Create Iceberg Table"
  },
  {
   "cell_type": "code",
   "id": "dbb72817-3d4b-4e29-9443-55ae276661a9",
   "metadata": {
    "language": "sql",
    "name": "SQLCreateIcebergTablecustomer_iceberg_ingestv3"
   },
   "outputs": [],
   "source": "CREATE OR REPLACE ICEBERG TABLE customer12_iceberg_ingestv12 (\n  COl1 DOUBLE,\n  COL2 VARCHAR,\n  COL3 DOUBLE\n)\n  CATALOG = 'SNOWFLAKE'\n  EXTERNAL_VOLUME = 'aws_us_west_2_s3_iceberg_ext_vol'\n  BASE_LOCATION = 'demodb/equity_research/customer12_iceberg_ingestv12';",
   "execution_count": null
  },
  {
   "cell_type": "code",
   "id": "e00da44a-1d55-4e3f-9a37-57abe0c43312",
   "metadata": {
    "language": "sql",
    "name": "SQLINSERT_INTO_customer_iceberg_ingestv10"
   },
   "outputs": [],
   "source": "insert into customer_iceberg_ingestv10 values (1.1, 'Text','2.2');",
   "execution_count": null
  },
  {
   "cell_type": "markdown",
   "id": "15eb2ae7-4b47-403d-ba2b-2df834503112",
   "metadata": {
    "name": "MDDefaultCatalog",
    "collapsed": false
   },
   "source": "## Set a Default Catalog For the Account or Session.  "
  },
  {
   "cell_type": "code",
   "id": "f2ea9b7a-df35-4080-a345-9433436e47fe",
   "metadata": {
    "language": "sql",
    "name": "SQLAlterAcctSetCatalog"
   },
   "outputs": [],
   "source": "ALTER ACCOUNT SET CATALOG = 'SNOWFLAKE';",
   "execution_count": null
  },
  {
   "cell_type": "code",
   "id": "20c8d28d-2a8d-4d49-9b6f-d8ae7d23b0e1",
   "metadata": {
    "language": "sql",
    "name": "SQLCreateIcebergUsingCatalogAtAccountLevel"
   },
   "outputs": [],
   "source": "CREATE OR REPLACE ICEBERG TABLE customer15_iceberg15_ingestv15 (\n  COl1 DOUBLE,\n  COL2 VARCHAR,\n  COL3 DOUBLE\n)\n  EXTERNAL_VOLUME = 'aws_us_west_2_s3_iceberg_ext_vol'\n  BASE_LOCATION = 'customer15_iceberg15_ingestv15';",
   "execution_count": null
  },
  {
   "cell_type": "markdown",
   "id": "f0dab30f-00dd-4e51-941e-f2b599184d08",
   "metadata": {
    "name": "MDUnsetDefaultCatalog",
    "collapsed": false
   },
   "source": "## Unset Default Catalog For the Account"
  },
  {
   "cell_type": "code",
   "id": "40027c06-b745-429c-a1d6-7bfa45599d9a",
   "metadata": {
    "language": "sql",
    "name": "SQLUnsetCatalog"
   },
   "outputs": [],
   "source": "ALTER ACCOUNT UNSET CATALOG;",
   "execution_count": null
  },
  {
   "cell_type": "markdown",
   "id": "adb950e3-cd49-497a-85ff-9ca62b752b11",
   "metadata": {
    "name": "MDFixCREATE_TBL_WITH_NO_CATALOG_SPEC",
    "collapsed": false
   },
   "source": "### The following ```CREATE ICEBERG TABLE``` will fail if the ```CATALOG``` is ```UNSET```\n### Fix the ```CREATE ICEBERG TABLE``` Statment by adding the ```CATALOG = 'SNOWFLAKE'```"
  },
  {
   "cell_type": "code",
   "id": "ddd4900a-0a39-47fb-a20c-983864db339f",
   "metadata": {
    "language": "sql",
    "name": "SQLCreateIcebergTableNewVer"
   },
   "outputs": [],
   "source": "CREATE OR REPLACE ICEBERG TABLE customer16_iceberg_ingestv15 (\n  COl1 DOUBLE,\n  COL2 VARCHAR,\n  COL3 DOUBLE\n)\n  EXTERNAL_VOLUME = 'aws_us_west_2_s3_iceberg_ext_vol'\n  BASE_LOCATION = 'snowflake-managed-iceberg-tables-aws-s3-bucket/';",
   "execution_count": null
  },
  {
   "cell_type": "code",
   "id": "4b1cd097-8733-44d3-80c8-dc2645bb1f98",
   "metadata": {
    "language": "sql",
    "name": "SQLDESCcustomer_iceberg_ingest"
   },
   "outputs": [],
   "source": "DESC TABLE customer_iceberg_ingest;",
   "execution_count": null
  },
  {
   "cell_type": "code",
   "id": "2a592e65-ea5b-4eec-a3af-e795fe37c9b9",
   "metadata": {
    "language": "sql",
    "name": "SQLInsIntocustomer_iceberg_ingest"
   },
   "outputs": [],
   "source": "INSERT INTO customer_iceberg_ingest VALUES (1.2, 'Text1', 1.5);",
   "execution_count": null
  },
  {
   "cell_type": "code",
   "id": "0091afab-356c-4eb1-9017-7c592566dc43",
   "metadata": {
    "language": "sql",
    "name": "SQLSelectcustomer_iceberg_ingest"
   },
   "outputs": [],
   "source": "SELECT * FROM customer_iceberg_ingest;",
   "execution_count": null
  },
  {
   "cell_type": "markdown",
   "id": "e8b71f56-9994-457a-b485-9ce127ad2c93",
   "metadata": {
    "name": "MDDefaultExternalVolumeForaDatabase",
    "collapsed": false
   },
   "source": "## Set a Default External Volume for a Database. "
  },
  {
   "cell_type": "code",
   "id": "0fb9323f-5211-4bc9-9488-03195fdb700e",
   "metadata": {
    "language": "sql",
    "name": "SQLSET_DEFAULT_EXTERNAL_VOL_FOR_DB"
   },
   "outputs": [],
   "source": "ALTER DATABASE my_database_1\n  SET EXTERNAL_VOLUME = 'my_s3_vol';",
   "execution_count": null
  },
  {
   "cell_type": "code",
   "id": "4aadfe4a-351e-41a8-90bc-76ff6ee4287b",
   "metadata": {
    "language": "sql",
    "name": "SQLSELECT_FROM_ICEBERG_TABLE"
   },
   "outputs": [],
   "source": "SELECT COUNT(*) FROM customer_iceberg_ingest;",
   "execution_count": null
  },
  {
   "cell_type": "markdown",
   "id": "98ec3ffb-5954-4588-898e-932e752c31f8",
   "metadata": {
    "name": "MDLoad_Parquet_Files_Into_Iceberg_Tables",
    "collapsed": false
   },
   "source": "## Load Data Received in PARQUET File into Iceberg Table Managed by Snowflake\n### Step 1: Create a File Format\n### Step 2: Use COPY INTO <TABLE> Statement\n### Step 3: Create a Task with the COPY Statement (Step 2) to Ingest PARQUET files on a Schedule.  "
  },
  {
   "cell_type": "markdown",
   "id": "549169c6-17e6-457a-94b0-87a6494c7384",
   "metadata": {
    "name": "MDFILE_FORMAT",
    "collapsed": false
   },
   "source": "## Create a File Format"
  },
  {
   "cell_type": "code",
   "id": "bf0c09fe-fa70-49c8-aabe-1a9338bb9a64",
   "metadata": {
    "language": "sql",
    "name": "SQLCREATE_PARQUET_FILE_FORMAT"
   },
   "outputs": [],
   "source": "CREATE OR REPLACE FILE FORMAT my_parquet_file_format\n  TYPE = PARQUET\n  USE_VECTORIZED_SCANNER = TRUE;",
   "execution_count": null
  },
  {
   "cell_type": "markdown",
   "id": "e787fe67-050b-4a4c-9b97-8b00cc6bb47a",
   "metadata": {
    "name": "MDCOPY_PARQUET_FILES_INTO_ICEBERG_TABLE",
    "collapsed": false
   },
   "source": "## [COPY INTO <TABLE>](https://docs.snowflake.com/en/sql-reference/sql/copy-into-table)\n```SQL \nCOPY INTO customer_iceberg_ingest\n  FROM @DEMODB.EQUITY_RESEARCH.PARQUET_FILES_INT_STG\n  FILE_FORMAT = 'my_parquet_file_format'\n  LOAD_MODE = ADD_FILES_COPY\n  PURGE = TRUE\n  MATCH_BY_COLUMN_NAME = CASE_SENSITIVE;\n```\n\n```LOAD_MODE = ADD_FILES_COPY```\n- This is a critical part for Iceberg tables. \n- It determines how the data is loaded into the Iceberg table. \n- Two ```LOAD_MODE``` Options\n    - ```ADD_FILES_COPY```\n    - ```FULL_INGEST```\n- ```ADD_FILES_COPY``` \n    - Snowflake performs a server-side copy of the original Parquet files into the base location of the Iceberg table. \n    - It then registers the files to the table. \n    - This allows for cross-region or cross-cloud ingestion of raw Parquet files into Iceberg tables.\n    - Mode adds the files to the Iceberg metadata without rewriting the data files. \n    - This is generally faster than other modes.\n    - This mode potentially reduces data ingestion costs and time. \n- ```FULL_INGEST``` \n    - Snowflake scans the files and rewrites the Parquet data under the base location of the Iceberg table. \n    - Use this option if you need to transform or convert the data before registering the files to your Iceberg table.\n\n```PURGE = TRUE```\n- This option tells Snowflake to delete the files from the stage after they have been successfully loaded into the table.\n\n```MATCH_BY_COLUMN_NAME = CASE_SENSITIVE```\n- This option specifies how the columns in the data files are matched to the columns in the target table. \n\n```CASE_SENSITIVE``` \n- Means that the column names must match exactly, including the case."
  },
  {
   "cell_type": "code",
   "id": "7a578525-ec17-4d33-a1f5-080d5c18f855",
   "metadata": {
    "language": "sql",
    "name": "SQLCOPY_EXISTING_PARQUET_INTO_ICEBERG"
   },
   "outputs": [],
   "source": "COPY INTO customer_iceberg_ingest\n  FROM @DEMODB.EQUITY_RESEARCH.PARQUET_FILES_INT_STG\n  FILE_FORMAT = 'my_parquet_file_format'\n  LOAD_MODE = ADD_FILES_COPY\n  PURGE = TRUE\n  MATCH_BY_COLUMN_NAME = CASE_SENSITIVE;",
   "execution_count": null
  },
  {
   "cell_type": "markdown",
   "id": "86c85aa1-14db-460a-9b97-42b4ead33bfe",
   "metadata": {
    "name": "MDCreate_Task_With_Copy_Command",
    "collapsed": false
   },
   "source": "## Create a Task With the COPY Command.\n```SQL\nCREATE OR REPLACE TASK customer_iceberg_ingest_task\n  SCHEDULE = '1 MINUTES'\n  WAREHOUSE = 'COMPUTE_WH'\n  AS\n    COPY INTO customer_iceberg_ingest\n      FROM @DEMODB.EQUITY_RESEARCH.PARQUET_FILES_INT_STG\n      FILE_FORMAT = 'my_parquet_file_format'\n      LOAD_MODE = ADD_FILES_COPY\n      PURGE = TRUE\n      MATCH_BY_COLUMN_NAME = CASE_SENSITIVE;\n```\n"
  },
  {
   "cell_type": "code",
   "id": "517799c0-79f8-48d3-a8e0-161cb64ab3ee",
   "metadata": {
    "language": "sql",
    "name": "SQLCREATE_TASK_FOR_COPY_PARQUET"
   },
   "outputs": [],
   "source": "CREATE OR REPLACE TASK customer_iceberg_ingest_task\n  SCHEDULE = '1 MINUTES'\n  WAREHOUSE = 'COMPUTE_WH'\n  AS\n    COPY INTO customer_iceberg_ingest\n      FROM @DEMODB.EQUITY_RESEARCH.PARQUET_FILES_INT_STG\n      FILE_FORMAT = 'my_parquet_file_format'\n      LOAD_MODE = ADD_FILES_COPY\n      PURGE = TRUE\n      MATCH_BY_COLUMN_NAME = CASE_SENSITIVE;",
   "execution_count": null
  },
  {
   "cell_type": "code",
   "id": "b726bf1d-02c2-41a6-8a51-7d20c31d7568",
   "metadata": {
    "language": "sql",
    "name": "cell2"
   },
   "outputs": [],
   "source": "SELECT Count(*) FROM customer_iceberg_ingest;",
   "execution_count": null
  },
  {
   "cell_type": "markdown",
   "id": "733537eb-f929-4abc-9003-169f46dca1d2",
   "metadata": {
    "name": "MDLISTING_ICEBERG_TABLE_BY_EXTERNAL_VOLUME",
    "collapsed": false
   },
   "source": "## List the Iceberg Tables Created with an External Volume"
  },
  {
   "cell_type": "code",
   "id": "531d682e-1ed9-47d8-8f32-e1b03c809e70",
   "metadata": {
    "language": "sql",
    "name": "SQLSHOW_ICEBERG_TABLES"
   },
   "outputs": [],
   "source": "SHOW ICEBERG TABLES;",
   "execution_count": null
  },
  {
   "cell_type": "code",
   "id": "badb3569-0fb9-4b08-b8ce-09143dc7ee6e",
   "metadata": {
    "language": "sql",
    "name": "SQLGET_LAST_QUERY_ID"
   },
   "outputs": [],
   "source": "set my_last_query_id = (SELECT QUERY_ID\n    FROM TABLE(INFORMATION_SCHEMA.QUERY_HISTORY())\n    WHERE QUERY_TEXT = 'SHOW ICEBERG TABLES;'\n    ORDER BY START_TIME DESC\n    LIMIT 1);",
   "execution_count": null
  },
  {
   "cell_type": "code",
   "id": "dfc2e792-945d-4b4b-bd4a-bc2e22e047bd",
   "metadata": {
    "language": "sql",
    "name": "SQLGET_ALL_ICEBERG_TABLES_FOR_EXTERNAL_VOL"
   },
   "outputs": [],
   "source": "SELECT * FROM TABLE(\n  RESULT_SCAN(\n      $my_last_query_id\n    )\n  )\n  WHERE \"external_volume_name\" = 'AWS_US_WEST_2_S3_ICEBERG_EXT_VOL';",
   "execution_count": null
  },
  {
   "cell_type": "markdown",
   "id": "3ecdf73b-a0b3-41cd-bff5-f53c9823a8be",
   "metadata": {
    "name": "MDIcebergCatalog",
    "collapsed": false
   },
   "source": "## [Iceberg Catalog](https://docs.snowflake.com/en/user-guide/tables-iceberg#catalog)\n- An Iceberg catalog enables a compute engine to manage and load Iceberg tables. \n- The catalog forms the first architectural layer in the Iceberg table specification and must support:\n    - Storing the current metadata pointer for one or more Iceberg tables. \n    - A metadata pointer maps a table name to the location of that table’s current metadata file.\n    - Performing atomic operations so that you can update the current metadata pointer for a table.\n    - Snowflake supports different catalog options. \n    - For example, you can use Snowflake as the Iceberg catalog, or use a catalog integration to connect Snowflake to an external Iceberg catalog.\n\n[Apache Iceberg Catalog Documentation](https://iceberg.apache.org/terms/#catalog-implementations)"
  },
  {
   "cell_type": "markdown",
   "id": "83f99410-4ebd-44aa-820b-e3b4a5d41832",
   "metadata": {
    "name": "MDParquetConcepts",
    "collapsed": false
   },
   "source": "## [Parquet Concepts](https://parquet.apache.org/docs/concepts/)\n\n### Row group\n- A logical horizontal partitioning of the data into rows. \n- There is no physical structure that is guaranteed for a row group. \n- A row group consists of a column chunk for each column in the dataset.\n### Column chunk\n- A chunk of the data for a particular column. \n- They live in a particular row group and are guaranteed to be contiguous in the file.\n### Page \n- Column chunks are divided up into pages. \n- A page is conceptually an indivisible unit (in terms of compression and encoding). \n- There can be multiple page types which are interleaved in a column chunk.\n\n### Hierarchy\n- A **file** consists of one or more row groups. \n    - A **row group** contains **exactly one column chunk per column**. \n        - **Column chunks** contain **one or more pages.**"
  },
  {
   "cell_type": "markdown",
   "id": "388f16ed-4432-4af9-86f5-d0458680544b",
   "metadata": {
    "name": "MDParquet_File_Size",
    "collapsed": false
   },
   "source": "## Recommended Parquet File Sizes For Apache Iceberg Tables on Snowflake\n- Snowflake recommends **16MB files with a single row group.**\n- For workloads requiring larger file or row group sizes, Snowflake supports 1GB Parquet files with up to 128MB row groups. \n- Your ```mileage``` may vary. Your workload needs to be configured & tested.  "
  }
 ]
}