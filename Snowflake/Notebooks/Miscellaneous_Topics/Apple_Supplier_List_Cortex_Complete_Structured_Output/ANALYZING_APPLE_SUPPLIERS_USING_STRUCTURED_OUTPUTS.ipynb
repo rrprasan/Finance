{
 "metadata": {
  "kernelspec": {
   "display_name": "Streamlit Notebook",
   "name": "streamlit"
  },
  "lastEditStatus": {
   "notebookId": "e4l5ayekt3lyn2jkp7xp",
   "authorId": "8795186554644",
   "authorName": "PRAJAGOPAL",
   "authorEmail": "prasanna.rajagopal@snowflake.com",
   "sessionId": "835d440f-3b2c-4bf5-829e-4976d11d8d72",
   "lastEditTime": 1748723626343
  }
 },
 "nbformat_minor": 5,
 "nbformat": 4,
 "cells": [
  {
   "cell_type": "markdown",
   "id": "c763c468-8960-406b-b1fe-b67e800201a6",
   "metadata": {
    "name": "MDTitle",
    "collapsed": false
   },
   "source": "# Extracting Structured Insights from Apple's Supplier List with Snowflake Cortex AI\n## PDF to Structured JSON from Apple's Supplier List using Snowflake Cortex AI\n- Discover the power of Snowflake Cortex AI for intelligent document processing!\n- This demonstration highlights how to use the SNOWFLAKE.CORTEX.COMPLETE function with 'claude-3-5-sonnet' LLM to parse an Apple Supplier List PDF and extract specific entities into a structured JSON format.\n- We'll demonstrate how to define a response schema to reliably extract supplier information, location count, and lists of locations and countries, showcasing Cortex AI's ability to deliver structured output from complex documents."
  },
  {
   "cell_type": "markdown",
   "id": "2fdd85c5-faaa-418c-a34e-6d614c173c3b",
   "metadata": {
    "name": "MDAppleSupplierList",
    "collapsed": false
   },
   "source": "## Create a Snowflake Managed Stage to Store Apple's Supplier List PDF File. "
  },
  {
   "cell_type": "code",
   "id": "f9ae6fae-3213-4244-bfff-112579925d64",
   "metadata": {
    "language": "sql",
    "name": "SQLCreateStage"
   },
   "outputs": [],
   "source": "CREATE STAGE APPLE_SUPPLIER_LIST_STG \n\tDIRECTORY = ( ENABLE = true ) \n\tENCRYPTION = ( TYPE = 'SNOWFLAKE_SSE' );",
   "execution_count": null
  },
  {
   "cell_type": "markdown",
   "id": "09ceb80e-cd7a-4e6a-9357-0860a533a38c",
   "metadata": {
    "name": "MDListFileInStage",
    "collapsed": false
   },
   "source": "## List the File in the Stage.  "
  },
  {
   "cell_type": "code",
   "id": "46efe761-8c1c-4b9a-8f17-68a12caac6f3",
   "metadata": {
    "language": "sql",
    "name": "SQLListTheFileInStage"
   },
   "outputs": [],
   "source": "LIST @Apple_supplier_list_stg;",
   "execution_count": null
  },
  {
   "cell_type": "markdown",
   "id": "0a8aa26e-9ee7-4459-b5f3-c0597ca23f28",
   "metadata": {
    "name": "MDCreateTableStoreParsedContentFromPDF",
    "collapsed": false
   },
   "source": "## Create a table to store the parsed content from the Apple Supplier File PDF.  "
  },
  {
   "cell_type": "code",
   "id": "0e41e611-a084-4746-afdd-5199d30c61d5",
   "metadata": {
    "language": "sql",
    "name": "cell4"
   },
   "outputs": [],
   "source": "CREATE TRANSIENT TABLE APPLE_SUPPLIER_LIST_TBL (\n    APPLE_SUPPLIER_LIST_CONTENT VARCHAR\n);",
   "execution_count": null
  },
  {
   "cell_type": "markdown",
   "id": "c116c9ff-fbff-45fd-8243-ce35f650404d",
   "metadata": {
    "name": "MDInsertParsedConentIntoAPPLE_SUPPLIER_LIST_TBL",
    "collapsed": false
   },
   "source": "## Parse and Insert Content from the Supplier List PDF file into Table.  \n### Parsing of the document is accomplished using Snowflake Cortex [PARSE_DOCUMENT](https://docs.snowflake.com/en/sql-reference/functions/parse_document-snowflake-cortex)"
  },
  {
   "cell_type": "code",
   "id": "315de19c-2bc2-4366-b274-f03a98ef8f5c",
   "metadata": {
    "language": "sql",
    "name": "SQLInsertParsedContent"
   },
   "outputs": [],
   "source": "INSERT INTO APPLE_SUPPLIER_LIST_TBL \n    (APPLE_SUPPLIER_LIST_CONTENT)\nSELECT       \nTO_VARCHAR(SNOWFLAKE.CORTEX.PARSE_DOCUMENT('@Apple_supplier_list_stg','Apple-Supplier-List.pdf', {'mode': 'LAYOUT'}):content);",
   "execution_count": null
  },
  {
   "cell_type": "markdown",
   "id": "7bdd9213-66a2-4e0f-a3b2-f4e7035d203e",
   "metadata": {
    "name": "MDChunkText",
    "collapsed": false
   },
   "source": "## Apple's Supplier List runs to **27 Pages**. So, we chunk the text to ensure we fit within the context and response window of the LLM.  \n### We use Snowflake Cortex [SPLIT_TEXT_RECURSIVE_CHARACTER](https://docs.snowflake.com/en/sql-reference/functions/split_text_recursive_character-snowflake-cortex) function to chunk the text from the file.  "
  },
  {
   "cell_type": "code",
   "id": "f8285e87-96cd-4210-a367-a9e11da3842d",
   "metadata": {
    "language": "sql",
    "name": "SQLChunkSupplierList"
   },
   "outputs": [],
   "source": "CREATE OR REPLACE TRANSIENT TABLE APPLE_SUPPLIER_LIST_CHUNKS_TBL \nAS\nSELECT\n     TO_VARCHAR(CHUNK_TXT.VALUE) AS APPLE_SUPPLIER_LIST_CHUNK\nFROM\n   APPLE_SUPPLIER_LIST_TBL,\n   LATERAL FLATTEN( input => SNOWFLAKE.CORTEX.SPLIT_TEXT_RECURSIVE_CHARACTER (\n      APPLE_SUPPLIER_LIST_CONTENT,\n      'none',\n      600,\n      75\n   )) CHUNK_TXT;",
   "execution_count": null
  },
  {
   "cell_type": "markdown",
   "id": "744dc250-1aa1-4ba9-99a7-fe4e0bda3754",
   "metadata": {
    "name": "MDStructuredOutPutTable",
    "collapsed": false
   },
   "source": "## Create a Table to Store the Structured Output From the Snowflake Cortex [COMPLETE](https://docs.snowflake.com/en/user-guide/snowflake-cortex/complete-structured-outputs) function"
  },
  {
   "cell_type": "code",
   "id": "d38d62c4-7ba4-4488-b6c7-eec8a1ac328f",
   "metadata": {
    "language": "sql",
    "name": "SQLStructuredOutputTable"
   },
   "outputs": [],
   "source": "CREATE OR REPLACE TRANSIENT TABLE APPLE_SUPPLIER_LIST_CHUNKS_RAW_JSON_TBL\n(\nAPPLE_SUPPLER_LIST_CHUNK_JSON_COL VARIANT\n);",
   "execution_count": null
  },
  {
   "cell_type": "markdown",
   "id": "17ea1877-3295-4e31-b5cb-96cc6315f93a",
   "metadata": {
    "name": "cell7",
    "collapsed": false
   },
   "source": "## Apply the COMPLETE Structured Output on Each Chunk and Insert the output JSON into APPLE_SUPPLIER_LIST_CHUNKS_RAW_JSON_TBL"
  },
  {
   "cell_type": "code",
   "id": "8acd51f7-16c9-48ad-9524-2d8707240253",
   "metadata": {
    "language": "sql",
    "name": "SQLInsertStructuredOutputFromChunk"
   },
   "outputs": [],
   "source": "INSERT INTO APPLE_SUPPLIER_LIST_CHUNKS_RAW_JSON_TBL\nSELECT SNOWFLAKE.CORTEX.COMPLETE('claude-3-5-sonnet', [\n        {\n        'role': 'user',\n        'content': \n        'Extract the following from the Apple Supplier List document: \n        1. Extract the Supplier Name. \n        2.a. For each Supplier count the number of locations. Remember, the locations can be comma separated.\n        2.b. For example: This Primary location list - \\'Alabama, Indiana, Iowa, Minnesota, South Carolina, Wisconsin\\', has six locations. Extract and capture each location individually.   \n        3. Extract the location, if it is comma-separated, put each location in the \\'location\\' array.\n        4. Extract the conutry name, which is the last column in the document, and put it in the \\'country\\' array. \n' || APPLE_SUPPLIER_LIST_CHUNK\n            }\n    ],\n    {\n        'temperature': 0,\n        'max_tokens': 8192,\n        'response_format':{\n            'type':'json',\n            'schema': {\n                'type': 'object',\n                'properties': {\n                    'apple_supplier_list': {\n                        'type': 'array',\n                        'items': {\n                            'type': 'object',\n                            'properties': {\n                                'supplier_name': {'type': 'string'},\n                                'number_of_locations': {'type': 'string'},\n                                'locations':{'type': 'array'},\n                                'countries':{'type': 'array'}\n                            },\n                            'required': []\n                        }\n                    }\n                }\n            }\n            }\n    }\n) Apple_Supplier_List\nFROM \n    APPLE_SUPPLIER_LIST_CHUNKS_TBL;\n",
   "execution_count": null
  },
  {
   "cell_type": "markdown",
   "id": "fee68a15-bcb0-42d4-8391-8feca15daacb",
   "metadata": {
    "name": "MDListSupplierName",
    "collapsed": false
   },
   "source": "## List the Supplier Name and the Number of Location for that Supplier that Supply to Apple."
  },
  {
   "cell_type": "code",
   "id": "6e792d40-f09e-4465-977d-ba3e11030d83",
   "metadata": {
    "language": "sql",
    "name": "SQLListSupplierName"
   },
   "outputs": [],
   "source": "SELECT \n        apple_supplier_list_output.VALUE:\"supplier_name\"::STRING AS SUPPLIER_NAME,\n        apple_supplier_list_output.VALUE:\"number_of_locations\"::NUMBER AS NUMBER_OF_LOCATIONS,\n        apple_supplier_list_output.VALUE,\n        -- Assign a row number for each supplier based on your desired ordering\n        ROW_NUMBER() OVER (\n            PARTITION BY SUPPLIER_NAME \n            ORDER BY NUMBER_OF_LOCATIONS DESC  -- Or any other criteria to define the \"first\" row\n        ) AS rn\n    FROM \n        APPLE_SUPPLIER_LIST_CHUNKS_RAW_JSON_TBL,\n        LATERAL FLATTEN(input => APPLE_SUPPLER_LIST_CHUNK_JSON_COL:\"structured_output\") struct_output,\n        LATERAL FLATTEN(INPUT => struct_output.VALUE:\"raw_message\":\"apple_supplier_list\") apple_supplier_list_output\n    WHERE \n        SUPPLIER_NAME NOT IN ('<UNKNOWN>', 'CLEAN ENERGY', '')",
   "execution_count": null
  },
  {
   "cell_type": "markdown",
   "id": "32d4cfed-ab08-4bb3-8ce7-6634ee157ee9",
   "metadata": {
    "name": "cell8",
    "collapsed": false
   },
   "source": "## Here's the query to extract the locations of each supplier. \n### Some supplier have multiple locations from which they support Apple.  \n### Since we created overlapping chunks, we need to handle the duplicate supplier names.  "
  },
  {
   "cell_type": "code",
   "id": "68e6e846-533c-4be9-baa9-b220e4e07c9f",
   "metadata": {
    "language": "sql",
    "name": "cell5"
   },
   "outputs": [],
   "source": "WITH RankedSuppliers AS (\n    SELECT \n        apple_supplier_list_output.VALUE:\"supplier_name\"::STRING AS SUPPLIER_NAME,\n        apple_supplier_list_output.VALUE:\"number_of_locations\"::NUMBER AS NUMBER_OF_LOCATIONS,\n        apple_supplier_list_output.VALUE,\n        -- Assign a row number for each supplier based on your desired ordering\n        ROW_NUMBER() OVER (\n            PARTITION BY SUPPLIER_NAME \n            ORDER BY NUMBER_OF_LOCATIONS DESC  -- Or any other criteria to define the \"first\" row\n        ) AS rn\n    FROM \n        APPLE_SUPPLIER_LIST_CHUNKS_RAW_JSON_TBL,\n        LATERAL FLATTEN(input => APPLE_SUPPLER_LIST_CHUNK_JSON_COL:\"structured_output\") struct_output,\n        LATERAL FLATTEN(INPUT => struct_output.VALUE:\"raw_message\":\"apple_supplier_list\") apple_supplier_list_output\n    WHERE \n        SUPPLIER_NAME NOT IN ('<UNKNOWN>', 'CLEAN ENERGY', '') \n        -- AND SUPPLIER_NAME IS NOT NULL AND SUPPLIER_NAME != ' '\n)\nSELECT \n    RANKEDSUPPLIERS.SUPPLIER_NAME,\n    RANKEDSUPPLIERS.NUMBER_OF_LOCATIONS,\n    -- RANKEDSUPPLIERS.VALUE:\"locations\"::STRING LOCATIONS,\n    -- *,\n    -- locations_array.VALUE::STRING\nFROM \n    RankedSuppliers,\n    -- LATERAL FLATTEN(INPUT=> RANKEDSUPPLIERS.VALUE:\"locations\") locations_array\nWHERE \n    rn = 1\nORDER BY \n    RANKEDSUPPLIERS.SUPPLIER_NAME ASC;",
   "execution_count": null
  },
  {
   "cell_type": "code",
   "id": "2c123385-52ca-4285-b6f8-17c77bd7f502",
   "metadata": {
    "language": "sql",
    "name": "cell1"
   },
   "outputs": [],
   "source": "WITH RankedSuppliers AS (\n    SELECT \n        apple_supplier_list_output.VALUE:\"supplier_name\"::STRING AS SUPPLIER_NAME,\n        apple_supplier_list_output.VALUE:\"number_of_locations\"::NUMBER AS NUMBER_OF_LOCATIONS,\n        apple_supplier_list_output.VALUE,\n        -- Assign a row number for each supplier based on your desired ordering\n        ROW_NUMBER() OVER (\n            PARTITION BY SUPPLIER_NAME \n            ORDER BY NUMBER_OF_LOCATIONS DESC  -- Or any other criteria to define the \"first\" row\n        ) AS rn\n    FROM \n        APPLE_SUPPLIER_LIST_CHUNKS_RAW_JSON_TBL,\n        LATERAL FLATTEN(input => APPLE_SUPPLER_LIST_CHUNK_JSON_COL:\"structured_output\") struct_output,\n        LATERAL FLATTEN(INPUT => struct_output.VALUE:\"raw_message\":\"apple_supplier_list\") apple_supplier_list_output\n    WHERE \n        SUPPLIER_NAME NOT IN ('<UNKNOWN>', 'CLEAN ENERGY', '') \n        -- AND SUPPLIER_NAME IS NOT NULL AND SUPPLIER_NAME != ' '\n)\nSELECT \n    RANKEDSUPPLIERS.SUPPLIER_NAME,\n    RANKEDSUPPLIERS.NUMBER_OF_LOCATIONS,\n    RANKEDSUPPLIERS.VALUE:\"locations\"::STRING LOCATION,\n    locations_array.VALUE::STRING\nFROM \n    RankedSuppliers,\n    LATERAL FLATTEN(INPUT=> RANKEDSUPPLIERS.VALUE:\"locations\") locations_array\nWHERE \n    rn = 1\nORDER BY \n    RANKEDSUPPLIERS.SUPPLIER_NAME ASC;",
   "execution_count": null
  },
  {
   "cell_type": "code",
   "id": "a1157798-65d6-4ded-9fea-0a3c3ce24a77",
   "metadata": {
    "language": "sql",
    "name": "SQLDistinctLocationsAppleSuppliers"
   },
   "outputs": [],
   "source": "SELECT DISTINCT LOCATION\nFROM \n(WITH RankedSuppliers AS (\n    SELECT \n        apple_supplier_list_output.VALUE:\"supplier_name\"::STRING AS SUPPLIER_NAME,\n        apple_supplier_list_output.VALUE:\"number_of_locations\"::NUMBER AS NUMBER_OF_LOCATIONS,\n        apple_supplier_list_output.VALUE,\n        -- Assign a row number for each supplier based on your desired ordering\n        ROW_NUMBER() OVER (\n            PARTITION BY SUPPLIER_NAME \n            ORDER BY NUMBER_OF_LOCATIONS DESC  -- Or any other criteria to define the \"first\" row\n        ) AS rn\n    FROM \n        APPLE_SUPPLIER_LIST_CHUNKS_RAW_JSON_TBL,\n        LATERAL FLATTEN(input => APPLE_SUPPLER_LIST_CHUNK_JSON_COL:\"structured_output\") struct_output,\n        LATERAL FLATTEN(INPUT => struct_output.VALUE:\"raw_message\":\"apple_supplier_list\") apple_supplier_list_output\n    WHERE \n        SUPPLIER_NAME NOT IN ('<UNKNOWN>', 'CLEAN ENERGY', '') \n        -- AND SUPPLIER_NAME IS NOT NULL AND SUPPLIER_NAME != ' '\n)\nSELECT \n    RANKEDSUPPLIERS.SUPPLIER_NAME,\n    RANKEDSUPPLIERS.NUMBER_OF_LOCATIONS,\n    RANKEDSUPPLIERS.VALUE:\"locations\"::STRING LOCATION_ARRAY,\n    locations_array.VALUE::STRING LOCATION,\nFROM \n    RankedSuppliers,\n    LATERAL FLATTEN(INPUT=> RANKEDSUPPLIERS.VALUE:\"locations\") locations_array\nWHERE \n    rn = 1\nORDER BY \n    RANKEDSUPPLIERS.SUPPLIER_NAME ASC);",
   "execution_count": null
  },
  {
   "cell_type": "code",
   "id": "af09de65-da7f-4848-8346-ff69d46602dc",
   "metadata": {
    "language": "sql",
    "name": "SQLAllCountries"
   },
   "outputs": [],
   "source": "WITH RankedSuppliers AS (\n    SELECT \n        apple_supplier_list_output.VALUE:\"supplier_name\"::STRING AS SUPPLIER_NAME,\n        apple_supplier_list_output.VALUE:\"number_of_locations\"::NUMBER AS NUMBER_OF_LOCATIONS,\n        apple_supplier_list_output.VALUE,\n        -- Assign a row number for each supplier based on your desired ordering\n        ROW_NUMBER() OVER (\n            PARTITION BY SUPPLIER_NAME \n            ORDER BY NUMBER_OF_LOCATIONS DESC  -- Or any other criteria to define the \"first\" row\n        ) AS rn\n    FROM \n        APPLE_SUPPLIER_LIST_CHUNKS_RAW_JSON_TBL,\n        LATERAL FLATTEN(input => APPLE_SUPPLER_LIST_CHUNK_JSON_COL:\"structured_output\") struct_output,\n        LATERAL FLATTEN(INPUT => struct_output.VALUE:\"raw_message\":\"apple_supplier_list\") apple_supplier_list_output\n    WHERE \n        SUPPLIER_NAME NOT IN ('<UNKNOWN>', 'CLEAN ENERGY', '') \n        -- AND SUPPLIER_NAME IS NOT NULL AND SUPPLIER_NAME != ' '\n)\nSELECT \n    RANKEDSUPPLIERS.SUPPLIER_NAME,\n    RANKEDSUPPLIERS.NUMBER_OF_LOCATIONS,\n    RANKEDSUPPLIERS.VALUE:\"countries\"::STRING COUNTRY_ARRAY,\n    countries_array.VALUE::STRING COUNTRY\nFROM \n    RankedSuppliers,\n    LATERAL FLATTEN(INPUT=> RANKEDSUPPLIERS.VALUE:\"countries\") countries_array\nWHERE \n    rn = 1\nORDER BY \n    RANKEDSUPPLIERS.SUPPLIER_NAME ASC;",
   "execution_count": null
  },
  {
   "cell_type": "code",
   "id": "3c4aea59-a1d0-40e7-b9e4-fd24d410a2cc",
   "metadata": {
    "language": "sql",
    "name": "SQLDistinctCountries"
   },
   "outputs": [],
   "source": "SELECT DISTINCT COUNTRY\nFROM \n(WITH RankedSuppliers AS (\n    SELECT \n        apple_supplier_list_output.VALUE:\"supplier_name\"::STRING AS SUPPLIER_NAME,\n        apple_supplier_list_output.VALUE:\"number_of_locations\"::NUMBER AS NUMBER_OF_LOCATIONS,\n        apple_supplier_list_output.VALUE,\n        -- Assign a row number for each supplier based on your desired ordering\n        ROW_NUMBER() OVER (\n            PARTITION BY SUPPLIER_NAME \n            ORDER BY NUMBER_OF_LOCATIONS DESC  -- Or any other criteria to define the \"first\" row\n        ) AS rn\n    FROM \n        APPLE_SUPPLIER_LIST_CHUNKS_RAW_JSON_TBL,\n        LATERAL FLATTEN(input => APPLE_SUPPLER_LIST_CHUNK_JSON_COL:\"structured_output\") struct_output,\n        LATERAL FLATTEN(INPUT => struct_output.VALUE:\"raw_message\":\"apple_supplier_list\") apple_supplier_list_output\n    WHERE \n        SUPPLIER_NAME NOT IN ('<UNKNOWN>', 'CLEAN ENERGY', '') \n        -- AND SUPPLIER_NAME IS NOT NULL AND SUPPLIER_NAME != ' '\n)\nSELECT \n    RANKEDSUPPLIERS.SUPPLIER_NAME,\n    RANKEDSUPPLIERS.NUMBER_OF_LOCATIONS,\n    RANKEDSUPPLIERS.VALUE:\"countries\"::STRING COUNTRY_ARRAY,\n    countries_array.VALUE::STRING COUNTRY\nFROM \n    RankedSuppliers,\n    LATERAL FLATTEN(INPUT=> RANKEDSUPPLIERS.VALUE:\"countries\") countries_array\nWHERE \n    rn = 1\nORDER BY \n    RANKEDSUPPLIERS.SUPPLIER_NAME ASC);",
   "execution_count": null
  }
 ]
}