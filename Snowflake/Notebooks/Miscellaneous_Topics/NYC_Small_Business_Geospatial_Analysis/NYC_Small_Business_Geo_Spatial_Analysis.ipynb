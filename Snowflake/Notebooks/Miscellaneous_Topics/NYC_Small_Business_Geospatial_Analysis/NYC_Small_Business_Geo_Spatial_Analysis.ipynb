{
 "metadata": {
  "kernelspec": {
   "display_name": "Streamlit Notebook",
   "name": "streamlit"
  },
  "lastEditStatus": {
   "notebookId": "ka4f67ux4e6huvhpsfle",
   "authorId": "8795186554644",
   "authorName": "PRAJAGOPAL",
   "authorEmail": "prasanna.rajagopal@snowflake.com",
   "sessionId": "921b58f1-e821-4db9-b959-cb381455b3d4",
   "lastEditTime": 1738858404754
  }
 },
 "nbformat_minor": 5,
 "nbformat": 4,
 "cells": [
  {
   "cell_type": "markdown",
   "id": "0ae3f9bf-4c53-4a06-8089-a149f4d93276",
   "metadata": {
    "name": "MDGeographyGeometry",
    "collapsed": false
   },
   "source": "## Snowflake provides the following data types for geospatial data:\n\n### The [GEOGRAPHY](https://docs.snowflake.com/en/sql-reference/data-types-geospatial#geography-data-type) data type, which models Earth as though it were a perfect sphere.\n#### Points on the earth are represented as degrees of longitude (from -180 degrees to +180 degrees) and latitude (-90 to +90). Snowflake uses 14 decimal places to store GEOGRAPHY coordinates.\n\n### The [GEOMETRY](https://docs.snowflake.com/en/sql-reference/data-types-geospatial#geometry-data-type) data type, which represents features in a planar (Euclidean, Cartesian) coordinate system.\n#### The coordinates are represented as pairs of real numbers (x, y). Currently, only 2D coordinates are supported."
  },
  {
   "cell_type": "markdown",
   "id": "fec3558d-8ca1-45ca-b684-ef6df140e3dd",
   "metadata": {
    "name": "MDUseCaseScenario",
    "collapsed": false
   },
   "source": "# Analyze New York City Small Business Data Using Snowflake Geospatial Functions.\n## Goals\n### 1. Convert LATITUDE & LONGITUDE in FLOAT to GEOGRAPHY Data Type. \n### 2. Aggregate all the small business locations for a selected sales territory.\n### 3. Create a minimum bounding box (Envelope) that encompasses the small businesses in a territory. \n### 4. Display the Box and the small businesses located within that box. \n## Steps:\n### 1. Create GEOGRAPHY Data Type for Each New York City Small Business Using [ST_MAKEPOINT](https://docs.snowflake.com/en/sql-reference/functions/st_makepoint)\n### 2. Aggregate the GEOGRAPHY Points for the Sales Territory of your Choice Using [ST_COLLECT](https://docs.snowflake.com/en/sql-reference/functions/st_collect) For eg.: Bronx\n### 3. Convert to GEOMETRY Data Type for Easy Envelope (Box) Creation Using [TO_GEOMETRY](https://docs.snowflake.com/en/sql-reference/functions/to_geometry)\n### 4. Create Envelope (minimum bounding box) With the GEOMETRY Object Using [ST_ENVELOPE](https://docs.snowflake.com/en/sql-reference/functions/st_envelope)\n### 5. Find the Center of the Envelope for Proper Positioning on the Map Using [ST_CENTROID](https://docs.snowflake.com/en/sql-reference/functions/st_centroid)\n### 6. Layer the Envelope & Bronx Small Business GEOGRAPHY Points on the Map Using PyDeck.  "
  },
  {
   "cell_type": "markdown",
   "id": "69195155-88c4-4406-a3f6-38f178afb7e0",
   "metadata": {
    "name": "MDCreateSmallBusinessTbl",
    "collapsed": false
   },
   "source": "## Create NYC Small Business Table from the CSV file. \n### You can download the CSV file [here](https://github.com/rrprasan/Finance/tree/main/Snowflake/Notebooks/Miscellaneous_Topics/NYC_Small_Business_Geospatial_Analysis).\n### [Follow these instructions](https://github.com/rrprasan/Finance/blob/main/Snowflake/Notebooks/Miscellaneous_Topics/NYC_Small_Business_Geospatial_Analysis/ReadMe.md) to create the Small Business table from the CSV file using Snowflake Snowsight. \n### After creating the table and loading the data, comeback to this Notebook to work through the geospatial example. "
  },
  {
   "cell_type": "markdown",
   "id": "7af42f6f-9470-4b91-bdda-e58da4fff428",
   "metadata": {
    "name": "MDWhyConvert",
    "collapsed": false
   },
   "source": "## Why should we convert to [GEOGRAPHY](https://docs.snowflake.com/en/sql-reference/data-types-geospatial#geography-data-type) data type in Snowflake? \n### If you have geospatial data (for example, longitude and latitude data, WKT, WKB, GeoJSON, and so on), Snowflake suggests converting and storing this data in GEOGRAPHY columns, rather than keeping the data in their original formats in VARCHAR, VARIANT or NUMBER columns. \n### Storing your data in GEOGRAPHY columns can significantly improve the *performance of queries* that use geospatial functionality.\n(Source: [Snowflake Documentation](https://docs.snowflake.com/en/sql-reference/data-types-geospatial))"
  },
  {
   "cell_type": "markdown",
   "id": "cbde9e45-9ab4-4a62-a9a5-8e29f1319584",
   "metadata": {
    "name": "MDSeNotNullLatLong",
    "collapsed": false
   },
   "source": "## For this learning exercise, we are selecting only the the businesses that have latitude and longtiude in its data.\n- ### We will create a view in Snowflake to only select the NYC Small Businesses with LATITUDE and LONGITUDE values in the table. \n- ### The [Selection](https://en.wikipedia.org/wiki/Selection_%28relational_algebra%29) in our query is restricted to NOT NULL values for LATITUDE and LONGITUDE columns.\n- ### One way to clean the data set is to using [Geocoding](https://en.wikipedia.org/wiki/Address_geocoding) to get the LATITUDE and LONGITUDE for each business. We will explore this in a later demo.  "
  },
  {
   "cell_type": "code",
   "id": "6e95734d-0fbf-4ef1-9049-784c9ae55ddb",
   "metadata": {
    "language": "sql",
    "name": "CrVWNYCSmallBusiness",
    "collapsed": false
   },
   "outputs": [],
   "source": "create or replace view NYC_SMALL_BUSINESS_VW(\n\tVENDOR_FORMAL_NAME,\n\tVENDOR_DBA,\n\tFIRST_NAME,\n\tLAST_NAME,\n\tTELEPHONE,\n\tBUSINESS_DESCRIPTION,\n\tCITY,\n\tBOROUGH,\n\tLATITUDE,\n\tLONGITUDE\n) as\nSELECT\n    VENDOR_FORMAL_NAME,\n\tVENDOR_DBA,\n\tFIRST_NAME,\n\tLAST_NAME,\n\tTELEPHONE,\n    BUSINESS_DESCRIPTION,\n    CITY, \n    BOROUGH,\n    LATITUDE,\n    LONGITUDE,\nFROM\n    NYC_SMALL_BUSINESS_TBL\nWHERE\n    LONGITUDE IS NOT NULL\nOR\n    LATITUDE IS NOT NULL;",
   "execution_count": null
  },
  {
   "cell_type": "markdown",
   "id": "46392722-2751-4a7c-8961-c03cd696780d",
   "metadata": {
    "name": "MDSeVWToTest"
   },
   "source": "## Test the View\n"
  },
  {
   "cell_type": "code",
   "id": "0331742c-a2c2-4978-9839-c2a8ab8b3e85",
   "metadata": {
    "language": "sql",
    "name": "SeNYCSmallBUsiness",
    "collapsed": false
   },
   "outputs": [],
   "source": "SELECT\n    *\nFROM\n    NYC_SMALL_BUSINESS_VW\nLIMIT 10;",
   "execution_count": null
  },
  {
   "cell_type": "markdown",
   "id": "4d9fe7cc-5c34-4a23-9d4f-5ee1ed260f7b",
   "metadata": {
    "name": "MDHowManySmallBusinesses",
    "collapsed": false
   },
   "source": "### How many small businesses do we have in the view?  "
  },
  {
   "cell_type": "code",
   "id": "1ed549f9-5a2a-4ffb-9a91-383d8bc7c210",
   "metadata": {
    "language": "sql",
    "name": "SeCountNumberOfBusinesses",
    "collapsed": false
   },
   "outputs": [],
   "source": "SELECT \n    COUNT(*)\nFROM\n    NYC_SMALL_BUSINESS_VW",
   "execution_count": null
  },
  {
   "cell_type": "markdown",
   "id": "34ee87fd-7a44-4206-84f0-9c1f3049c068",
   "metadata": {
    "name": "MDDistinctBoroughs",
    "collapsed": false
   },
   "source": "### What are the [Boroughs in New York City](https://en.wikipedia.org/wiki/Boroughs_of_New_York_City)? "
  },
  {
   "cell_type": "code",
   "id": "e5e8add7-f60f-449a-81bc-c7dee9622411",
   "metadata": {
    "language": "sql",
    "name": "SeDistinctBoroughs",
    "collapsed": false
   },
   "outputs": [],
   "source": "SELECT\n    DISTINCT BOROUGH\nFROM\n    NYC_SMALL_BUSINESS_VW;",
   "execution_count": null
  },
  {
   "cell_type": "markdown",
   "id": "1c74eb86-d9ca-42ac-aad2-59e2d269c018",
   "metadata": {
    "name": "MDStreamlitAppIntro",
    "collapsed": false
   },
   "source": "### We are going to create a Streamlit application to show the businesses in each NYC borough on a map. \n- ### To accomplish this task, we need to do the following to the data:\n#### 1. Convert the LATITUDE and LONGITUDE in FLOAT data type to GEOGRAPHY data type using ST_MAKEPOINT function. \n#### 2. We will then focus our attention on creating a [Minimum Bounding Box](https://en.wikipedia.org/wiki/Minimum_bounding_box) (Envelope)\n#### 3. The Minimum Bounding Box will encompass all the businesses (aggregation) in a borough\n    3.a. Aggregation of all Small Businesses in a Selected Territory. \n    3.b. Convert Aggregation From GEOGRAPHY to GEOMETRY Data Type.  \n    3.c. Create Minimum Bounding Box (Envelope) Using the Create Geometry.\n#### 4. We will explore all these geospatial features in SQL and then use Python to do the same and create a map. "
  },
  {
   "cell_type": "markdown",
   "id": "49f0b1be-f9d2-496e-8aec-990a7f4e80ce",
   "metadata": {
    "name": "MDMakePoint",
    "collapsed": false
   },
   "source": "### [ST_MAKEPOINT](https://docs.snowflake.com/en/sql-reference/functions/st_makepoint) constructs a GEOGRAPHY object that represents a point with the specified longitude and latitude."
  },
  {
   "cell_type": "code",
   "id": "1e8988ab-9e35-469f-83a6-ef1bb8696c90",
   "metadata": {
    "language": "sql",
    "name": "SeST_MAKEPOINTSQL",
    "collapsed": false
   },
   "outputs": [],
   "source": "SELECT \n    NYCSB.LONGITUDE,\n    NYCSB.LATITUDE,\n    ST_MAKEPOINT(NYCSB.LONGITUDE, NYCSB.LATITUDE) SMALL_BUSINESS_LOCATION,\n    NYCSB.VENDOR_FORMAL_NAME, \n    NYCSB.BUSINESS_DESCRIPTION,\n    NYCSB.CITY, \n    NYCSB.FIRST_NAME, \n    NYCSB.LAST_NAME, \nFROM NYC_SMALL_BUSINESS_VW NYCSB;",
   "execution_count": null
  },
  {
   "cell_type": "markdown",
   "id": "0ca8a25f-218b-4010-a336-9b5b2c50805f",
   "metadata": {
    "name": "MDCrVWST_MAKEPOINT",
    "collapsed": false
   },
   "source": "## Create a View With ST_MAKEPOINT for this Demo\n### You can use this view as the input for the practicing the next step. Or, you can use the query as a CTE ([Common Table Expression](https://docs.snowflake.com/en/user-guide/queries-cte))\n### The CTE Method is also illustrusted below.  "
  },
  {
   "cell_type": "code",
   "id": "c0d3b5c3-19d0-400b-85da-79f72494c6bb",
   "metadata": {
    "language": "sql",
    "name": "SeCreateMAKEPOINTVW",
    "collapsed": false
   },
   "outputs": [],
   "source": "CREATE OR REPLACE VIEW NYC_SMALL_BUSINESS_LAT_LON_MAKEPOINT_VW\nAS\nSELECT \n    NYCSB.LONGITUDE,\n    NYCSB.LATITUDE,\n    ST_MAKEPOINT(NYCSB.LONGITUDE, NYCSB.LATITUDE) SMALL_BUSINESS_LOCATION,\n    NYCSB.VENDOR_FORMAL_NAME, \n    NYCSB.BUSINESS_DESCRIPTION,\n    NYCSB.CITY, \n    NYCSB.BOROUGH,\n    NYCSB.FIRST_NAME, \n    NYCSB.LAST_NAME, \nFROM NYC_SMALL_BUSINESS_VW NYCSB;",
   "execution_count": null
  },
  {
   "cell_type": "markdown",
   "id": "256ed9dc-6d1f-466c-8cca-88dad060b445",
   "metadata": {
    "name": "MDMinBoundBoxEnvelope",
    "collapsed": false
   },
   "source": "## Goal: Create Minimum Bounding Box (Envelope)\n### Requirements:\n#### 1. Aggregation of all Small Businesses in a Selected Territory. \n#### 2. Convert Aggregation From GEOGRAPHY to GEOMETRY Data Type.  \n#### 3. Create Minimum Bounding Box (Envelope) Using the Create Geometry."
  },
  {
   "cell_type": "markdown",
   "id": "cbc45626-5d62-4ef4-9306-9369c8dfcd46",
   "metadata": {
    "name": "MDAggregateBusinessBronxBorough",
    "collapsed": false
   },
   "source": "### We are going to see an example for aggregating all the business in Bronx borough using [ST_COLLECT](https://docs.snowflake.com/en/sql-reference/functions/st_collect)"
  },
  {
   "cell_type": "markdown",
   "id": "29ff7de6-8eb6-4d11-8cca-caf2688e5063",
   "metadata": {
    "name": "MDAggregateBronxSmallBusinessUsingVW",
    "collapsed": false
   },
   "source": "## Aggregate All Small Business Locations for Borough = Bronx using the view.  "
  },
  {
   "cell_type": "code",
   "id": "6c08b9a6-ec67-44fb-99d2-1276cb21088e",
   "metadata": {
    "language": "sql",
    "name": "SeAggregateBronxGeographyPoints",
    "collapsed": false
   },
   "outputs": [],
   "source": "SELECT\n    ST_COLLECT(SMALL_BUSINESS_LOCATION) BRONX_SMALL_BUSINESS_POINTS,\nFROM\n   NYC_SMALL_BUSINESS_LAT_LON_MAKEPOINT_VW\nWHERE\n    BOROUGH ilike 'Bronx'",
   "execution_count": null
  },
  {
   "cell_type": "markdown",
   "id": "693274c7-43dc-40d5-8203-4bfe315d2593",
   "metadata": {
    "name": "MDQueryExplanationCreatedCopilot",
    "collapsed": false
   },
   "source": "### Here's the CTE query as explained by [Snowflake Copilot](https://docs.snowflake.com/en/user-guide/snowflake-copilot)\n- *Snowflake Copilot can be accessed by clicking on the \"<\" at the bottom right side of your Snowflake Notebook to open the Copilot Sidebar*.\n- This query performs geospatial analysis on small businesses in the Bronx through two main steps:\n\n- First, it creates a CTE that transforms latitude and longitude coordinates into spatial points using ST_MAKEPOINT for each business from the NYC_SMALL_BUSINESS_VW view, while also selecting relevant business information like name, description, and location details\n\n- Then, the main query uses ST_COLLECT to aggregate all the spatial points of businesses in the Bronx (filtered case-insensitively using ILIKE) into a single geometry collection, effectively creating a spatial representation of all Bronx business locations\n\n- The result is a single row containing a geometry collection of all small business locations in the Bronx borough, which could be useful for visualization or further spatial analysis."
  },
  {
   "cell_type": "code",
   "id": "6bdd0887-9677-44fd-a2d0-d0b4fd906039",
   "metadata": {
    "language": "sql",
    "name": "SeAggregateBronxSmallBusinessUsingCTE",
    "collapsed": false
   },
   "outputs": [],
   "source": "WITH NYC_SMALL_BUSINESS_LAT_LON_MAKEPOINT_CTE \nAS (\nSELECT \n    NYCSB.LONGITUDE,\n    NYCSB.LATITUDE,\n    ST_MAKEPOINT(NYCSB.LONGITUDE, NYCSB.LATITUDE) SMALL_BUSINESS_LOCATION,\n    NYCSB.VENDOR_FORMAL_NAME, \n    NYCSB.BUSINESS_DESCRIPTION,\n    NYCSB.CITY, \n    NYCSB.BOROUGH,\n    NYCSB.FIRST_NAME, \n    NYCSB.LAST_NAME, \nFROM NYC_SMALL_BUSINESS_VW NYCSB\n)\nSELECT\n    ST_COLLECT(SMALL_BUSINESS_LOCATION) BRONX_SMALL_BUSINESS_POINTS,\nFROM\n   NYC_SMALL_BUSINESS_LAT_LON_MAKEPOINT_CTE\nWHERE\n    BOROUGH ilike 'Bronx'",
   "execution_count": null
  },
  {
   "cell_type": "markdown",
   "id": "d552aa2c-049f-4b7d-8330-a10006170f8e",
   "metadata": {
    "name": "MDConvertGEOGRAPHYToGeoMetry",
    "collapsed": false
   },
   "source": "### Convert the Geospatial Aggregation from GEOGRAPHY to GEOMETRY Data Type to create the Envelope ([Minimum Bounding Box](https://en.wikipedia.org/wiki/Minimum_bounding_box))\n### Why convert from GEOGRAPHY to GEOMETRY Data Type?\n- ST_ENVELOPE function has been deprecated for GEOGRAPHY objects. The use of this function with GEOGRAPHY objects will be obsoleted in a future release (TBD).\n\n- As an alternative, for GEOGRAPHY objects, use ST_XMIN, ST_XMAX, ST_YMIN, and ST_YMAX to determine the vertices of the bounding box around an input GEOGRAPHY object.\n- It is much easier to use the GEOMETRY Data Type to create the Envelope. So, the conversion becomes essential. "
  },
  {
   "cell_type": "code",
   "id": "9784cf8b-87b0-46ff-9ebc-39bc032fa90f",
   "metadata": {
    "language": "sql",
    "name": "SeConvertGeographyToGeometryUsingVW",
    "collapsed": false,
    "codeCollapsed": false
   },
   "outputs": [],
   "source": "WITH BRONX_SMALL_BUS_AGGR_CTE \nAS (\nSELECT\n    ST_COLLECT(SMALL_BUSINESS_LOCATION) BRONX_SMALL_BUSINESS_POINTS,\nFROM\n   NYC_SMALL_BUSINESS_LAT_LON_MAKEPOINT_VW\nWHERE\n    BOROUGH ilike 'Bronx'\n)\nSELECT \n    TO_GEOMETRY(BRONX_SMALL_BUSINESS_POINTS) BRONX_SMALL_BUSINESS_GEOMETRY\nFROM\n    BRONX_SMALL_BUS_AGGR_CTE",
   "execution_count": null
  },
  {
   "cell_type": "code",
   "id": "6d2b3efb-ad79-4bda-9a3b-70abc92b34e4",
   "metadata": {
    "language": "sql",
    "name": "SeST_COLLECTBronxBusinessAggregation",
    "collapsed": true,
    "codeCollapsed": true
   },
   "outputs": [],
   "source": "WITH BRONX_SMALL_BUS_AGGR_CTE \nAS (\nSELECT\n    ST_COLLECT(SMALL_BUSINESS_LOCATION) BRONX_SMALL_BUSINESS_POINTS,\nFROM\n   NYC_SMALL_BUSINESS_LAT_LON_MAKEPOINT_VW\nWHERE\n    BOROUGH ilike 'Bronx'\n)\nSELECT \n    TO_GEOMETRY(BRONX_SMALL_BUSINESS_POINTS) BRONX_SMALL_BUSINESS_GEOMETRY\nFROM\n    BRONX_SMALL_BUS_AGGR_CTE",
   "execution_count": null
  },
  {
   "cell_type": "code",
   "id": "a4afeb4c-920e-4f90-95de-adae4ddc4f8f",
   "metadata": {
    "language": "sql",
    "name": "CrAggrMakepointsVW",
    "collapsed": false
   },
   "outputs": [],
   "source": "CREATE OR REPLACE VIEW NYC_SMALL_BUSINESS_BRONX_LAT_LON_AGGR_VW\nAS \nSELECT\n    ST_COLLECT(SMALL_BUSINESS_LOCATION) BRONX_SMALL_BUSINESS_POINTS,\nFROM\n   NYC_SMALL_BUSINESS_LAT_LON_MAKEPOINT_VW\nWHERE\n    BOROUGH ilike 'Bronx';",
   "execution_count": null
  },
  {
   "cell_type": "markdown",
   "id": "849d2a54-4cdd-4e80-814f-82c3beda94e0",
   "metadata": {
    "name": "MDCreateMinBoundingBox",
    "collapsed": false
   },
   "source": "## Create a Minimum Bounding Box with ST_ENVELOPE SQL Function\n### Query Explained by Snowflake Copilot:\n- This query builds upon the previous one and performs two additional geospatial operations:\n\n- First, it creates a CTE that converts the previously collected points (geometry collection of Bronx businesses) from GEOGRAPHY to GEOMETRY type using TO_GEOMETRY\n\n- Then, it uses ST_ENVELOPE to compute the minimum bounding rectangle (MBR) that contains all the Bronx business locations. This creates a rectangular geometry that completely encompasses all business points in the Bronx, useful for understanding the geographical extent of business distribution\n\n- The result is a single row containing a geometry object representing the smallest possible rectangle that contains all small business locations in the Bronx borough."
  },
  {
   "cell_type": "code",
   "id": "b7a44a06-41d0-4fd1-9cc9-4bfb005cbeb1",
   "metadata": {
    "language": "sql",
    "name": "CrMinBoundingBox",
    "collapsed": false
   },
   "outputs": [],
   "source": "WITH BRONX_SMALL_BUSINESS_LAT_LON_AGGR_CTE\nAS\n(SELECT \n    TO_GEOMETRY(BRONX_SMALL_BUSINESS_POINTS) BRONX_SMALL_BUSINESS_GEOMETRY\nFROM\n    NYC_SMALL_BUSINESS_BRONX_LAT_LON_AGGR_VW)\nSELECT\n    ST_ENVELOPE(BRONX_SMALL_BUSINESS_GEOMETRY) MIN_BOUNDING_BOX_BRONX\nFROM\n    BRONX_SMALL_BUSINESS_LAT_LON_AGGR_CTE;",
   "execution_count": null
  },
  {
   "cell_type": "markdown",
   "id": "4c7c3c14-7ed4-47c1-adea-e9b09ebe282c",
   "metadata": {
    "name": "MDCreateGeographyToGeometryVW",
    "collapsed": false
   },
   "source": "### Store the GEOGRAPHY to GEOMETRY Coversion as a View. "
  },
  {
   "cell_type": "code",
   "id": "20345d30-3eb0-4c05-84b9-c8e81c008041",
   "metadata": {
    "language": "sql",
    "name": "CrViewBRONX_SMALL_BUSINESS_GEOMETRY_VW",
    "collapsed": false,
    "codeCollapsed": false
   },
   "outputs": [],
   "source": "CREATE OR REPLACE VIEW BRONX_SMALL_BUSINESS_GEOMETRY_VW\nAS\nSELECT \n    TO_GEOMETRY(BRONX_SMALL_BUSINESS_POINTS) BRONX_SMALL_BUSINESS_GEOMETRY\nFROM\n    NYC_SMALL_BUSINESS_BRONX_LAT_LON_AGGR_VW",
   "execution_count": null
  },
  {
   "cell_type": "code",
   "id": "00b275df-a912-475f-8239-6f6ee72cb0d3",
   "metadata": {
    "language": "sql",
    "name": "SQLCreateEnvelope",
    "collapsed": false,
    "codeCollapsed": false
   },
   "outputs": [],
   "source": "SELECT\n    ST_ENVELOPE(BRONX_SMALL_BUSINESS_GEOMETRY)\nFROM\n    BRONX_SMALL_BUSINESS_GEOMETRY_VW;",
   "execution_count": null
  },
  {
   "cell_type": "markdown",
   "id": "89e354b0-7f36-48c1-ab5d-2ea3ff14e88f",
   "metadata": {
    "name": "MDMinBoundingBox",
    "collapsed": false
   },
   "source": "## Find the Center of the Minimum Bounding Box.\n### This center point is used to position the box on the map at the center of all of Bronx's business.  \n### Query explanation from Snowflake Copilot:\n- This query builds upon the previous one by finding the center point of the minimum bounding box that contains all Bronx business locations:\n\n- First, it creates a CTE that gets the minimum bounding rectangle (from the previous query's result) using ST_ENVELOPE\n- Then, it applies ST_CENTROID to calculate the geometric center point of that bounding box\n- The result is a single point (geometry) representing the center of the rectangular area that encompasses all Bronx business locations, which could be useful for understanding the central location of business distribution in the Bronx.\n"
  },
  {
   "cell_type": "code",
   "id": "ab5ec59b-bc4f-493c-a66e-6e17ea370765",
   "metadata": {
    "language": "sql",
    "name": "SeFindCenterMinBoundingBox",
    "collapsed": false
   },
   "outputs": [],
   "source": "WITH BRONX_ENVELOPE_CTE AS(\nSELECT\n    ST_ENVELOPE(BRONX_SMALL_BUSINESS_GEOMETRY) MIN_BOUNDING_BOX_BRONX\nFROM\n    BRONX_SMALL_BUSINESS_GEOMETRY_VW\n)\nSELECT\n    ST_CENTROID(MIN_BOUNDING_BOX_BRONX) BOUNDING_BOX_CENTER\nFROM\n    BRONX_ENVELOPE_CTE",
   "execution_count": null
  },
  {
   "cell_type": "markdown",
   "id": "d446b7d0-37b5-483e-a9e1-f48500152ecd",
   "metadata": {
    "name": "MDCreateMapInPython",
    "collapsed": false
   },
   "source": "### We will use the same functions (ST_MAKEPOINT, ST_COLLECT, ST_ENVELOPE, TO_GEOMETRY, ST_CENTROID) in Python to create a map of the small business that fall in a borough.  "
  },
  {
   "cell_type": "code",
   "id": "07cc69ce-fb54-4db8-8c60-38b5f405a7c0",
   "metadata": {
    "language": "python",
    "name": "PyImportStatements",
    "collapsed": false
   },
   "outputs": [],
   "source": "# Import python packages\nimport streamlit as st\nfrom snowflake.snowpark.context import get_active_session\nfrom snowflake.snowpark.functions import *\nfrom snowflake.snowpark.types import *\nimport json\nimport pandas as pd\nimport numpy as np\nimport pydeck as pdk\n\n# Write directly to the app\nst.title(\"New York City Small Business Location & Information\")\nst.write(\n    \"\"\"This app shows New York City small businesses on a map.\n    \"\"\"\n)\n\n# Get the current credentials\nsession = get_active_session()",
   "execution_count": null
  },
  {
   "cell_type": "markdown",
   "id": "d7b7dbf8-d3af-4369-b4e6-481616109160",
   "metadata": {
    "name": "MDPythonStreamlitApp",
    "collapsed": false
   },
   "source": "### This Python code gets all the NYC Small Businesses into a Data Frame and uses the Map widget in Streamlit to visualize all the business.  \n### The Map widget in Streamlit is the easiest way to create a map. \n### But, we will go further and create a map using PyDeck package and will have a Minimum Bounding Box on the Map.  "
  },
  {
   "cell_type": "code",
   "id": "71436e40-38fc-4372-a248-fd2a1d441de1",
   "metadata": {
    "language": "python",
    "name": "PySelectNYCSmallBusiness",
    "collapsed": false
   },
   "outputs": [],
   "source": "NYC_Small_Business_latlon = session.table('DEMODB.EQUITY_RESEARCH.\"NYC_SMALL_BUSINESS_VW\"')\n# pdGeoNYCSBDF = pd.DataFrame(NYC_Small_Business_latlon)\nst.markdown('#### A dataframe which shows small businesses in NYC')\nst.dataframe(NYC_Small_Business_latlon)\nst.map(NYC_Small_Business_latlon, latitude='LATITUDE', longitude='LONGITUDE')",
   "execution_count": null
  },
  {
   "cell_type": "markdown",
   "id": "1dea3386-a12d-491f-863e-4b6b15e9475b",
   "metadata": {
    "name": "MDPythonGeospatialFunctions",
    "collapsed": false
   },
   "source": "### ST_MAKEPOINT, ST_COLLECT, ST_ENVELOPE, TO_GEOMETRY, TO_GEOGRAPHY Functions in a Python Data Frame.  \n### The following code in Python visualizes all the businesses in New York City found in our view.  "
  },
  {
   "cell_type": "code",
   "id": "2156e58d-819c-4987-9adc-becab10d61b1",
   "metadata": {
    "language": "python",
    "name": "PyST_Makepoint",
    "collapsed": false
   },
   "outputs": [],
   "source": "#create a point from the coordinates\nenvelope = NYC_Small_Business_latlon.with_column('POINT',call_function('ST_MAKEPOINT',col('\"LONGITUDE\"'),col('\"LATITUDE\"')))\n\n#collect all the points into one row of data\nenvelope = envelope.select(call_function('ST_COLLECT',col('POINT')).alias('POINTS'))\n\n#### convert from geography to geometry\nenvelope = envelope.select(to_geometry('POINTS').alias('POINTS'))\n\n\n#create a rectangular shape which boarders the minimum possible size which covers all of the points\nenvelope = envelope.select(call_function('ST_ENVELOPE',col('POINTS')).alias('BOUNDARY'))\n\n#convert back to geography\nenvelope = envelope.select(to_geography('BOUNDARY').alias('BOUNDARY'))\nenvelope.collect()[0][0]",
   "execution_count": null
  },
  {
   "cell_type": "markdown",
   "id": "ddb4bf27-1ea2-46d0-bb42-223d5373331b",
   "metadata": {
    "name": "MDVisualizeEnvelopeOnMap",
    "collapsed": false
   },
   "source": "### Here you will visualize the New York City Minimum Bounding Box (Envelope on a Map)"
  },
  {
   "cell_type": "code",
   "id": "7f0fb13d-093e-40a6-ac23-76985879e405",
   "metadata": {
    "language": "python",
    "name": "PyVisualizeEnvelopeOnMap",
    "collapsed": false
   },
   "outputs": [],
   "source": "#find the centre point so the map will render from that location\n\ncentre = envelope.with_column('CENTROID',call_function('ST_CENTROID',col('BOUNDARY')))\ncentre = centre.with_column('LON',call_function('ST_X',col('CENTROID')))\ncentre = centre.with_column('LAT',call_function('ST_Y',col('CENTROID')))\n\n#create LON and LAT variables\n\ncentrepd = centre.select('LON','LAT').to_pandas()\nLON = centrepd.LON.iloc[0]\nLAT = centrepd.LAT.iloc[0]\n\n### transform the data in pandas so the pydeck visualisation tool can view it as a polygon\n\nenvelopepd = envelope.to_pandas()\nenvelopepd[\"coordinates\"] = envelopepd[\"BOUNDARY\"].apply(lambda row: json.loads(row)[\"coordinates\"][0])\n\n\n####visualise on a map\n\n#### create a layer - this layer will visualise the rectangle\n\npolygon_layer = pdk.Layer(\n            \"PolygonLayer\",\n            envelopepd,\n            opacity=0.3,\n            get_polygon=\"coordinates\",\n            filled=True,\n            get_fill_color=[16, 14, 40],\n            auto_highlight=True,\n            pickable=False,\n        )\n\n \n#### render the map \n    \nst.pydeck_chart(pdk.Deck(\n    map_style=None,\n    initial_view_state=pdk.ViewState(\n        latitude=LAT,\n        longitude=LON,\n        zoom=8,\n        height=400\n        ),\n    \nlayers= [polygon_layer]\n\n))",
   "execution_count": null
  },
  {
   "cell_type": "markdown",
   "id": "bd49c0c5-42d3-45b1-b746-fd72ef9619cd",
   "metadata": {
    "name": "MDVisualizeAllNYCBusinessesInBoundingBox",
    "collapsed": false
   },
   "source": "### We have the Envelope created. \n### We can now visualize all the NYC small businesses inside the Envelope. \n### You can zoom in and mouse over each business to get the business name and the description. \n### You can expand on this and make it more useful for your use case by adding details of your choice to the tooltip.\n### Remember, we are using a view to look at small businesses with Latitude and Longitude in the original data published by the city. So, this is a map of the subset of the businesses in New York City.  "
  },
  {
   "cell_type": "code",
   "id": "77f69a81-05ca-4c46-9051-af013c875263",
   "metadata": {
    "language": "python",
    "name": "PyVisualizeAllBusinessesInBoundingBox",
    "collapsed": false
   },
   "outputs": [],
   "source": "placespd = NYC_Small_Business_latlon.to_pandas()\npoi_l = pdk.Layer(\n            'ScatterplotLayer',\n            data=placespd,\n            get_position='[LONGITUDE, LATITUDE]',\n            get_color='[255,255,255]',\n            get_radius=30,\n            pickable=True)\n    \nst.pydeck_chart(pdk.Deck(\n    map_style=None,\n    initial_view_state=pdk.ViewState(\n        latitude=LAT,\n        longitude=LON,\n        zoom=10,\n        height=500\n        ),\n    \nlayers= [polygon_layer, poi_l], tooltip = {'text':\"Name: {VENDOR_FORMAL_NAME},\\n Description: {BUSINESS_DESCRIPTION}, \\n City: {CITY},\\n Borough:{BOROUGH}\"}\n\n))",
   "execution_count": null
  },
  {
   "cell_type": "markdown",
   "id": "39cf36c8-0b54-491f-aebe-57b7a23da84f",
   "metadata": {
    "name": "MDRemoveData",
    "collapsed": false
   },
   "source": "## Reset your database if you choose to remove this data.  "
  },
  {
   "cell_type": "code",
   "id": "fd4926bf-375b-4f73-b3c1-640737182035",
   "metadata": {
    "language": "sql",
    "name": "SQLDropViewAGGRVW",
    "collapsed": false
   },
   "outputs": [],
   "source": "DROP VIEW BRONX_SMALL_BUSINESS_GEOMETRY_VW;",
   "execution_count": null
  },
  {
   "cell_type": "code",
   "id": "c5127f54-3fd2-411b-8ed3-d946e266bafd",
   "metadata": {
    "language": "sql",
    "name": "SQLDroViewNYC_SMALL_BUSINESS_BRONX_LAT_LON_AGGR_VW",
    "collapsed": false,
    "codeCollapsed": false
   },
   "outputs": [],
   "source": "DROP VIEW NYC_SMALL_BUSINESS_BRONX_LAT_LON_AGGR_VW;",
   "execution_count": null
  },
  {
   "cell_type": "code",
   "id": "58c46098-2d88-41a7-97dd-2070bb09b4b4",
   "metadata": {
    "language": "sql",
    "name": "SQLDropViewMakePointVW",
    "collapsed": false
   },
   "outputs": [],
   "source": "DROP VIEW NYC_SMALL_BUSINESS_LAT_LON_MAKEPOINT_VW;",
   "execution_count": null
  },
  {
   "cell_type": "code",
   "id": "c0cd4403-7ad6-42f4-904f-2d5054afdfa6",
   "metadata": {
    "language": "sql",
    "name": "SQLDropSmallBusinessVW",
    "collapsed": false
   },
   "outputs": [],
   "source": "DROP VIEW NYC_SMALL_BUSINESS_VW;",
   "execution_count": null
  },
  {
   "cell_type": "code",
   "id": "042270f6-5a43-46d8-921f-d0d8d706040f",
   "metadata": {
    "language": "sql",
    "name": "SQLDropTable",
    "collapsed": false
   },
   "outputs": [],
   "source": "DROP TABLE NYC_SMALL_BUSINESS_TBL;",
   "execution_count": null
  }
 ]
}