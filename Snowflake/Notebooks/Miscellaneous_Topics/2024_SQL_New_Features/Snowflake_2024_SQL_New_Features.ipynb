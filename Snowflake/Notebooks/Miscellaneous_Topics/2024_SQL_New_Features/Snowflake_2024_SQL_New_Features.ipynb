{
 "metadata": {
  "kernelspec": {
   "display_name": "Streamlit Notebook",
   "name": "streamlit"
  },
  "lastEditStatus": {
   "notebookId": "5bn3uzantwtkdutuvvzx",
   "authorId": "8795186554644",
   "authorName": "PRAJAGOPAL",
   "authorEmail": "prasanna.rajagopal@snowflake.com",
   "sessionId": "235d5cdc-de24-4c20-a5b1-28dc710c3f0a",
   "lastEditTime": 1741541128115
  }
 },
 "nbformat_minor": 5,
 "nbformat": 4,
 "cells": [
  {
   "cell_type": "markdown",
   "id": "3c05f30d-22f3-4e99-9ba1-a63ed5991a2f",
   "metadata": {
    "name": "MDSQLPracticeTitle",
    "collapsed": false
   },
   "source": "# Practice New SQL Features Released by Snowflake in 2024\n### Author: [Prasanna Rajagopal](https://www.linkedin.com/in/prasannarajagopal/)\n### Snowflake SQL Functions in this Notebook:\n- [GREATEST](https://docs.snowflake.com/en/sql-reference/functions/greatest)\n- [LEAST](https://docs.snowflake.com/en/sql-reference/functions/least)\n- [GREATEST_IGNORE_NULLS](https://docs.snowflake.com/en/sql-reference/functions/greatest_ignore_nulls)\n- [LEAST_IGNORE_NULLS](https://docs.snowflake.com/en/sql-reference/functions/least_ignore_nulls)\n- Higher-Order Functions\n    - [FILTER](https://docs.snowflake.com/en/sql-reference/functions/filter)\n    - [TRANSFORM](https://docs.snowflake.com/en/sql-reference/functions/transform)\n    - [REDUCE](https://docs.snowflake.com/en/sql-reference/functions/reduce)\n- [COLLATION](https://docs.snowflake.com/en/sql-reference/functions/collation)\n- [SEARCH](https://docs.snowflake.com/en/user-guide/querying-with-search-functions)\n#### Last Updated: Mar 2025. \n"
  },
  {
   "cell_type": "markdown",
   "id": "adea07b6-c7ca-41b7-8af7-53b5efb67a33",
   "metadata": {
    "name": "MDPrerequisites",
    "collapsed": false
   },
   "source": "# Pre-requisities\n# Loading Data for Executing Queries\n### We will load the share repurchase data for various companies from a CSV file into a table in Snowflake.\n#### 1. Download the CSV file from [Github here](https://github.com/rrprasan/Finance/blob/main/Snowflake/Notebooks/Miscellaneous_Topics/2024_SQL_New_Features/US_Company_Share_Repurchase.csv). \n#### 2. We will create a new table and load data into it from the CSV file. \n#### 3. Follow the [instructions in this page](https://docs.snowflake.com/en/user-guide/data-load-web-ui#create-a-new-table-using-sf-web-interface) to create and load data into a table named - US_COMPANY_SHARE_REPURCHASE_TBL\n-   We will use the [Create Table From File](https://docs.snowflake.com/en/user-guide/data-load-web-ui#create-a-new-table-using-sf-web-interface) in Snowflake Snowsight to create the table and load data from the CSV. \n#### 4. Please ensure the table is named correctly. The queries use the following name:\n- US_COMPANY_SHARE_REPURCHASE_TBL\n"
  },
  {
   "cell_type": "markdown",
   "id": "4439655f-846d-4ef9-9f1e-f18c903598ca",
   "metadata": {
    "name": "MDTestUS_COMPANY_SHARE_REPURCHASE_TBL",
    "collapsed": false
   },
   "source": "### Test the US_COMPANY_SHARE_REPURCHASE_TBL with a SELECT statement.\n#### The query should return a total of 12 rows. \n#### Each row represents the annual amount (in USD) spent on share repurchases by Microsoft, Apple, Alphabet, Meta, and Oracle. \n#### The data is from fiscal years 2013 to 2024. The data contains some NULL and 0 values.\n#### This data set will be good to illustrate the difference between the GREATEST and the GREATEST_IGNORE_NULLS functions."
  },
  {
   "cell_type": "code",
   "id": "b870bd61-ccd7-45c8-b599-1d77da4a3b42",
   "metadata": {
    "language": "sql",
    "name": "SQLTestTblUS_COMPANY_SHARE_REPURCHASE_TBL",
    "collapsed": false
   },
   "outputs": [],
   "source": "SELECT * FROM US_COMPANY_SHARE_REPURCHASE_TBL;",
   "execution_count": null
  },
  {
   "cell_type": "markdown",
   "id": "399bbfe0-6767-4cf5-851c-cde73dcc51e1",
   "metadata": {
    "name": "MDGreatestIgnoreNullsLeastIgnoreNulls",
    "collapsed": false
   },
   "source": "## New [GREATEST_IGNORE_NULLS](https://docs.snowflake.com/en/sql-reference/functions/greatest_ignore_nulls) and [LEAST_IGNORE_NULLS](https://docs.snowflake.com/en/sql-reference/functions/least_ignore_nulls) functions.\n### Release Date: [March 2024](https://docs.snowflake.com/en/release-notes/sql-improvements#sql-improvements-in-2024)"
  },
  {
   "cell_type": "markdown",
   "id": "f8f6a0e7-4ff9-44b3-9096-7613679864d2",
   "metadata": {
    "name": "MDLearningGreatestLeastSQL",
    "collapsed": false
   },
   "source": "### Before we try the GREATEST_IGNORE_NULLS and LEAST_IGNORE_NULLS SQL functions, let's understand how the GREATEST and LEAST functions work.  "
  },
  {
   "cell_type": "markdown",
   "id": "83778356-3c50-4f69-a6fb-26909ea0b651",
   "metadata": {
    "name": "MDCompanyShareRepurchaseQuestions",
    "collapsed": false
   },
   "source": "## We wish to compare the share repurchases of Microsoft, Apple, Alphabet, Meta, and Oracle. \n### We want to answer the following questions:\n- #### Which company had the \"greatest\" (highest) annual spend on buy backs?\n- #### Which company has the \"least\" (lowest) annual spend on share buy backs?\n- #### This query example also features the support for trailing comma (after ORACLE column name in the SQL) in Snowflake SQL. \n    - Trailing comma support in Snowflake was introduced in [March 2024](https://docs.snowflake.com/en/release-notes/sql-improvements#sql-improvements-in-2024) \n- #### You will see that if a particular year has NULL for a company's share buy back, the GREATEST or LEAST both would return NULL (None).\n    - The reasons behind this behavior is explained here in a markdown below using Snowflake Cortex AI.   "
  },
  {
   "cell_type": "code",
   "id": "b54c3765-7bdf-4313-bb43-8be8b5bf3f7d",
   "metadata": {
    "language": "sql",
    "name": "SQLGreatestLeastFn",
    "collapsed": false,
    "codeCollapsed": false
   },
   "outputs": [],
   "source": "SELECT\n    FISCAL_YEAR, \n    GREATEST(MICROSOFT, APPLE, ALPHABET, META, ORACLE) GREATEST_ANNUAL_SHARE_BUY_BACK,\n    LEAST(MICROSOFT, APPLE, ALPHABET, META, ORACLE) LEAST_ANNUAL_SHARE_BUY_BACK,\n    MICROSOFT,\n    APPLE,\n    ALPHABET,\n    META, \n    ORACLE,\nFROM\n    US_COMPANY_SHARE_REPURCHASE_TBL;",
   "execution_count": null
  },
  {
   "cell_type": "markdown",
   "id": "bf2f4f82-7170-44ef-8a69-97bd73a1cead",
   "metadata": {
    "name": "MDAskCortexWhyNull",
    "collapsed": false
   },
   "source": "### Let's ask Snowflake Cortex AI why the GREATEST SQL function returns NULL when any one value is NULL.\n#### We use the [COMPLETE](https://docs.snowflake.com/en/sql-reference/functions/complete-snowflake-cortex) function, part of the Cortex AI LLM product suite, to answer this question.  \n```\nSELECT SNOWFLAKE.CORTEX.COMPLETE(\n            'claude-3-5-sonnet', \n            'Why does the GREATEST SQL function return NULL, when any of its input values are NULL? \n             Why can\\'t it ignore NULL values?');\n```"
  },
  {
   "cell_type": "code",
   "id": "39927f6f-9393-49e3-a007-cdfe92691fca",
   "metadata": {
    "language": "sql",
    "name": "SQLAskCortexAIWhyGreatestReturnsNULL",
    "collapsed": false
   },
   "outputs": [],
   "source": "SELECT SNOWFLAKE.CORTEX.COMPLETE('claude-3-5-sonnet', 'Why does the GREATEST SQL function return NULL, when any of its input values are NULL? Why can\\'t it ignore NULL values?');",
   "execution_count": null
  },
  {
   "cell_type": "markdown",
   "id": "d123e701-014d-4192-abf9-8b294f01aff6",
   "metadata": {
    "name": "MDAnswerFrmCOMPLETEWhyGREATESTReturnsNULL",
    "collapsed": false
   },
   "source": "### Answer Provide by Snowflake Cortex AI [COMPLETE](https://docs.snowflake.com/en/sql-reference/functions/complete-snowflake-cortex) function using Anthropic's Claude Sonnet Model.  \nThe GREATEST function returns NULL when any input is NULL because of SQL's _**three-valued logic (TRUE, FALSE, NULL) and how NULL represents unknown values.**_ \n\nHere's the reasoning:\n\n1. When comparing values where one is NULL, the result is UNKNOWN (NULL) because you can't determine if an unknown value is greater than or less than a known value.\n\nExample:\n```sql\n-- We can't know if NULL is greater than 10 or not\nSELECT GREATEST(10, 5, NULL, 8); -- Returns NULL\n```\n\n2. If the function ignored NULL values, it could lead to incorrect results in cases where the NULL might actually represent a value larger than all other inputs.\n\nConsider this scenario:\n```sql\n-- If NULL represents 100, ignoring it would give wrong result\nSELECT GREATEST(10, 5, NULL, 8); -- Currently returns NULL\n-- If it ignored NULLs, it would return 10, which could be wrong if NULL was actually 100\n```\n\nIf you want to ignore NULL values, you can use GREATEST_IGNORE_NULLS.\n\nThis behavior is consistent with SQL's NULL handling principles and helps prevent incorrect assumptions about unknown values.\n"
  },
  {
   "cell_type": "markdown",
   "id": "f295401f-1d2d-4ea1-8bdf-849b7f58d8a7",
   "metadata": {
    "name": "MDGreatestIgnoreNulls",
    "collapsed": false
   },
   "source": "## GREATEST_IGNORE_NULLS and LEAST_IGNORE_NULLS\n### Now let's apply GREATEST_IGNORE_NULLS and LEAST_IGNORE_NULLS on the share repurchase Data to ignore the NULL values and return results.  \n#### Release Date: March 2024."
  },
  {
   "cell_type": "code",
   "id": "ad1838bb-7e3b-48df-83bf-8ece7cd82af7",
   "metadata": {
    "language": "sql",
    "name": "SQLGREATEST_LEAST_IGNORE_NULLS",
    "collapsed": false,
    "codeCollapsed": false
   },
   "outputs": [],
   "source": "SELECT\n    FISCAL_YEAR,\n    GREATEST_IGNORE_NULLS(APPLE, META, ALPHABET, MICROSOFT, ORACLE) GREATEST_SHARE_REPURCHASE,\n    LEAST_IGNORE_NULLS(APPLE, META, ALPHABET, MICROSOFT, ORACLE) LEAST_SHARE_REPURCHASE,\n    APPLE,\n    META,\n    ALPHABET,\n    MICROSOFT,\n    ORACLE,\nFROM\n    US_COMPANY_SHARE_REPURCHASE_TBL;",
   "execution_count": null
  },
  {
   "cell_type": "markdown",
   "id": "144f25f8-be5a-474f-bf68-d59c966c3e4a",
   "metadata": {
    "name": "MDKeyDifferenceMaxGreatest",
    "collapsed": false
   },
   "source": "## Key differences between MAX and GREATEST SQL functions:\n\n**MAX Function:**\n1. **Aggregate function** that operates on a column across multiple rows\n2. Returns the highest value in a column\n3. Can only work with one column at a time\n4. Used in GROUP BY operations\n5. Ignores NULL values\n\nExample:\n```sql\nSELECT MAX(salary) FROM employees;\nSELECT department, MAX(salary) \nFROM employees \nGROUP BY department;\n```\n\n**GREATEST Function:**\n1. **Scalar function** that compares multiple values/expressions in a single row\n2. Returns the highest value among the provided arguments\n3. Can compare multiple values/columns **within the same row**\n4. Returns NULL if any argument is NULL\n5. Not all databases support GREATEST (e.g., older versions of SQL Server)\n\nExample:\n```sql\nSELECT employee_id, \n       GREATEST(salary, bonus, commission) as highest_payment \nFROM employees;"
  },
  {
   "cell_type": "markdown",
   "id": "13148ed8-5d2d-4481-931a-6d579adc2466",
   "metadata": {
    "name": "MDGreatestSupportsAllDataTypes",
    "collapsed": false
   },
   "source": "## GREATEST and LEAST SQL functions supports all data types, including VARIANT.\n### Here we are doing a [lexicographical comparison](https://en.wikipedia.org/wiki/Lexicographic_order) to the find the \"greatest\" word.\n\n1. Lexicographical Comparison: SQL compares strings character by character from left to right.  It uses the alphabetical order to determine which character is \"greater\".\n\n2. Comparing the First Characters:\n\n    'CAT' starts with 'C'\\\n    'BAT' starts with 'B'\\\n    'DOG' starts with 'D'\n\n3. Determining the Greatest Based on the First Character:\n\n    In the alphabet, 'B' comes before 'C', and 'C' comes before 'D'.\n    Therefore, 'D' is the \"greatest\" first character among 'B', 'C', and 'D'."
  },
  {
   "cell_type": "code",
   "id": "781b8d53-4ecb-45f8-8a91-59672e4d58f6",
   "metadata": {
    "language": "sql",
    "name": "SeGreatestWord",
    "collapsed": false,
    "codeCollapsed": false
   },
   "outputs": [],
   "source": "SELECT GREATEST('CAT', 'BAT', 'DOG');",
   "execution_count": null
  },
  {
   "cell_type": "markdown",
   "id": "e16930cd-cb72-4d82-9af9-097656c55054",
   "metadata": {
    "name": "MD_LEAST_With_Words",
    "collapsed": false
   },
   "source": "LEAST Returns 'BAT' from LEAST('CAT', 'BAT', 'DOG')"
  },
  {
   "cell_type": "code",
   "id": "3ed20120-c90c-4a19-a66f-4eee4f19d7ac",
   "metadata": {
    "language": "sql",
    "name": "SeLeastWord",
    "collapsed": false,
    "codeCollapsed": false
   },
   "outputs": [],
   "source": "SELECT LEAST('CAT','BAT', 'DOG');",
   "execution_count": null
  },
  {
   "cell_type": "markdown",
   "id": "81c4f001-c4ae-4ce8-b0c7-7e91b5216045",
   "metadata": {
    "name": "MD_GREATEST_Array",
    "collapsed": false
   },
   "source": "## Finding the GREATEST Array"
  },
  {
   "cell_type": "code",
   "id": "150c37ca-293a-480d-9da6-79494112a067",
   "metadata": {
    "language": "sql",
    "name": "SeGreatestQuery",
    "collapsed": false,
    "codeCollapsed": false
   },
   "outputs": [],
   "source": "SELECT GREATEST(\n                [23, 10, 15],\n                [20, 11, 16],\n                [25,  1,  2]\n               );",
   "execution_count": null
  },
  {
   "cell_type": "markdown",
   "id": "ef0dfaa4-e53b-49cd-9c3c-36c37e6384f3",
   "metadata": {
    "name": "MD_GREATEST_Function_On_Array",
    "collapsed": false
   },
   "source": "### If the first value in the array is the same, the GREATEST function compares the second value in the query.  "
  },
  {
   "cell_type": "code",
   "id": "5a6b2a7b-f91b-4c44-a660-1e1eb5c5a625",
   "metadata": {
    "language": "sql",
    "name": "SeGreatestQuerySameFirstValue",
    "collapsed": false,
    "codeCollapsed": false
   },
   "outputs": [],
   "source": "SELECT GREATEST(\n                [23, 10, 15],\n                [23, 11, 16],\n                [23,  1,  2]\n               );",
   "execution_count": null
  },
  {
   "cell_type": "markdown",
   "id": "4b2954e5-85b2-439b-b912-9861b10e698f",
   "metadata": {
    "name": "MDAnthropicClaudeAsQueryExplainer",
    "collapsed": false
   },
   "source": "#### Using Anthropic's Claude Model with Snowflake's COMPLETE LLM SQL function to explain the query's result. \n```\nSELECT SNOWFLAKE.CORTEX.COMPLETE(\n                                    'claude-3-5-sonnet', \n                                    'You are a helpful tool who explains SQL queries and why the query \n                                     returns a certain answer. \n                                     Look at the <query> and the <result> and provide an explanation. \n                                     <query>SELECT GREATEST( [23, 10, 15], [20, 11, 16], [25, 1, 2] );</query> \n                                     <result>[25, 1, 2]</result>');\n```"
  },
  {
   "cell_type": "code",
   "id": "b2d0cdeb-e301-4087-b11d-b7f52b797010",
   "metadata": {
    "language": "sql",
    "name": "SeClaudeExplainQueryResult",
    "collapsed": false,
    "codeCollapsed": false
   },
   "outputs": [],
   "source": "SELECT SNOWFLAKE.CORTEX.COMPLETE('claude-3-5-sonnet', 'You are a helpful tool who explains SQL queries and why the query returns a certain answer. Look at the <query> and the <result> and provide an explanation. <query>SELECT GREATEST( [23, 10, 15], [20, 11, 16], [25, 1, 2] );</query> <result>[25, 1, 2]</result>');",
   "execution_count": null
  },
  {
   "cell_type": "markdown",
   "id": "560dfd7f-46dd-4bd9-bbf0-b66a0a00a37e",
   "metadata": {
    "name": "MDExplainWhyGreatestArray",
    "collapsed": false
   },
   "source": "## Answer provided by Snowflake Cortex AI using the COMPLETE function and Anthropic's Claude Sonnet model:\n\nLet me explain this SQL query and its result:\n\nThe query uses the GREATEST() function, which compares multiple values or arrays and returns the greatest value among them. In this case, it's comparing three arrays:\n1. [23, 10, 15]\n2. [20, 11, 16]\n3. [25, 1, 2]\n\nWhen GREATEST() compares arrays, it uses lexicographical ordering, which means:\n1. It first compares the first elements of each array (23 vs 20 vs 25)\n2. If the first elements are equal, it moves to the second elements, and so on\n\nIn this case:\n- First array starts with 23\n- Second array starts with 20\n- Third array starts with 25\n\nSince 25 is the greatest first element, the entire array [25, 1, 2] is returned as the result, regardless of the other numbers in the array. The comparison stops at the first element because it found a clear \"winner.\"\n\nThat's why the result is [25, 1, 2], even though this array contains smaller numbers (1 and 2) in the second and third positions."
  },
  {
   "cell_type": "markdown",
   "id": "c0c081f9-347b-4787-bf5c-5f9f340580cd",
   "metadata": {
    "name": "MDGREATESTon3DArray",
    "collapsed": false
   },
   "source": "## Applying the GREATEST function on a 3-Dimensional Array."
  },
  {
   "cell_type": "code",
   "id": "80fe8715-6e70-44c3-834d-424e37e4b505",
   "metadata": {
    "language": "sql",
    "name": "SQLGREATEST3DArray",
    "collapsed": false,
    "codeCollapsed": false
   },
   "outputs": [],
   "source": "SELECT GREATEST(\n            [\n             [23, 10, 15],\n             [41, 198, 20],\n             [8, 1005, 10908]\n            ], \n            [[20, 11, 16],\n             [678, 267, 2000],\n             [345, 2, 678]\n            ], \n            [\n            [25,1, 2],\n            [8, 5, 3],\n            [1, 22, 5]\n            ])",
   "execution_count": null
  },
  {
   "cell_type": "markdown",
   "id": "7ada5762-56e5-4b51-9693-860e55971cc9",
   "metadata": {
    "name": "cell34",
    "collapsed": false
   },
   "source": "## [FILTER](https://docs.snowflake.com/en/sql-reference/functions/filter) Higher-Order Function\n#### Release Date: May 2024"
  },
  {
   "cell_type": "markdown",
   "id": "9cdbd74b-9474-4610-9594-311ea94443ee",
   "metadata": {
    "name": "MDExplainFILTERUsingCOMPLETEWithAnthropic",
    "collapsed": false
   },
   "source": "### Let's use Snowflake Cortex AI and the Anthropic's Claude Sonnet model to help us better understand the FILTER SQL function. \n```\nSELECT SNOWFLAKE.CORTEX.COMPLETE(\n                                    'claude-3-5-sonnet', \n                                    'Explain the FILTER Snowflake SQL function in detail. \n                                     Filters an array based on the logic in a lambda expression. \n                                     It falls under the category of working with Semi-structured and \n                                     structured data functions');\n```"
  },
  {
   "cell_type": "code",
   "id": "c525b066-445f-4bba-a6c4-5966f4681c20",
   "metadata": {
    "language": "sql",
    "name": "SQLExplainFILTERSQLFunction",
    "collapsed": false
   },
   "outputs": [],
   "source": "SELECT SNOWFLAKE.CORTEX.COMPLETE('claude-3-5-sonnet', 'Explain the FILTER Snowflake SQL function in detail. Filters an array based on the logic in a lambda expression. It falls under the category of working with Semi-structured and structured data functions');",
   "execution_count": null
  },
  {
   "cell_type": "markdown",
   "id": "08a341d8-61e5-415c-a11b-a3c38507b5e3",
   "metadata": {
    "name": "MDExpandMarkdownComment",
    "collapsed": false
   },
   "source": "### Execute the SQL statement above to get an answer to the question about FILTER SQL function. You can also expand the next markdown cell to see the complete answer.  "
  },
  {
   "cell_type": "markdown",
   "id": "65278250-3387-4804-849c-ac493ac4b4f8",
   "metadata": {
    "name": "MDFILTERSQLExplanationProvidedByAnthropic",
    "collapsed": true
   },
   "source": "## Answer Provided by Snowflake Cortex AI and Anthropic's Claude Sonnet Model. \nThe FILTER function in Snowflake SQL is a powerful array function that allows you to filter elements from an array based on a specified condition using a lambda expression. **It's particularly useful when working with semi-structured data (arrays) and you need to selectively extract elements that meet certain criteria.**\\\nHere's a detailed explanation with examples:\n\nSyntax:\n```sql\nFILTER(array, lambda_expression)\n```\n\nKey Points:\n1. The function takes two parameters:\n   - array: The input array to be filtered\n   - lambda_expression: A condition that determines which elements to keep\n\n2. Returns a new array containing only the elements that satisfy the condition\n\nExamples:\n\n1. Basic Filtering:\n```sql\n-- Filter numbers greater than 3\nSELECT FILTER(ARRAY_CONSTRUCT(1, 2, 3, 4, 5), x -> x > 3);\n-- Result: [4, 5]\n\n-- Filter strings containing 'a'\nSELECT FILTER(ARRAY_CONSTRUCT('apple', 'banana', 'orange'), x -> CONTAINS(x, 'a'));\n-- Result: ['apple', 'banana', 'orange']\n```\n\n2. Working with JSON Data:\n```sql\nWITH sample_data AS (\n  SELECT PARSE_JSON('\n    {\n      \"items\": [\n        {\"id\": 1, \"price\": 10},\n        {\"id\": 2, \"price\": 20},\n        {\"id\": 3, \"price\": 30}\n      ]\n    }\n  ') as json_data\n)\n\nSELECT FILTER(json_data:items, x -> x:price::number > 15)\nFROM sample_data;\n-- Result: [{\"id\": 2, \"price\": 20}, {\"id\": 3, \"price\": 30}]\n```\n\n3. Multiple Conditions:\n```sql\n-- Filter with multiple conditions\nSELECT FILTER(\n  ARRAY_CONSTRUCT(1, 2, 3, 4, 5, 6),\n  x -> x > 2 AND x < 6\n);\n-- Result: [3, 4, 5]\n```\n\n4. Filtering Objects:\n```sql\nWITH products AS (\n  SELECT ARRAY_CONSTRUCT(\n    OBJECT_CONSTRUCT('name', 'Apple', 'price', 1.99, 'inStock', true),\n    OBJECT_CONSTRUCT('name', 'Banana', 'price', 0.99, 'inStock', false),\n    OBJECT_CONSTRUCT('name', 'Orange', 'price', 2.99, 'inStock', true)\n  ) as items\n)\n\nSELECT FILTER(items, x -> x:price::float < 2.00 AND x:inStock::boolean = true)\nFROM products;\n-- Result: [{\"name\":\"Apple\",\"price\":1.99,\"inStock\":true}]\n```\n\n5. Combining with Other Array Functions:\n```sql\n-- Filter and transform array elements\nSELECT \n  ARRAY_AGG(x:name::string) \nFROM TABLE(FLATTEN(INPUT => \n  FILTER(\n    ARRAY_CONSTRUCT(\n      OBJECT_CONSTRUCT('name', 'Apple', 'price', 1.99),\n      OBJECT_CONSTRUCT('name', 'Banana', 'price', 0.99),\n      OBJECT_CONSTRUCT('name', 'Orange', 'price', 2.99)\n    ),\n    x -> x:price::float < 2.00\n  )\n));\n-- Result: ['Banana']\n```\n\nCommon Use Cases:\n\n1. Filtering JSON Arrays:\n```sql\n-- Filter JSON array based on specific conditions\nSELECT FILTER(\n  PARSE_JSON('[\n    {\"id\": 1, \"status\": \"active\"},\n    {\"id\": 2, \"status\": \"inactive\"},\n    {\"id\": 3, \"status\": \"active\"}\n  ]'),\n  x -> x:status::string = 'active'\n);\n```\n\n2. Data Cleaning:\n```sql\n-- Remove null or empty values from array\nSELECT FILTER(\n  ARRAY_CONSTRUCT('a', null, 'b', '', 'c'),\n  x -> x IS NOT NULL AND x != ''\n);\n```\n\n3. Complex Filtering:\n```sql\n-- Filter based on multiple conditions and transformations\nSELECT FILTER(\n  ARRAY_CONSTRUCT(1, 2, 3, 4, 5, 6),\n  x -> MOD(x, 2) = 0 AND POWER(x, 2) < 25\n);\n```\n\nBest Practices:\n\n1. Always handle NULL values appropriately:\n```sql\n-- Safe handling of NULL values\nSELECT FILTER(\n  array_col,\n  x -> COALESCE(x:value::number, 0) > 0\n)\nFROM your_table;\n```\n\n2. Use type casting when working with JSON:\n```sql\n-- Explicit type casting\nSELECT FILTER(\n  json_array,\n  x -> TRY_CAST(x:amount::string AS NUMBER) > 100\n);\n```\n\n3. Combine with other functions for complex operations:\n```sql\n-- Combining FILTER with TRANSFORM\nSELECT \n  TRANSFORM(\n    FILTER(array_col, x -> x > 0),\n    x -> POWER(x, 2)\n  )\nFROM your_table;\n```\n\nThe FILTER function is particularly useful when:\n- Working with JSON data\n- Processing arrays of values\n- Cleaning data\n- Implementing complex business logic on array elements\n- Handling semi-structured data"
  },
  {
   "cell_type": "markdown",
   "id": "43d133a1-6b12-4ca5-b11c-9208bb8d42cd",
   "metadata": {
    "name": "MDApplyFILTERExample",
    "collapsed": false
   },
   "source": "# Pre-requisites for Testing FILTER SQL Function\n## We will apply the FILTER SQL function on the revenue data of various U.S. Companies. \n### This data is downloaded from the U.S. SEC.  \n#### 1. Please download the file - [Company_Revenue_JSON.zip](https://github.com/rrprasan/Finance/blob/main/Snowflake/Notebooks/Miscellaneous_Topics/2024_SQL_New_Features/Company_Revenue_JSON.zip) - from Github.\n#### 2. This zip file contains the revenue JSON files for the following companies:\n    - Colgate-Palmolive Company - CL_revenues.json\n    - Costco Wholsale - COST_revenues.json\n    - Coca-Cola Co - KO_revenues.json\n    - PepsiCo Inc., - PEP_revenues.json\n    - Target Corporation - TGT_revenues.json\n    - Walmart Inc. - WMT_revenues.json\n#### 3. Unzip the files into your local drive.  \n#### 4. Follow the [instructions in this page](https://docs.snowflake.com/en/user-guide/data-load-web-ui#create-a-new-table-using-sf-web-interface) to create and load data into a table named - US_COMPANY_REVENUE_TBL\n- Please ensure the VARIANT column is named REVENUE_JSON\n- The [instructions](https://docs.snowflake.com/en/user-guide/data-load-web-ui#create-a-new-table-using-sf-web-interface) point to creating and loading data into a table. \n- You can load six files into the \"Drag and drop to Upload Files\" box.\n#### 5. Here's a sample of the revenue data as submitted to the SEC by Colgate-Palmolive Company (NYSE:[CL](https://www.cnbc.com/quotes/CL?qsearchterm=CL)): \n```json\n{\n \"cik\":21665,\n \"taxonomy\":\"us-gaap\",\"tag\":\"Revenues\",\n \"label\":\"Revenues\",\n \"description\":\"Amount of revenue recognized from goods sold, services rendered, insurance premiums, or other \n  activities that constitute an earning process. Includes, but is not limited to, investment and interest income \n  before deduction of interest expense when recognized as a component of revenue, and sales and trading gain (loss).\",\n \"entityName\":\"COLGATE-PALMOLIVE COMPANY\",\n \"units\":\n    {\n      \"USD\":\n        [\n            {\n             \"start\":\"2011-01-01\",\n             \"end\":\"2011-12-31\",\n             \"val\":16734000000,\n             \"accn\":\"0001545547-14-000003\",\n             \"fy\":2013,\n             \"fp\":\"FY\",\n             \"form\":\"10-K\",\n             \"filed\":\"2014-02-20\",\n             \"frame\":\"CY2011\"\n             },\n            {\n             \"start\":\"2012-01-01\",\n             \"end\":\"2012-06-30\",\n             \"val\":8467000000,\n             \"accn\":\"0001445305-13-001692\",\n             \"fy\":2013,\n             \"fp\":\"Q2\",\n             \"form\":\"10-Q\",\n             \"filed\":\"2013-07-25\"\n             }\n        ]\n    }\n}\n```\n#### 6. We seek to answer this question: What are the annual revenues for each company? \n#### 7. The JSON file for each company contains both the annual and quarterly revenues. \n#### 8. We will use the FILTER function to return only the JSON dictionaries for each company's annual revenues.\n#### 9. Annual revenues can be identified by the key \"fp\" and value \"FY\", for fiscal year.  "
  },
  {
   "cell_type": "markdown",
   "id": "48d26cd8-a3a5-4652-b0f4-a942b00592e4",
   "metadata": {
    "name": "MD_Ready_To_Filter",
    "collapsed": false
   },
   "source": "### Once the data is loaded into the table, we are ready to query the table.  \n### We will apply the FILTER SQL function to only look at annual revenue data for each company. \n#### Please note, the SEC data may contain duplicate data for annual and quarterly revenues. This is due to the fact that revenue may be restated by the company or the data is repeated to allow for comparison between quarters or years.  "
  },
  {
   "cell_type": "code",
   "id": "6d7f35c0-4a2f-4f9c-a400-885efd06aef3",
   "metadata": {
    "language": "sql",
    "name": "SQL_FILTER_Company_Annual_Revenue",
    "collapsed": false
   },
   "outputs": [],
   "source": "SELECT\n    CS.REVENUE_JSON:\"entityName\"::String COMPANY_NAME,\n    OI.value:\"start\"::DATE FY_START_DATE,\n    OI.value:\"end\"::DATE FY_END_DATE,\n    OI.value:\"val\"::NUMBER FY_REVENUE,\nFROM\n    US_COMPANY_REVENUE_TBL CS,\n    LATERAL FLATTEN(input => FILTER(REVENUE_JSON:\"units\":\"USD\",a -> a:fp = 'FY')) oi\nORDER BY \n    COMPANY_NAME, FY_END_DATE DESC;",
   "execution_count": null
  },
  {
   "cell_type": "markdown",
   "id": "89e0183a-a517-42e3-b941-a571f479628b",
   "metadata": {
    "name": "MD_Explain_Filter_Query",
    "collapsed": false
   },
   "source": "### Let's explain this query that uses the FILTER SQL function.\n#### We use the Snowflake Cortex [COMPLETE](https://docs.snowflake.com/en/sql-reference/functions/complete-snowflake-cortex) function with the Anthropic Claude model to explain the use of the FILTER sql function in a query.\n* You can execute the COMPLETE function below to get a detailed explanation about the query. "
  },
  {
   "cell_type": "code",
   "id": "b7923758-76d2-46c5-be11-eea243751546",
   "metadata": {
    "language": "sql",
    "name": "SQL_Explain_FILTER_Query_COMPLETE_Fn",
    "collapsed": false
   },
   "outputs": [],
   "source": "SELECT SNOWFLAKE.CORTEX.COMPLETE('claude-3-5-sonnet', 'Explain this query is detail: <query>SELECT\n    CS.REVENUE_JSON:\"entityName\"::String COMPANY_NAME,\n    OI.value:\"start\"::DATE FY_START_DATE,\n    OI.value:\"end\"::DATE FY_END_DATE,\n    OI.value:\"val\"::NUMBER FY_REVENUE,\nFROM\n    US_COMPANY_REVENUE_TBL CS,\n    LATERAL FLATTEN(input => FILTER(REVENUE_JSON:\\\"units\\\":\\\"USD\\\",a -> a:fp = \\'FY\\')) oi\nORDER BY \n    COMPANY_NAME, FY_END_DATE DESC</query>');",
   "execution_count": null
  },
  {
   "cell_type": "markdown",
   "id": "d800e6d7-c46b-4b2c-ac79-c4631c23e7c6",
   "metadata": {
    "name": "MD_Explain_FILTER_Query_In_Detail",
    "collapsed": false
   },
   "source": "### The FILTER query explained by Snowflake Cortex COMPLETE function using Anthropic's Claude Sonnet LLM.\nLet's break down this SQL query step by step:\n\n1. FROM Clause:\n```sql\nFROM US_COMPANY_REVENUE_TBL CS,\nLATERAL FLATTEN(input => FILTER(REVENUE_JSON:\"units\":\"USD\",a -> a:fp = 'FY')) oi\n```\n- Starts with base table `US_COMPANY_REVENUE_TBL` aliased as `CS`\n- Uses LATERAL FLATTEN to **unnest JSON data**\n- FILTER function is used to filter JSON elements where `fp = 'FY'`\n- The filtered results are flattened (unnested) and aliased as `oi`\n\n2. SELECT Clause:\n```sql\nSELECT\n    CS.REVENUE_JSON:\"entityName\"::String COMPANY_NAME,\n    OI.value:\"start\"::DATE FY_START_DATE,\n    OI.value:\"end\"::DATE FY_END_DATE,\n    OI.value:\"val\"::NUMBER FY_REVENUE,\n```\n- Extracts `entityName` from REVENUE_JSON and casts it to String\n- Gets `start` date from the flattened data and casts to DATE\n- Gets `end` date from the flattened data and casts to DATE\n- Gets `val` (revenue value) from the flattened data and casts to NUMBER\n\n3. ORDER BY Clause:\n```sql\nORDER BY \n    COMPANY_NAME, FY_END_DATE DESC\n```\n- Sorts results first by COMPANY_NAME (ascending)\n- Then by FY_END_DATE in descending order (most recent dates first)\n\nThe query appears to be working with JSON data containing company revenue information:\n- It specifically looks at USD currency units\n- Filters for fiscal year ('FY') records\n- Extracts company names and their fiscal year revenue details\n- Returns the data in a structured format, sorted by company and date\n\nExpected output would include:\n- Company names\n- Fiscal year start dates\n- Fiscal year end dates\n- Revenue values\nOrdered by company name and most recent fiscal years first."
  },
  {
   "cell_type": "markdown",
   "id": "1e2708ac-9ece-499e-ab94-29353de3cb67",
   "metadata": {
    "name": "MDTransformSQLFn",
    "collapsed": false
   },
   "source": "## [TRANSFORM](https://docs.snowflake.com/en/sql-reference/functions/transform) Higher-order Function\nRelease Date: [May 2024](https://docs.snowflake.com/en/release-notes/sql-improvements#sql-improvements-in-2024)\n\n### Transforms an array based on the logic in a lambda expression.\n\n#### We will transfrom the revenue data as submitted to the SEC by Colgate-Palmolive Company (NYSE:[CL](https://www.cnbc.com/quotes/CL?qsearchterm=CL)) for this example: \n```json\n{\n \"cik\":21665,\n \"taxonomy\":\"us-gaap\",\n \"tag\":\"Revenues\",\n \"label\":\"Revenues\",\n \"description\":\"Amount of revenue recognized from goods sold, services rendered, insurance premiums, or other \n  activities that constitute an earning process. Includes, but is not limited to, investment and interest income \n  before deduction of interest expense when recognized as a component of revenue, and sales and trading gain (loss).\",\n \"entityName\":\"COLGATE-PALMOLIVE COMPANY\",\n \"units\":\n    {\n      \"USD\":\n        [\n            {\n             \"start\":\"2011-01-01\",\n             \"end\":\"2011-12-31\",\n             \"val\":16734000000,\n             \"accn\":\"0001545547-14-000003\",\n             \"fy\":2013,\n             \"fp\":\"FY\",\n             \"form\":\"10-K\",\n             \"filed\":\"2014-02-20\",\n             \"frame\":\"CY2011\"\n             },\n            {\n             \"start\":\"2012-01-01\",\n             \"end\":\"2012-06-30\",\n             \"val\":8467000000,\n             \"accn\":\"0001445305-13-001692\",\n             \"fy\":2013,\n             \"fp\":\"Q2\",\n             \"form\":\"10-Q\",\n             \"filed\":\"2013-07-25\"\n             }\n        ]\n    }\n}\n```\n#### We aim to use the \"TRANSFORM\" SQL function to calculate the number of days in the fiscal period by calculating the difference between the \"end\" and \"start\" date elements in the JSON. If the days are approximately 90, the revenue is for the quarter; if they are approximately 180 days, the revenue is for six months, and so on. \n#### There are other ways in SQL to accomplish this goal, but, for this example, we will use the TRANSFORM function.  \n#### You can do much more to manipulate data in arrays using the TRANFORM function.  "
  },
  {
   "cell_type": "code",
   "id": "1b04a24e-27df-4b3c-a515-b913f877222e",
   "metadata": {
    "language": "sql",
    "name": "SeFromUS_COMPANY_REVENUE_TBLSQL",
    "collapsed": false
   },
   "outputs": [],
   "source": "SELECT * FROM US_COMPANY_REVENUE_TBL CS;",
   "execution_count": null
  },
  {
   "cell_type": "markdown",
   "id": "304abad1-4c90-4f0a-891c-d0ff4ffb976b",
   "metadata": {
    "name": "MDTRANSFORMSQLUnnested",
    "collapsed": false
   },
   "source": "### Use the TRANSFORM SQL function to retrieve an array of CONCATENATED \"start\" and \"end\" date.\n### Use the TRANSFORM SQL function to calculate the difference in days between the \"end\" and the \"start\" dates to view the number of days in the fiscal period.  \n### We are **not un-nesting the JSON** using LATERAL FLATTEN. "
  },
  {
   "cell_type": "code",
   "id": "7201c540-0d4a-4483-826c-d16d724eb72e",
   "metadata": {
    "language": "sql",
    "name": "SeTRANSFORMArrayDaysInFiscalPeriod"
   },
   "outputs": [],
   "source": "SELECT\n    TRANSFORM(REVENUE_JSON:\"units\":\"USD\", a -> a:\"start\" || ' ' || a:\"end\") FP_DATE,\n    TRANSFORM(REVENUE_JSON:\"units\":\"USD\", a -> a:\"end\"::DATE - a:\"start\"::DATE) DAYS_IN_FISCAL_PERIOD,\n    CS.REVENUE_JSON:\"entityName\"::VARCHAR COMPANY_NAME,\nFROM\n    US_COMPANY_REVENUE_TBL CS\nORDER BY COMPANY_NAME;",
   "execution_count": null
  },
  {
   "cell_type": "markdown",
   "id": "7923be0e-e68d-456e-9974-ac6a1b92e6fb",
   "metadata": {
    "name": "MDCortexAICOMPLETEUnnestedJSON",
    "collapsed": false
   },
   "source": "### The Snowflake Cortex AI COMPLETE function to explain the query.  "
  },
  {
   "cell_type": "code",
   "id": "438a0b40-5eaf-4f69-8527-e8004e58017d",
   "metadata": {
    "language": "sql",
    "name": "SQLTRANSFORMUnnestedJSON"
   },
   "outputs": [],
   "source": "SELECT SNOWFLAKE.CORTEX.COMPLETE('claude-3-5-sonnet', 'Explain this query is detail: <query>SELECT\n    TRANSFORM(REVENUE_JSON:\"units\":\"USD\", a -> a:\"start\" || \\' \\' || a:\"end\") FP_DATE,\n    TRANSFORM(REVENUE_JSON:\"units\":\"USD\", a -> a:\"end\"::DATE - a:\"start\"::DATE) DAYS_IN_FISCAL_PERIOD,\n    CS.REVENUE_JSON:\"entityName\"::VARCHAR COMPANY_NAME,\nFROM\n    US_COMPANY_REVENUE_TBL CS\nORDER BY COMPANY_NAME</query>');",
   "execution_count": null
  },
  {
   "cell_type": "markdown",
   "id": "0358c3bc-f35b-4a1b-a717-a26250f7d259",
   "metadata": {
    "name": "MDExplainTRANSFORMQueryUnnested",
    "collapsed": false
   },
   "source": "### Query Explained by Snowflake Cortex COMPLETE SQL LLM function using Anthropic Claude LLM model. \n\nLet's break down this SQL query and explain each part in detail:\n\n1. The FROM Clause:\n```sql\nFROM US_COMPANY_REVENUE_TBL CS\n```\n- This query is selecting from a table named `US_COMPANY_REVENUE_TBL`\n- The table is given an alias 'CS'\n\n2. The SELECT Clause contains three main transformations:\n\na. First TRANSFORM:\n```sql\nTRANSFORM(REVENUE_JSON:\"units\":\"USD\", a -> a:\"start\" || ' ' || a:\"end\") FP_DATE\n```\n- This is accessing a JSON structure in column REVENUE_JSON, navigating to \"units\"->\"USD\"\n- For each element in this array, it's concatenating the \"start\" and \"end\" values with a space between them\n- The result is aliased as FP_DATE\n- The syntax `a -> a:\"start\"` is a lambda function where 'a' represents each element in the array\n\nb. Second TRANSFORM:\n```sql\nTRANSFORM(REVENUE_JSON:\"units\":\"USD\", a -> a:\"end\"::DATE - a:\"start\"::DATE) DAYS_IN_FISCAL_PERIOD\n```\n- Similar JSON path access as above\n- Converts both \"start\" and \"end\" values to DATE type\n- Calculates the difference between end and start dates\n- Results in the number of days in each fiscal period\n- Aliased as DAYS_IN_FISCAL_PERIOD\n\nc. Third column:\n```sql\nCS.REVENUE_JSON:\"entityName\"::VARCHAR COMPANY_NAME\n```\n- Accesses the \"entityName\" field from the REVENUE_JSON column\n- Casts the result to VARCHAR type\n- Aliased as COMPANY_NAME\n\n3. The ORDER BY Clause:\n```sql\nORDER BY COMPANY_NAME\n```\n- Sorts the final results alphabetically by COMPANY_NAME\n\nExpected Output:\n- The query will return a result set with three columns:\n  1. FP_DATE: Combined start and end dates as a string\n  2. DAYS_IN_FISCAL_PERIOD: Number of days between start and end dates\n  3. COMPANY_NAME: Name of the company\n\nThe data appears to be financial/revenue data stored in a JSON format, and this query is extracting and transforming specific elements from that JSON structure while calculating date ranges for fiscal periods."
  },
  {
   "cell_type": "markdown",
   "id": "28710953-701d-4851-9bbe-5741eae85e67",
   "metadata": {
    "name": "MDTRANSFORMLATERALFLATTEN",
    "collapsed": false
   },
   "source": "### TRANSFORM with LATERAL FLATTEN"
  },
  {
   "cell_type": "code",
   "id": "5b911a82-c136-4924-9038-d25e9ce39ce9",
   "metadata": {
    "language": "sql",
    "name": "SeTRANSFORMSQLFn",
    "collapsed": false,
    "codeCollapsed": false
   },
   "outputs": [],
   "source": "SELECT\n    OI.VALUE:\"start\"::DATE FP_START_DATE,\n    OI.VALUE:\"end\"::DATE FP_END_DATE,\n    TRANSFORM(VALUE, a -> a:\"end\"::DATE - a:\"start\"::DATE)[0] DAYS_IN_FISCAL_PERIOD,\n    CS.REVENUE_JSON:\"entityName\"::VARCHAR COMPANY_NAME,\n    TO_VARCHAR(VALUE:\"val\"::NUMBER, '$999,999,999,999')  FP_COMPANY_REVENUE,\nFROM\n    US_COMPANY_REVENUE_TBL CS,\n    LATERAL FLATTEN(input => REVENUE_JSON:\"units\":\"USD\") oi\nORDER BY COMPANY_NAME, FP_START_DATE DESC, DAYS_IN_FISCAL_PERIOD DESC;",
   "execution_count": null
  },
  {
   "cell_type": "code",
   "id": "ae8261a9-9d13-4da6-9480-768193d3e8e8",
   "metadata": {
    "language": "sql",
    "name": "SeExplainTRANSFORMQueryCOMPLETE",
    "collapsed": false
   },
   "outputs": [],
   "source": "SELECT SNOWFLAKE.CORTEX.COMPLETE('claude-3-5-sonnet', 'Explain this query is detail: <query>SELECT\n    OI.VALUE:\\\"start\\\"::DATE FP_START_DATE,\n    OI.VALUE:\\\"end\\\"::DATE FP_END_DATE,\n    TRANSFORM(VALUE, a -> a:\\\"end\\\"::DATE - a:\\\"start\\\"::DATE)[0] DAYS_IN_FISCAL_PERIOD,\n    CS.REVENUE_JSON:\\\"entityName\\\"::VARCHAR COMPANY_NAME,\n    TO_VARCHAR(VALUE:\\\"val\\\"::NUMBER, \\'$999,999,999,999\\')  FP_COMPANY_REVENUE,\nFROM\n    US_COMPANY_REVENUE_TBL CS,\n    LATERAL FLATTEN(input => REVENUE_JSON:\\\"units\\\":\\\"USD\\\") oi\nORDER BY COMPANY_NAME, FP_START_DATE DESC, DAYS_IN_FISCAL_PERIOD DESC;</query>');",
   "execution_count": null
  },
  {
   "cell_type": "markdown",
   "id": "538d8dfb-9272-43bc-b036-6ab6f181fcf0",
   "metadata": {
    "name": "MDTRANSFORMQueryExplanationAnthropicClaudeSonnet",
    "collapsed": false
   },
   "source": "Let me break down this SQL query in detail:\n\n1. FROM Clause:\n- The query is selecting from a table named `US_COMPANY_REVENUE_TBL` (aliased as CS)\n- It uses LATERAL FLATTEN to unnest a JSON array found in the REVENUE_JSON column, specifically the nested path \"units\":\"USD\"\n\n2. SELECT Clause:\n```sql\nOI.VALUE:\"start\"::DATE FP_START_DATE\n```\n- Extracts the \"start\" field from the flattened JSON and casts it to a DATE\n- Aliases it as FP_START_DATE\n\n```sql\nOI.VALUE:\"end\"::DATE FP_END_DATE\n```\n- Extracts the \"end\" field from the flattened JSON and casts it to a DATE\n- Aliases it as FP_END_DATE\n\n```sql\nTRANSFORM(VALUE, a -> a:\"end\"::DATE - a:\"start\"::DATE)[0] DAYS_IN_FISCAL_PERIOD\n```\n- Uses TRANSFORM function to calculate the difference between end and start dates\n- Returns the number of days in the fiscal period\n- [0] indicates it's taking the first element of the transformed array\n\n```sql\nCS.REVENUE_JSON:\"entityName\"::VARCHAR COMPANY_NAME\n```\n- Extracts the \"entityName\" field from REVENUE_JSON and casts it to VARCHAR\n- Aliases it as COMPANY_NAME\n\n```sql\nTO_VARCHAR(VALUE:\"val\"::NUMBER, '$999,999,999,999') FP_COMPANY_REVENUE\n```\n- Extracts the \"val\" field from the flattened JSON, casts it to NUMBER\n- Formats it as a string with currency formatting\n- Aliases it as FP_COMPANY_REVENUE\n\n3. ORDER BY Clause:\n```sql\nORDER BY COMPANY_NAME, FP_START_DATE DESC, DAYS_IN_FISCAL_PERIOD DESC\n```\n- Orders the results first by COMPANY_NAME (ascending)\n- Then by FP_START_DATE in descending order\n- Finally by DAYS_IN_FISCAL_PERIOD in descending order\n\nThis query appears to be analyzing financial data, specifically revenue information for US companies, breaking it down by fiscal periods and formatting it in a readable way with proper currency formatting."
  },
  {
   "cell_type": "markdown",
   "id": "3e779b3d-d5b8-44ca-87d2-f5470901fd02",
   "metadata": {
    "name": "MDREDUCEHigher_Order_Fn",
    "collapsed": false
   },
   "source": "## [REDUCE](https://docs.snowflake.com/en/sql-reference/functions/reduce) Higher-Order Function\nReduces an array to a single value based on the logic in a lambda expression.\n\nThe REDUCE function takes an array, an initial accumulator value, and a lambda function. It applies the lambda function to each element of the array, updating the accumulator with each result. After processing all elements, REDUCE returns the final accumulator value.\n\nRelease Date: [October 2024](https://docs.snowflake.com/en/release-notes/sql-improvements#sql-improvements-in-2024)"
  },
  {
   "cell_type": "markdown",
   "id": "160037ea-bbb4-4a02-be52-ea4884f8b59e",
   "metadata": {
    "name": "MDReduce_Accumulate_All_Fiscal_End_Dates",
    "collapsed": false
   },
   "source": "### We want to find all the fiscal end periods represented in each company's revenue JSON document. \n### We use the REDUCE higher-order function to accumulate all the fiscal end periods represented in the document.\n### This SQL helps us understand the data represented in the JSON. It can also show any duplicates. "
  },
  {
   "cell_type": "code",
   "id": "2ae3d637-b700-43c2-a446-dd153d13d5cf",
   "metadata": {
    "language": "sql",
    "name": "SeREDUCE_Higher_Order_Fn_SQL"
   },
   "outputs": [],
   "source": "SELECT \n    REVENUE_JSON:\"entityName\" COMPANY_NAME, \n    REDUCE(REVENUE_JSON:\"units\":\"USD\",[], (arg1, arg2) -> ARRAY_APPEND(arg1, arg2:\"end\")) FISCAL_PERIODS\nFROM \n    US_COMPANY_REVENUE_TBL;",
   "execution_count": null
  },
  {
   "cell_type": "markdown",
   "id": "b13c5064-c3bb-43ef-8eb5-75e1d3630d3f",
   "metadata": {
    "name": "MD_Explain_REDUCE_Title",
    "collapsed": false
   },
   "source": "## Explain the Query Using Snowflake Cortex AI"
  },
  {
   "cell_type": "code",
   "id": "f987455e-bdd0-409e-8706-78094f99b5af",
   "metadata": {
    "language": "sql",
    "name": "Se_Explain_REDUCE_Using_COMPLETE"
   },
   "outputs": [],
   "source": "SELECT SNOWFLAKE.CORTEX.COMPLETE('claude-3-5-sonnet', 'Explain this query is detail: <query>SELECT \n    REVENUE_JSON:\"entityName\" COMPANY_NAME, \n    REDUCE(REVENUE_JSON:\"units\":\"USD\",[], (arg1, arg2) -> ARRAY_APPEND(arg1, arg2:\"end\")) FISCAL_PERIODS\nFROM \n    US_COMPANY_REVENUE_TBL;');",
   "execution_count": null
  },
  {
   "cell_type": "markdown",
   "id": "3b27d8fe-1349-42f0-ae91-98d2b777aeb8",
   "metadata": {
    "name": "MDExplain_REDUCE_Query_Using_COMPLETE",
    "collapsed": false
   },
   "source": "### REDUCE SQL Query Explained using Snowflake Cortex AI COMPLETE function using the Anthropic Claude LLM model:\n\nLet's break down this SQL query that appears to be working with JSON data:\n\n1. FROM Clause:\n- The query is selecting from a table named `US_COMPANY_REVENUE_TBL`\n\n2. SELECT Clause has two main parts:\n\na) First Column: `REVENUE_JSON:\"entityName\" COMPANY_NAME`\n- This extracts the \"entityName\" field from a JSON column named REVENUE_JSON\n- The result is aliased as COMPANY_NAME\n\nb) Second Column: `REDUCE(REVENUE_JSON:\"units\":\"USD\",[], (arg1, arg2) -> ARRAY_APPEND(arg1, arg2:\"end\")) FISCAL_PERIODS`\n- This is using the REDUCE function to process JSON data\n- It's working with the path REVENUE_JSON:\"units\":\"USD\"\n- Starting with an empty array []\n- For each element, it's applying a function that:\n  * Takes two arguments (arg1, arg2)\n  * Appends the \"end\" value from arg2 to arg1\n- The result is aliased as FISCAL_PERIODS\n\nThe query essentially:\n1. Takes JSON data about company revenues\n2. Extracts the company name\n3. Creates an array of fiscal period end dates from USD unit data\n4. Returns both pieces of information for each company\n\nExample of possible output:\n```\nCOMPANY_NAME    FISCAL_PERIODS\nABC Corp       [\"2021-12-31\", \"2022-12-31\"]\nXYZ Inc        [\"2021-03-31\", \"2022-03-31\"]\n```\n\nThis query appears to be using Snowflake's JSON handling capabilities, given the syntax for JSON path navigation (using \":\") and the REDUCE function."
  },
  {
   "cell_type": "markdown",
   "id": "2ce4aa1a-cdc8-4937-83cf-204a914048ef",
   "metadata": {
    "name": "MDCollationNewFeatures",
    "collapsed": false
   },
   "source": "# What's New in Collation?\n- ## Support for the upper, lower, and trim [collations](https://docs.snowflake.com/en/sql-reference/collation)."
  },
  {
   "cell_type": "markdown",
   "id": "19dca751-b538-48f5-9ddc-e327db3bab4d",
   "metadata": {
    "name": "MD_Understanding_Collation",
    "collapsed": false
   },
   "source": "# Understanding Collation\n- Text strings in Snowflake are stored using the UTF-8 character set and, by default, strings are compared according to the Unicode codes that represent the characters in the string.\n- However, comparing strings based on their UTF-8 character representations might not provide the desired or expected behavior. For example:\n- If special characters in a given language do not sort according to that language’s ordering standards, then sorting might return unexpected results.\n- You might want the strings to be ordered by other rules, such as ignoring whether the characters are uppercase or lowercase.\n\nCollation allows you to explicitly specify the rules to use for comparing strings, based on:\n\n- Different locales (that is, different character sets for different languages).\n\n- Case-sensitivity (that is, whether to use case-sensitive or case-insensitive string comparisons without explicitly calling the UPPER or LOWER functions to convert the strings).\n\n- Accent-sensitivity (for example, whether Z, Ź, and Ż are considered the same letter or different letters).\n\n- Punctuation-sensitivity (that is, whether comparisons use only letters or include all characters). For example, if a comparison is punctuation-insensitive, then A-B-C and ABC are treated as equivalent.\n\n- Additional options, such as preferences for sorting based on the first letter in a string and trimming of leading and/or trailing blank spaces."
  },
  {
   "cell_type": "code",
   "id": "9dbf791c-accf-40de-8342-c43380a3e400",
   "metadata": {
    "language": "sql",
    "name": "SQL_Create_Tbl_Collation",
    "collapsed": false
   },
   "outputs": [],
   "source": "CREATE OR REPLACE TRANSIENT TABLE collation_demo (\n  uncollated_phrase VARCHAR, \n  utf8_phrase VARCHAR COLLATE 'utf8',\n  english_phrase VARCHAR COLLATE 'en',\n  spanish_phrase VARCHAR COLLATE 'es');",
   "execution_count": null
  },
  {
   "cell_type": "code",
   "id": "87dc6f1b-75e8-45fc-bcc4-56dd8c06228d",
   "metadata": {
    "language": "sql",
    "name": "SQL_Insert_Into_Collation_Tbl",
    "collapsed": false
   },
   "outputs": [],
   "source": "INSERT INTO collation_demo (\n      uncollated_phrase, \n      utf8_phrase, \n      english_phrase, \n      spanish_phrase) \n   VALUES (\n     'pinata', \n     'pinata', \n     'pinata', \n     'piñata');",
   "execution_count": null
  },
  {
   "cell_type": "code",
   "id": "3567a0a2-8eec-4156-8a23-1d8522985960",
   "metadata": {
    "language": "sql",
    "name": "SQL_Select_From_Collation_Tbl",
    "collapsed": false
   },
   "outputs": [],
   "source": "SELECT * FROM collation_demo;",
   "execution_count": null
  },
  {
   "cell_type": "markdown",
   "id": "e94f89ca-ead3-428e-a071-2f1250a0ee75",
   "metadata": {
    "name": "MDCollationDemo",
    "collapsed": false
   },
   "source": "### This query that compares to pinata, returns true for uncollated, utf8, and english phrases.  \n### The Spanish Phrase does not match the \"pinata\""
  },
  {
   "cell_type": "code",
   "id": "4fbcc9cd-fef2-4412-adea-576e7f9ad867",
   "metadata": {
    "language": "sql",
    "name": "SeCOLLATIONEnglishPhrase",
    "collapsed": false
   },
   "outputs": [],
   "source": "SELECT uncollated_phrase = 'pinata', \n       utf8_phrase = 'pinata', \n       english_phrase = 'pinata', \n       spanish_phrase = 'pinata'\nFROM collation_demo;",
   "execution_count": null
  },
  {
   "cell_type": "markdown",
   "id": "83ac351b-bd3c-467c-ba76-0f7d172acc8a",
   "metadata": {
    "name": "MDMatchSpanishCharacterToUncollatedPhrase",
    "collapsed": false
   },
   "source": "### The following query does not find a match because the Spanish character ñ does not match n:"
  },
  {
   "cell_type": "code",
   "id": "8c01fb39-f179-44c1-9534-e79fec3bd3f6",
   "metadata": {
    "language": "sql",
    "name": "SeCollationSpanishUncollatedPhrase"
   },
   "outputs": [],
   "source": "SELECT * FROM collation_demo WHERE spanish_phrase = uncollated_phrase;",
   "execution_count": null
  },
  {
   "cell_type": "markdown",
   "id": "60b74481-33ae-4fdf-86cc-b4ce0bf25f22",
   "metadata": {
    "name": "MDCollationDemo2",
    "collapsed": false
   },
   "source": "## Collation Demo # 2"
  },
  {
   "cell_type": "code",
   "id": "9ecd8834-69e7-438e-8908-674036f9d43d",
   "metadata": {
    "language": "sql",
    "name": "CrTblCollationDemo1"
   },
   "outputs": [],
   "source": "CREATE OR REPLACE TRANSIENT TABLE collation_demo1 (\n  uncollated_phrase VARCHAR, \n  utf8_phrase VARCHAR COLLATE 'utf8',\n  english_phrase VARCHAR COLLATE 'en-ai',\n  spanish_phrase VARCHAR COLLATE 'es-ai');",
   "execution_count": null
  },
  {
   "cell_type": "code",
   "id": "a6a7bfb9-e9bc-4f2f-a7e8-effd24d96478",
   "metadata": {
    "language": "sql",
    "name": "InsRowCollationDemo1"
   },
   "outputs": [],
   "source": "INSERT INTO collation_demo1 (\n    uncollated_phrase, \n    utf8_phrase, \n    english_phrase, \n    spanish_phrase) \n  VALUES (\n    'piñata', \n    'piñata', \n    'piñata', \n    'piñata');",
   "execution_count": null
  },
  {
   "cell_type": "markdown",
   "id": "9007b958-0e8c-4d38-bd81-82d296751bc1",
   "metadata": {
    "name": "MDChangingCOLLATION",
    "collapsed": false
   },
   "source": "## Changing collation doesn’t force related, but unequal, characters (for example, ñ and n) to be treated as equal:"
  },
  {
   "cell_type": "markdown",
   "id": "d3006f10-fa48-4328-9769-b88e268f419a",
   "metadata": {
    "name": "MDCollationUseCase",
    "collapsed": false
   },
   "source": "- ### Only the English phrase returns True for the following reasons:\n\n- ### Uncollated comparisons don’t ignore accents.\n\n- ### utf8 collation comparisons don’t ignore accents.\n\nThe en-ai and es-ai collation comparisons ignore accents, but in Spanish, ñ is treated as an individual character rather than an accented n.\n(Source: Snowflake Docs on [COLLATION](https://docs.snowflake.com/en/sql-reference/collation#collation-examples))"
  },
  {
   "cell_type": "code",
   "id": "86da4130-6158-42b7-8c5c-637d6244a4b1",
   "metadata": {
    "language": "sql",
    "name": "SeCollationDemo1"
   },
   "outputs": [],
   "source": "SELECT uncollated_phrase = 'pinata', \n       utf8_phrase = 'pinata', \n       english_phrase = 'pinata', \n       spanish_phrase = 'pinata'\n  FROM collation_demo1;",
   "execution_count": null
  },
  {
   "cell_type": "markdown",
   "id": "cddf5fe3-ae8b-4f6f-bd4e-b87c2946ede8",
   "metadata": {
    "name": "MD_SEARCH_TextInSnowflake",
    "collapsed": false
   },
   "source": "## Searching Text in Snowflake Using [SEARCH](https://docs.snowflake.com/en/sql-reference/functions/search) function\n- You can use search functions to find character data (text) in specified columns from one or more tables, including fields in VARIANT, OBJECT, and ARRAY columns. \n- This function searches the text in specified columns or strings based on a list of given search terms. \n- The function returns TRUE if the text matches the specified search terms based on the search semantics.\n- In most cases, you call the SEARCH function by specifying it in the SELECT list or the WHERE clause of a SELECT statement. \n- If the function is used as a WHERE clause filter, the query returns rows when the function returns TRUE.\n- Source: [Snowflake Documentation](https://docs.snowflake.com/en/user-guide/querying-with-search-functions)"
  },
  {
   "cell_type": "markdown",
   "id": "cd506df5-af0d-4e0e-9712-8b7b839648f0",
   "metadata": {
    "name": "MDSearchExampleTable",
    "collapsed": false
   },
   "source": "### We will use the US_COMPANY_REVENUE_TBL created earlier in the Notebook for learning the Search function.  \n### This table contains ths RAW JSON from the SEC filings of various companies.  \n### This table contains one column called REVENUE_JSON that contains the JSON document.  \n### We will use SEARCH in the WHERE clause to filter the JSON documents based on the company name.\n### For example, SEARCH for Costco, Colgate, etc.  "
  },
  {
   "cell_type": "markdown",
   "id": "c0d2ea92-bb37-418c-8325-cb2b838b9bb9",
   "metadata": {
    "name": "MDRunSELECTonUS_COMPANY_REVENUE_TBL",
    "collapsed": false
   },
   "source": "### Execute a SELECT statement on the US_COMPANY_REVENUE_TBL to see the JSON documents stored in the VARIANT column.  "
  },
  {
   "cell_type": "code",
   "id": "d94c046d-3665-46c1-b912-5b8094e30762",
   "metadata": {
    "language": "sql",
    "name": "SeUS_COMPANY_REVENUE_TBL"
   },
   "outputs": [],
   "source": "SELECT * FROM US_COMPANY_REVENUE_TBL;",
   "execution_count": null
  },
  {
   "cell_type": "markdown",
   "id": "d005aa69-806e-4613-872d-766eeff33f2d",
   "metadata": {
    "name": "MDSearchForFiltering",
    "collapsed": false
   },
   "source": "## Filter the rows in the table by searching for Costco or Colgate. "
  },
  {
   "cell_type": "code",
   "id": "ee17a961-6552-44f1-b3b2-c08636e5b396",
   "metadata": {
    "language": "sql",
    "name": "SeSearchForCostco"
   },
   "outputs": [],
   "source": "SELECT * FROM US_COMPANY_REVENUE_TBL WHERE SEARCH((*), 'Costco');",
   "execution_count": null
  },
  {
   "cell_type": "markdown",
   "id": "96d014f0-19b3-4b1a-b1d9-85ec6086134a",
   "metadata": {
    "name": "MDSearchForColgate",
    "collapsed": false
   },
   "source": "## Search for Colgate"
  },
  {
   "cell_type": "code",
   "id": "d6b0335e-39da-42eb-8ed2-4ac40a749d92",
   "metadata": {
    "language": "sql",
    "name": "SeUS_Company_Revenue_Tbl"
   },
   "outputs": [],
   "source": "SELECT * FROM US_COMPANY_REVENUE_TBL WHERE SEARCH((*), 'Colgate');",
   "execution_count": null
  },
  {
   "cell_type": "markdown",
   "id": "5a7df228-8899-41c8-bc9b-be4d2b349caf",
   "metadata": {
    "name": "MDSearchInSelect",
    "collapsed": false
   },
   "source": "## Using the SEARCH function in the SELECT list.  \n## The function returns True where the text is found.  "
  },
  {
   "cell_type": "code",
   "id": "ed115f61-e532-4994-92c7-ba07d06fdeaa",
   "metadata": {
    "language": "sql",
    "name": "SeSearchInSelectList"
   },
   "outputs": [],
   "source": "SELECT SEARCH((*), 'Colgate'), REVENUE_JSON FROM US_COMPANY_REVENUE_TBL;",
   "execution_count": null
  }
 ]
}