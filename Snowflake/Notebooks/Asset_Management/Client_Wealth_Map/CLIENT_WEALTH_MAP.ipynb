{
 "metadata": {
  "kernelspec": {
   "display_name": "Python 3 (ipykernel)",
   "language": "python",
   "name": "python3"
  },
  "language_info": {
   "codemirror_mode": {
    "name": "ipython",
    "version": 3
   },
   "file_extension": ".py",
   "mimetype": "text/x-python",
   "name": "python",
   "nbconvert_exporter": "python",
   "pygments_lexer": "ipython3",
   "version": "3.11.6"
  },
  "lastEditStatus": {
   "notebookId": "u7wbdkm3z6kcjpp2dtlf",
   "authorId": "8795186554644",
   "authorName": "PRAJAGOPAL",
   "authorEmail": "prasanna.rajagopal@snowflake.com",
   "sessionId": "2b69d375-6e18-4a7a-9ba5-1c7b47eef5ac",
   "lastEditTime": 1753273164177
  }
 },
 "nbformat_minor": 4,
 "nbformat": 4,
 "cells": [
  {
   "cell_type": "markdown",
   "id": "0b870c50-4ce1-4ab5-8f19-7f7d7479fdf7",
   "metadata": {
    "name": "MDPreRequisites",
    "collapsed": false
   },
   "source": "# Prerequisites: Getting Started with the Relational AI Native App\nBefore you can begin, you need to install the Relational AI Native App in your Snowflake account. Here’s how to get access:\n\n## 1. [Find the App](https://app.snowflake.com/marketplace/listing/GZTYZOOIX8H/relationalai-relationalai?search=Relational%20AI) on the Snowflake Marketplace\n\nThe Relational AI Native App is available directly from the Snowflake Marketplace. You can request to have your account authorized for installation from the app's listing page.\n\n## 2. Request a Trial Version\n\nTo get started with a trial, please contact your Snowflake Account Team. They will connect you with the Relational AI team to get your trial set up.\n"
  },
  {
   "cell_type": "markdown",
   "metadata": {
    "name": "MDClientWealthMap",
    "collapsed": false
   },
   "source": "# Client Wealth Map\n## 360-Degree View & Understanding of Asset Management Clients. \n## The goal is to map every aspect of our client's life. \n## This will allow us to gain deeper insights of our clients, allowing us to create personalized services that delight them.  \n### 1. Client's current asset ownership.\n### 2. Client's goals & preferences.\n### 3. Client's risk preference. \n### 4. Client's family situation.  \n\n### Author: [Prasanna Rajagopal](https://www.linkedin.com/in/prasannarajagopal/)\n\n#### Date: June 2025",
   "id": "ce110000-1111-2222-3333-ffffff000001"
  },
  {
   "cell_type": "markdown",
   "id": "2ad77c4b-5255-4813-8db6-8bd9d983374f",
   "metadata": {
    "name": "cell2",
    "collapsed": false
   },
   "source": "# Two Broad Steps to Create a Client Graph Network\n- ### Using Unstructured Documents Using Content From Emails, Trust Documents.\n- ### Using Structured Content About Client Already in a Table.\n## Step 1: Extract the Graph Nodes from Emails, Trust Documents, etc.\n- ### Using Snowflake Cortex ```AI_COMPLETE``` Structured Outputs. \n- ### Stored the Extracted Nodes in a Table.  \n## Step 2: Create the Graph Network with Nodes and Edges Using the Extracted Information.\n- ### Using ```Relational AI``` Graph Co-Processor on Snowflake.  "
  },
  {
   "cell_type": "markdown",
   "id": "89d2d05e-5d07-4fc7-bfa6-6338c69b499a",
   "metadata": {
    "name": "cell1",
    "collapsed": false
   },
   "source": "## Extract Subject, Predicate, and Object From Emails.   "
  },
  {
   "cell_type": "code",
   "id": "8c8ee5d4-6fa9-493d-9bb3-a4436188c565",
   "metadata": {
    "language": "sql",
    "name": "SQLClientEMails"
   },
   "outputs": [],
   "source": "SELECT * FROM CLIENT_EMAILS;",
   "execution_count": null
  },
  {
   "cell_type": "code",
   "id": "f77e2063-313e-495f-aa1d-0a51dc016b08",
   "metadata": {
    "language": "sql",
    "name": "SQLExtractGoalsJSON"
   },
   "outputs": [],
   "source": "SELECT\n    CLIENT_NAME, AI_COMPLETE(\n        model => 'claude-3-5-sonnet', -- You can use the model of your choice\n        prompt => 'From the following email content, please extract the client''s key financial goals. For each goal, provide a single-word description for the goal (e.g., HOME, INCOME, CAR), the type of action (e.g., OWN, LIVING EXPENSE, BUY), and the budget as a number without commas or currency symbols. Match the output to the requested JSON schema precisely. Email Content: ' || EMAIL_BODY,\n\n        -- The JSON schema is defined here to structure the AI model's response.\n        -- It has been updated to categorize goals and extract numeric values.\n        response_format => PARSE_JSON('{\n            \"type\": \"json\",\n            \"schema\": {\n                \"type\": \"object\",\n                \"properties\": {\n                    \"goals\": {\n                        \"type\": \"array\",\n                        \"items\": {\n                            \"type\": \"object\",\n                            \"properties\": {\n                                \"GOAL_DESCRIPTION\": {\n                                    \"type\": \"string\"\n                                },\n                                \"GOAL_TYPE\": {\n                                    \"type\": \"string\"\n                                },\n                                \"GOAL_BUDGET\": {\n                                    \"type\": \"string\"\n                                }\n                            },\n                            \"required\": [\"GOAL_DESCRIPTION\", \"GOAL_TYPE\"]\n                        }\n                    }\n                }\n            }\n        }')\n    ) AS CLIENT_FINANCIAL_SUMMARY\nFROM\n    CLIENT_EMAILS;",
   "execution_count": null
  },
  {
   "cell_type": "markdown",
   "id": "ee24a5df-f6db-4f8b-9594-ce868ff17e88",
   "metadata": {
    "name": "MDPrerequisites",
    "collapsed": false
   },
   "source": "## Prerequisites:\n- ### Create a Database & Schema called RAI_DEMO.SIMPLE_START.\n- ### Ensure you have installed the Relational AI (RAI) App on your account from the Snowflake Marketplace.  \n    - ### You may need to reach out the Relational AI team via the Listing in the Snowflake Marketplace to discuss getting a trial license.  "
  },
  {
   "cell_type": "markdown",
   "id": "d39f2554-0479-4f3a-a6ef-835a050cb278",
   "metadata": {
    "name": "MDCheckServiceActivateDeactivate",
    "collapsed": false
   },
   "source": "## Once the service is installed and started, you can use the following commands to check on the status of the service and activate or deactivate the service.   "
  },
  {
   "cell_type": "markdown",
   "id": "884220bc-59f2-4bd8-bf07-22d46f8d3885",
   "metadata": {
    "name": "MDCheckRAIStatus",
    "collapsed": false
   },
   "source": "## Check the Status of Relational AI Service"
  },
  {
   "cell_type": "code",
   "id": "d56dc8ba-5e6b-4f70-af5f-23df66bf48d3",
   "metadata": {
    "language": "sql",
    "name": "SQLCheckRAIService"
   },
   "outputs": [],
   "source": "CALL RELATIONALAI.APP.SERVICE_STATUS();",
   "execution_count": null
  },
  {
   "cell_type": "markdown",
   "id": "22192839-39f3-4dbb-b954-5499778b72ca",
   "metadata": {
    "name": "MDActivateRAI",
    "collapsed": false
   },
   "source": "## Activate Relational AI Service"
  },
  {
   "cell_type": "code",
   "id": "3d906ae2-93ce-4019-9796-13f5073e7691",
   "metadata": {
    "language": "python",
    "name": "PYActivateRAI"
   },
   "outputs": [],
   "source": "session = get_active_session()\nsession.sql(\"CALL RELATIONALAI.APP.ACTIVATE();\").collect()",
   "execution_count": null
  },
  {
   "cell_type": "markdown",
   "id": "5ccd138c-1bf4-4415-a257-862b6694adfb",
   "metadata": {
    "name": "MDDeactivateRAI",
    "collapsed": false
   },
   "source": "## Deactivate Relational AI, when not in use, to save money :dollar: :moneybag:"
  },
  {
   "cell_type": "code",
   "id": "c8fb6768-21ae-4f57-97b1-acdafe13311c",
   "metadata": {
    "language": "python",
    "name": "PYDeactivateRAI"
   },
   "outputs": [],
   "source": "session = get_active_session()\nsession.sql(\"CALL RELATIONALAI.APP.DEACTIVATE();\").collect()",
   "execution_count": null
  },
  {
   "cell_type": "markdown",
   "id": "783de341-4932-4e3b-9035-dfd189712199",
   "metadata": {
    "name": "MDWhatisRelationalAI",
    "collapsed": false
   },
   "source": "# What is Relational AI? \n- ### Relational AI is a system that combines relational knowledge graphs with data clouds to enhance AI capabilities, specifically within platforms like Snowflake. \n- ### It acts as an \"AI coprocessor\" for data clouds, enabling businesses to analyze interconnected data, apply rules-based reasoning, and perform graph analytics for intelligent applications.\n## Relational AI is available as a Snowflake Native App in the Snowflake Marketplace.  \n# What is a Snowflake Native App?\n- ### The Snowflake Native App Framework is a platform that allows providers to build, distribute, and sell data-intensive applications directly within the Snowflake Data Cloud. \n- ### These applications, called Snowflake Native Apps, run entirely within the consumer's Snowflake account, eliminating the need for data movement or copying. \n- ### This framework offers a streamlined development experience, enhanced security, and the ability to leverage Snowflake's built-in features. \n# Snowflake + Relational AI Demo\n- ## Easy Ingestion of Data From Snowflake\n    - ### Don't have to move the Data\n- ## Easy Graph Build Out. \n- ## Query one specific Client. \n- ## Draw the graph out.  \n- ## Graph Reasoning\n    - ### Jaccard Similarity. \n# What's Next? \n- ## You can do a lot more with Snowflake & Relational AI. Here are some possibilities:  \n    - ### Unmasking influence in your graph network using Centrality Measures.  \n        - ### Gain a deeper understanding of your client's needs & wants.\n    - ### Community Detection\n        - ### Hyper-Personalization and Client Segmentation\n            - Community detection can automatically segment clients into highly nuanced groups based on their holistic financial DNA, not just simple demographics.\n    - ### Enhanced Product and Service Development\n        - ### Community detection might uncover an emerging community of clients who are all investing in sustainable and ESG (Environmental, Social, and Governance) assets, linked to portfolios with \"Ethical Investing\" goals. \n        - ### This community might be geographically dispersed and demographically diverse, making it hard to spot with traditional analysis.\n        - ### The firm can use this insight to justify developing a new suite of ESG-focused investment products, knowing there is a well-defined, organic client base for it. \n        - ### They can also create educational content and advisory services specifically for this community.\n            \n\n\n        "
  },
  {
   "cell_type": "markdown",
   "id": "0b106dd4-3502-4303-9dd0-10b0e3d7ad44",
   "metadata": {
    "name": "MDRAINotebook",
    "collapsed": false
   },
   "source": "## Install the Relational AI Python Module in your Notebook Environment.  "
  },
  {
   "cell_type": "code",
   "id": "759eca65-0555-4a3b-9043-d3ddba0fe093",
   "metadata": {
    "language": "python",
    "name": "PyPIPInstallRAI",
    "collapsed": true,
    "codeCollapsed": false
   },
   "outputs": [],
   "source": "%pip install relationalai",
   "execution_count": null
  },
  {
   "cell_type": "markdown",
   "id": "1dfef634-e81d-4e06-a9e7-7e6bcd94976c",
   "metadata": {
    "name": "PyImportStmts",
    "collapsed": false
   },
   "source": "## Python Import Statements.  "
  },
  {
   "cell_type": "code",
   "execution_count": 1,
   "metadata": {
    "name": "PyImportStatements",
    "language": "python"
   },
   "outputs": [],
   "source": "import random\nimport colorsys\n\nimport relationalai as rai\nfrom relationalai.std import aggregates, rel, alias\nfrom relationalai.std.graphs import Graph\nimport networkx as nx\nimport matplotlib.pyplot as plt\nrandom.seed(123)\n\nprovider = rai.Provider()",
   "id": "ce110000-1111-2222-3333-ffffff000002"
  },
  {
   "cell_type": "markdown",
   "id": "623057dd-69ce-4539-be79-42e8541796c6",
   "metadata": {
    "name": "MDCreateSnowflakeTable",
    "collapsed": false
   },
   "source": "## Create Table in Snowflake to store the sample client and portfolio data.  "
  },
  {
   "cell_type": "code",
   "id": "2bca0a3e-8695-433f-b613-38992ff1fdf6",
   "metadata": {
    "language": "sql",
    "name": "SQLCreateTbl",
    "collapsed": false,
    "codeCollapsed": false
   },
   "outputs": [],
   "source": "CREATE OR REPLACE TABLE RAI_DEMO.SIMPLE_START.AssetOwnership (\n    -- ID INT AUTO_INCREMENT PRIMARY KEY,\n    Client_ID VARCHAR(50) NOT NULL,\n    Asset_Type VARCHAR(20) NOT NULL,\n    Asset_Type_Specific VARCHAR(10) NOT NULL,\n    Quantity INT NOT NULL,\n    Purchase_Price DECIMAL(10, 2) NOT NULL,\n    Current_Price DECIMAL(10, 2) NOT NULL,\n    Purchase_Date DATE NOT NULL\n);",
   "execution_count": null
  },
  {
   "cell_type": "markdown",
   "id": "578b59ba-9913-468e-9f92-a2ebda72c528",
   "metadata": {
    "name": "MDAlterTable",
    "collapsed": false
   },
   "source": "## Only execute the following SQL if you wish to alter the table in any way.  "
  },
  {
   "cell_type": "code",
   "id": "27ae4bd7-9782-453b-9b3e-eafbad24f31c",
   "metadata": {
    "language": "sql",
    "name": "SQLAlterTable"
   },
   "outputs": [],
   "source": "ALTER TABLE RAI_DEMO.SIMPLE_START.AssetOwnership\nALTER COLUMN Asset_Type VARCHAR(20);",
   "execution_count": null
  },
  {
   "cell_type": "markdown",
   "id": "a0fa10b4-1fda-46ae-ae17-6119097c74e9",
   "metadata": {
    "name": "MDInitialInsertStmts",
    "collapsed": false
   },
   "source": "## Insert Rows into Asset Ownership Tables\n### Execute these insert statements after you create the table in Snowflake.  "
  },
  {
   "cell_type": "code",
   "id": "b241c704-1efd-403c-b810-9a05dc0b2f3c",
   "metadata": {
    "language": "sql",
    "name": "SQLInsertIntoAssetOwnership",
    "collapsed": false,
    "codeCollapsed": false
   },
   "outputs": [],
   "source": "INSERT INTO RAI_DEMO.SIMPLE_START.AssetOwnership (Client_ID, Asset_Type, Asset_Type_Specific, Quantity, Purchase_Price, Current_Price, Purchase_Date) VALUES\n('CLIENT_A', 'EQUITY', 'AAPL', 150, 150.25, 175.80, '2023-01-15'),\n('CLIENT_A', 'ETF', 'FLIN', 500, 25.10, 27.50, '2023-03-20'),\n('CLIENT_A', 'EQUITY', 'NVDA', 50, 450.00, 520.10, '2023-07-01'),\n('CLIENT_A', 'ETF', 'DIVI', 300, 40.50, 41.20, '2023-09-10'),\n('CLIENT_A', 'EQUITY', 'XOM', 200, 95.80, 98.00, '2023-11-05');\n\nINSERT INTO RAI_DEMO.SIMPLE_START.AssetOwnership (Client_ID, Asset_Type, Asset_Type_Specific, Quantity, Purchase_Price, Current_Price, Purchase_Date) VALUES\n('CLIENT_B', 'ETF', 'FLJP', 400, 30.20, 31.80, '2023-02-01'),\n('CLIENT_B', 'EQUITY', 'PFE', 250, 42.10, 41.50, '2023-04-10'),\n('CLIENT_B', 'ETF', 'FLQM', 600, 22.00, 23.50, '2023-06-15'),\n('CLIENT_B', 'EQUITY', 'ADBE', 75, 550.00, 580.30, '2023-08-22'),\n('CLIENT_B', 'ETF', 'FLQL', 350, 35.70, 36.90, '2023-10-28');\n\nINSERT INTO RAI_DEMO.SIMPLE_START.AssetOwnership (Client_ID, Asset_Type, Asset_Type_Specific, Quantity, Purchase_Price, Current_Price, Purchase_Date) VALUES\n('CLIENT_C', 'EQUITY', 'CVX', 180, 160.00, 162.50, '2023-03-01'),\n('CLIENT_C', 'ETF', 'DIVI', 550, 41.00, 40.80, '2023-05-12'),\n('CLIENT_C', 'EQUITY', 'ADBE', 80, 560.00, 590.20, '2023-07-25'),\n('CLIENT_C', 'ETF', 'FLIN', 450, 26.00, 28.10, '2023-09-18'),\n('CLIENT_C', 'EQUITY', 'PFE', 300, 43.00, 42.80, '2023-12-01');\n\nINSERT INTO RAI_DEMO.SIMPLE_START.AssetOwnership (Client_ID, Asset_Type, Asset_Type_Specific, Quantity, Purchase_Price, Current_Price, Purchase_Date) VALUES\n('CLIENT_D', 'ETF', 'FLQM', 700, 21.50, 22.90, '2023-01-25'),\n('CLIENT_D', 'EQUITY', 'XOM', 220, 96.50, 99.10, '2023-04-05'),\n('CLIENT_D', 'ETF', 'FLJP', 380, 31.00, 32.50, '2023-06-20'),\n('CLIENT_D', 'EQUITY', 'AAPL', 120, 155.00, 180.50, '2023-08-08'),\n('CLIENT_D', 'ETF', 'FLQL', 420, 36.00, 37.20, '2023-10-15');\n\nINSERT INTO RAI_DEMO.SIMPLE_START.AssetOwnership (Client_ID, Asset_Type, Asset_Type_Specific, Quantity, Purchase_Price, Current_Price, Purchase_Date) VALUES\n('CLIENT_E', 'EQUITY', 'NVDA', 60, 460.00, 530.40, '2023-02-14'),\n('CLIENT_E', 'ETF', 'DIVI', 480, 40.70, 41.50, '2023-05-01'),\n('CLIENT_E', 'EQUITY', 'CVX', 190, 162.00, 165.30, '2023-07-10'),\n('CLIENT_E', 'ETF', 'FLIN', 520, 25.50, 27.90, '2023-09-05'),\n('CLIENT_E', 'EQUITY', 'PFE', 280, 42.50, 42.10, '2023-11-20');",
   "execution_count": null
  },
  {
   "cell_type": "markdown",
   "id": "fa7dc225-1a25-42ef-b12f-0fce5a0a844b",
   "metadata": {
    "name": "MDInsertMoreSampleData",
    "collapsed": false
   },
   "source": "## Create more sample data with client's portfolios.  "
  },
  {
   "cell_type": "code",
   "id": "a84a7e51-284e-4eb1-a043-1aeb2e937a64",
   "metadata": {
    "language": "sql",
    "name": "SQLInsertMoreSampleData"
   },
   "outputs": [],
   "source": "INSERT INTO RAI_DEMO.SIMPLE_START.AssetOwnership (Client_ID, Asset_Type, Asset_Type_Specific, Quantity, Purchase_Price, Current_Price, Purchase_Date) VALUES\n('CLIENT_F', 'EQUITY', 'MSFT', 120, 280.50, 310.20, '2023-01-05'),\n('CLIENT_F', 'ETF', 'FLQM', 300, 23.00, 24.50, '2023-02-18'),\n('CLIENT_F', 'MUTUAL FUND', 'VFINX', 250, 120.00, 125.70, '2023-03-22'),\n('CLIENT_F', 'EQUITY', 'GOOG', 70, 100.00, 115.80, '2023-04-01'),\n('CLIENT_F', 'ETF', 'DIVI', 400, 42.00, 43.10, '2023-05-10'),\n('CLIENT_F', 'MUTUAL FUND', 'SWPPX', 180, 80.00, 83.20, '2023-06-15'),\n('CLIENT_F', 'EQUITY', 'AMZN', 40, 130.00, 145.60, '2023-07-20'),\n('CLIENT_F', 'ETF', 'FLJP', 500, 31.00, 32.50, '2023-08-25'),\n('CLIENT_F', 'MUTUAL FUND', 'FNILX', 320, 55.00, 57.80, '2023-09-01'),\n('CLIENT_F', 'EQUITY', 'TSLA', 30, 220.00, 240.10, '2023-10-08'),\n('CLIENT_F', 'ETF', 'FLIN', 280, 26.00, 28.00, '2023-11-12'),\n('CLIENT_F', 'MUTUAL FUND', 'PRWCX', 200, 90.00, 93.50, '2023-12-01'),\n('CLIENT_F', 'EQUITY', 'JPM', 150, 140.00, 148.00, '2024-01-03'),\n('CLIENT_F', 'ETF', 'FLQL', 350, 37.00, 38.50, '2024-02-10'),\n('CLIENT_F', 'MUTUAL FUND', 'VIIIX', 100, 70.00, 72.30, '2024-03-05');\n\nINSERT INTO RAI_DEMO.SIMPLE_START.AssetOwnership (Client_ID, Asset_Type, Asset_Type_Specific, Quantity, Purchase_Price, Current_Price, Purchase_Date) VALUES\n('CLIENT_G', 'EQUITY', 'V', 90, 240.00, 255.60, '2023-01-10'),\n('CLIENT_G', 'ETF', 'FLIN', 450, 25.50, 27.80, '2023-02-20'),\n('CLIENT_G', 'MUTUAL FUND', 'SWPPX', 220, 82.00, 85.10, '2023-03-25'),\n('CLIENT_G', 'EQUITY', 'PG', 80, 150.00, 158.30, '2023-04-05'),\n('CLIENT_G', 'ETF', 'FLJP', 380, 30.50, 31.90, '2023-05-15'),\n('CLIENT_G', 'MUTUAL FUND', 'VIIIX', 150, 71.00, 73.50, '2023-06-20'),\n('CLIENT_G', 'EQUITY', 'KO', 200, 60.00, 62.50, '2023-07-25'),\n('CLIENT_G', 'ETF', 'FLQM', 550, 22.50, 24.00, '2023-08-30'),\n('CLIENT_G', 'MUTUAL FUND', 'VFINX', 300, 121.00, 126.50, '2023-09-05'),\n('CLIENT_G', 'EQUITY', 'DIS', 100, 105.00, 110.80, '2023-10-10'),\n('CLIENT_G', 'ETF', 'DIVI', 320, 41.50, 42.60, '2023-11-15'),\n('CLIENT_G', 'MUTUAL FUND', 'FNILX', 280, 56.00, 58.50, '2023-12-05'),\n('CLIENT_G', 'EQUITY', 'NFLX', 50, 400.00, 425.70, '2024-01-08'),\n('CLIENT_G', 'ETF', 'FLQL', 400, 36.50, 37.90, '2024-02-15'),\n('CLIENT_G', 'MUTUAL FUND', 'PRWCX', 180, 91.00, 94.20, '2024-03-10');\n\nINSERT INTO RAI_DEMO.SIMPLE_START.AssetOwnership (Client_ID, Asset_Type, Asset_Type_Specific, Quantity, Purchase_Price, Current_Price, Purchase_Date) VALUES\n('CLIENT_H', 'EQUITY', 'HD', 80, 330.00, 345.50, '2023-01-15'),\n('CLIENT_H', 'ETF', 'FLQL', 300, 37.00, 38.60, '2023-02-25'),\n('CLIENT_H', 'MUTUAL FUND', 'VFINX', 200, 122.00, 127.80, '2023-03-30'),\n('CLIENT_H', 'EQUITY', 'UNH', 60, 500.00, 520.00, '2023-04-10'),\n('CLIENT_H', 'ETF', 'FLIN', 500, 26.50, 28.20, '2023-05-20'),\n('CLIENT_H', 'MUTUAL FUND', 'SWPPX', 250, 83.00, 86.00, '2023-06-25'),\n('CLIENT_H', 'EQUITY', 'MSFT', 110, 285.00, 315.50, '2023-07-30'),\n('CLIENT_H', 'ETF', 'DIVI', 420, 42.00, 43.30, '2023-09-01'),\n('CLIENT_H', 'MUTUAL FUND', 'FNILX', 350, 57.00, 59.50, '2023-10-05'),\n('CLIENT_H', 'EQUITY', 'GOOG', 65, 102.00, 118.00, '2023-11-10'),\n('CLIENT_H', 'ETF', 'FLJP', 390, 31.50, 33.00, '2023-12-15'),\n('CLIENT_H', 'MUTUAL FUND', 'VIIIX', 120, 72.00, 74.80, '2024-01-20');\n\nINSERT INTO RAI_DEMO.SIMPLE_START.AssetOwnership (Client_ID, Asset_Type, Asset_Type_Specific, Quantity, Purchase_Price, Current_Price, Purchase_Date) VALUES\n('CLIENT_I', 'EQUITY', 'AMZN', 35, 135.00, 150.20, '2023-01-20'),\n('CLIENT_I', 'ETF', 'FLQM', 600, 21.80, 23.30, '2023-03-01'),\n('CLIENT_I', 'MUTUAL FUND', 'PRWCX', 280, 92.00, 95.50, '2023-04-05'),\n('CLIENT_I', 'EQUITY', 'TSLA', 25, 230.00, 250.80, '2023-05-10'),\n('CLIENT_I', 'ETF', 'FLIN', 480, 27.00, 29.00, '2023-06-15'),\n('CLIENT_I', 'MUTUAL FUND', 'VFINX', 260, 123.00, 128.90, '2023-07-20'),\n('CLIENT_I', 'EQUITY', 'JPM', 140, 142.00, 150.00, '2023-08-25'),\n('CLIENT_I', 'ETF', 'FLQL', 360, 37.50, 39.00, '2023-09-30'),\n('CLIENT_I', 'MUTUAL FUND', 'SWPPX', 190, 84.00, 87.20, '2023-11-05'),\n('CLIENT_I', 'EQUITY', 'V', 85, 245.00, 260.80, '2023-12-10'),\n('CLIENT_I', 'ETF', 'DIVI', 380, 42.50, 43.80, '2024-01-15');\n\nINSERT INTO RAI_DEMO.SIMPLE_START.AssetOwnership (Client_ID, Asset_Type, Asset_Type_Specific, Quantity, Purchase_Price, Current_Price, Purchase_Date) VALUES\n('CLIENT_J', 'EQUITY', 'PG', 75, 152.00, 160.50, '2023-02-01'),\n('CLIENT_J', 'ETF', 'FLJP', 420, 30.80, 32.30, '2023-03-10'),\n('CLIENT_J', 'MUTUAL FUND', 'VIIIX', 160, 73.00, 75.80, '2023-04-15'),\n('CLIENT_J', 'EQUITY', 'KO', 180, 61.00, 63.50, '2023-05-20'),\n('CLIENT_J', 'ETF', 'FLQM', 580, 22.00, 23.50, '2023-06-25'),\n('CLIENT_J', 'MUTUAL FUND', 'FNILX', 310, 58.00, 60.50, '2023-07-30'),\n('CLIENT_J', 'EQUITY', 'DIS', 95, 108.00, 113.80, '2023-09-05'),\n('CLIENT_J', 'ETF', 'FLIN', 460, 27.50, 29.50, '2023-10-10'),\n('CLIENT_J', 'MUTUAL FUND', 'PRWCX', 210, 93.00, 96.80, '2023-11-15'),\n('CLIENT_J', 'EQUITY', 'NFLX', 45, 410.00, 435.90, '2023-12-20'),\n('CLIENT_J', 'ETF', 'FLQL', 330, 38.00, 39.50, '2024-01-25'),\n('CLIENT_J', 'MUTUAL FUND', 'VFINX', 290, 124.00, 129.90, '2024-02-28');\n\nINSERT INTO RAI_DEMO.SIMPLE_START.AssetOwnership (Client_ID, Asset_Type, Asset_Type_Specific, Quantity, Purchase_Price, Current_Price, Purchase_Date) VALUES\n('CLIENT_K', 'EQUITY', 'HD', 70, 335.00, 350.50, '2023-03-05'),\n('CLIENT_K', 'ETF', 'DIVI', 400, 43.00, 44.50, '2023-04-10'),\n('CLIENT_K', 'MUTUAL FUND', 'SWPPX', 230, 85.00, 88.00, '2023-05-15'),\n('CLIENT_K', 'EQUITY', 'UNH', 55, 510.00, 530.00, '2023-06-20'),\n('CLIENT_K', 'ETF', 'FLIN', 470, 28.00, 30.00, '2023-07-25'),\n('CLIENT_K', 'MUTUAL FUND', 'FNILX', 300, 59.00, 61.50, '2023-09-01'),\n('CLIENT_K', 'EQUITY', 'MSFT', 100, 290.00, 320.50, '2023-10-05'),\n('CLIENT_K', 'ETF', 'FLJP', 410, 32.00, 33.50, '2023-11-10'),\n('CLIENT_K', 'MUTUAL FUND', 'PRWCX', 240, 94.00, 97.80, '2023-12-15'),\n('CLIENT_K', 'EQUITY', 'GOOG', 60, 105.00, 120.00, '2024-01-20'),\n('CLIENT_K', 'ETF', 'FLQM', 500, 22.50, 24.00, '2024-02-25');\n\nINSERT INTO RAI_DEMO.SIMPLE_START.AssetOwnership (Client_ID, Asset_Type, Asset_Type_Specific, Quantity, Purchase_Price, Current_Price, Purchase_Date) VALUES\n('CLIENT_L', 'EQUITY', 'AMZN', 30, 140.00, 155.50, '2023-03-10'),\n('CLIENT_L', 'ETF', 'FLQL', 340, 38.50, 40.00, '2023-04-15'),\n('CLIENT_L', 'MUTUAL FUND', 'VFINX', 270, 125.00, 130.80, '2023-05-20'),\n('CLIENT_L', 'EQUITY', 'TSLA', 20, 240.00, 260.10, '2023-06-25'),\n('CLIENT_L', 'ETF', 'DIVI', 350, 43.50, 45.00, '2023-07-30'),\n('CLIENT_L', 'MUTUAL FUND', 'VIIIX', 130, 74.00, 76.50, '2023-09-05'),\n('CLIENT_L', 'EQUITY', 'JPM', 130, 145.00, 153.00, '2023-10-10'),\n('CLIENT_L', 'ETF', 'FLIN', 490, 28.50, 30.50, '2023-11-15'),\n('CLIENT_L', 'MUTUAL FUND', 'SWPPX', 260, 86.00, 89.20, '2023-12-20'),\n('CLIENT_L', 'EQUITY', 'V', 80, 250.00, 265.80, '2024-01-25'),\n('CLIENT_L', 'ETF', 'FLJP', 370, 32.50, 34.00, '2024-03-01'),\n('CLIENT_L', 'MUTUAL FUND', 'PRWCX', 220, 95.00, 98.80, '2024-04-05');\n\nINSERT INTO RAI_DEMO.SIMPLE_START.AssetOwnership (Client_ID, Asset_Type, Asset_Type_Specific, Quantity, Purchase_Price, Current_Price, Purchase_Date) VALUES\n('CLIENT_M', 'EQUITY', 'PG', 70, 155.00, 163.50, '2023-03-15'),\n('CLIENT_M', 'ETF', 'FLQM', 520, 22.80, 24.30, '2023-04-20'),\n('CLIENT_M', 'MUTUAL FUND', 'FNILX', 330, 60.00, 62.50, '2023-05-25'),\n('CLIENT_M', 'EQUITY', 'KO', 170, 62.00, 64.50, '2023-06-30'),\n('CLIENT_M', 'ETF', 'FLQL', 350, 39.00, 40.50, '2023-08-05'),\n('CLIENT_M', 'MUTUAL FUND', 'VFINX', 310, 126.00, 131.90, '2023-09-10'),\n('CLIENT_M', 'EQUITY', 'DIS', 90, 110.00, 115.80, '2023-10-15'),\n('CLIENT_M', 'ETF', 'DIVI', 360, 44.00, 45.50, '2023-11-20'),\n('CLIENT_M', 'MUTUAL FUND', 'VIIIX', 140, 75.00, 77.50, '2023-12-25'),\n('CLIENT_M', 'EQUITY', 'NFLX', 40, 420.00, 445.90, '2024-01-30');\n\nINSERT INTO RAI_DEMO.SIMPLE_START.AssetOwnership (Client_ID, Asset_Type, Asset_Type_Specific, Quantity, Purchase_Price, Current_Price, Purchase_Date) VALUES\n('CLIENT_N', 'EQUITY', 'HD', 65, 340.00, 355.50, '2023-04-01'),\n('CLIENT_N', 'ETF', 'FLIN', 440, 29.00, 31.00, '2023-05-05'),\n('CLIENT_N', 'MUTUAL FUND', 'PRWCX', 250, 96.00, 99.80, '2023-06-10'),\n('CLIENT_N', 'EQUITY', 'UNH', 50, 520.00, 540.00, '2023-07-15'),\n('CLIENT_N', 'ETF', 'FLJP', 400, 33.00, 34.50, '2023-08-20'),\n('CLIENT_N', 'MUTUAL FUND', 'SWPPX', 240, 87.00, 90.20, '2023-09-25'),\n('CLIENT_N', 'EQUITY', 'MSFT', 95, 295.00, 325.50, '2023-10-30'),\n('CLIENT_N', 'ETF', 'FLQM', 530, 23.00, 24.50, '2023-12-05'),\n('CLIENT_N', 'MUTUAL FUND', 'FNILX', 280, 61.00, 63.50, '2024-01-10'),\n('CLIENT_N', 'EQUITY', 'GOOG', 55, 108.00, 123.00, '2024-02-15');\n\nINSERT INTO RAI_DEMO.SIMPLE_START.AssetOwnership (Client_ID, Asset_Type, Asset_Type_Specific, Quantity, Purchase_Price, Current_Price, Purchase_Date) VALUES\n('CLIENT_O', 'EQUITY', 'AMZN', 28, 145.00, 160.50, '2023-04-05'),\n('CLIENT_O', 'ETF', 'FLQL', 360, 39.50, 41.00, '2023-05-10'),\n('CLIENT_O', 'MUTUAL FUND', 'VFINX', 280, 127.00, 132.80, '2023-06-15'),\n('CLIENT_O', 'EQUITY', 'TSLA', 18, 250.00, 270.10, '2023-07-20'),\n('CLIENT_O', 'ETF', 'DIVI', 380, 44.50, 46.00, '2023-08-25'),\n('CLIENT_O', 'MUTUAL FUND', 'VIIIX', 150, 76.00, 78.50, '2023-09-30'),\n('CLIENT_O', 'EQUITY', 'JPM', 125, 148.00, 156.00, '2023-10-05'),\n('CLIENT_O', 'ETF', 'FLIN', 500, 29.50, 31.50, '2023-11-10'),\n('CLIENT_O', 'MUTUAL FUND', 'SWPPX', 270, 88.00, 91.20, '2023-12-15'),\n('CLIENT_O', 'EQUITY', 'V', 75, 255.00, 270.80, '2024-01-20'),\n('CLIENT_O', 'ETF', 'FLJP', 390, 33.50, 35.00, '2024-02-25'),\n('CLIENT_O', 'MUTUAL FUND', 'PRWCX', 230, 97.00, 100.80, '2024-03-30');\n",
   "execution_count": null
  },
  {
   "cell_type": "markdown",
   "id": "9aacf308-7695-4f9b-a4f1-44f0c6b2f005",
   "metadata": {
    "name": "MDSelectFromAssetOwnership",
    "collapsed": false
   },
   "source": "## Select From AssetOwnership"
  },
  {
   "cell_type": "code",
   "id": "1557bec7-18b5-4b70-93e7-3a74952bd4e1",
   "metadata": {
    "language": "sql",
    "name": "SQLSelect"
   },
   "outputs": [],
   "source": "SELECT COUNT(*) FROM RAI_DEMO.SIMPLE_START.AssetOwnership;",
   "execution_count": null
  },
  {
   "cell_type": "markdown",
   "metadata": {
    "name": "MDDefineRAIModel"
   },
   "source": [
    "### Define Model in RelationalAI\n",
    "Let's define our model object. **Models** represent collections of objects. **Objects**, like Python objects, have **types** and **properties**, which we will define in a bit."
   ],
   "id": "ce110000-1111-2222-3333-ffffff000004"
  },
  {
   "cell_type": "code",
   "id": "9091086c-7566-4c70-ac40-81495c499d01",
   "metadata": {
    "language": "python",
    "name": "PyDefineAssetOwnershipModel"
   },
   "outputs": [],
   "source": "model = rai.Model(\"client_asset_ownership\", ensure_change_tracking=True)\n\nAsset_Ownership = model.Type(\"Asset_Ownership\", source=\"rai_demo.SIMPLE_START.AssetOwnership\")",
   "execution_count": null
  },
  {
   "cell_type": "code",
   "id": "dbfd4f57-bcd6-4ca2-9b5d-37a28956f1f2",
   "metadata": {
    "language": "python",
    "name": "cell38"
   },
   "outputs": [],
   "source": "Asset_Ownership.known_properties()",
   "execution_count": null
  },
  {
   "cell_type": "code",
   "id": "ed19f8cd-7a9e-476a-bfa1-ec89cab93ed7",
   "metadata": {
    "language": "python",
    "name": "PyCountClientOwnershipRecords"
   },
   "outputs": [],
   "source": "# count number of client ownership records available.  \nwith model.query() as select:\n    t = Asset_Ownership()\n    response = select(alias(aggregates.count(t), 'nr.assets_owned_by_clients'))\nresponse",
   "execution_count": null
  },
  {
   "cell_type": "markdown",
   "id": "7b7117c7-5715-4794-b81a-74ffa280e039",
   "metadata": {
    "name": "MDCreateGraph1",
    "collapsed": false
   },
   "source": "## Create Graph of Assets Owned by the Client. \n### This graph does not include the client id for the specific asset owned by the client.  "
  },
  {
   "cell_type": "code",
   "id": "cbe83ec0-6d52-4da0-8718-6487ff44cd5b",
   "metadata": {
    "language": "python",
    "name": "PyWorkingGraph",
    "collapsed": true,
    "codeCollapsed": true
   },
   "outputs": [],
   "source": "# Assume 'model' is an existing context manager from the RelationalAI SDK.\n# Assume 'Asset_Ownership' is a pre-existing base relation with columns:\n# client_id, asset_type\n\n# --- 1. Define Node Types ---\n# A type for each unique client.\nClient = model.Type(\"Client\")\n\n# A type for each unique asset type (e.g., \"ETF\", \"Equity\", \"Bond\").\nAssetType = model.Type(\"AssetType\")\n\n# The specific Assets Owned by the client - XOM, AAPL, etc.\nAssetTypeSpecific = model.Type(\"AssetTypeSpecific\")\n\n\n# --- 2. Populate Node Types from Source Data (with Cleaning) ---\n# Import 'graphs' and the 'strings' module for data cleaning.\nfrom relationalai.std import graphs, strings\n\n# For each row in Asset_Ownership, ensure a Client entity exists for the given client_id.\n# We use strings.strip and strings.lowercase to standardize the data, removing whitespace\n# and making it case-insensitive to prevent duplicate nodes.\nwith model.rule():\n    t = Asset_Ownership()\n    cleaned_id = strings.lowercase(strings.strip(t.client_id))\n    t.set(client_id = Client.add(client_id=cleaned_id))\n\n# For each row in Asset_Ownership, ensure an AssetType entity exists for the given asset_type.\nwith model.rule():\n    t = Asset_Ownership()\n    cleaned_asset = strings.lowercase(strings.strip(t.asset_type))\n    t.set(asset_type = AssetType.add(asset_type=cleaned_asset))\n\nwith model.rule():\n    t = Asset_Ownership()\n    cleaned_asset_specific = strings.lowercase(strings.strip(t.asset_type_specific))\n    t.set(asset_type_specific = AssetTypeSpecific.add(asset_type_specific=cleaned_asset_specific,\n                                                     client_id=t.client_id))\n    # t.set(asset_type_specific = AssetTypeSpecific.add(client_id=t.client_id))\n\n\n# --- 3. Define and Build the Graph ---\n# Create a graph from the model. This will be our single source of truth.\nclientAssetOwnershipGraph = graphs.Graph(model, \"client_asset_ownership_graph\")\n\n\n# --- 4. Add Nodes to the Graph ---\n# Add every entity in the 'Client' type as a node in the graph.\nwith model.rule():\n    client = Client()\n    client.set(clientAssetOwnershipGraph.Node)\n\n# Add every entity in the 'AssetType' type as a node in the graph.\nwith model.rule():\n    assetType = AssetType()\n    assetType.set(clientAssetOwnershipGraph.Node)\n\nwith model.rule():\n    assetTypeSpecific = AssetTypeSpecific()\n    assetTypeSpecific.set(clientAssetOwnershipGraph.Node)\n\n# --- 5. Add Edges to the Graph (with Cleaning) ---\n# This is the key rule that connects the nodes correctly.\n# For each transaction in Asset_Ownership, create an edge from the\n# corresponding Client node to the corresponding AssetType node.\nwith model.rule():\n    ownership = Asset_Ownership()\n    \n    # Define the two nodes that will form the edge for this specific ownership record.\n    # We must strip and lowercase the values here as well to find the correct, cleaned nodes.\n    from_node = Client(client_id = strings.lowercase(strings.strip(ownership.client_id)))\n    to_node = AssetType(asset_type = strings.lowercase(strings.strip(ownership.asset_type)))\n\n    # Add the edge connecting these two specific nodes.\n    clientAssetOwnershipGraph.Edge.add(from_=from_node, to=to_node)\n    \n    from_node_asset_type_specific = AssetType(asset_type = strings.lowercase(strings.strip(ownership.asset_type)))\n    to_node_asset_type_specific = AssetTypeSpecific(asset_type_specific = strings.lowercase(strings.strip(ownership.asset_type_specific)))\n\n    # Add the edge connecting these two specific nodes.\n    clientAssetOwnershipGraph.Edge.add(from_=from_node_asset_type_specific\n                                            , to=to_node_asset_type_specific)\n# --- 6. Configure Visualization ---\n# Get the Node type from the graph we already created.\nNode = clientAssetOwnershipGraph.Node\n\n# Configure how Client nodes should look in the visualization.\n# The label and hover text will be the client's ID.\nNode.extend(Client, label=Client.client_id, hover=Client.client_id)\n\n# Configure how AssetType nodes should look.\n# The label and hover text will be the asset type's name.\nNode.extend(AssetType, label=AssetType.asset_type, hover=AssetType.asset_type)\n\nNode.extend(AssetTypeSpecific, label=AssetTypeSpecific.asset_type_specific)\n\n\n# --- 7. Display the Graph ---\n# Call the visualize method on the graph object we have built and configured.\n# This will generate and display the interactive graph visualization.\n# Note: This command is typically run in an environment like a Jupyter notebook.\nclientAssetOwnershipGraph.visualize().display(inline=True)\n",
   "execution_count": null
  },
  {
   "cell_type": "markdown",
   "id": "09d10e21-239d-45db-928b-cf6c28f5d094",
   "metadata": {
    "name": "MDGraphWithClientIDInSpecificAsset",
    "collapsed": false
   },
   "source": "## Create a Graph of the assets owned by the client. \n### The client ID is included as part of each specific asset.  "
  },
  {
   "cell_type": "code",
   "id": "40ceb99e-d2e0-49d3-8d45-86a8bbfcb2f5",
   "metadata": {
    "language": "python",
    "name": "PyFullGraph"
   },
   "outputs": [],
   "source": "# Assume 'model' is an existing context manager from the RelationalAI SDK.\n# Assume 'Asset_Ownership' is a pre-existing base relation with columns:\n# client_id, asset_type, asset_type_specific\n\n# --- 1. Define Node Types ---\n# A type for each unique client.\nClient = model.Type(\"Client\")\n\n# A type for each unique asset type (e.g., \"ETF\", \"Equity\", \"Bond\").\nAssetType = model.Type(\"AssetType\")\n\n# A type for a client's specific holding of an asset.\nClientSpecificAsset = model.Type(\"ClientSpecificAsset\")\n# The composite key is defined by declaring the fields that comprise it.\nClientSpecificAsset.asset_type_specific.declare()\nClientSpecificAsset.client_id.declare()\n# Define a new property to hold the computed label for visualization.\nClientSpecificAsset.label.declare()\n\n\n# --- 2. Populate Node Types from Source Data (with Cleaning) ---\n# Import 'graphs' and the 'strings' module for data cleaning.\nfrom relationalai.std import graphs, strings\n\n# For each row in Asset_Ownership, ensure a Client entity exists.\nwith model.rule():\n    t = Asset_Ownership()\n    cleaned_id = strings.lowercase(strings.strip(t.client_id))\n    t.set(client_id = Client.add(client_id=cleaned_id))\n\n# For each row in Asset_Ownership, ensure an AssetType entity exists.\nwith model.rule():\n    t = Asset_Ownership()\n    cleaned_asset_type = strings.lowercase(strings.strip(t.asset_type))\n    t.set(asset_type = AssetType.add(asset_type=cleaned_asset_type))\n\n# For each row, ensure a ClientSpecificAsset entity exists.\nwith model.rule():\n    t = Asset_Ownership()\n    cleaned_asset_specific = strings.lowercase(strings.strip(t.asset_type_specific))\n    cleaned_client_id = strings.lowercase(strings.strip(t.client_id))\n    # Add the node with its composite key\n    ClientSpecificAsset.add(asset_type_specific=cleaned_asset_specific, client_id=cleaned_client_id)\n\n# NEW RULE: Compute and set the label property for each specific asset.\n# This happens \"in context\", which resolves the error.\nwith model.rule():\n    asset = ClientSpecificAsset()\n    # Concatenate the asset name and client ID to create the label text.\n    computed_label = strings.concat(\n        asset.asset_type_specific, \" (\", asset.client_id, \")\"\n    )\n    # Set the 'label' property on the entity.\n    asset.set(label = computed_label)\n\n\n# --- 3. Define and Build the Graph ---\n# Create a graph from the model. This will be our single source of truth.\nclientAssetOwnershipGraph = graphs.Graph(model, \"client_asset_ownership_graph\")\n\n\n# --- 4. Add Nodes to the Graph ---\n# Add all defined entities as nodes in the graph.\nwith model.rule():\n    client = Client()\n    client.set(clientAssetOwnershipGraph.Node)\nwith model.rule():\n    assetType = AssetType()\n    assetType.set(clientAssetOwnershipGraph.Node)\nwith model.rule():\n    specificAsset = ClientSpecificAsset()\n    specificAsset.set(clientAssetOwnershipGraph.Node)\n\n\n# --- 5. Add Edges to the Graph (with Cleaning) ---\n# Edge: Client -> AssetType\nwith model.rule():\n    ownership = Asset_Ownership()\n    from_node = Client(client_id=strings.lowercase(strings.strip(ownership.client_id)))\n    to_node = AssetType(asset_type=strings.lowercase(strings.strip(ownership.asset_type)))\n    clientAssetOwnershipGraph.Edge.add(from_=from_node, to=to_node)\n\n# Edge: AssetType -> ClientSpecificAsset\nwith model.rule():\n    ownership = Asset_Ownership()\n    from_node = AssetType(asset_type=strings.lowercase(strings.strip(ownership.asset_type)))\n    # Construct the 'to_node' using the composite key\n    to_node = ClientSpecificAsset(\n        asset_type_specific=strings.lowercase(strings.strip(ownership.asset_type_specific)),\n        client_id=strings.lowercase(strings.strip(ownership.client_id))\n    )\n    clientAssetOwnershipGraph.Edge.add(from_=from_node, to=to_node)\n\n\n# --- 6. Configure Visualization ---\nNode = clientAssetOwnershipGraph.Node\n\n# Configure Client and AssetType nodes.\nNode.extend(Client, label=Client.client_id, hover=Client.client_id)\nNode.extend(AssetType, label=AssetType.asset_type, hover=AssetType.asset_type)\n\n# Configure the ClientSpecificAsset node label.\n# We now refer to the pre-computed 'label' property.\nNode.extend(ClientSpecificAsset, label=ClientSpecificAsset.label)\n\n\n# --- 7. Display the Graph ---\n# Call the visualize method on the graph object we have built and configured.\nclientAssetOwnershipGraph.visualize().display(inline=True)\n",
   "execution_count": null
  },
  {
   "cell_type": "markdown",
   "id": "809602ab-9254-4b96-bc95-1d444d05341c",
   "metadata": {
    "name": "MDGraphConstruction",
    "collapsed": false
   },
   "source": "## Duplicate of above cell, but includes Jaccard Similarity.  "
  },
  {
   "cell_type": "code",
   "id": "2c3d87e2-f27d-4568-b8bb-f706d64c2c24",
   "metadata": {
    "language": "python",
    "name": "PYRAIReasoner"
   },
   "outputs": [],
   "source": "# Assume 'model' is an existing context manager from the RelationalAI SDK.\n# Assume 'Asset_Ownership' is a pre-existing base relation with columns:\n# client_id, asset_type, asset_type_specific\n\n# --- 1. Define Node Types ---\n# A type for each unique client.\nClient = model.Type(\"Client\")\n\n# A type for each unique asset type (e.g., \"ETF\", \"Equity\", \"Bond\").\nAssetType = model.Type(\"AssetType\")\n\n# A type for a client's specific holding of an asset.\nClientSpecificAsset = model.Type(\"ClientSpecificAsset\")\n# The composite key is defined by declaring the fields that comprise it.\nClientSpecificAsset.asset_type_specific.declare()\nClientSpecificAsset.client_id.declare()\n# Define a new property to hold the computed label for visualization.\nClientSpecificAsset.label.declare()\n\n\n# --- 2. Populate Node Types from Source Data (with Cleaning) ---\n# Import 'graphs' and the 'strings' module for data cleaning.\nfrom relationalai.std import graphs, strings, alias\n\n# For each row in Asset_Ownership, ensure a Client entity exists.\nwith model.rule():\n    t = Asset_Ownership()\n    cleaned_id = strings.lowercase(strings.strip(t.client_id))\n    t.set(client_id = Client.add(client_id=cleaned_id))\n\n# For each row in Asset_Ownership, ensure an AssetType entity exists.\nwith model.rule():\n    t = Asset_Ownership()\n    cleaned_asset_type = strings.lowercase(strings.strip(t.asset_type))\n    t.set(asset_type = AssetType.add(asset_type=cleaned_asset_type))\n\n# For each row, ensure a ClientSpecificAsset entity exists.\nwith model.rule():\n    t = Asset_Ownership()\n    cleaned_asset_specific = strings.lowercase(strings.strip(t.asset_type_specific))\n    cleaned_client_id = strings.lowercase(strings.strip(t.client_id))\n    # Add the node with its composite key\n    ClientSpecificAsset.add(asset_type_specific=cleaned_asset_specific, client_id=cleaned_client_id)\n\n# NEW RULE: Compute and set the label property for each specific asset.\n# This happens \"in context\", which resolves the error.\nwith model.rule():\n    asset = ClientSpecificAsset()\n    # Concatenate the asset name and client ID to create the label text.\n    computed_label = strings.concat(\n        asset.asset_type_specific, \" (\", asset.client_id, \")\"\n    )\n    # Set the 'label' property on the entity.\n    asset.set(label = computed_label)\n\n\n# --- 3. Define and Build the Graph ---\n# Create a graph from the model. This will be our single source of truth.\nclientAssetOwnershipGraph = graphs.Graph(model, \"client_asset_ownership_graph\")\n\n\n# --- 4. Add Nodes to the Graph ---\n# Add all defined entities as nodes in the graph.\nwith model.rule():\n    client = Client()\n    client.set(clientAssetOwnershipGraph.Node)\nwith model.rule():\n    assetType = AssetType()\n    assetType.set(clientAssetOwnershipGraph.Node)\nwith model.rule():\n    specificAsset = ClientSpecificAsset()\n    specificAsset.set(clientAssetOwnershipGraph.Node)\n\n\n# --- 5. Add Edges to the Graph (with Cleaning) ---\n# Edge: Client -> AssetType\nwith model.rule():\n    ownership = Asset_Ownership()\n    from_node = Client(client_id=strings.lowercase(strings.strip(ownership.client_id)))\n    to_node = AssetType(asset_type=strings.lowercase(strings.strip(ownership.asset_type)))\n    clientAssetOwnershipGraph.Edge.add(from_=from_node, to=to_node)\n\n# Edge: AssetType -> ClientSpecificAsset\nwith model.rule():\n    ownership = Asset_Ownership()\n    from_node = AssetType(asset_type=strings.lowercase(strings.strip(ownership.asset_type)))\n    # Construct the 'to_node' using the composite key\n    to_node = ClientSpecificAsset(\n        asset_type_specific=strings.lowercase(strings.strip(ownership.asset_type_specific)),\n        client_id=strings.lowercase(strings.strip(ownership.client_id))\n    )\n    clientAssetOwnershipGraph.Edge.add(from_=from_node, to=to_node)\n\n\n# --- 6. Configure Visualization ---\nNode = clientAssetOwnershipGraph.Node\n\n# Configure Client and AssetType nodes.\nNode.extend(Client, label=Client.client_id, hover=Client.client_id)\nNode.extend(AssetType, label=AssetType.asset_type, hover=AssetType.asset_type)\n\n# Configure the ClientSpecificAsset node label.\n# We now refer to the pre-computed 'label' property.\nNode.extend(ClientSpecificAsset, label=ClientSpecificAsset.label)\n\n\n# --- 7. Display the Graph ---\n# Call the visualize method on the graph object we have built and configured.\nclientAssetOwnershipGraph.visualize().display(inline=True)\n\n\n# --- 8. Jaccard Similarity for Client Portfolios ---\n\n# To calculate similarity based on specific assets, we need a graph\n# that connects clients directly to the assets they own.\n\n# Define a simple type for the ticker symbols to act as shared nodes.\nTickerSymbol = model.Type(\"TickerSymbol\")\nTickerSymbol.ticker_symbol.declare()\n\n# Populate the TickerSymbol type from the source data.\nwith model.rule():\n    t = Asset_Ownership()\n    cleaned_ticker = strings.lowercase(strings.strip(t.asset_type_specific))\n    TickerSymbol.add(ticker_symbol=cleaned_ticker)\n\n# Create a new, separate graph for the similarity calculation.\nsimilarityGraph = graphs.Graph(model, \"client_similarity_graph\")\n\n# Add Client and TickerSymbol entities as nodes to the new graph.\nwith model.rule():\n    client = Client()\n    similarityGraph.Node.add(client)\nwith model.rule():\n    ticker = TickerSymbol()\n    similarityGraph.Node.add(ticker)\n\n# Add edges connecting each Client to the TickerSymbols they own.\nwith model.rule():\n    ownership = Asset_Ownership()\n    client_node = Client(client_id=strings.lowercase(strings.strip(ownership.client_id)))\n    ticker_node = TickerSymbol(ticker_symbol=strings.lowercase(strings.strip(ownership.asset_type_specific)))\n    similarityGraph.Edge.add(from_=client_node, to=ticker_node)\n\n\n# Query: Who has a similar portfolio to 'client_a'?\nwith model.query() as select:\n    # Define the client we are comparing against.\n    # Note: the client_id must match the cleaned version used in the model.\n    target_client = Client(client_id='client_g')\n\n    # Iterate through all other clients.\n    other_client = Client()\n    other_client.client_id != 'client_g'\n\n    # Compute Jaccard similarity based on shared specific assets in the similarityGraph.\n    score = similarityGraph.compute.jaccard_similarity(other_client, target_client)\n\n    # Select the client name and their similarity score.\n    response = select(\n        other_client.client_id,\n        alias(score, \"similarity_to_client_g\")\n    )\nprint('Jaccard Similarity')\nresponse\n# The 'response' object is now defined. To get the results, you would execute it,\n# for example: results = conn.execute(response)\n",
   "execution_count": null
  },
  {
   "cell_type": "markdown",
   "id": "4bdaf053-c4a5-40df-be5e-8e358e10e072",
   "metadata": {
    "name": "MDJaccardSimilarity",
    "collapsed": false
   },
   "source": "## Compute Jaccard Similarity for Client G. "
  },
  {
   "cell_type": "code",
   "id": "9dfd1dd0-7224-46a2-b304-0f10ee62b696",
   "metadata": {
    "language": "python",
    "name": "JaccardSimilarity"
   },
   "outputs": [],
   "source": "# Query: Who has a similar portfolio to 'client_a'?\nwith model.query() as select:\n    # Define the client we are comparing against.\n    # Note: the client_id must match the cleaned version used in the model.\n    target_client = Client(client_id='client_g')\n\n    # Iterate through all other clients.\n    other_client = Client()\n    other_client.client_id != 'client_g'\n\n    # Compute Jaccard similarity based on shared specific assets in the similarityGraph.\n    score = similarityGraph.compute.jaccard_similarity(other_client, target_client)\n\n    # Select the client name and their similarity score.\n    response = select(\n        other_client.client_id,\n        alias(score, \"similarity_to_client_g\")\n    )\nresponse",
   "execution_count": null
  },
  {
   "cell_type": "markdown",
   "id": "c46ce2c7-6d2a-43d5-be7e-01addc92b9d7",
   "metadata": {
    "name": "MDVisualizeClientGClientJ",
    "collapsed": false
   },
   "source": "## According to the Jaccard Similarity Scores, Client G & Client J have much in common.  \n### Let's visualize the graphs for Client G & Client J to learn more about their portfolio holding.  "
  },
  {
   "cell_type": "markdown",
   "id": "1044646e-76c5-42b5-9c45-44ab042f171d",
   "metadata": {
    "name": "MDVisualizeClientG",
    "collapsed": false
   },
   "source": "## Visualize the Portfolio of Client G.  "
  },
  {
   "cell_type": "code",
   "id": "6e8e4ea6-a346-498e-ba0b-a133b89100de",
   "metadata": {
    "language": "python",
    "name": "PyVisualizeSingleClientG"
   },
   "outputs": [],
   "source": "# --- 9. Visualize a Single Client's Portfolio ---\n\n# This code assumes the Types (Client, AssetType, ClientSpecificAsset) and\n# helper modules (graphs, strings) from the previous cell are available.\n\n# Create a new, separate graph for this specific visualization.\nsingleClientGraph = graphs.Graph(model, \"single_client_portfolio_graph\")\n\n# Define the client we want to visualize.\n# This must match the cleaned version (lowercase, no whitespace).\ntarget_client_id = 'client_g'\n\n# Rule to add nodes and edges related ONLY to the target client.\nwith model.rule():\n    ownership = Asset_Ownership()\n    # Apply a relational filter within the rule's context.\n    # This ensures the rest of the rule only executes for matching rows.\n    strings.lowercase(strings.strip(ownership.client_id)) == target_client_id\n\n    # Define all the nodes based on this filtered data.\n    client_node = Client(client_id=target_client_id)\n    asset_type_node = AssetType(asset_type=strings.lowercase(strings.strip(ownership.asset_type)))\n    specific_asset_node = ClientSpecificAsset(\n        asset_type_specific=strings.lowercase(strings.strip(ownership.asset_type_specific)),\n        client_id=target_client_id\n    )\n\n    # Add all relevant nodes to the new graph.\n    singleClientGraph.Node.add(client_node)\n    singleClientGraph.Node.add(asset_type_node)\n    singleClientGraph.Node.add(specific_asset_node)\n\n    # Add the edges between these nodes.\n    singleClientGraph.Edge.add(from_=client_node, to=asset_type_node)\n    singleClientGraph.Edge.add(from_=asset_type_node, to=specific_asset_node)\n\n# Configure the visualization for the new, filtered graph.\nSingleClientNode = singleClientGraph.Node\nSingleClientNode.extend(Client, label=Client.client_id)\nSingleClientNode.extend(AssetType, label=AssetType.asset_type)\n# Use the pre-computed label from the main model for the specific asset nodes.\nSingleClientNode.extend(ClientSpecificAsset, label=ClientSpecificAsset.label)\n\n# Display the new graph containing only the target client's portfolio.\nsingleClientGraph.visualize().display(inline=True)\n",
   "execution_count": null
  },
  {
   "cell_type": "markdown",
   "id": "de4dbbab-d3c0-4e89-883a-0f488ae7f5c3",
   "metadata": {
    "name": "MDVisualizeClientJ",
    "collapsed": false
   },
   "source": "## Visualize the Portfolio Holdings for Client J"
  },
  {
   "cell_type": "code",
   "id": "e5f4b4c6-3dae-4b5e-8d76-8f4a9715042f",
   "metadata": {
    "language": "python",
    "name": "PyVisualizeClientJ"
   },
   "outputs": [],
   "source": "# --- 9. Visualize a Single Client's Portfolio ---\n\n# This code assumes the Types (Client, AssetType, ClientSpecificAsset) and\n# helper modules (graphs, strings) from the previous cell are available.\n\n# Create a new, separate graph for this specific visualization.\nsingleClientGraph = graphs.Graph(model, \"single_client_portfolio_graph\")\n\n# Define the client we want to visualize.\n# This must match the cleaned version (lowercase, no whitespace).\ntarget_client_id = 'client_j'\n\n# Rule to add nodes and edges related ONLY to the target client.\nwith model.rule():\n    ownership = Asset_Ownership()\n    # Apply a relational filter within the rule's context.\n    # This ensures the rest of the rule only executes for matching rows.\n    strings.lowercase(strings.strip(ownership.client_id)) == target_client_id\n\n    # Define all the nodes based on this filtered data.\n    client_node = Client(client_id=target_client_id)\n    asset_type_node = AssetType(asset_type=strings.lowercase(strings.strip(ownership.asset_type)))\n    specific_asset_node = ClientSpecificAsset(\n        asset_type_specific=strings.lowercase(strings.strip(ownership.asset_type_specific)),\n        client_id=target_client_id\n    )\n\n    # Add all relevant nodes to the new graph.\n    singleClientGraph.Node.add(client_node)\n    singleClientGraph.Node.add(asset_type_node)\n    singleClientGraph.Node.add(specific_asset_node)\n\n    # Add the edges between these nodes.\n    singleClientGraph.Edge.add(from_=client_node, to=asset_type_node)\n    singleClientGraph.Edge.add(from_=asset_type_node, to=specific_asset_node)\n\n# Configure the visualization for the new, filtered graph.\nSingleClientNode = singleClientGraph.Node\nSingleClientNode.extend(Client, label=Client.client_id)\nSingleClientNode.extend(AssetType, label=AssetType.asset_type)\n# Use the pre-computed label from the main model for the specific asset nodes.\nSingleClientNode.extend(ClientSpecificAsset, label=ClientSpecificAsset.label)\n\n# Display the new graph containing only the target client's portfolio.\nsingleClientGraph.visualize().display(inline=True)\n",
   "execution_count": null
  },
  {
   "cell_type": "code",
   "id": "4f26c293-f446-424c-8161-9dfa8e7834c8",
   "metadata": {
    "language": "python",
    "name": "cell3",
    "collapsed": true,
    "codeCollapsed": true
   },
   "outputs": [],
   "source": "# Assume 'model' is an existing context manager from the RelationalAI SDK.\n# Assume 'Asset_Ownership' is a pre-existing base relation with columns:\n# client_id, asset_type, asset_type_specific, quantity, purchase_price, current_price, purchase_date\n\n# --- 1. Define Node Types ---\n# A type for each unique client.\nClient = model.Type(\"Client\")\n\n# A type for each unique asset type (e.g., \"ETF\", \"Equity\", \"Bond\").\nAssetType = model.Type(\"AssetType\")\n\n# A type for a client's specific holding of an asset.\n# Based on the assumption of one transaction per asset, the key is simplified.\nClientSpecificAsset = model.Type(\"ClientSpecificAsset\")\nClientSpecificAsset.asset_type_specific.declare()\nClientSpecificAsset.client_id.declare()\n# Define properties to hold the label and financial data.\nClientSpecificAsset.label.declare()\nClientSpecificAsset.quantity.declare()\nClientSpecificAsset.purchase_price.declare()\nClientSpecificAsset.current_price.declare()\nClientSpecificAsset.purchase_date.declare()\n\n\n# --- 2. Populate Node Types and Properties from Source Data ---\n# Import necessary modules and functions.\nfrom relationalai.std import graphs, strings, alias\n\n# For each row in Asset_Ownership, ensure a Client entity exists.\nwith model.rule():\n    t = Asset_Ownership()\n    cleaned_id = strings.lowercase(strings.strip(t.client_id))\n    t.set(client_id = Client.add(client_id=cleaned_id))\n\n# For each row in Asset_Ownership, ensure an AssetType entity exists.\nwith model.rule():\n    t = Asset_Ownership()\n    cleaned_asset_type = strings.lowercase(strings.strip(t.asset_type))\n    t.set(asset_type = AssetType.add(asset_type=cleaned_asset_type))\n\n# For each row, ensure a ClientSpecificAsset entity exists.\nwith model.rule():\n    t = Asset_Ownership()\n    cleaned_asset_specific = strings.lowercase(strings.strip(t.asset_type_specific))\n    cleaned_client_id = strings.lowercase(strings.strip(t.client_id))\n    # Add the node with its simplified composite key.\n    ClientSpecificAsset.add(\n        asset_type_specific=cleaned_asset_specific,\n        client_id=cleaned_client_id\n    )\n\n# NEW RULE: Compute and set the properties for each specific asset.\nwith model.rule():\n    # We join the entity with the source data to get all the properties.\n    asset = ClientSpecificAsset()\n    ownership = Asset_Ownership()\n    # Simplified join condition.\n    asset.asset_type_specific == strings.lowercase(strings.strip(ownership.asset_type_specific))\n    asset.client_id == strings.lowercase(strings.strip(ownership.client_id))\n\n    # Create a single, detailed label by concatenating all desired information.\n    # The `strings.concat` function will handle the conversion of numbers and dates.\n    computed_label = strings.concat(\n        asset.asset_type_specific, \" (\", asset.client_id, \")\\n\",\n        \"Qty: \", ownership.quantity, \", Price: \", ownership.purchase_price, \"\\n\",\n        \"Date: \", ownership.purchase_date\n    )\n    # Set all the properties on the entity.\n    asset.set(\n        label = computed_label,\n        quantity = ownership.quantity,\n        purchase_price = ownership.purchase_price,\n        current_price = ownership.current_price,\n        purchase_date = ownership.purchase_date\n    )\n\n\n# --- 3. Define and Build the Graph ---\n# Create a graph from the model. This will be our single source of truth.\nclientAssetOwnershipGraph = graphs.Graph(model, \"client_asset_ownership_graph\")\n\n\n# --- 4. Add Nodes to the Graph ---\n# Add all defined entities as nodes in the graph.\nwith model.rule():\n    client = Client()\n    client.set(clientAssetOwnershipGraph.Node)\nwith model.rule():\n    assetType = AssetType()\n    assetType.set(clientAssetOwnershipGraph.Node)\nwith model.rule():\n    specificAsset = ClientSpecificAsset()\n    specificAsset.set(clientAssetOwnershipGraph.Node)\n\n\n# --- 5. Add Edges to the Graph (with Cleaning) ---\n# Edge: Client -> AssetType\nwith model.rule():\n    ownership = Asset_Ownership()\n    from_node = Client(client_id=strings.lowercase(strings.strip(ownership.client_id)))\n    to_node = AssetType(asset_type=strings.lowercase(strings.strip(ownership.asset_type)))\n    clientAssetOwnershipGraph.Edge.add(from_=from_node, to=to_node)\n\n# Edge: AssetType -> ClientSpecificAsset\nwith model.rule():\n    ownership = Asset_Ownership()\n    from_node = AssetType(asset_type=strings.lowercase(strings.strip(ownership.asset_type)))\n    # Construct the 'to_node' using the simplified composite key.\n    to_node = ClientSpecificAsset(\n        asset_type_specific=strings.lowercase(strings.strip(ownership.asset_type_specific)),\n        client_id=strings.lowercase(strings.strip(ownership.client_id))\n    )\n    clientAssetOwnershipGraph.Edge.add(from_=from_node, to=to_node)\n\n\n# --- 6. Configure Visualization ---\nNode = clientAssetOwnershipGraph.Node\n\n# Configure Client and AssetType nodes.\nNode.extend(Client, label=Client.client_id, hover=Client.client_id)\nNode.extend(AssetType, label=AssetType.asset_type, hover=AssetType.asset_type)\n\n# Configure the ClientSpecificAsset node label.\n# We now refer to the pre-computed, detailed label property.\nNode.extend(ClientSpecificAsset, label=ClientSpecificAsset.label)\n\n\n# --- 7. Display the Graph ---\n# Call the visualize method on the graph object we have built and configured.\nclientAssetOwnershipGraph.visualize().display(inline=True)\n\n\n# --- 8. Jaccard Similarity for Client Portfolios ---\n\n# To calculate similarity based on specific assets, we need a graph\n# that connects clients directly to the assets they own.\n\n# Define a simple type for the ticker symbols to act as shared nodes.\nTickerSymbol = model.Type(\"TickerSymbol\")\nTickerSymbol.ticker_symbol.declare()\n\n# Populate the TickerSymbol type from the source data.\nwith model.rule():\n    t = Asset_Ownership()\n    cleaned_ticker = strings.lowercase(strings.strip(t.asset_type_specific))\n    TickerSymbol.add(ticker_symbol=cleaned_ticker)\n\n# Create a new, separate graph for the similarity calculation.\nsimilarityGraph = graphs.Graph(model, \"client_similarity_graph\")\n\n# Add Client and TickerSymbol entities as nodes to the new graph.\nwith model.rule():\n    client = Client()\n    similarityGraph.Node.add(client)\nwith model.rule():\n    ticker = TickerSymbol()\n    similarityGraph.Node.add(ticker)\n\n# Add edges connecting each Client to the TickerSymbols they own.\nwith model.rule():\n    ownership = Asset_Ownership()\n    client_node = Client(client_id=strings.lowercase(strings.strip(ownership.client_id)))\n    ticker_node = TickerSymbol(ticker_symbol=strings.lowercase(strings.strip(ownership.asset_type_specific)))\n    similarityGraph.Edge.add(from_=client_node, to=ticker_node)\n\n\n# Query: Who has a similar portfolio to 'client_a'?\nwith model.query() as select:\n    # Define the client we are comparing against.\n    # Note: the client_id must match the cleaned version used in the model.\n    target_client = Client(client_id='client_a')\n\n    # Iterate through all other clients.\n    other_client = Client()\n    other_client.client_id != 'client_a'\n\n    # Compute Jaccard similarity based on shared specific assets in the similarityGraph.\n    score = similarityGraph.compute.jaccard_similarity(other_client, target_client)\n\n    # Select the client name and their similarity score.\n    response = select(\n        other_client.client_id,\n        alias(score, \"similarity_to_client_a\")\n    )\n\n# The 'response' object is now defined. To get the results, you would execute it,\n# for example: results = conn.execute(response)\n",
   "execution_count": null
  },
  {
   "cell_type": "markdown",
   "id": "d93b5d1b-bbf3-4617-83e6-944c383dfe35",
   "metadata": {
    "name": "MDWhatIsNext",
    "collapsed": false
   },
   "source": "# 🚀 What's Next? From Insight to Action 💡\nWhat we've shown you today is just the beginning 🌱. The Client Wealth Map is a living foundation for deeper, more powerful analysis.\n\n## 🔎 Unmask Influence with Centrality Measures\n- Identify Key Connectors 🔗: Discover which assets or goals are most central to your clients' portfolios.\n- Understand Client Needs 🧠: Gain a deeper understanding of your clients' core financial drivers and motivations.\n\n## 🔑 Unlock Hidden Segments with Community Detection\n- Hyper-Personalization 🎯: Automatically segment clients into nuanced groups based on their entire financial DNA, not just simple demographics.\n- Spot Emerging Trends 📈: Discover hidden communities of clients with shared interests, like a growing interest in ESG investing.\n\n## 💰 Drive Business Growth\n- Enhanced Product Development ⚙️: Use community insights to build new, tailored products—like an ESG-focused investment fund—for a well-defined, organic client base.\n- Targeted Engagement 📣: Create specific educational content and advisory services that resonate deeply with each discovered community.\n\n## ⚡ The Power of the Modern Data Stack ⚡\n## Snowflake ❄️ + RelationalAI 🧠\n#### By combining the unlimited scale and security 🛡️ of the Snowflake Data Cloud with the declarative power 💪 of the Relational AI coprocessor, building a deep, actionable understanding of your clients has never been more straightforward. ✅\n\nThank you for watching! 👋"
  }
 ]
}