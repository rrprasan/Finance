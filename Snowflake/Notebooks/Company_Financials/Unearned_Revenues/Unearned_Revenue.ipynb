{
 "metadata": {
  "kernelspec": {
   "display_name": "Streamlit Notebook",
   "name": "streamlit"
  }
 },
 "nbformat_minor": 5,
 "nbformat": 4,
 "cells": [
  {
   "cell_type": "markdown",
   "id": "40a1685b-c603-4891-a79b-a1039508693f",
   "metadata": {
    "name": "DeferredRevenueTitleMD",
    "collapsed": false,
    "resultHeight": 417
   },
   "source": "# Exploring the Fascinating World of Deferred Revenue.  \n### Deferred revenue, also known as unearned revenue, refers to advance payments a company receives for products or services that are to be delivered or performed in the future. The company that receives the prepayment records the amount as deferred revenue, a liability on its balance sheet. (Source: [Investopedia](https://www.investopedia.com/terms/d/deferredrevenue.asp#:~:text=Deferred%20revenue%2C%20also%20known%20as,liability%20on%20its%20balance%20sheet.))\n\n### Software companies in the SaaS and IaaS business, sell multi-year contracts to their customers. The [FASB](https://fasb.org/) sets the accounting standards in the U.S. and they, along with the [IFRS](https://www.ifrs.org/groups/international-accounting-standards-board/), have determined the rules for how revenue from long-running contracts are recongnized.   \n### Studying the unearned revenue may offer clues to the amount of revenue the company has already booked for the next fiscal year.  \n### We will compare the latest unearned revenue data against the last available annual revenue and calculate the percentage of the _**next fiscal year's annual revenue**_ the company already has in deferred revenue that will be recognized as revenue over the next fiscal year.     \n"
  },
  {
   "cell_type": "markdown",
   "id": "75ebe8ee-aca8-4f9b-bff6-69ee5a5b8683",
   "metadata": {
    "name": "CreateStageInSnowflakeMD",
    "collapsed": false,
    "resultHeight": 60
   },
   "source": "## Create a Stage in Snowflake to store each company's financial files. "
  },
  {
   "cell_type": "code",
   "id": "a25c0741-b12e-448d-aa4c-039c2c000c67",
   "metadata": {
    "language": "sql",
    "name": "CreateStageInSnowflakeSQL",
    "collapsed": false,
    "resultHeight": 112
   },
   "outputs": [],
   "source": "CREATE STAGE COMPANY_FINANCIALS_RAW_INTERNAL_STAGE \n\tDIRECTORY = ( ENABLE = true ) \n\tCOMMENT = 'Created for Notebook Sharing With Public Snowflake Managed Stage for Hosting Company Financial Data';",
   "execution_count": null
  },
  {
   "cell_type": "markdown",
   "id": "b5263d60-0b54-4876-882c-3728bd2d478b",
   "metadata": {
    "name": "UploadJSONFilesMD",
    "collapsed": false,
    "resultHeight": 1033
   },
   "source": "# Instructions to upload the Unearned Revenue And the Revenue data files into the stage.\n- Copy the unearned revenue and the revenue JSON data files into the Snowflake internal stage - COMPANY_FINANCIALS_RAW_INTERNAL_STAGE.\n### You can download the Unearned Revenue JSON files from [Github here](https://github.com/rrprasan/Finance/tree/main/Snowflake/Notebooks/Company_Financials/Unearned_Revenues/balance_sheet/liabilities/current_liabilities/ContractWithCustomerLiabilityCurrent).\n### You can download the Revenue JSON files from [Github here](https://github.com/rrprasan/Finance/tree/main/Snowflake/Notebooks/Company_Financials/Revenues)\n- Follow the [following steps](https://docs.snowflake.com/en/user-guide/data-load-local-file-system-stage-ui#upload-files-onto-a-named-internal-stage) in Snowsight.  \n### 1. Sign in to Snowsight.\n### 2. Select Data » Add Data.\n### 3. On the Add Data page, select Load files into a Stage.\n### 4. In the Upload Your Files dialog that appears, select the files that you want to upload. You can upload multiple files at the same time.\n### 5. Select the database schema in which you created the stage, then select the stage.\n### 6. Optionally, select or create a path where you want to save your files within the stage.\n### 7. Select Upload.\n\n\n### The official tag for the deferred revenue given by the SEC and the terminology used by FASB is *\"ContractWithCustomerLiabilityCurrent\"*\n\n### The deferred revenue and the revenue files are available for the following companies:\n- [Adobe](https://www.google.com/finance/quote/ADBE:NASDAQ?hl=en)\n- [Amazon](https://www.google.com/finance/quote/AMZN:NASDAQ?hl=en)\n- [Salesforce](https://www.google.com/finance/quote/CRM:NYSE?hl=en)\n- [Cisco](https://www.google.com/finance/quote/CSCO:NASDAQ?hl=en)\n- [Google (Alphabet)](https://www.google.com/finance/quote/GOOGL:NASDAQ?hl=en)\n- [Microsoft](https://www.google.com/finance/quote/MSFT:NASDAQ?hl=en)\n- [ServiceNow](https://www.google.com/finance/quote/NOW:NYSE?hl=en)\n- [Oracle](https://www.google.com/finance/quote/ORCL:NYSE?hl=en)\n- [PaloAlto Networks](https://www.google.com/finance/quote/PANW:NASDAQ?hl=en)"
  },
  {
   "cell_type": "markdown",
   "id": "829c913c-8088-4ea0-a709-9ec5801bd53d",
   "metadata": {
    "name": "ListFilesInStageMD",
    "collapsed": false,
    "resultHeight": 60
   },
   "source": "## List the files in the stage.   "
  },
  {
   "cell_type": "code",
   "id": "3b9d116a-38f2-4f40-b4c7-80fa82a4025b",
   "metadata": {
    "language": "sql",
    "name": "ListFilesinStageSQL",
    "resultHeight": 439,
    "collapsed": false
   },
   "outputs": [],
   "source": "LIST @COMPANY_FINANCIALS_RAW_INTERNAL_STAGE;",
   "execution_count": null
  },
  {
   "cell_type": "markdown",
   "id": "e5073365-cca2-49c3-b877-2ecf9d2b115e",
   "metadata": {
    "name": "CreateTableUnearnedMD",
    "collapsed": false,
    "resultHeight": 107
   },
   "source": "## Create a table to store the JSON data from the JSON files in the stage.\n### We store the JSON data in the [VARIANT](https://docs.snowflake.com/en/sql-reference/data-types-semistructured) datatype. "
  },
  {
   "cell_type": "code",
   "id": "a856458f-6bc8-433a-ba60-03b8b7cf37ae",
   "metadata": {
    "language": "sql",
    "name": "CreateTblUnearnedRevenueSQL",
    "collapsed": false,
    "resultHeight": 112
   },
   "outputs": [],
   "source": "CREATE OR REPLACE TABLE UNEARNED_REVENUE_TBL \n(\n    UNEARNED_REVENUE_JSON VARIANT\n);",
   "execution_count": null
  },
  {
   "cell_type": "markdown",
   "id": "bca9c221-29b1-4528-921b-252568fd2568",
   "metadata": {
    "name": "CopyIntoUnearnedRevenueMD",
    "collapsed": false,
    "resultHeight": 107
   },
   "source": "## Use the [COPY](https://docs.snowflake.com/en/sql-reference/sql/copy-into-table) command to load the data into Snowflake. \n### I created a directory structure in the stage. But, that's not necessary when you load files.    "
  },
  {
   "cell_type": "code",
   "id": "833a51db-0e90-4b7d-be8c-3d512c0524a3",
   "metadata": {
    "language": "sql",
    "name": "CopyIntoUnearnedRevenueSQL",
    "collapsed": false,
    "resultHeight": 392
   },
   "outputs": [],
   "source": "COPY INTO UNEARNED_REVENUE_TBL \nFROM \n    @COMPANY_FINANCIALS_RAW_INTERNAL_STAGE \nFILES = (\n'balance_sheet/liabilities/current_liabilities/ContractWithCustomerLiabilityCurrent/ADBE_ContractWithCustomerLiabilityCurrent.json',\n'balance_sheet/liabilities/current_liabilities/ContractWithCustomerLiabilityCurrent/AMZN_ContractWithCustomerLiabilityCurrent.json', \n'balance_sheet/liabilities/current_liabilities/ContractWithCustomerLiabilityCurrent/CRM_ContractWithCustomerLiabilityCurrent.json', \n'balance_sheet/liabilities/current_liabilities/ContractWithCustomerLiabilityCurrent/CSCO_ContractWithCustomerLiabilityCurrent.json', \n'balance_sheet/liabilities/current_liabilities/ContractWithCustomerLiabilityCurrent/GOOGL_ContractWithCustomerLiabilityCurrent.json', \n'balance_sheet/liabilities/current_liabilities/ContractWithCustomerLiabilityCurrent/MSFT_ContractWithCustomerLiabilityCurrent.json',\n'balance_sheet/liabilities/current_liabilities/ContractWithCustomerLiabilityCurrent/NOW_ContractWithCustomerLiabilityCurrent.json',\n'balance_sheet/liabilities/current_liabilities/ContractWithCustomerLiabilityCurrent/ORCL_ContractWithCustomerLiabilityCurrent.json',\n'balance_sheet/liabilities/current_liabilities/ContractWithCustomerLiabilityCurrent/PANW_ContractWithCustomerLiabilityCurrent.json')\nFILE_FORMAT = (TYPE = JSON);",
   "execution_count": null
  },
  {
   "cell_type": "markdown",
   "id": "9fad9519-d19f-453b-b794-5ef31d038641",
   "metadata": {
    "name": "SeUnearnedTblMD",
    "collapsed": false,
    "resultHeight": 60
   },
   "source": "## Run a Select Query to check that the data is loaded.  "
  },
  {
   "cell_type": "code",
   "id": "9c4b2466-e056-4c9c-b5c2-37b098c15d80",
   "metadata": {
    "language": "sql",
    "name": "SeUnearnedRevenueTblSQL",
    "resultHeight": 392
   },
   "outputs": [],
   "source": "SELECT * FROM UNEARNED_REVENUE_TBL;",
   "execution_count": null
  },
  {
   "cell_type": "markdown",
   "id": "6ad93da3-ee61-4498-bf18-98e72266cecf",
   "metadata": {
    "name": "CrRevenueTblMD",
    "collapsed": false,
    "resultHeight": 60
   },
   "source": "## Create a Table to Store the Revenue JSON Data. "
  },
  {
   "cell_type": "code",
   "id": "132e81f5-7f68-423a-ad90-915eb7dfb703",
   "metadata": {
    "language": "sql",
    "name": "CreateRevenueTblSQL",
    "resultHeight": 112
   },
   "outputs": [],
   "source": "CREATE OR REPLACE TABLE REVENUE_TBL (\n    REVENUE_JSON VARIANT\n);",
   "execution_count": null
  },
  {
   "cell_type": "markdown",
   "id": "5ff82221-02ac-4926-9930-a4769f15476f",
   "metadata": {
    "name": "CopyIntoRevenueTblMD",
    "collapsed": false,
    "resultHeight": 107
   },
   "source": "## Use the [COPY](https://docs.snowflake.com/en/sql-reference/sql/copy-into-table) command to load the data into Snowflake. \n### I created a directory structure in the stage. But, that's not necessary when you load files.  "
  },
  {
   "cell_type": "code",
   "id": "9251cc90-ef4e-4145-a72d-3042353e3ed1",
   "metadata": {
    "language": "sql",
    "name": "CopyIntoRevenueTblSQL",
    "collapsed": false,
    "resultHeight": 439
   },
   "outputs": [],
   "source": "COPY INTO REVENUE_TBL \nFROM \n    @COMPANY_FINANCIALS_RAW_INTERNAL_STAGE \nFILES = (\n'Income_Statement/Revenues/AAPL_RevenueFromContractWithCustomerExcludingAssessedTax.json',\n'Income_Statement/Revenues/ADBE_RevenueFromContractWithCustomerExcludingAssessedTax.json', \n'Income_Statement/Revenues/AMZN_RevenueFromContractWithCustomerExcludingAssessedTax.json', \n'Income_Statement/Revenues/CRM_RevenueFromContractWithCustomerExcludingAssessedTax.json', \n'Income_Statement/Revenues/CSCO_RevenueFromContractWithCustomerExcludingAssessedTax.json', \n'Income_Statement/Revenues/GOOGL_RevenueFromContractWithCustomerExcludingAssessedTax.json',\n'Income_Statement/Revenues/IBM_RevenueFromContractWithCustomerExcludingAssessedTax.json',\n'Income_Statement/Revenues/MSFT_RevenueFromContractWithCustomerExcludingAssessedTax.json',\n'Income_Statement/Revenues/NOW_RevenueFromContractWithCustomerExcludingAssessedTax.json',\n'Income_Statement/Revenues/ORCL_RevenueFromContractWithCustomerExcludingAssessedTax.json',\n'Income_Statement/Revenues/QCOM_RevenueFromContractWithCustomerExcludingAssessedTax.json')\nFILE_FORMAT = (TYPE = JSON);",
   "execution_count": null
  },
  {
   "cell_type": "markdown",
   "id": "b87b53d3-4881-4aff-bf3f-404f0c18eeb9",
   "metadata": {
    "name": "ExplainSeSQLUnearnedRevenueMD",
    "collapsed": false,
    "resultHeight": 361
   },
   "source": "## Parsing JSON Using Snowflake SQL.\nHere's a sample query that allows you the query the JSON data. \n\nThis query retrieves unearned revenue data for each company from the UNEARNED_REVENUE_TBL table. Here's a breakdown of the query:\n\n[PARSE_JSON](https://docs.snowflake.com/en/sql-reference/functions/parse_json): This function parses the JSON string in the UNEARNED_REVENUE_JSON:\"units\":\"USD\" column and returns a variant value.\n\n[LATERAL FLATTEN](https://docs.snowflake.com/en/sql-reference/functions/flatten): This function is used to extract values from nested structures like arrays or objects within a variant column. Here, it's used to extract data from the parsed JSON.\n\nThe query first extracts and processes the data, then orders the results by company name and fiscal period end date. The selected columns include company name, fiscal period end date, filing form, fiscal period, fiscal year, and unearned revenue.\n\n(Source: Query Created by the Author, Explained by [Snowflake Copilot](https://docs.snowflake.com/en/user-guide/snowflake-copilot))"
  },
  {
   "cell_type": "code",
   "id": "6a5570a7-6f4f-4d60-ba04-e81dcaed9857",
   "metadata": {
    "language": "sql",
    "name": "SeUnearnedRevenueJSON",
    "collapsed": false,
    "resultHeight": 439
   },
   "outputs": [],
   "source": "SELECT\n    UNRT.UNEARNED_REVENUE_JSON:\"entityName\"::STRING AS COMPANY_NAME,\n    ft.VALUE:\"end\"::DATE AS FISCAL_PERIOD_END_DATE,\n    ft.VALUE:\"form\"::STRING AS FILING_FORM,\n    ft.VALUE:\"fp\"::STRING AS FISCAL_PERIOD,\n    ft.VALUE:\"fy\"::NUMBER AS FISCAL_YEAR, \n    ft.VALUE:\"val\"::NUMBER AS UNEARNED_REVENUE,\nFROM\n    UNEARNED_REVENUE_TBL UNRT,\n    LATERAL FLATTEN (input => parse_json(UNEARNED_REVENUE_JSON:\"units\":\"USD\")) ft \nORDER BY COMPANY_NAME ASC, FISCAL_PERIOD_END_DATE DESC",
   "execution_count": null
  },
  {
   "cell_type": "markdown",
   "id": "ab248687-379b-4298-b2bb-9ae452f39fc0",
   "metadata": {
    "name": "ExplainSeSQLRevenueTblMD",
    "collapsed": false,
    "resultHeight": 278
   },
   "source": "## Run a query against the Revenue JSON data in the REVENUE_TBL.\n\nThis query retrieves revenue data for each company from the REVENUE_TBL table. Here's a breakdown of the query:\n\n[PARSE_JSON](https://docs.snowflake.com/en/sql-reference/functions/parse_json): This function parses the JSON string in the REVENUE_JSON:\"units\":\"USD\" column and returns a variant value.\n\n[LATERAL FLATTEN](https://docs.snowflake.com/en/sql-reference/functions/flatten): This function is used to extract values from nested structures like arrays or objects within a variant column. Here, it's used to extract data from the parsed JSON.\n\nThe query first extracts and processes the data, then selects the columns including company name, fiscal period start and end dates, fiscal period, fiscal year, filing form, and revenue. It orders the results by company name in ascending order and fiscal period end date in descending order."
  },
  {
   "cell_type": "code",
   "id": "8affcdd0-8d4c-4727-bec8-52b4f85760b8",
   "metadata": {
    "language": "sql",
    "name": "SeRevenueTblSQL"
   },
   "outputs": [],
   "source": "SELECT\n    UNER.REVENUE_JSON:\"entityName\"::STRING AS COMPANY_NAME,\n    ft.value:\"start\"::DATE AS FISCAL_PERIOD_START_DATE,\n    ft.value:\"end\"::DATE AS FISCAL_PERIOD_END_DATE,\n    ft.value:\"fp\"::STRING AS FISCAL_PERIOD,\n    ft.value:\"fy\"::NUMBER AS FISCAL_YEAR,\n    ft.value:\"form\"::STRING AS FILING_FORM,\n    ft.value:\"val\"::NUMBER AS REVENUE,\nFROM \n    REVENUE_TBL UNER,\n    LATERAL FLATTEN (input => parse_json(REVENUE_JSON:\"units\":\"USD\")) ft\nORDER BY COMPANY_NAME ASC, FISCAL_PERIOD_END_DATE DESC;",
   "execution_count": null
  },
  {
   "cell_type": "markdown",
   "id": "c08b3a82-b398-4483-96e9-04af602b8357",
   "metadata": {
    "name": "UnearnedRevenueNoDuplicatesMD",
    "collapsed": false,
    "resultHeight": 364
   },
   "source": "## Create a View to Select only the Distinct Values from the Unearned Revenue Table. \nThe JSON data for unearned and revenue data comes from each company's SEC filings. The SEC data contains duplicates since company's repeat the financial data from the previous quarters or years to make it easy for investors to compare against previous results. \nI used the following query to only show the distinct values and remove the duplicates.  \n- I use the CONCAT function to create a string of the company name (entityName in the SEC data) and the fiscal period end date.\n- I then use the concatenated string as a way to partition the data and select the first row.\n- This method removes the duplicate values from the JSON data.\n- I also want to see only the Unearned Revenue for the Latest Quarter. That's why I have used the second ROW_NUMBER() (ROW_NUM2) function. \n- This time I have partitioned by COMPANY_NAME and ORDER BY FISCAL_PERIOD_END_DATE DESCENDING to ensure we have the LATEST QUARTERLY or ANNUAL Data, depending of whether the fiscal year is end with the latest filing.   \n- There are a couple of nested SELECT and ROW_NUMBER() functions used in this view to get to the end results.  \n"
  },
  {
   "cell_type": "code",
   "id": "f551db18-d125-47e6-a687-b796e39e6457",
   "metadata": {
    "language": "sql",
    "name": "CrVWUnearnedRevenueMostCurrentSQL"
   },
   "outputs": [],
   "source": "CREATE OR REPLACE VIEW UNEARNED_REVENUE_MOST_CURRENT_VW\nAS\nSELECT \n    *\nFROM\n(SELECT \n    *,\n    ROW_NUMBER() OVER \n          (PARTITION BY COMPANY_NAME ORDER BY FISCAL_PERIOD_END_DATE DESC) ROW_NUM2\nFROM\n(SELECT\n    UNRT.UNEARNED_REVENUE_JSON:\"entityName\" || ft.VALUE:\"end\" CONCAT_COMPANY_FISCAL_PERIOD_END_DATE,\n    UNRT.UNEARNED_REVENUE_JSON:\"entityName\"::STRING AS COMPANY_NAME,\n    ft.VALUE:\"end\"::DATE AS FISCAL_PERIOD_END_DATE,\n    ft.VALUE:\"form\"::STRING AS FILING_FORM,\n    ft.VALUE:\"fp\"::STRING AS FISCAL_PERIOD,\n    ft.VALUE:\"fy\"::NUMBER AS FISCAL_YEAR, \n    ft.VALUE:\"val\"::NUMBER AS UNEARNED_REVENUE,\n    ROW_NUMBER() OVER \n          (PARTITION BY CONCAT_COMPANY_FISCAL_PERIOD_END_DATE ORDER BY UNEARNED_REVENUE DESC) ROW_NUM\nFROM\n    UNEARNED_REVENUE_TBL UNRT,\n    LATERAL FLATTEN (input => parse_json(UNEARNED_REVENUE_JSON:\"units\":\"USD\")) ft \nORDER BY COMPANY_NAME ASC, FISCAL_PERIOD_END_DATE DESC)\nWHERE\n    ROW_NUM = 1)\nWHERE \n    ROW_NUM2 = 1\nORDER BY COMPANY_NAME ASC;",
   "execution_count": null
  },
  {
   "cell_type": "markdown",
   "id": "720e8e56-c38b-46c9-96c0-ee64a72d8fbd",
   "metadata": {
    "name": "CreateVWRecentRevenueMD",
    "collapsed": false,
    "resultHeight": 60
   },
   "source": "## Create a View to Select the Most Recent Annual Revenue for each Company.  "
  },
  {
   "cell_type": "code",
   "id": "78440d1e-769f-4103-9cac-b2341ecd3a28",
   "metadata": {
    "language": "sql",
    "name": "CrVWRevenueMostCurrentSQL"
   },
   "outputs": [],
   "source": "CREATE OR REPLACE VIEW REVENUE_MOST_CURRENT_VW\nAS\nSELECT\n    *\nFROM\n(SELECT \n    *,\n    ROW_NUMBER() OVER \n          (PARTITION BY COMPANY_NAME ORDER BY FISCAL_PERIOD_END_DATE DESC) ROW_NUM2\nFROM\n(SELECT\n    DISTINCT UNER.REVENUE_JSON:\"entityName\"::STRING || ft.value:\"start\"::DATE || ft.value:\"end\"::DATE  AS CONCAT_COMPANY_FISCAL_PERIOD,\n    UNER.REVENUE_JSON:\"entityName\"::STRING AS COMPANY_NAME,\n    ft.value:\"start\"::DATE AS FISCAL_PERIOD_START_DATE,\n    ft.value:\"end\"::DATE AS FISCAL_PERIOD_END_DATE,\n    DATEDIFF(DAY, ft.value:\"start\"::DATE, ft.value:\"end\"::DATE) AS NUMBER_OF_DAYS_IN_FISCAL_PERIOD, \n    CASE\n        WHEN (DATEDIFF(DAY, ft.value:\"start\"::DATE, ft.value:\"end\"::DATE))  < 100  THEN 'QUARTER'\n        WHEN (DATEDIFF(DAY, ft.value:\"start\"::DATE, ft.value:\"end\"::DATE) >= 100\n             AND\n             DATEDIFF(DAY, ft.value:\"start\"::DATE, ft.value:\"end\"::DATE)  <= 170) THEN 'SIX MONTHS'\n        WHEN (DATEDIFF(DAY, ft.value:\"start\"::DATE, ft.value:\"end\"::DATE) > 170\n             AND\n             DATEDIFF(DAY, ft.value:\"start\"::DATE, ft.value:\"end\"::DATE)  <= 280)  THEN 'NINE MONTHS'\n        WHEN DATEDIFF(DAY, ft.value:\"start\"::DATE, ft.value:\"end\"::DATE)  > 300    THEN 'ANNUAL'\n    END AS REPORT_TIME_FRAME, \n    ft.value:\"fp\"::STRING AS FISCAL_PERIOD,\n    ft.value:\"fy\"::NUMBER AS FISCAL_YEAR,\n    ft.value:\"form\"::STRING AS FILING_FORM,\n    ft.value:\"val\"::NUMBER AS REVENUE,\n    ROW_NUMBER() OVER \n          (PARTITION BY CONCAT_COMPANY_FISCAL_PERIOD ORDER BY REVENUE DESC) ROW_NUM\nFROM \n    REVENUE_TBL UNER,\n    LATERAL FLATTEN (input => parse_json(REVENUE_JSON:\"units\":\"USD\")) ft\nWHERE\n    FISCAL_PERIOD = 'FY')\nWHERE\n    ROW_NUM = 1)\nWHERE\n    ROW_NUM2 = 1\nORDER BY COMPANY_NAME ASC;",
   "execution_count": null
  },
  {
   "cell_type": "markdown",
   "id": "3a5bc06a-4ca2-4551-ba09-fb6c943ac1c0",
   "metadata": {
    "name": "ExplainJoinQueryMD",
    "collapsed": false,
    "resultHeight": 294
   },
   "source": "The given query retrieves data from two views, REVENUE_MOST_CURRENT_VW and UNEARNED_REVENUE_MOST_CURRENT_VW, and joins them on the COMPANY_NAME column. The query selects the following columns:\n\n- COMPANY_NAME: The name of the company.\n- ANNUAL_REPORT_END_DATE: The end date of the fiscal period for the most recent annual report.\n- QUARTERLY_END_DATE: The end date of the fiscal period for the most recent quarterly report.\n- LATEST_AVAIL_ANNUAL_REVENUE: The revenue for the most recent annual report.\n- LATEST_AVAIL_UNEARNED_REVENUE: The unearned revenue for the most recent quarterly report.\n- UNEARNED_REVENUE_PCT_OF_REVENUE: The percentage of unearned revenue compared to the total revenue for the most recent quarterly report.\n\nThe query then orders the results by UNEARNED_REVENUE_PCT_OF_REVENUE in descending order."
  },
  {
   "cell_type": "code",
   "id": "91ea7cd1-8db8-4646-968c-ddec354be2cd",
   "metadata": {
    "language": "sql",
    "name": "SeCalcUnearnedRevPctOfTotalRevenueSQL",
    "collapsed": false,
    "resultHeight": 357
   },
   "outputs": [],
   "source": "SELECT\n    RMCV.COMPANY_NAME,\n    RMCV.REVENUE LATEST_AVAIL_ANNUAL_REVENUE,\n    URMCV.UNEARNED_REVENUE LATEST_AVAIL_UNEARNED_REVENUE, \n    (URMCV.UNEARNED_REVENUE/RMCV.REVENUE) UNEARNED_REVENUE_PCT_OF_REVENUE,\n    RMCV.FISCAL_PERIOD_END_DATE ANNUAL_REPORT_END_DATE,\n    URMCV.FISCAL_PERIOD_END_DATE QUARTERLY_END_DATE,\nFROM\n    REVENUE_MOST_CURRENT_VW RMCV,\n    UNEARNED_REVENUE_MOST_CURRENT_VW URMCV\nWHERE\n    RMCV.COMPANY_NAME = URMCV.COMPANY_NAME\nORDER BY UNEARNED_REVENUE_PCT_OF_REVENUE DESC;",
   "execution_count": null
  },
  {
   "cell_type": "markdown",
   "id": "bf5c0550-7a9f-4cbd-83d1-d4a74166f091",
   "metadata": {
    "name": "FindingsAndConclusionsMD",
    "collapsed": false,
    "resultHeight": 259
   },
   "source": "# Findings & Conclusion From the SQL Query:\n- The data shows that ServiceNow has nearly 60% of last year's revenue in its deferred revenue liability.\n- Salesforce comes second with nearly 38% of the revenue in the deferred revenue liability. \n- This liability will be recongnized by companies as revenue over the next fiscal year.  \n- Amazon and Alphabet have the lowest percentage of next year's revenue as deferred revenue liability. \n- Amazon and Alphabet have massive divisions such as the retail business for Amazon and the search business for Alphabet, that typically do not do multi-year contracts.  "
  },
  {
   "cell_type": "markdown",
   "id": "49a96a66-5234-4236-8ff2-d88d4dc8b246",
   "metadata": {
    "name": "IgnoreRestOfNotebookNB",
    "collapsed": false,
    "resultHeight": 60
   },
   "source": "## You can ignore the rest of the Notebook.  "
  },
  {
   "cell_type": "code",
   "id": "da063742-fd71-481d-9b73-04e1a0764033",
   "metadata": {
    "language": "sql",
    "name": "DropStageSQL"
   },
   "outputs": [],
   "source": "DROP STAGE COMPANY_FINANCIALS_RAW_INTERNAL_STAGE;",
   "execution_count": null
  },
  {
   "cell_type": "code",
   "id": "206a2c6a-bd4c-4712-a464-bc01a5aef8d0",
   "metadata": {
    "language": "sql",
    "name": "Create"
   },
   "outputs": [],
   "source": "CREATE STAGE COMPANY_EARNINGS_PRESS_RELEASES \n\tDIRECTORY = ( ENABLE = true ) \n\tCOMMENT = 'Press Releases Made by Companies to Announce their Quarterly Earnings Reports. These Files are Stored in the PDF Format in this Stage';",
   "execution_count": null
  },
  {
   "cell_type": "code",
   "id": "726abbf3-1905-40db-bf49-6222ad77a80a",
   "metadata": {
    "language": "sql",
    "name": "cell12",
    "resultHeight": 112
   },
   "outputs": [],
   "source": "DROP TABLE REVENUE;",
   "execution_count": null
  },
  {
   "cell_type": "code",
   "id": "ccb65c6c-52ca-4465-b6b8-4818381c47b1",
   "metadata": {
    "language": "sql",
    "name": "cell14",
    "resultHeight": 439
   },
   "outputs": [],
   "source": "LIST @COMPANY_FINANCIALS_RAW_INTERNAL_STAGE/Income_Statement/Revenues/;",
   "execution_count": null
  },
  {
   "cell_type": "code",
   "id": "2a7db595-6eb3-4c7a-8217-110229e824f4",
   "metadata": {
    "language": "sql",
    "name": "cell15",
    "resultHeight": 439
   },
   "outputs": [],
   "source": "SELECT * FROM REVENUE_TBL;",
   "execution_count": null
  },
  {
   "cell_type": "code",
   "id": "25b9b9fb-1b99-4031-8562-ea8270041db8",
   "metadata": {
    "language": "sql",
    "name": "cell11",
    "resultHeight": 439,
    "collapsed": false
   },
   "outputs": [],
   "source": "SELECT\n    UNER.\n    ft.value:\"end\"::DATE AS FISCAL_PERIOD_END_DATE,\n    ft.value:\"val\"::NUMBER AS REVENUE,\nFROM \n    REVENUE_TBL UNER,\n    LATERAL FLATTEN (input => parse_json(REVENUE_JSON:\"units\":\"USD\")) ft\n-- ORDER BY UNEMPLOYMENT_DATA_YEAR ASC;",
   "execution_count": null
  },
  {
   "cell_type": "code",
   "id": "3775908f-ca36-4846-8f38-5adca39217f2",
   "metadata": {
    "language": "python",
    "name": "cell1"
   },
   "source": "# Import python packages\nimport streamlit as st\nimport pandas as pd\n\n# We can also use Snowpark for our analyses!\nfrom snowflake.snowpark.context import get_active_session\nsession = get_active_session()\n",
   "execution_count": null,
   "outputs": []
  },
  {
   "cell_type": "code",
   "id": "8d50cbf4-0c8d-4950-86cb-114990437ac9",
   "metadata": {
    "language": "sql",
    "name": "cell2"
   },
   "source": "-- Welcome to Snowflake Notebooks!\n-- Try out a SQL cell to generate some data.\nSELECT 'FRIDAY' as SNOWDAY, 0.2 as CHANCE_OF_SNOW\nUNION ALL\nSELECT 'SATURDAY',0.5\nUNION ALL \nSELECT 'SUNDAY', 0.9;",
   "execution_count": null,
   "outputs": []
  },
  {
   "cell_type": "code",
   "id": "c695373e-ac74-4b62-a1f1-08206cbd5c81",
   "metadata": {
    "language": "python",
    "name": "cell3"
   },
   "source": "# Then, we can use the python name to turn cell2 into a Pandas dataframe\nmy_df = cell2.to_pandas()\n\n# Chart the data\nst.subheader(\"Chance of SNOW ❄️\")\nst.line_chart(my_df, x='SNOWDAY', y='CHANCE_OF_SNOW')\n\n# Give it a go!\nst.subheader(\"Try it out yourself and show off your skills 🥇\")",
   "execution_count": null,
   "outputs": []
  }
 ]
}