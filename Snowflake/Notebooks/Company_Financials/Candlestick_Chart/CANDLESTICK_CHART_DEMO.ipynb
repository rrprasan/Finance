{
 "metadata": {
  "kernelspec": {
   "display_name": "Streamlit Notebook",
   "name": "streamlit"
  },
  "lastEditStatus": {
   "notebookId": "6uogahfnblcp7escswj6",
   "authorId": "8795186554644",
   "authorName": "PRAJAGOPAL",
   "authorEmail": "prasanna.rajagopal@snowflake.com",
   "sessionId": "539128ea-3e80-4c72-bf96-0f9464e580b1",
   "lastEditTime": 1743356543764
  }
 },
 "nbformat_minor": 5,
 "nbformat": 4,
 "cells": [
  {
   "cell_type": "markdown",
   "id": "a544402f-ba1b-4380-868b-2c0123f20810",
   "metadata": {
    "name": "MDCandlestickChartIntro",
    "collapsed": false
   },
   "source": "## :rocket: Simplifying Financial Analysis with Streamlit in Snowflake: Creating Candlestick Charts Made Easy! :bar_chart:\n\n### How can you quickly understand a particular asset's price movements and trends?\n\nCandlestick Charts are Powerful Visualizations Used by Traders and Investors.:chart_with_upwards_trend:\n\n### What is a Candlestick Chart?\n\nA candlestick chart is a powerful visual tool that shows four crucial price points (OHLC):\n- Open: Price at market open\n- High: Highest price during the period\n- Low: Lowest price during the period\n- Close: Price at market close\n\n### Reading the Candle:\n- :large_green_circle: Green/White Candle: Closing price > Opening price (Bullish)\n- :red_circle: Red/Black Candle: Closing price < Opening price (Bearish)\n- The \"wick\" or \"shadow\" shows the high and low prices!\n\n### Why it matters:\n- Instantly visualize price trends :fire:\n- Identify market sentiment :ox: :bear: :grinning: :unamused:\n- Spot potential reversal patterns :mag:\n- Make informed trading decisions :thinking_face:"
  },
  {
   "cell_type": "markdown",
   "id": "cfd6a045-0c54-4c89-b101-3ce5f92b10d1",
   "metadata": {
    "name": "MDCandlestickChartsInSnowflakeTitle",
    "collapsed": false
   },
   "source": "## Create Candlestick Charts :chart_with_upwards_trend: in Snowflake :snowflake: \n### Author: [Prasanna Rajagopal](https://www.linkedin.com/in/prasannarajagopal/)\n### Load the data to create Candlestick charts in a Snowflake Notebook. \n- Follow the instructions in this Snowflake documentation to create a table and load data into it.  \n    - [Load Data Using Snowsight](https://docs.snowflake.com/en/user-guide/data-load-web-ui#load-data-using-sf-web-interface)\n    - Load this file - [Candlestick_Chart_Demo_Data.csv](https://github.com/rrprasan/Finance/blob/main/Snowflake/Notebooks/Company_Financials/Candlestick_Chart/Candlestick_Chart_Demo_Data.csv)\n    - Name the table: COMPANY_STOCK_PRICES_OHLC_TBL\n\n(Data Source: [Polygon.io](https://polygon.io/))\n\nCreated :calendar:: March 2025"
  },
  {
   "cell_type": "markdown",
   "id": "fd9d81a2-28d6-4972-a4a5-8f4e90086d9a",
   "metadata": {
    "name": "MDTestTheNewTable",
    "collapsed": false
   },
   "source": "## Test the COMPANY_STOCK_PRICES_OHLC_TBL Table"
  },
  {
   "cell_type": "code",
   "id": "e0c361f2-bac4-432e-be75-8d073d0f9f70",
   "metadata": {
    "language": "sql",
    "name": "SeCOMPANY_STOCK_PRICES_OHLC_TBL"
   },
   "outputs": [],
   "source": "SELECT * FROM COMPANY_STOCK_PRICES_OHLC_TBL LIMIT 5;",
   "execution_count": null
  },
  {
   "cell_type": "markdown",
   "id": "a0bc9a42-a924-449b-819c-bd44baf59aa0",
   "metadata": {
    "name": "MDAddPlotlyPackage",
    "collapsed": false
   },
   "source": "## Ensure that Plotly Python Package is Added to the Notebook.  \n### Please follow instructions in this Snowflake documentation\n### [Snowflake Notebooks Import Packages](https://docs.snowflake.com/en/user-guide/ui-snowsight/notebooks-import-packages)  "
  },
  {
   "cell_type": "markdown",
   "id": "0a72df12-98aa-43f1-8aad-e795eeeec5e5",
   "metadata": {
    "name": "MDImportPythonModules",
    "collapsed": false
   },
   "source": "## Import the Python modules into the Snowflake Notebook\n### Get an active session to your Snowflake database"
  },
  {
   "cell_type": "code",
   "id": "51773a8f-74c8-4907-bc51-56474be6f4db",
   "metadata": {
    "language": "python",
    "name": "PyImportStatementCreateSession"
   },
   "outputs": [],
   "source": "import streamlit as st\nfrom snowflake.snowpark.context import get_active_session\nfrom snowflake.snowpark.functions import col\nimport plotly.graph_objs as go\n\n# Establish Snowflake session\nsession = get_active_session()",
   "execution_count": null
  },
  {
   "cell_type": "markdown",
   "id": "8c4713bd-7b03-4e92-a0eb-c86c8705e915",
   "metadata": {
    "name": "MDFetchDistinctTickerSymbols",
    "collapsed": false
   },
   "source": "## Fetch the Distinct Ticker Symbols From the Table"
  },
  {
   "cell_type": "code",
   "id": "e7232d35-7890-4154-a9a7-06d59ea80974",
   "metadata": {
    "language": "python",
    "name": "PyFetchDistinctTickerSymbolsFromDB"
   },
   "outputs": [],
   "source": "selTickerSymbol = \"\"\"\nSELECT DISTINCT TICKER_SYMBOL\nFROM COMPANY_STOCK_PRICES_OHLC_TBL\n\"\"\";\n\n# Execute the SQL query and get the DataFrame\ndf = session.sql(selTickerSymbol).collect()\n\n# Use the list of ticker symbols in the selectbox\nselected_ticker = st.selectbox(\n    \"Select a Ticker Symbol for Constructing the Candlestick Chart:\",\n    df,\n    key=\"selectbox_passing_df\"\n)\n\nst.write(f\"You selected: {selected_ticker}\") # Example of using the selected value\n\n\n# An Alternative method instead of passing the the Snowpark Dataframe to the Selectbox\n# Extract the ticker symbols into a list\nticker_symbols = [row['TICKER_SYMBOL'] for row in df]\n\n# Use the list of ticker symbols in the selectbox\nselected_ticker1 = st.selectbox(\n    \"Select a Ticker Symbol for Constructing the Candlestick Chart:\",\n    ticker_symbols,\n    key=\"selectbox_passing_List\"\n)",
   "execution_count": null
  },
  {
   "cell_type": "markdown",
   "id": "ebf86dba-b685-476f-abea-0746fad4d4b9",
   "metadata": {
    "name": "MDFetchOHLCDataTickerSymbol",
    "collapsed": false
   },
   "source": "## Fetch the OHLC Data for the Selected Ticker Symbol"
  },
  {
   "cell_type": "code",
   "id": "455c3ad9-ff00-4caa-a641-9cefb61add81",
   "metadata": {
    "language": "python",
    "name": "PyFetchOHLCDataTickerSymbol"
   },
   "outputs": [],
   "source": "# Fetch and filter data directly into a Pandas DataFrame\nOHLC_pd = session.table(\"COMPANY_STOCK_PRICES_OHLC_TBL\").filter(col(\"TICKER_SYMBOL\") == selected_ticker).to_pandas()\nOHLC_pd.head()",
   "execution_count": null
  },
  {
   "cell_type": "markdown",
   "id": "4d5ef26f-3f72-4f6e-b38a-fc2c31c34286",
   "metadata": {
    "name": "MDCreatePlotlyCandlestickChart",
    "collapsed": false
   },
   "source": "## Create a Candlestick Chart Using Plotly"
  },
  {
   "cell_type": "code",
   "id": "54e9e9de-08c2-4a8d-b7a3-f8c28c07dc2e",
   "metadata": {
    "language": "python",
    "name": "PyCreatePlotlyCandlestickChart"
   },
   "outputs": [],
   "source": "# Create and display Candlestick chart\nfig = go.Figure(data=[go.Candlestick(\n    x=OHLC_pd['OHLC_DATE'],\n    open=OHLC_pd['OPEN_PRICE'],\n    high=OHLC_pd['HIGH_PRICE'],\n    low=OHLC_pd['LOW_PRICE'],\n    close=OHLC_pd['CLOSE_PRICE'],\n    name=\"Candlesticks\",\n)])\n\nfig.update_layout(\n    title= selected_ticker,\n    yaxis_title=\"Price ($)\",\n    xaxis_rangeslider_visible=False,\n    plot_bgcolor=\"white\",\n    width=700,\n    height=500\n).update_yaxes(tickprefix=\"$\") # Chaining update_yaxes.\n\nst.write(fig)",
   "execution_count": null
  }
 ]
}