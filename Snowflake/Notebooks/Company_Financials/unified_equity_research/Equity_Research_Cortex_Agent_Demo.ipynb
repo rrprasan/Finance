{
 "metadata": {
  "kernelspec": {
   "display_name": "Streamlit Notebook",
   "name": "streamlit"
  },
  "lastEditStatus": {
   "notebookId": "x3e4x5bdc33545etyt2s",
   "authorId": "8795186554644",
   "authorName": "PRAJAGOPAL",
   "authorEmail": "prasanna.rajagopal@snowflake.com",
   "sessionId": "d95f3917-74ee-4dc9-89df-b4ce5687df3b",
   "lastEditTime": 1742519741513
  }
 },
 "nbformat_minor": 5,
 "nbformat": 4,
 "cells": [
  {
   "cell_type": "markdown",
   "id": "8c1c34dc-a6d8-40a5-95fd-392d9d642527",
   "metadata": {
    "name": "MDUnifiedEquityResearchCahtbot",
    "collapsed": false
   },
   "source": "# :star: Unified Equity Research Chatbot :dollar:\n## :snowflake: Created Using [Snowflake Cortex Agent](https://docs.snowflake.com/en/user-guide/snowflake-cortex/cortex-agents) :snowflake: :rocket: :rocket: \n- Cortex Agents orchestrate across both structured and unstructured data sources to deliver insights. \n- They plan tasks, use tools to execute these tasks, and generate responses. \n- Agents use Cortex Analyst (structured) and Cortex Search (unstructured) as tools, along with LLMs, to analyze data. \n- Cortex Search extracts insights from unstructured sources, while Cortex Analyst generates SQL to process structured data. \n- A comprehensive support for tool identification and tool execution enables delivery of sophisticated applications grounded in enterprise data.\n\n(Source: [Snowflake Documentation](https://docs.snowflake.com/en/user-guide/snowflake-cortex/cortex-agents))"
  },
  {
   "cell_type": "markdown",
   "id": "fbe9b1d7-2bcd-4e1e-88a7-9fe92310ffe7",
   "metadata": {
    "name": "MDObjectivesNotebook",
    "collapsed": false
   },
   "source": "# The steps we will execute in this Notebook and in the Streamlit App for you to test Cortex Agent.  \n## Phase 1: Ingesting & Transforming OHLC JSON data.  \n### 1. Ingested OHLC JSON data into Snowflake.\n### 2. Transform the JSON Data using FLATTEN and CAST the data to the correct data type.\n### 3. Created a VIEW on the flattened data. \n### 4. Created a Cortex Analyst Semantic Model on the View. \n### 5. Tested the semantic model with a few questions.\n### 6. Received tabular data from Cortex Analyst.\n## Phase 2: Ingest, Parse, Chunk, and Create Cortex Search Service on PDF documents.    \n### 1. Create a stage for the company-related PDF files.\n### 2. Store the company annual report PDF into a stage. \n### 3. Parse the PDF files in the stage and extract the text. \n### 4. Store the text in a VARCHAR column in a table. \n### 5. Split the text into chunks. \n### 6. Create Snowflake Cortex Search service on the chunks.\n### 7. Test the Cortex Search Service to see it returns the correct results.  \n## Phase 3: Create a Streamlit App to Test Cortex Agent.\n### 1. Set-up Snowflake Cortex Agent in Streamlit in Snowflake\n### 2. Ask questions & get answers. \n### 3. Snowflake Cortex Agent will interpret your question. \n### 4. Route it intelligently to either Cortex Analyst or Cortex Search. \n### 5. If a question is routed to Cortex Analyst, tabular data is received as an answer. \n### 6. If a question is routed to Cortex Search,  textual answer is received as an answer.  "
  },
  {
   "cell_type": "markdown",
   "id": "48e37f27-cd33-46e3-be78-70038e859661",
   "metadata": {
    "name": "MDCreateStage",
    "collapsed": false
   },
   "source": "## Create a Snowflake-Managed Stage to Store the OHLC JSON Files\n```\nCREATE STAGE OHLC_STOCK_PRICES_INTERNAL_STG \n\tDIRECTORY = ( ENABLE = true ) \n\tENCRYPTION = ( TYPE = 'SNOWFLAKE_SSE' ) \n\tCOMMENT = 'Stage to Store the OHLC JSON Data Files for Processing.';\n```"
  },
  {
   "cell_type": "code",
   "id": "9e7cc9ac-8705-414c-bf7a-0167786c7013",
   "metadata": {
    "language": "sql",
    "name": "SQLCreateStage"
   },
   "outputs": [],
   "source": "CREATE STAGE OHLC_STOCK_PRICES_INTERNAL_STG \n\tDIRECTORY = ( ENABLE = true ) \n\tENCRYPTION = ( TYPE = 'SNOWFLAKE_SSE' ) \n\tCOMMENT = 'Stage to Store the OHLC JSON Data Files for Processing.';",
   "execution_count": null
  },
  {
   "cell_type": "markdown",
   "id": "7d84f47a-6632-4649-ada0-3eb0481fc463",
   "metadata": {
    "name": "MDOHLC_Data_Zip_File",
    "collapsed": false
   },
   "source": "### Download and Unzip [OHLC_Data.zip](https://github.com/rrprasan/Finance/tree/main/Snowflake/Notebooks/Company_Financials/unified_equity_research) from Github\n### You will find six JSON files\n### Load the files into OHLC_STOCK_PRICES_INTERNAL_STG\n- OHLCdata_AMZN.json\n- OHLCdata_CPB.json\n- OHLCdata_SJM.json\n- OHLCdata_VDE.json\n- OHLCdata_VHT.json\n- OHLCdata_VNQ.json\n#### OHLC Data Provided By [Polygon.io](https://polygon.io/)"
  },
  {
   "cell_type": "markdown",
   "id": "0035fda3-5816-4b5f-83fc-71728bae6979",
   "metadata": {
    "name": "MDListFilesInStage",
    "collapsed": false
   },
   "source": "## Check that the OHLC JSON Files Exist in the Stage\n### List the Files in the Stage"
  },
  {
   "cell_type": "code",
   "id": "36b2c2c6-c1b3-45ea-ab09-52463e134c97",
   "metadata": {
    "language": "sql",
    "name": "SQLListFilesInStage"
   },
   "outputs": [],
   "source": "LIST @OHLC_STOCK_PRICES_INTERNAL_STG",
   "execution_count": null
  },
  {
   "cell_type": "markdown",
   "id": "3213a0c5-fa8d-4119-800b-aa4b7a08d301",
   "metadata": {
    "name": "MDCreateOHLCRawDataTbl",
    "collapsed": false
   },
   "source": "## Create a Table to Load the Raw JSON Data\n```\nCREATE OR REPLACE TRANSIENT TABLE COMPANY_STOCK_PRICES_DAILY_OHLC_RAW_TBL\n(\nTICKER VARIANT,\nRESULTS VARIANT\n);\n```"
  },
  {
   "cell_type": "code",
   "id": "81d50222-b067-4ed0-a403-7cb33574577a",
   "metadata": {
    "language": "sql",
    "name": "SQLOHLCRawDataTbl"
   },
   "outputs": [],
   "source": "CREATE OR REPLACE TRANSIENT TABLE COMPANY_STOCK_PRICES_DAILY_OHLC_RAW_TBL\n(\nTICKER VARIANT,\nRESULTS VARIANT\n);",
   "execution_count": null
  },
  {
   "cell_type": "markdown",
   "id": "0b725f1f-7147-4ff7-9ab0-bb1be5545ee4",
   "metadata": {
    "name": "MDCopyJSONIntoTable",
    "collapsed": false
   },
   "source": "## Use the COPY Command to Copy the JSON Data into the Table \n```\nCOPY INTO COMPANY_STOCK_PRICES_DAILY_OHLC_RAW_TBL\n  FROM @OHLC_STOCK_PRICES_INTERNAL_STG\n  FILE_FORMAT = (TYPE = 'JSON')\n  MATCH_BY_COLUMN_NAME='CASE_INSENSITIVE';\n```"
  },
  {
   "cell_type": "code",
   "id": "4e6a4194-40f6-4149-98b7-f5c3e2885198",
   "metadata": {
    "language": "sql",
    "name": "SQLCOPYJSONIntoTable"
   },
   "outputs": [],
   "source": "COPY INTO COMPANY_STOCK_PRICES_DAILY_OHLC_RAW_TBL\n  FROM @OHLC_STOCK_PRICES_INTERNAL_STG\n  FILE_FORMAT = (TYPE = 'JSON')\n  MATCH_BY_COLUMN_NAME='CASE_INSENSITIVE';",
   "execution_count": null
  },
  {
   "cell_type": "code",
   "id": "4b4624c6-3225-40c6-af03-78bb0df5eee2",
   "metadata": {
    "language": "sql",
    "name": "SQLSelectRawOHLCJSONData"
   },
   "outputs": [],
   "source": "SELECT * FROM COMPANY_STOCK_PRICES_DAILY_OHLC_RAW_TBL;",
   "execution_count": null
  },
  {
   "cell_type": "markdown",
   "id": "1433d42d-450a-4d86-b56b-86354a364dfc",
   "metadata": {
    "name": "MDFLATTENJSON",
    "collapsed": false
   },
   "source": "## Use [FLATTEN](https://docs.snowflake.com/en/sql-reference/functions/flatten) SQL Function to explode JSON Compound Values into Multiple Rows.  \n### First, test the SQL to ensure it returns data correctly."
  },
  {
   "cell_type": "code",
   "id": "0142ef3d-4892-47e9-a997-f1cb02d69119",
   "metadata": {
    "language": "sql",
    "name": "SQLFLATTENJSON"
   },
   "outputs": [],
   "source": "-- FLATTEN & CAST the OHLC Data into NUMBER Data Type\nSELECT\n    TICKER::VARCHAR                                         TICKER_SYMBOL,\n    OHLC_DATA.VALUE:\"from_date\"::DATE                       OHLC_DATE,\n    TO_NUMBER(OHLC_DATA.VALUE:\"open\",14, 4)                 OPEN_PRICE,\n    TO_NUMBER(OHLC_DATA.VALUE:\"high\",14, 4)                 HIGH_PRICE,\n    TO_NUMBER(OHLC_DATA.VALUE:\"low\",14, 4)                  LOW_PRICE,\n    TO_NUMBER(OHLC_DATA.VALUE:\"close\",14, 4)                CLOSE_PRICE,\nFROM \n    COMPANY_STOCK_PRICES_DAILY_OHLC_RAW_TBL CSTR,\n    LATERAL FLATTEN (input => CSTR.RESULTS) OHLC_DATA\nORDER BY TICKER_SYMBOL, OHLC_DATE;",
   "execution_count": null
  },
  {
   "cell_type": "markdown",
   "id": "4dbf7542-e1be-4d71-9380-a56b2a419e92",
   "metadata": {
    "name": "MDDatatypeCasting",
    "collapsed": false
   },
   "source": "## Same query as above with data type cast using :: Notation."
  },
  {
   "cell_type": "code",
   "id": "406e1118-476f-4d01-8fab-da26304e8f76",
   "metadata": {
    "language": "sql",
    "name": "SQLFLATTENJSONDatatypeCasting"
   },
   "outputs": [],
   "source": "SELECT\n    TICKER::VARCHAR                                         TICKER_SYMBOL,\n    OHLC_DATA.VALUE:\"from_date\"::DATE                       OHLC_DATE,\n    OHLC_DATA.VALUE:\"open\"::NUMBER(14, 4)                   OPEN_PRICE,\n    OHLC_DATA.VALUE:\"high\"::NUMBER(14, 4)                   HIGH_PRICE,\n    OHLC_DATA.VALUE:\"low\"::NUMBER(14,4)                     LOW_PRICE,\n    OHLC_DATA.VALUE:\"close\"::NUMBER(14, 4)                  CLOSE_PRICE,\nFROM \n    COMPANY_STOCK_PRICES_DAILY_OHLC_RAW_TBL CSTR,\n    LATERAL FLATTEN (input => CSTR.RESULTS) OHLC_DATA\nORDER BY TICKER_SYMBOL, OHLC_DATE;",
   "execution_count": null
  },
  {
   "cell_type": "markdown",
   "id": "e2cd5468-f157-4faf-a95b-6e3d3902a7da",
   "metadata": {
    "name": "MDCreateViewOnJSON",
    "collapsed": false
   },
   "source": "## Create a View on the Previous SQL to Prepare for Presentation To the Semantic Model Generator\n```\nCREATE OR REPLACE VIEW COMPANY_STOCK_PRICES_OHLC_VW\nAS\nSELECT\n    TICKER::VARCHAR                                         TICKER_SYMBOL,\n    OHLC_DATA.VALUE:\"from_date\"::DATE                       OHLC_DATE,\n    TO_NUMBER(OHLC_DATA.VALUE:\"open\",14, 4)                 OPEN_PRICE,\n    TO_NUMBER(OHLC_DATA.VALUE:\"high\",14, 4)                 HIGH_PRICE,\n    TO_NUMBER(OHLC_DATA.VALUE:\"low\",14, 4)                  LOW_PRICE,\n    TO_NUMBER(OHLC_DATA.VALUE:\"close\",14, 4)                CLOSE_PRICE,\nFROM \n    COMPANY_STOCK_PRICES_DAILY_OHLC_RAW_TBL CSTR,\n    LATERAL FLATTEN (input => CSTR.RESULTS) OHLC_DATA\nORDER BY TICKER_SYMBOL, OHLC_DATE;\n```"
  },
  {
   "cell_type": "code",
   "id": "5e87e69e-3590-45a3-96d0-11e05fc58a52",
   "metadata": {
    "language": "sql",
    "name": "SQLCreateViewOnJSON"
   },
   "outputs": [],
   "source": "CREATE OR REPLACE VIEW COMPANY_STOCK_PRICES_OHLC_VW\nAS\nSELECT\n    TICKER::VARCHAR                                         TICKER_SYMBOL,\n    OHLC_DATA.VALUE:\"from_date\"::DATE                       OHLC_DATE,\n    TO_NUMBER(OHLC_DATA.VALUE:\"open\",14, 4)                 OPEN_PRICE,\n    TO_NUMBER(OHLC_DATA.VALUE:\"high\",14, 4)                 HIGH_PRICE,\n    TO_NUMBER(OHLC_DATA.VALUE:\"low\",14, 4)                  LOW_PRICE,\n    TO_NUMBER(OHLC_DATA.VALUE:\"close\",14, 4)                CLOSE_PRICE,\nFROM \n    COMPANY_STOCK_PRICES_DAILY_OHLC_RAW_TBL CSTR,\n    LATERAL FLATTEN (input => CSTR.RESULTS) OHLC_DATA\nORDER BY TICKER_SYMBOL, OHLC_DATE;",
   "execution_count": null
  },
  {
   "cell_type": "markdown",
   "id": "ec82c625-f71e-4a8c-ae65-76490c313cf9",
   "metadata": {
    "name": "MDSelectView",
    "collapsed": false
   },
   "source": "## Test the View"
  },
  {
   "cell_type": "code",
   "id": "d17eacba-afdf-451b-895e-a4175e12d7d7",
   "metadata": {
    "language": "sql",
    "name": "SQLSelectView"
   },
   "outputs": [],
   "source": "SELECT * FROM COMPANY_STOCK_PRICES_OHLC_VW LIMIT 20;",
   "execution_count": null
  },
  {
   "cell_type": "markdown",
   "id": "c35b2f97-0cbe-4b9c-921d-ab8866c008e1",
   "metadata": {
    "name": "MDCreateYAML_STAGE",
    "collapsed": false
   },
   "source": "## Before we create a semantic model for our view, we need a stage to store the model file. \n### Create a Stage - YAML_STAGE - for the Semantic Model File\n#### If you already have a stage use it.  \n```\nCREATE STAGE YAML_STAGE \n\tDIRECTORY = ( ENABLE = true ) \n\tENCRYPTION = ( TYPE = 'SNOWFLAKE_SSE' );\n```"
  },
  {
   "cell_type": "markdown",
   "id": "cd72761b-86db-4efa-8289-ac559ccf7f71",
   "metadata": {
    "name": "MDCreateSemanticModel",
    "collapsed": false
   },
   "source": "## Create a Semantic Model for the OHLC Data. \n### This semantic model will be used by Cortex Analyst for generating queries. \n### We will use the Snowflake AI & ML Studio in Snowsight to generate the semantic model.\n### Copy [this Semantic Model YAML file](https://github.com/rrprasan/Finance/blob/main/Snowflake/Notebooks/Company_Financials/unified_equity_research/ohlc_data_semantic_model.yaml) from Github into YAML_STAGE.\n### Or, if you wish to create the semantic model file from scratch, please follow the [instructions in this page](https://github.com/rrprasan/Finance/blob/main/Snowflake/Notebooks/Company_Financials/unified_equity_research/Readme.md) to create the Semantic Model file.  "
  },
  {
   "cell_type": "code",
   "id": "fdff165a-6e38-49e1-96f5-6dca87aeb22b",
   "metadata": {
    "language": "sql",
    "name": "SQLCreateYAML_STAGE"
   },
   "outputs": [],
   "source": "CREATE STAGE YAML_STAGE \n\tDIRECTORY = ( ENABLE = true ) \n\tENCRYPTION = ( TYPE = 'SNOWFLAKE_SSE' );",
   "execution_count": null
  },
  {
   "cell_type": "markdown",
   "id": "86ed072a-861d-402d-859f-2526cce3640b",
   "metadata": {
    "name": "MDStatusOfVariosuStepsInTheProcess",
    "collapsed": false
   },
   "source": "# What we have accomplished thus far? \n### 1. Ingested OHLC JSON data into Snowflake.\n### 2. Transform the JSON Data using FLATTEN and CAST the data to the correct data type.\n### 3. Created a VIEW on the flattened data. \n### 4. Created a Cortex Analyst Semantic Model on the View. \n### 5. Tested the semantic model with a few questions.\n### 6. Recieved tabular data from Cortex Analyst.\n# What are the remaining steps?\n### 1. Create a stage for the company-related PDF files.\n### 2. Store the company annual report PDF into a stage. \n### 3. Parse the PDF files in the stage and extract the text. \n### 4. Store the text in a VARCHAR column in a table. \n### 5. Split the text into chunks. \n### 6. Create Snowflake Cortex Search service on the chunks.\n### 7. Test the Cortex Search Service to see it returns the correct results.  \n### 8. Set-up Snowflake Cortex Agent Streamlit App.\n### 9. Ask questions & get answers. \n### 10. Snowflake Cortex Agent will interpret your question. \n### 11. Route it intelligently to either Cortex Analyst or Cortex Search. \n### 12. If a question is routed to Cortex Analyst, tabular data is received as an answer. \n### 13. If a question is routed to Cortex Search,  textual answer is received as an answer.  "
  },
  {
   "cell_type": "markdown",
   "id": "9f6f611e-f7a3-4d64-a013-1dfad489617d",
   "metadata": {
    "name": "MDCreateCompanyFilingsStg",
    "collapsed": false
   },
   "source": "## Create a Stage to Store All the Company Related Filings, News, Analyst Reports\n```\nCREATE STAGE COMPANY_ALL_FILINGS_NEWS_ANALYSIS_UPDATES_STG \n\tDIRECTORY = ( ENABLE = true ) \n\tENCRYPTION = ( TYPE = 'SNOWFLAKE_SSE' );\n```"
  },
  {
   "cell_type": "code",
   "id": "d5c18bc2-f268-487e-a0c0-981a6b20491b",
   "metadata": {
    "language": "sql",
    "name": "SQLCreateCompanyFilingStg"
   },
   "outputs": [],
   "source": "CREATE STAGE COMPANY_ALL_FILINGS_NEWS_ANALYSIS_UPDATES_STG \n\tDIRECTORY = ( ENABLE = true ) \n\tENCRYPTION = ( TYPE = 'SNOWFLAKE_SSE' );",
   "execution_count": null
  },
  {
   "cell_type": "markdown",
   "id": "83b55bf5-1a46-403a-8950-e7fbbc49f2ed",
   "metadata": {
    "name": "MDUploadCompanyPDFIntoStage",
    "collapsed": false
   },
   "source": "## Download the [Annual_Report_and_Earnings_Call_Transcript_PDF_Files.zip](https://github.com/rrprasan/Finance/tree/main/Snowflake/Notebooks/Company_Financials/unified_equity_research) file from Github.\n## Unzip the files\n## Upload the following file to the stage\n- CPB_Earnings_Call_Transcript_Q2_2025_5_March_2025_8_00_AM_ET.pdf\n- CPB_2024_Annual_Report.pdf"
  },
  {
   "cell_type": "markdown",
   "id": "4bbd8604-5d96-4ef3-95df-a2f92697411f",
   "metadata": {
    "name": "MDCreateTableForPARSE_DOCUMENTContent",
    "collapsed": false
   },
   "source": "## Create a Table to Store the text from the PDF Obtained by Using the PARSE_DOCUMENT function.  \n```\nCREATE OR REPLACE TRANSIENT TABLE COMPANY_ALL_FILINGS_NEWS_ANALYSIS_UPDATES_TBL\n(\n    TICKER_SYMBOL VARCHAR,\n    UPDATE_WEEK DATE,\n    UPDATE_QUARTER VARCHAR, \n    UPDATE_TITLE VARCHAR,\n    UPDATE_MESSAGE VARCHAR\n);\n```"
  },
  {
   "cell_type": "code",
   "id": "721fde57-edb4-4fbd-922c-1863d8807883",
   "metadata": {
    "language": "sql",
    "name": "SQLCreateTableForPDFContent"
   },
   "outputs": [],
   "source": "CREATE OR REPLACE TRANSIENT TABLE COMPANY_ALL_FILINGS_NEWS_ANALYSIS_UPDATES_TBL\n(\n    TICKER_SYMBOL VARCHAR,\n    UPDATE_WEEK DATE,\n    UPDATE_QUARTER VARCHAR, \n    UPDATE_TITLE VARCHAR,\n    UPDATE_MESSAGE VARCHAR\n);",
   "execution_count": null
  },
  {
   "cell_type": "markdown",
   "id": "7619fad5-49a8-43b3-81ae-34c1fca22670",
   "metadata": {
    "name": "MDPARSE_INSERT",
    "collapsed": false
   },
   "source": "## 1. Parse the CPB Earnings Call Transcript. \n## 2. Store text in COMPANY_ALL_FILINGS_NEWS_ANALYSIS_UPDATES_TBL Table.  "
  },
  {
   "cell_type": "code",
   "id": "ae18600a-a7a3-4777-92f5-63d9d7a3adce",
   "metadata": {
    "language": "sql",
    "name": "SQLPARSE_INSERT"
   },
   "outputs": [],
   "source": "INSERT INTO COMPANY_ALL_FILINGS_NEWS_ANALYSIS_UPDATES_TBL (TICKER_SYMBOL, UPDATE_WEEK, UPDATE_QUARTER, UPDATE_TITLE, UPDATE_MESSAGE)\nSELECT \n    'CPB',\n    TO_DATE('03-05-2025', 'MM-DD-YYYY') UPDATE_WEEK,\n    'Q2 FY 2025',\n    'Q2 FY 2025 Earnings Call Transcript',\n    SNOWFLAKE.CORTEX.PARSE_DOCUMENT('@DEMODB.EQUITY_RESEARCH.COMPANY_ALL_FILINGS_NEWS_ANALYSIS_UPDATES_STG',\n                                      'CPB_Earnings_Call_Transcript_Q2_2025_5_March_2025_8_00_AM_ET.pdf',\n                                      {'mode': 'LAYOUT'}):content;\n",
   "execution_count": null
  },
  {
   "cell_type": "markdown",
   "id": "01c99666-8dc2-4ddc-b433-f441cb19abb2",
   "metadata": {
    "name": "MDParse_Annual_Report",
    "collapsed": false
   },
   "source": "## 1. Parse the CPB Annual Report PDF document. \n## 2. Store text in COMPANY_ALL_FILINGS_NEWS_ANALYSIS_UPDATES_TBL Table."
  },
  {
   "cell_type": "code",
   "id": "13e57b21-00b8-4fe2-8e25-90486e94bf6c",
   "metadata": {
    "language": "sql",
    "name": "SQLParse_Annual_Report"
   },
   "outputs": [],
   "source": "INSERT INTO COMPANY_ALL_FILINGS_NEWS_ANALYSIS_UPDATES_TBL (TICKER_SYMBOL, UPDATE_WEEK, UPDATE_QUARTER, UPDATE_TITLE, UPDATE_MESSAGE)\nSELECT \n    'CPB',\n    TO_DATE('03-05-2025', 'MM-DD-YYYY') UPDATE_WEEK,\n    '2024 10-K Annual Report',\n    '2024 Annual Report',\n    SNOWFLAKE.CORTEX.PARSE_DOCUMENT('@DEMODB.EQUITY_RESEARCH.COMPANY_ALL_FILINGS_NEWS_ANALYSIS_UPDATES_STG',\n                                      'CPB_2024_Annual_Report.pdf',\n                                      {'mode': 'LAYOUT'}):content;",
   "execution_count": null
  },
  {
   "cell_type": "code",
   "id": "70203904-543c-4087-a32a-4e1ecd600a70",
   "metadata": {
    "language": "sql",
    "name": "SQLDescTable"
   },
   "outputs": [],
   "source": "DESC TABLE COMPANY_ALL_FILINGS_NEWS_ANALYSIS_UPDATES_TBL;",
   "execution_count": null
  },
  {
   "cell_type": "code",
   "id": "aeb8fc06-1690-4187-83d4-24fd24669a39",
   "metadata": {
    "language": "sql",
    "name": "SQLSelectParseDocumentTable"
   },
   "outputs": [],
   "source": "SELECT * FROM COMPANY_ALL_FILINGS_NEWS_ANALYSIS_UPDATES_TBL;",
   "execution_count": null
  },
  {
   "cell_type": "markdown",
   "id": "7f9ee88f-0629-4ae2-a7af-65d26b81813a",
   "metadata": {
    "name": "MDSequence",
    "collapsed": false
   },
   "source": "## Create a Sequence to Generate Unique IDs for Each Text Chunk.\n## This unique ID will be used to retrieve and create the citations.   "
  },
  {
   "cell_type": "code",
   "id": "6268c086-a771-4614-b6d4-66688ddc25fb",
   "metadata": {
    "language": "sql",
    "name": "SQLCreateSequence"
   },
   "outputs": [],
   "source": "CREATE OR REPLACE SEQUENCE COMPANY_ALL_FILINGS_NEWS_ANALYSIS_UPDATES_CHUNKS_SEQ;",
   "execution_count": null
  },
  {
   "cell_type": "markdown",
   "id": "d7fe7834-cd79-4985-a026-31a47d3d4c50",
   "metadata": {
    "name": "MDCreateChunks",
    "collapsed": false
   },
   "source": "### Create Text Chunks of the Content in the Annual Report and the Earnings Call Transcript. \n### Use SPLIT_TEXT_RECURSIVE_CHARACTER to create the chunks. \n### Store the text chunks in a new 'chunks' table - COMPANY_ALL_FILINGS_NEWS_ANALYSIS_UPDATES_CHUNKS_TBL.  "
  },
  {
   "cell_type": "code",
   "id": "97118769-36ad-43e2-b5c9-50d6211b2c10",
   "metadata": {
    "language": "sql",
    "name": "SQLCreateChunksTable"
   },
   "outputs": [],
   "source": "CREATE OR REPLACE TRANSIENT TABLE COMPANY_ALL_FILINGS_NEWS_ANALYSIS_UPDATES_CHUNKS_TBL \nAS\nSELECT\n    COMPANY_ALL_FILINGS_NEWS_ANALYSIS_UPDATES_CHUNKS_SEQ.NEXTVAL UPDATE_CHUNK_ID,\n    TICKER_SYMBOL,\n    UPDATE_WEEK,\n    UPDATE_QUARTER,\n    UPDATE_TITLE,\n    UPDATE_MESSAGE,\n    CONCAT(UPDATE_QUARTER, '-', TO_VARCHAR(UPDATE_CHUNK_TXT.VALUE)) AS UPDATE_CHUNK\nFROM\n   COMPANY_ALL_FILINGS_NEWS_ANALYSIS_UPDATES_TBL,\n   LATERAL FLATTEN( input => SNOWFLAKE.CORTEX.SPLIT_TEXT_RECURSIVE_CHARACTER (\n      UPDATE_MESSAGE,\n      'none',\n      500,\n      100\n   )) UPDATE_CHUNK_TXT;",
   "execution_count": null
  },
  {
   "cell_type": "markdown",
   "id": "594d0c16-3e13-4d7c-acbf-6a0c8a719076",
   "metadata": {
    "name": "MDSelectChunksTable",
    "collapsed": false
   },
   "source": "## Test the Chunks Table. "
  },
  {
   "cell_type": "code",
   "id": "ee802f43-d590-43a8-90e3-26afc3afa032",
   "metadata": {
    "language": "sql",
    "name": "SQLSelectChunksTable"
   },
   "outputs": [],
   "source": "SELECT * FROM COMPANY_ALL_FILINGS_NEWS_ANALYSIS_UPDATES_CHUNKS_TBL LIMIT 20;",
   "execution_count": null
  },
  {
   "cell_type": "markdown",
   "id": "80ba8b8e-2940-45c5-82e8-8852a9cd4f83",
   "metadata": {
    "name": "MDCreateCortexSearchService"
   },
   "source": "## Create Cortex Search Service"
  },
  {
   "cell_type": "code",
   "id": "0212782c-18b7-4d20-b738-db690e7565d3",
   "metadata": {
    "language": "sql",
    "name": "SQLCreateCortexSearch"
   },
   "outputs": [],
   "source": "CREATE CORTEX SEARCH SERVICE COMPANY_ALL_FILINGS_NEWS_ANALYSIS_UPDATES_SEARCH_SVC\n    ON UPDATE_CHUNK\n    ATTRIBUTES TICKER_SYMBOL, UPDATE_WEEK, UPDATE_QUARTER, UPDATE_TITLE\n    WAREHOUSE = COMPUTE_WH\n    TARGET_LAG = '1 hour'\n    AS (\n        SELECT *\n        FROM COMPANY_ALL_FILINGS_NEWS_ANALYSIS_UPDATES_CHUNKS_TBL\n    );",
   "execution_count": null
  },
  {
   "cell_type": "markdown",
   "id": "fa57fec0-4c36-4cc7-92b7-24bbb439f403",
   "metadata": {
    "name": "MDTestCortexSearch",
    "collapsed": false
   },
   "source": "## Test the Cortex Search Service Using SEARCH_PREVIEW function in Snowflake. "
  },
  {
   "cell_type": "code",
   "id": "98fac503-2e6d-4c6f-a9a1-b4e22d833e18",
   "metadata": {
    "language": "sql",
    "name": "SQLTestCortexSearch"
   },
   "outputs": [],
   "source": "SELECT PARSE_JSON(\n  SNOWFLAKE.CORTEX.SEARCH_PREVIEW(\n      'COMPANY_ALL_FILINGS_NEWS_ANALYSIS_UPDATES_SEARCH_SVC',\n      '{\n        \"query\": \"What are the risks to Campbell soup\\'s business?\",\n        \"columns\":[\n            \"UPDATE_CHUNK\"\n        ],\n        \"limit\":10\n      }'\n  )\n)['results'] as results;",
   "execution_count": null
  },
  {
   "cell_type": "markdown",
   "id": "16a6e0bb-5607-4603-9fbb-d1c7e4d45fee",
   "metadata": {
    "name": "MDStreamlitApp",
    "collapsed": false
   },
   "source": "## Create a Streamlit App in Snowflake Snowsight. \n### Copy and paste [this code - Unified_Equity_Research_Streamlit.py](https://github.com/rrprasan/Finance/blob/main/Snowflake/Notebooks/Company_Financials/unified_equity_research/Unified_Equity_Research_Streamlit.py) - from Github into Streamlit in Snowflake.  \n### Once you have made changes to the Streamlit app, you are ready to test Cortex Agent. \n### There are comments in the Streamlit app that tell you the changes you will have to make. \nThis Streamlit code modifes the code found in the [Snowflake Cortex Agent quick-start guide](https://quickstarts.snowflake.com/guide/getting_started_with_cortex_agents/index.html?index=../..index#0)."
  }
 ]
}