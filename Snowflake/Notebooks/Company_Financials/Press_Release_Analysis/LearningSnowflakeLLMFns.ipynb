{
 "metadata": {
  "kernelspec": {
   "display_name": "Streamlit Notebook",
   "name": "streamlit"
  },
  "lastEditStatus": {
   "notebookId": "6nfwwi2f2g7o2kukqr35",
   "authorId": "8795186554644",
   "authorName": "PRAJAGOPAL",
   "authorEmail": "prasanna.rajagopal@snowflake.com",
   "sessionId": "7478c639-f4be-4081-a753-e2c1f408416b",
   "lastEditTime": 1736861086005
  }
 },
 "nbformat_minor": 5,
 "nbformat": 4,
 "cells": [
  {
   "cell_type": "markdown",
   "id": "b98ec1a0-15cd-4c0b-b795-d36a1791b038",
   "metadata": {
    "name": "MDTitleCortexAILLM",
    "collapsed": false,
    "resultHeight": 496
   },
   "source": "## Task-specific [Snowflake Cortex](https://www.snowflake.com/en/data-cloud/cortex/) LLM SQL Functions & [Cortex Search](https://docs.snowflake.com/en/user-guide/snowflake-cortex/cortex-search/cortex-search-overview#overview) Demo\n## Find the documentation for all task-specific LLM SQL functions [here](https://docs.snowflake.com/en/user-guide/snowflake-cortex/llm-functions#task-specific-functions)\n## You can learn and test the following functions in this Snowflake Notebook.  \n- ### [CLASSIFY_TEXT](https://docs.snowflake.com/en/user-guide/snowflake-cortex/llm-functions#classify-text)\n- ### [COMPLETE](https://docs.snowflake.com/en/sql-reference/functions/complete-snowflake-cortex)\n- ### [EXTRACT_ANSWER](https://docs.snowflake.com/en/sql-reference/functions/extract_answer-snowflake-cortex)\n- ### [SENTIMENT](https://docs.snowflake.com/en/sql-reference/functions/sentiment-snowflake-cortex)\n- ### [SUMMARIZE](https://docs.snowflake.com/en/sql-reference/functions/summarize-snowflake-cortex)\n- ### [CORTEX SEARCH SERVICE](https://docs.snowflake.com/en/user-guide/snowflake-cortex/cortex-search/overview-tutorials)"
  },
  {
   "cell_type": "markdown",
   "id": "ee6ea7eb-7963-476f-a825-b467c6d974d9",
   "metadata": {
    "name": "MDLearningGoals",
    "collapsed": false,
    "resultHeight": 531
   },
   "source": "# Learning Goals\n- #### Understand the end-to-end workflow to process and gain insights from unstructured text data. \n- #### We will analyze various company's press releases using Snowflake Cortex LLM functions and Cortex Search.\n- #### Learn how to use the Snowflake Cortex LLM SQL functions.\n- #### Quickly analyze data by bringing AI to your data rather than moving data to an external AI service. \n- #### [Snowflake Cortex](https://docs.snowflake.com/en/user-guide/snowflake-cortex/llm-functions) gives you instant access to industry-leading large language models (LLMs) trained by researchers at companies like Anthropic, Mistral, Reka, Meta, and Google, including Snowflake Arctic, an open enterprise-grade model developed by Snowflake.\n- #### These LLMs are fully hosted and managed by Snowflake, using them requires no setup. \n- #### Your data stays within Snowflake, giving you the performance, scalability, and governance you expect.\n- #### Get answers to questions about companies by searching press releases using Cortex Search."
  },
  {
   "cell_type": "markdown",
   "id": "5a2d3280-04e4-46ca-bfa7-38f515113854",
   "metadata": {
    "name": "MDTextClassification",
    "collapsed": false,
    "resultHeight": 163
   },
   "source": "# Text Classification\n## [CLASSIFY_TEXT](https://docs.snowflake.com/en/sql-reference/functions/classify_text-snowflake-cortex): Given a piece of text, classifies it into one of the categories that you define."
  },
  {
   "cell_type": "markdown",
   "id": "2c824881-b633-4f45-85ea-77d4e80be4cb",
   "metadata": {
    "name": "MDClassifyText",
    "collapsed": false,
    "resultHeight": 89
   },
   "source": "## We will create a [transient table](https://docs.snowflake.com/en/user-guide/tables-temp-transient#transient-tables) in Snowflake with some data we wish to classify under the categories we define. "
  },
  {
   "cell_type": "code",
   "id": "7dc1bf5a-47f8-4df7-a9b7-578f7c40abe9",
   "metadata": {
    "language": "sql",
    "name": "CrTblForClassifyText",
    "collapsed": false,
    "resultHeight": 112
   },
   "outputs": [],
   "source": "CREATE OR REPLACE TRANSIENT TABLE text_classification_table AS\nSELECT 'France' AS input, ['North America', 'Europe', 'Asia'] AS classes\nUNION ALL\nSELECT 'Singapore', ['North America', 'Europe', 'Asia']\nUNION ALL\nSELECT 'one day I will see the world', ['travel', 'cooking', 'dancing']\nUNION ALL\nSELECT 'my lobster bisque is second to none', ['travel', 'cooking', 'dancing'];",
   "execution_count": null
  },
  {
   "cell_type": "code",
   "id": "503aaeab-baa7-46b1-9f48-4d859f7e01d1",
   "metadata": {
    "language": "sql",
    "name": "SQLClassifyText",
    "collapsed": false,
    "resultHeight": 217
   },
   "outputs": [],
   "source": "SELECT input,\n       classes,\n       SNOWFLAKE.CORTEX.CLASSIFY_TEXT(input, classes)['label'] as classification\nFROM text_classification_table;",
   "execution_count": null
  },
  {
   "cell_type": "markdown",
   "id": "d748e678-2322-4c7b-8fe3-013106c96f72",
   "metadata": {
    "name": "MDPressReleaseNote",
    "collapsed": false,
    "resultHeight": 44
   },
   "source": "- All other examples in this Notebook use the text from the press releases. "
  },
  {
   "cell_type": "markdown",
   "id": "b453f0b8-8720-4450-b175-0bba142164a4",
   "metadata": {
    "name": "MDPressReleaseAnalysis",
    "collapsed": false,
    "resultHeight": 112
   },
   "source": "# Company Press Release Analysis Using [Snowflake Cortex LLM SQL](https://docs.snowflake.com/en/user-guide/snowflake-cortex/llm-functions) Functions. "
  },
  {
   "cell_type": "markdown",
   "id": "3fdc30c2-b823-4270-8030-1dc11f78506e",
   "metadata": {
    "name": "MDSnowflakeLLMSQLFunctions",
    "collapsed": false,
    "resultHeight": 283
   },
   "source": "### To test the other Snowflake LLM SQL functions, we will use press releases of publicly-listed U.S. companies.\n- #### We will load the press release PDF files into a stage in Snowflake.  \n- #### We will parse each press release and load the text contents into a table. \n- #### Since we are dealing with long, free-form text that may run to over a dozen pages, we will chunk the text using an LLM SQL function in Snowflake. \n- #### We will apply the LLM SQL functions - SUMMARIZE, EXTRACT_ANSWER, SENTIMENT - on the full or chunked text.  "
  },
  {
   "cell_type": "markdown",
   "id": "bf8d9dfd-ca4f-4d9a-a282-bb5242693dd2",
   "metadata": {
    "name": "MDChunkWebster",
    "collapsed": false,
    "resultHeight": 559
   },
   "source": "# Why do we need to chunk text for use by LLM?\n### The Merriam-Webster dictionary defines [CHUNK](https://www.merriam-webster.com/dictionary/chunk) as follows:\n- #### \"a large noteworthy quantity or part\" \n- #### You can use the Snowflake Cortex COMPLETE function to understand why LLMs work better with chunked text. \n- #### I have used the Anthropic's Claude Sonnet LLM along with the COMPLETE functions to answer this question. \n- #### Snowflake has a [partnership with Anthropic](https://www.snowflake.com/en/news/press-releases/snowflake-and-anthropic-team-up-to-bring-claude-models-directly-to-the-ai-data-cloud/) to bring their models into Snowflake. \n- #### Customers have access to a wide-range of LLMs with their Snowflake environment. \n- #### These LLMs are [fully hosted and managed by Snowflake](https://docs.snowflake.com/en/user-guide/snowflake-cortex/llm-functions), using them requires no setup. Your data stays within Snowflake, giving you the performance, scalability, and governance you expect.\n- #### You can find the complete list of LLMs available in Snowflake over [here](https://docs.snowflake.com/en/sql-reference/functions/complete-snowflake-cortex)\n- #### The COMPLETE functions allows you to pick an LLM you could use with it. "
  },
  {
   "cell_type": "code",
   "id": "99db38dd-c491-4c83-b9e8-4cfee03a01e6",
   "metadata": {
    "language": "sql",
    "name": "SQLWhyIsChunkingNecessary",
    "collapsed": false,
    "resultHeight": 112
   },
   "outputs": [],
   "source": "-- Using claude-3-5-sonnet LLM with Snowflake Cortex COMPLETE.\nSELECT SNOWFLAKE.CORTEX.COMPLETE('claude-3-5-sonnet','Why is text chunking necessary for LLM?');",
   "execution_count": null
  },
  {
   "cell_type": "markdown",
   "id": "08107926-529d-4630-9714-93bf7bcf6b54",
   "metadata": {
    "name": "MDChunkingExplanation",
    "collapsed": false,
    "resultHeight": 1272
   },
   "source": "## Why is text chunking necessary for LLM?\n### Here's the answer provided by the Snowflake Cortex COMPLETE  function using the Claude-3.5 Sonnet LLM:\n\nText chunking is necessary for LLMs for several important reasons:\n\n1. #### Context Window Limitations:\n- LLMs have a maximum context window size (token limit)\n- Long documents need to be broken into smaller pieces to fit within these limits\n\n2. #### Memory Management:\n- Processing large texts all at once requires significant computational resources\n- Chunking helps manage memory usage more efficiently\n- Allows for parallel processing of different chunks\n\n3. #### Information Retrieval:\n- Enables better semantic search and retrieval\n- Easier to find relevant sections of text\n- Helps in building knowledge bases and RAG (Retrieval Augmented Generation) systems\n\n4. #### Better Processing:\n- Smaller chunks are easier to process and understand\n- Reduces noise and improves focus on relevant information\n- Helps maintain coherence in responses\n\n5. #### Cost Efficiency:\n- Many LLM APIs charge by token count\n- Chunking helps optimize token usage\n- Allows processing only relevant portions of text\n\n6. #### Quality of Responses:\n- More focused context leads to more accurate responses\n- Reduces hallucinations and irrelevant information\n- Improves overall output quality\n\n#### Best practices for chunking include:\n- Maintaining semantic coherence\n- Overlapping chunks to preserve context\n- Using appropriate chunk sizes for the task\n- Considering document structure"
  },
  {
   "cell_type": "code",
   "id": "fbce28a1-2ff6-4ce2-83c9-e200c5f98389",
   "metadata": {
    "language": "sql",
    "name": "CrStage",
    "collapsed": false,
    "resultHeight": 112
   },
   "outputs": [],
   "source": "CREATE STAGE COMPANY_EARNINGS_PRESS_RELEASES_STG \n\tDIRECTORY = ( ENABLE = true ) \n\tENCRYPTION = ( TYPE = 'SNOWFLAKE_SSE' );",
   "execution_count": null
  },
  {
   "cell_type": "markdown",
   "id": "06d829af-2943-4344-93c6-c0ebd6d89a9f",
   "metadata": {
    "name": "MDLoadFilesIntoStage",
    "collapsed": false,
    "resultHeight": 978
   },
   "source": "## Instructions to upload the Earnings Press Release PDF files into the stage.\n\n- #### You can download the press release PDF files stored as a zip archive from [Github here](https://github.com/rrprasan/Finance/tree/main/Snowflake/Notebooks/Company_Financials/Press_Release_Analysis).\n- #### Unzip the files in your local drive. \n- #### Copy the PDF files into the Snowflake internal stage - COMPANY_EARNINGS_PRESS_RELEASES_STG.\n\n- #### Follow the [following steps](https://docs.snowflake.com/en/user-guide/data-load-local-file-system-stage-ui#upload-files-onto-a-named-internal-stage) in Snowsight to upload the files into the stage.  \n#### 1. Sign in to Snowsight.\n#### 2. Select Data » Add Data.\n#### 3. On the Add Data page, select Load files into a Stage.\n#### 4. In the Upload Your Files dialog that appears, select the files that you want to upload. You can upload multiple files at the same time.\n#### 5. Select the database schema in which you created the stage, then select the stage.\n#### 6. Optionally, select or create a path where you want to save your files within the stage.\n#### 7. Select Upload.\n\n#### The following press release PDF files are in the zipped archive:\n\n- ADBE_Q4_FY_2024_Earnings_Press_Release.pdf\n- AMZN_Q3_FY_2024_Earnings_Press_Release.pdf\n- CRM_Q3_FY_2025_Earnings_Press_Release.pdf\n- CSCO_Q1_FY_2025_Earnings_Press_Release.pdf\n- GOOGL_Q3_FY_2024_Earnings_Press_Release.pdf\n- MSFT_Q1_FY_2025_Earnings_Press_Release.pdf\n- NOW_Q3_FY_2024_Earnings_Press_Release.pdf\n- ORCL_Q2_FY_2025_Earnings_Press_Release.pdf\n- PANW_Q1_FY_2025_Earnings_Press_Release.pdf\n- PG_Q1_FY_2025_Earnings_Press_Release.pdf\n"
  },
  {
   "cell_type": "code",
   "id": "0c4df546-e278-45b0-8d6c-76b267fa3e04",
   "metadata": {
    "language": "sql",
    "name": "ListFilesInStage",
    "collapsed": false,
    "resultHeight": 427
   },
   "outputs": [],
   "source": "LIST @COMPANY_EARNINGS_PRESS_RELEASES_STG;",
   "execution_count": null
  },
  {
   "cell_type": "code",
   "id": "e6f383a0-3972-4f00-ae1f-683c32d31c3c",
   "metadata": {
    "language": "sql",
    "name": "CrSeqForPressReleaseID",
    "collapsed": false,
    "resultHeight": 112
   },
   "outputs": [],
   "source": "--****************\n-- CREATE A SEQ FOR PRESS_RELEASES_TBL. \n-- We will use the Sequence as a ID in the COMPANY_PRESS_RELEASES_TBL.\n-- This ID is not essential. \n-- You can remove it from the table definition below. \n--****************\nCREATE OR REPLACE SEQUENCE PRESS_RELEASE_ID_SEQ;\nSELECT PRESS_RELEASE_ID_SEQ.NEXTVAL;",
   "execution_count": null
  },
  {
   "cell_type": "code",
   "id": "d411c687-b6d9-4141-a598-048b0dcfa207",
   "metadata": {
    "language": "sql",
    "name": "CrPressReleaseRawTbl",
    "collapsed": false,
    "resultHeight": 112
   },
   "outputs": [],
   "source": "CREATE OR REPLACE TRANSIENT TABLE COMPANY_PRESS_RELEASES_TBL (\n    PRESS_RELEASE_ID NUMBER DEFAULT PRESS_RELEASE_ID_SEQ.NEXTVAL,\n    COMPANY_NAME VARCHAR,\n    TICKER_SYMBOL VARCHAR(10),\n    PRESS_RELEASE_TYPE VARCHAR COMMENT 'PRESS RELEASE TYPE EARNINGS, NEWS',\n    PRESS_RELEASE_FISCAL_PERIOD VARCHAR COMMENT 'SHOULD FOLLOW THIS FORMAT: Q1 FY 2025 OR FOR ANNUAL EARNINGS FULL-YEAR FY 2025',\n    PRESS_RELEASE_DATE DATE,\n    PRESS_RELEASE_CONTENT VARCHAR\n);",
   "execution_count": null
  },
  {
   "cell_type": "markdown",
   "id": "817cf3a2-8d97-4ec7-9805-5e870ffb24d8",
   "metadata": {
    "name": "MDParseDocument",
    "collapsed": false,
    "resultHeight": 291
   },
   "source": "# PARSE DOCUMENT\n#### [PARSE_DOCUMENT](https://docs.snowflake.com/en/user-guide/snowflake-cortex/parse-document)\n\nThe PARSE_DOCUMENT function is a Cortex AI task-specific function that gives you the ability to extract text or layout from documents stored in an internal or external stage. PARSE_DOCUMENT combines powerful Optical Character Recognition (OCR) capabilities with machine learning models to identify text content, information stored in tables, and the structural elements of PDF documents. You can use the PARSE_DOCUMENT function to extract text and document layout to build information retrieval systems on large archives of business documents, and to load the extracted information into structured Snowflake tables for use by your applications."
  },
  {
   "cell_type": "markdown",
   "id": "e07361d0-0c64-40ef-8941-0c04ffdf5955",
   "metadata": {
    "name": "MDParseAmazonPressRelease",
    "collapsed": false,
    "resultHeight": 46
   },
   "source": "### Parse Amazon's Press Release PDF Stored in the Stage. "
  },
  {
   "cell_type": "code",
   "id": "a57c9cdb-c76f-4ecc-a832-232abcb7e00b",
   "metadata": {
    "language": "sql",
    "name": "SQLParseAMZNPressRelease",
    "collapsed": false,
    "resultHeight": 112
   },
   "outputs": [],
   "source": "--\n-- Parse Amazon's Earnings Press Release \n-- This is a test of the PARSE_DOCUMENT Function. \n-- \nSELECT TO_VARCHAR(SNOWFLAKE.CORTEX.PARSE_DOCUMENT('@COMPANY_EARNINGS_PRESS_RELEASES_STG','AMZN_Q3_FY_2024_Earnings_Press_Release.pdf', {'mode': 'LAYOUT'}):content);",
   "execution_count": null
  },
  {
   "cell_type": "markdown",
   "id": "8ac6b756-1537-49fa-8873-9742e5dec87b",
   "metadata": {
    "name": "MDInsPressReleaseContent",
    "collapsed": false,
    "resultHeight": 299
   },
   "source": "### Parse each PDF File and load the contents into the PRESS_RELEASE_CONTENT column.  \n### We have the other columns with the metadata information about each PRESS_RELEASE:\n- COMPANY_NAME\n- TICKER_SYMBOL\n- PRESS_RELEASE_TYPE\n- PRESS_RELEASE_FISCAL_PERIOD\n- PRESS_RELEASE_DATE\n### Process Amazon's Press Release. "
  },
  {
   "cell_type": "code",
   "id": "cc8cc1bd-902d-4d94-894e-960ce8cdfaa7",
   "metadata": {
    "language": "sql",
    "name": "InsAMZNPressRelease",
    "collapsed": false,
    "resultHeight": 112
   },
   "outputs": [],
   "source": "INSERT INTO COMPANY_PRESS_RELEASES_TBL \n    (COMPANY_NAME, \n     TICKER_SYMBOL, \n     PRESS_RELEASE_TYPE, \n     PRESS_RELEASE_FISCAL_PERIOD, \n     PRESS_RELEASE_DATE, \n     PRESS_RELEASE_CONTENT)\nSELECT 'AMAZON.COM, INC.', \n        'AMZN', \n        'EARNINGS',\n        'Q3 FY 2024', \n        '2024-12-03',       \nTO_VARCHAR(SNOWFLAKE.CORTEX.PARSE_DOCUMENT('@COMPANY_EARNINGS_PRESS_RELEASES_STG','AMZN_Q3_FY_2024_Earnings_Press_Release.pdf', {'mode': 'LAYOUT'}):content);",
   "execution_count": null
  },
  {
   "cell_type": "markdown",
   "id": "96a215ab-aabd-42d2-bc22-bbaf1bf80fa3",
   "metadata": {
    "name": "MDAdobe",
    "collapsed": false,
    "resultHeight": 46
   },
   "source": "### Process Adobe's Press Release"
  },
  {
   "cell_type": "code",
   "id": "95606371-9781-4d62-b4ca-2035a76a0632",
   "metadata": {
    "language": "sql",
    "name": "InsAdobePressRelease",
    "collapsed": false,
    "resultHeight": 112
   },
   "outputs": [],
   "source": "INSERT INTO COMPANY_PRESS_RELEASES_TBL \n    (COMPANY_NAME, \n     TICKER_SYMBOL, \n     PRESS_RELEASE_TYPE, \n     PRESS_RELEASE_FISCAL_PERIOD, \n     PRESS_RELEASE_DATE, \n     PRESS_RELEASE_CONTENT)\nSELECT 'ADOBE INC.', \n        'ADBE', \n        'EARNINGS',\n        'Q4 FY 2024', \n        '2024-12-11',       \nTO_VARCHAR(SNOWFLAKE.CORTEX.PARSE_DOCUMENT('@COMPANY_EARNINGS_PRESS_RELEASES_STG','ADBE_Q4_FY_2024_Earnings_Press_Release.pdf', {'mode': 'LAYOUT'}):content);",
   "execution_count": null
  },
  {
   "cell_type": "markdown",
   "id": "95c0e4ec-41d6-4cf8-bb15-1d1295b39c9c",
   "metadata": {
    "name": "MDSalesforce",
    "collapsed": false,
    "resultHeight": 46
   },
   "source": "### Process Salesforce's Press Release"
  },
  {
   "cell_type": "code",
   "id": "61cf9cfa-e440-4f8a-9c07-5c06b8c9f120",
   "metadata": {
    "language": "sql",
    "name": "InsSalesforcePressRelease",
    "collapsed": false,
    "resultHeight": 112
   },
   "outputs": [],
   "source": "INSERT INTO COMPANY_PRESS_RELEASES_TBL \n    (COMPANY_NAME, \n     TICKER_SYMBOL, \n     PRESS_RELEASE_TYPE, \n     PRESS_RELEASE_FISCAL_PERIOD, \n     PRESS_RELEASE_DATE, \n     PRESS_RELEASE_CONTENT)\nSELECT 'Salesforce, Inc.', \n        'CRM', \n        'EARNINGS',\n        'Q3 FY 2025', \n        '2024-12-03',       \nTO_VARCHAR(SNOWFLAKE.CORTEX.PARSE_DOCUMENT('@COMPANY_EARNINGS_PRESS_RELEASES_STG','CRM_Q3_FY_2025_Earnings_Press_Release.pdf', {'mode': 'LAYOUT'}):content);",
   "execution_count": null
  },
  {
   "cell_type": "markdown",
   "id": "34f43baf-7952-4ec8-84b0-702c5cb1ffea",
   "metadata": {
    "name": "MDCiscoSystems",
    "collapsed": false,
    "resultHeight": 46
   },
   "source": "### Process Cisco System's Press Release"
  },
  {
   "cell_type": "code",
   "id": "195f3a84-b56e-4ced-bae4-8edcb8b347b2",
   "metadata": {
    "language": "sql",
    "name": "InsCiscoPressRelease",
    "collapsed": false,
    "resultHeight": 112
   },
   "outputs": [],
   "source": "INSERT INTO COMPANY_PRESS_RELEASES_TBL \n    (COMPANY_NAME, \n     TICKER_SYMBOL, \n     PRESS_RELEASE_TYPE, \n     PRESS_RELEASE_FISCAL_PERIOD, \n     PRESS_RELEASE_DATE, \n     PRESS_RELEASE_CONTENT)\nSELECT 'CISCO SYSTEMS, INC.', \n        'CSCO', \n        'EARNINGS',\n        'Q1 FY 2025', \n        '2024-11-13',       \nTO_VARCHAR(SNOWFLAKE.CORTEX.PARSE_DOCUMENT('@COMPANY_EARNINGS_PRESS_RELEASES_STG','CSCO_Q1_FY_2025_Earnings_Press_Release.pdf', {'mode': 'LAYOUT'}):content);",
   "execution_count": null
  },
  {
   "cell_type": "markdown",
   "id": "633561f3-cf0b-4851-aac4-60085a85a76c",
   "metadata": {
    "name": "MDGoogle",
    "collapsed": false,
    "resultHeight": 46
   },
   "source": "### Process Google's (Alphabet) Press Release"
  },
  {
   "cell_type": "code",
   "id": "f8253e1c-a6c6-4ce4-bdf1-eb9c62081a19",
   "metadata": {
    "language": "sql",
    "name": "InsGooglePressRelease",
    "collapsed": false,
    "resultHeight": 112
   },
   "outputs": [],
   "source": "INSERT INTO COMPANY_PRESS_RELEASES_TBL \n    (COMPANY_NAME, \n     TICKER_SYMBOL, \n     PRESS_RELEASE_TYPE, \n     PRESS_RELEASE_FISCAL_PERIOD, \n     PRESS_RELEASE_DATE, \n     PRESS_RELEASE_CONTENT)\nSELECT 'Alphabet, Inc.', \n        'GOOGL', \n        'EARNINGS',\n        'Q3 FY 2024', \n        '2024-10-29',       \nTO_VARCHAR(SNOWFLAKE.CORTEX.PARSE_DOCUMENT('@COMPANY_EARNINGS_PRESS_RELEASES_STG','GOOGL_Q3_FY_2024_Earnings_Press_Release.pdf', {'mode': 'LAYOUT'}):content);",
   "execution_count": null
  },
  {
   "cell_type": "markdown",
   "id": "81c41ec9-2df6-498a-af23-ade403bca163",
   "metadata": {
    "name": "MDMicrosoft",
    "collapsed": false,
    "resultHeight": 46
   },
   "source": "### Process Microsoft Corporation's Press Release"
  },
  {
   "cell_type": "code",
   "id": "cdf79305-f1ef-4230-86df-ac94619c21bc",
   "metadata": {
    "language": "sql",
    "name": "cell5",
    "collapsed": false,
    "resultHeight": 112
   },
   "outputs": [],
   "source": "INSERT INTO COMPANY_PRESS_RELEASES_TBL \n    (COMPANY_NAME, \n     TICKER_SYMBOL, \n     PRESS_RELEASE_TYPE, \n     PRESS_RELEASE_FISCAL_PERIOD, \n     PRESS_RELEASE_DATE, \n     PRESS_RELEASE_CONTENT)\nSELECT 'Microsoft Corporation', \n        'MSFT', \n        'EARNINGS',\n        'Q1 FY 2025', \n        '2024-10-30',       \nTO_VARCHAR(SNOWFLAKE.CORTEX.PARSE_DOCUMENT('@COMPANY_EARNINGS_PRESS_RELEASES_STG','MSFT_Q1_FY_2025_Earnings_Press_Release.pdf', {'mode': 'LAYOUT'}):content);",
   "execution_count": null
  },
  {
   "cell_type": "markdown",
   "id": "8186f7a5-9fdf-4151-a6e1-ce0d3c9cde96",
   "metadata": {
    "name": "MDServiceNow",
    "collapsed": false,
    "resultHeight": 46
   },
   "source": "### Process ServiceNow's Press Release"
  },
  {
   "cell_type": "code",
   "id": "0a9e7594-5501-498c-b2c4-f93d9f3ea25e",
   "metadata": {
    "language": "sql",
    "name": "InsServiceNow",
    "collapsed": false,
    "resultHeight": 112
   },
   "outputs": [],
   "source": "INSERT INTO COMPANY_PRESS_RELEASES_TBL \n    (COMPANY_NAME, \n     TICKER_SYMBOL, \n     PRESS_RELEASE_TYPE, \n     PRESS_RELEASE_FISCAL_PERIOD, \n     PRESS_RELEASE_DATE, \n     PRESS_RELEASE_CONTENT)\nSELECT 'SERVICENOW, INC.', \n        'NOW', \n        'EARNINGS',\n        'Q3 FY 2024', \n        '2024-10-23',       \nTO_VARCHAR(SNOWFLAKE.CORTEX.PARSE_DOCUMENT('@COMPANY_EARNINGS_PRESS_RELEASES_STG','NOW_Q3_FY_2024_Earnings_Press_Release.pdf',{'mode': 'LAYOUT'}):content);",
   "execution_count": null
  },
  {
   "cell_type": "markdown",
   "id": "20c3be19-b815-47b2-b89f-fa210b0c6bc2",
   "metadata": {
    "name": "MDOracle",
    "collapsed": false,
    "resultHeight": 46
   },
   "source": "### Process Oracle Corporation's Press Release"
  },
  {
   "cell_type": "code",
   "id": "22041a8a-530d-4cf4-b8d6-7cd8e2f23344",
   "metadata": {
    "language": "sql",
    "name": "InsOracle",
    "collapsed": false,
    "resultHeight": 112
   },
   "outputs": [],
   "source": "INSERT INTO COMPANY_PRESS_RELEASES_TBL \n    (COMPANY_NAME, \n     TICKER_SYMBOL, \n     PRESS_RELEASE_TYPE, \n     PRESS_RELEASE_FISCAL_PERIOD, \n     PRESS_RELEASE_DATE, \n     PRESS_RELEASE_CONTENT)\nSELECT 'Oracle Corporation', \n        'ORCL', \n        'EARNINGS',\n        'Q2 FY 2025', \n        '2024-12-09',       \nTO_VARCHAR(SNOWFLAKE.CORTEX.PARSE_DOCUMENT('@COMPANY_EARNINGS_PRESS_RELEASES_STG','ORCL_Q2_FY_2025_Earnings_Press_Release.pdf',{'mode': 'LAYOUT'}):content);",
   "execution_count": null
  },
  {
   "cell_type": "markdown",
   "id": "7ef912fe-595c-40d3-a3de-f0bb7a95022e",
   "metadata": {
    "name": "MDPaloAlto",
    "collapsed": false,
    "resultHeight": 46
   },
   "source": "### Process Palo Alto Network's  Press Release"
  },
  {
   "cell_type": "code",
   "id": "7a512c3f-1308-4965-8aa0-bfad78a3d878",
   "metadata": {
    "language": "sql",
    "name": "InsPaloAlto",
    "collapsed": false,
    "resultHeight": 112
   },
   "outputs": [],
   "source": "INSERT INTO COMPANY_PRESS_RELEASES_TBL \n    (COMPANY_NAME, \n     TICKER_SYMBOL, \n     PRESS_RELEASE_TYPE, \n     PRESS_RELEASE_FISCAL_PERIOD, \n     PRESS_RELEASE_DATE, \n     PRESS_RELEASE_CONTENT)\nSELECT 'PALO ALTO NETWORKS, INC', \n        'PANW', \n        'EARNINGS',\n        'Q1 FY 2025', \n        '2024-11-20',       \nTO_VARCHAR(SNOWFLAKE.CORTEX.PARSE_DOCUMENT('@COMPANY_EARNINGS_PRESS_RELEASES_STG','PANW_Q1_FY_2025_Earnings_Press_Release.pdf',{'mode': 'LAYOUT'}):content);",
   "execution_count": null
  },
  {
   "cell_type": "markdown",
   "id": "39f0b3dd-e548-40d4-946f-d992e80a3722",
   "metadata": {
    "name": "MDProcterGamble",
    "collapsed": false,
    "resultHeight": 46
   },
   "source": "### Process Procter & Gamble's Press Release"
  },
  {
   "cell_type": "code",
   "id": "4217fe11-6301-46f4-82dc-51031e055287",
   "metadata": {
    "language": "sql",
    "name": "InsProcterAndGamble",
    "collapsed": false,
    "resultHeight": 112
   },
   "outputs": [],
   "source": "INSERT INTO COMPANY_PRESS_RELEASES_TBL \n    (COMPANY_NAME, \n     TICKER_SYMBOL, \n     PRESS_RELEASE_TYPE, \n     PRESS_RELEASE_FISCAL_PERIOD, \n     PRESS_RELEASE_DATE, \n     PRESS_RELEASE_CONTENT)\nSELECT 'Procter & Gamble', \n        'PG', \n        'EARNINGS',\n        'Q1 FY 2025', \n        '2024-10-18',       \nTO_VARCHAR(SNOWFLAKE.CORTEX.PARSE_DOCUMENT('@COMPANY_EARNINGS_PRESS_RELEASES_STG','PG_Q1_FY_2025_Earnings_Press_Release.pdf', {'mode': 'LAYOUT'}):content);",
   "execution_count": null
  },
  {
   "cell_type": "markdown",
   "id": "3cb88581-d7f0-40fe-9396-5af77dc80fbc",
   "metadata": {
    "name": "MDSplitText",
    "collapsed": false,
    "resultHeight": 137
   },
   "source": "- ### Use the Snowflake Cortex [SPLIT_TEXT_RECURSIVE_CHARACTER](https://docs.snowflake.com/en/sql-reference/functions/split_text_recursive_character-snowflake-cortex) to create chunks from each press release.  \n- ### Store the chunks along with the meta data about each press release into a new \"chunks\" table - COMPANY_PRESS_RELEASES_CHUNKS_TBL"
  },
  {
   "cell_type": "code",
   "id": "5548d352-7860-418e-a506-444d82289e94",
   "metadata": {
    "language": "sql",
    "name": "CrChunksTbl",
    "resultHeight": 112,
    "collapsed": false
   },
   "outputs": [],
   "source": "CREATE OR REPLACE TRANSIENT TABLE COMPANY_PRESS_RELEASES_CHUNKS_TBL \nAS\nSELECT\n   COMPANY_NAME, \n     TICKER_SYMBOL, \n     PRESS_RELEASE_TYPE, \n     PRESS_RELEASE_FISCAL_PERIOD, \n     PRESS_RELEASE_DATE, \n     PRESS_RELEASE_CONTENT,\n     TO_VARCHAR(CHUNK_TXT.VALUE) AS PRESS_RELEASE_CHUNK\nFROM\n   COMPANY_PRESS_RELEASES_TBL,\n   LATERAL FLATTEN( input => SNOWFLAKE.CORTEX.SPLIT_TEXT_RECURSIVE_CHARACTER (\n      PRESS_RELEASE_CONTENT,\n      'none',\n      300,\n      75\n   )) CHUNK_TXT;",
   "execution_count": null
  },
  {
   "cell_type": "markdown",
   "id": "69fbf6e4-fd3a-4eeb-88cc-badb9a792b88",
   "metadata": {
    "name": "MDSummarize",
    "collapsed": false,
    "resultHeight": 41
   },
   "source": "Summarize each Press Release Using the Snowflake Cortex COMPLETE function"
  },
  {
   "cell_type": "code",
   "id": "76dbebd0-19d7-48aa-b230-548274521502",
   "metadata": {
    "language": "sql",
    "name": "SQLCompleteFn",
    "resultHeight": 182,
    "collapsed": false
   },
   "outputs": [],
   "source": "SELECT SNOWFLAKE.CORTEX.COMPLETE(\n    'mistral-large',\n        CONCAT('Summarize this press release in four bullet points or less: <press_release>', PRESS_RELEASE_CONTENT,        \n                '</press_release>')) AS Earnings_Summary \nFROM \n    COMPANY_PRESS_RELEASES_TBL \nLIMIT 3;",
   "execution_count": null
  },
  {
   "cell_type": "markdown",
   "id": "330c977f-dfbb-4739-b477-9647b8f3d006",
   "metadata": {
    "name": "MDExtractAnswer",
    "collapsed": false,
    "resultHeight": 99
   },
   "source": "- EXTRACT_ANSWER from the PRESS_RELEASE_CONTENT column in the COMPANY_PRESS_RELEASES_TBL.\n- Answers your question for each press release content and provides a confidence score of between 0 and 1, where a score closer to 1 indicates a higher confidence that the extracted answer is accurate based on the provided text and question.  "
  },
  {
   "cell_type": "code",
   "id": "1f84c4fe-637a-44ba-b6d9-bff42efa5672",
   "metadata": {
    "language": "sql",
    "name": "SeExtract_Answer",
    "resultHeight": 287,
    "collapsed": false
   },
   "outputs": [],
   "source": "SELECT  COMPANY_NAME, \n        SNOWFLAKE.CORTEX.EXTRACT_ANSWER(PRESS_RELEASE_CONTENT,\n        'What are the topics covered in the press release?')\nFROM \n    COMPANY_PRESS_RELEASES_TBL \nLIMIT 6;",
   "execution_count": null
  },
  {
   "cell_type": "markdown",
   "id": "e26dfe4d-ef07-4d87-a9bc-15e30cb7e5f4",
   "metadata": {
    "name": "MDSentiment",
    "collapsed": false,
    "resultHeight": 131
   },
   "source": "- Snowflake Cortex SENTIMENT\n- A floating-point number from -1 to 1 (inclusive) \n- Indicating the level of negative or positive sentiment in the text. \n- Values around 0 indicate neutral sentiment."
  },
  {
   "cell_type": "code",
   "id": "d23d954e-87b7-4f3b-ad96-c7a0e8a4bdca",
   "metadata": {
    "language": "sql",
    "name": "SeSentiment",
    "resultHeight": 439,
    "collapsed": false
   },
   "outputs": [],
   "source": "--****************************************************************************\n-- Snowflake Cortex SENTIMENT\n-- A floating-point number from -1 to 1 (inclusive) \n-- indicating the level of negative or positive sentiment in the text. \n-- Values around 0 indicate neutral sentiment.\n--****************************************************************************\nSELECT \n    COMPANY_NAME,\n    PRESS_RELEASE_CHUNK, \n    SNOWFLAKE.CORTEX.SENTIMENT(PRESS_RELEASE_CHUNK) ASSESS_SENTIMENT\nFROM\n    COMPANY_PRESS_RELEASES_CHUNKS_TBL;",
   "execution_count": null
  },
  {
   "cell_type": "markdown",
   "id": "2b59002a-2d05-4772-aeea-4a301bd4632e",
   "metadata": {
    "name": "MDCortexSummarize",
    "collapsed": false,
    "resultHeight": 131
   },
   "source": "- [Snowflake Cortex Summarize](https://docs.snowflake.com/en/sql-reference/functions/summarize-snowflake-cortex)\n- A floating-point number from -1 to 1 (inclusive) \n- Indicating the level of negative or positive sentiment in the text. \n- Values around 0 indicate neutral sentiment."
  },
  {
   "cell_type": "code",
   "id": "799706dc-0678-43da-8363-7806329f4307",
   "metadata": {
    "language": "sql",
    "name": "SeSummarize",
    "collapsed": false,
    "resultHeight": 182
   },
   "outputs": [],
   "source": "SELECT \n    COMPANY_NAME,\n    PRESS_RELEASE_CONTENT, \n    SNOWFLAKE.CORTEX.SUMMARIZE(PRESS_RELEASE_CONTENT) PRESS_RELEASE_SUMMARY\nFROM\n    COMPANY_PRESS_RELEASES_TBL\nLIMIT 3;",
   "execution_count": null
  },
  {
   "cell_type": "markdown",
   "id": "fcafa39a-d195-4028-924a-a8e7f811825a",
   "metadata": {
    "name": "MDCortexSearchUseCase",
    "collapsed": false,
    "resultHeight": 270
   },
   "source": "## Cortex Search Use Case:\n- ### Search the press release PDF files to answer specific questions about the companies.\n- ### We will use Cortex Search Service to power a Retrieval Augmented Generation application to ask questions and get answers.  \n- ### The search results returned by Cortex Search is send to the Snowflake Cortex COMPLETE functions to answer the question.  "
  },
  {
   "cell_type": "markdown",
   "id": "919ed6ba-9e85-49d4-8cbf-b1abe2c17d52",
   "metadata": {
    "name": "MDCortexSearchDefinition",
    "collapsed": false,
    "resultHeight": 394
   },
   "source": "# What is Cortex Search? \n- [Cortex Search](https://docs.snowflake.com/user-guide/snowflake-cortex/cortex-search/cortex-search-overview?utm_cta=website-resources-vhol#overview) gets you up and running with a hybrid (vector and keyword) search engine on your text data in minutes, without having to worry about embedding, infrastructure maintenance, search quality parameter tuning, or ongoing index refreshes. \n- This means you can spend less time on infrastructure and search quality tuning, and more time developing high-quality chat and search experiences using your data.\n- Use the Create Cortex Search SQL command to create the vectors and index to power a search application. \n- Cortex Search service is created on a table. \n- In this case, we create the service on the COMPANY_PRESS_RELEASES_CHUNKS_TBL table. \n- Once the search service is created, it can stay updated with any new data coming into the table.\n- CHANGE_TRACKING needs to be turned on the table if you wish for your Cortex Search service to get updated when new rows are added to the underlying table. "
  },
  {
   "cell_type": "code",
   "id": "df711e0f-c106-4152-9252-7e67f23d76a4",
   "metadata": {
    "language": "sql",
    "name": "AltSetChangeTracking",
    "collapsed": false,
    "resultHeight": 112
   },
   "outputs": [],
   "source": "ALTER TABLE COMPANY_PRESS_RELEASES_CHUNKS_TBL SET CHANGE_TRACKING = TRUE;",
   "execution_count": null
  },
  {
   "cell_type": "markdown",
   "id": "1ed7b3ae-1eea-4113-8fa4-a21066b03114",
   "metadata": {
    "name": "MDCreateCortexSearchService",
    "collapsed": false,
    "resultHeight": 60
   },
   "source": "## Create Cortex Search Service "
  },
  {
   "cell_type": "code",
   "id": "dbc3ef4a-8b83-4d4d-912b-227654f1af9b",
   "metadata": {
    "language": "sql",
    "name": "CrCortexSearchService",
    "collapsed": false,
    "resultHeight": 112
   },
   "outputs": [],
   "source": "CREATE CORTEX SEARCH SERVICE COMPANY_PRESS_RELEASES_SEARCH_SVC\n    ON PRESS_RELEASE_CHUNK\n    ATTRIBUTES COMPANY_NAME, TICKER_SYMBOL, PRESS_RELEASE_TYPE\n    WAREHOUSE = COMPUTE_WH\n    TARGET_LAG = '1 hour'\n    AS (\n        SELECT \n        *\n        FROM COMPANY_PRESS_RELEASES_CHUNKS_TBL\n    );",
   "execution_count": null
  },
  {
   "cell_type": "markdown",
   "id": "80b1f7cb-2b2b-4986-b69d-8c5977f92ff8",
   "metadata": {
    "name": "MDSearchPreview",
    "collapsed": false,
    "resultHeight": 46
   },
   "source": "### Test the Cortex Search Service by using the Snowflake Cortex [SEARCH_PREVIEW](https://docs.snowflake.com/en/sql-reference/functions/search_preview-snowflake-cortex) SQL function.  "
  },
  {
   "cell_type": "code",
   "id": "c65051cf-5dd5-4c96-9994-ab2db90c95ae",
   "metadata": {
    "language": "sql",
    "name": "SeSearchPreview",
    "resultHeight": 112,
    "collapsed": false
   },
   "outputs": [],
   "source": "SELECT PARSE_JSON(\n  SNOWFLAKE.CORTEX.SEARCH_PREVIEW(\n      'DEMODB.EQUITY_RESEARCH.COMPANY_PRESS_RELEASES_SEARCH_SVC',\n      '{\n        \"query\": \"Summarize earnings in five bullet points or less\",\n        \"columns\":[\n            \"PRESS_RELEASE_CHUNK\"\n        ],\n        \"filter\": {\"@eq\": {\"TICKER_SYMBOL\": \"NOW\"} },\n        \"limit\":5\n      }'\n  )\n)['results'] as results;",
   "execution_count": null
  },
  {
   "cell_type": "markdown",
   "id": "d857d41b-3d46-4b5b-b912-e4b9cb3658ee",
   "metadata": {
    "name": "cell2",
    "collapsed": false,
    "resultHeight": 60
   },
   "source": "## A Streamlit app to get Answers to your questions from the company press releases.  "
  },
  {
   "cell_type": "code",
   "id": "92baf0f9-3f10-46e4-a001-9c9a12d47b94",
   "metadata": {
    "language": "python",
    "name": "PyImportStmts",
    "collapsed": false,
    "resultHeight": 0
   },
   "outputs": [],
   "source": "# Import python packages\nimport streamlit as st\nfrom snowflake.core import Root\nfrom snowflake.snowpark.context import get_active_session",
   "execution_count": null
  },
  {
   "cell_type": "markdown",
   "id": "7d52bf92-ab15-42c7-8bb9-b4340a2205b6",
   "metadata": {
    "name": "cell3",
    "collapsed": false,
    "resultHeight": 92
   },
   "source": "### The LLMs available for you to use with the Snowflake Cortex COMPLETE SQL function. \n### Select the LLM from the dropdown box. "
  },
  {
   "cell_type": "code",
   "id": "853722a9-4294-4566-b628-370e61c53015",
   "metadata": {
    "language": "python",
    "name": "PySelectLLMModelForCompleteSQLLLMFn",
    "collapsed": false,
    "resultHeight": 125
   },
   "outputs": [],
   "source": "llm_option = st.selectbox(\n    'Select a LLM:',\n    ('claude-3-5-sonnet', 'llama3.2-1b', 'llama3.2-3b',\n     'llama3.1-8b', 'llama3.1-70b', 'llama3.1-405b',\n     'snowflake-arctic', 'reka-core', 'reka-flash',\n     'mistral-large2', 'mixtral-8x7b', 'mistral-7b',\n     'jamba-instruct', 'jamba-1.5-mini', 'jamba-1.5-large',\n     'gemma-7b'))\nstr_selected_llm = f\"\"\"You Selected {llm_option} LLM Model. This model will be used in the SNOWFLAKE.CORTEX.COMPLETE function.\"\"\"\nst.write(str_selected_llm)",
   "execution_count": null
  },
  {
   "cell_type": "code",
   "id": "b454ec5a-94a6-43c4-8036-be1e8e304244",
   "metadata": {
    "language": "python",
    "name": "PyCannedQuestions",
    "collapsed": false,
    "resultHeight": 151
   },
   "outputs": [],
   "source": "question_option = st.selectbox(\n    'Select a question for which you seek an answer:',\n    ('Summarize the earnings', \n     'Tell me about the revenue and earnings guidance', \n     'Tell me about remaining performance obligations'))\nstr_selected_question = f\"\"\"You Selected \\\"{question_option}\\\" question. \n                       This question will be used in the SNOWFLAKE.CORTEX.COMPLETE \n                       function as a prompt.\"\"\"\nst.write(str_selected_question)",
   "execution_count": null
  },
  {
   "cell_type": "markdown",
   "id": "b2f728f8-5daf-4331-84e0-a028dea1a00f",
   "metadata": {
    "name": "cell9",
    "collapsed": false,
    "resultHeight": 115
   },
   "source": "- ### Select the companies for which press releases are available in the database. \n- ### We use the resultset to populate a Select Box. "
  },
  {
   "cell_type": "code",
   "id": "7c3a33c3-e2a2-4232-ad93-d8a2b9e34bf1",
   "metadata": {
    "language": "python",
    "name": "cell1",
    "resultHeight": 125,
    "collapsed": false
   },
   "outputs": [],
   "source": "session = get_active_session()\n\nroot = Root(session)\nselected_company = st.selectbox('Select a Company:', \n                session.sql(\"SELECT DISTINCT COMPANY_NAME FROM COMPANY_PRESS_RELEASES_TBL\").collect())\n\nst.write(selected_company)",
   "execution_count": null
  },
  {
   "cell_type": "markdown",
   "id": "7afa9ef7-b595-414d-8123-3090243c0ef3",
   "metadata": {
    "name": "MDConstructPromptForCortexSearch",
    "collapsed": false,
    "resultHeight": 46
   },
   "source": "### Here's an example of how you could query the Cortex Search service.  "
  },
  {
   "cell_type": "code",
   "id": "819e5ece-4998-4bcf-8b2c-545861f2a845",
   "metadata": {
    "language": "python",
    "name": "ConstructPrompt",
    "collapsed": false,
    "resultHeight": 102
   },
   "outputs": [],
   "source": "prompt_str = f\"\"\"{question_option} for {selected_company} in four \n                 bullet points or less\"\"\"\nst.write(\"\"\"<h2>The Prompt is:</h2>\"\"\", unsafe_allow_html=True) \nst.write(prompt_str)",
   "execution_count": null
  },
  {
   "cell_type": "markdown",
   "id": "7658bfaa-529f-425a-bebc-e2bd0918972b",
   "metadata": {
    "name": "MDQueryCortexSearch",
    "collapsed": false,
    "resultHeight": 217
   },
   "source": "- #### Provide the prompt, the column name used in the search service, and the filter attribute.  \n- #### The filter attribute is optional. \n- #### You can remove the filter and query across all the chunks in the table.  \n- #### The \"limit\" controls the number of results you want returned.  "
  },
  {
   "cell_type": "markdown",
   "id": "657e726e-d5b1-44b2-88b2-2670a6dac2ab",
   "metadata": {
    "name": "MDSetDBSchemaSearchName",
    "collapsed": false,
    "resultHeight": 60
   },
   "source": "## Set the Database, Schema, and Cortex Search Service Name Before Proceeding. "
  },
  {
   "cell_type": "code",
   "id": "406e40e0-c3bf-4483-bab3-72d15cdf7264",
   "metadata": {
    "language": "python",
    "name": "PySetDBSchemaSearchName",
    "collapsed": false,
    "resultHeight": 0
   },
   "outputs": [],
   "source": "database_name = 'DEMODB'\nschema_name = 'EQUITY_RESEARCH'\ncortex_search_service_name = 'COMPANY_PRESS_RELEASES_SEARCH_SVC'",
   "execution_count": null
  },
  {
   "cell_type": "code",
   "id": "309ccf89-bfb4-4f91-8e31-adfc020d71ee",
   "metadata": {
    "language": "python",
    "name": "QueryCortexSearch",
    "collapsed": false,
    "resultHeight": 0
   },
   "outputs": [],
   "source": "cortex_search_service = (\n        root.databases[database_name]\n        .schemas[schema_name]\n        .cortex_search_services[cortex_search_service_name]\n    )\ncontext_documents = cortex_search_service.search(\n         prompt_str, \n         columns=['PRESS_RELEASE_CHUNK'], \n         filter={\"@eq\": {\"COMPANY_NAME\": selected_company} },\n         limit=12\n    )\nresults = context_documents.results",
   "execution_count": null
  },
  {
   "cell_type": "code",
   "id": "ae45f8b7-6ca9-414d-8cf8-c3c2d92aa4b6",
   "metadata": {
    "language": "python",
    "name": "PyPrintCortexSearchResults",
    "collapsed": false,
    "resultHeight": 1878
   },
   "outputs": [],
   "source": "# Define the HTML code for the sub-heading\nhtml_code_llm_response = \"\"\"\n                        <h2>Here are the results returned by Cortex Search:</h2>\n                        \"\"\"\n\n# Display the HTML code using st.write()\nst.write(html_code_llm_response, unsafe_allow_html=True) \nst.write(results)",
   "execution_count": null
  },
  {
   "cell_type": "markdown",
   "id": "48d4c7c2-cc01-4939-83b3-ee04cf91f55f",
   "metadata": {
    "name": "MDConcatenateSearchResults",
    "collapsed": false,
    "resultHeight": 47
   },
   "source": "#### Concatenate the search results before passing to the Snowflake Cortex COMPLETE function. "
  },
  {
   "cell_type": "code",
   "id": "8d6fdaa4-3137-48f1-b3e1-dafca6d8a4d0",
   "metadata": {
    "language": "python",
    "name": "ConcatenateTheCortexSearchResults",
    "collapsed": false,
    "resultHeight": 102
   },
   "outputs": [],
   "source": "context_str = \"\"\nfor i, r in enumerate(results):\n    # st.write(r)\n    # context_str += f\"Context document {i+1}: {r['PRESS_RELEASE_CHUNK']} \\n\" + \"\\n\"\n    context_str += f\"{r['PRESS_RELEASE_CHUNK']} \\n\"\n    # st.write(context_str)\n# st.write(context_str)\n# st.write(resp.results)\npress_release_str = \"<press_release>{context_str}</press_release>\"\ncontext_str +=  prompt_str + press_release_str\n\n# Define the HTML code for the sub-heading\nhtml_code_heading = \"\"\"\n            <h2>The Prompt to Analyze the Cortex Search Results</h2>\n            \"\"\"\n\n# Display the HTML code using st.write()\nst.write(html_code_heading, unsafe_allow_html=True)\nst.write(prompt_str)",
   "execution_count": null
  },
  {
   "cell_type": "code",
   "id": "7b9ce86e-6fe3-4878-9856-e786f6800b45",
   "metadata": {
    "language": "python",
    "name": "CreateAnswerToQuestion",
    "collapsed": false,
    "resultHeight": 345
   },
   "outputs": [],
   "source": "results = session.sql(\"SELECT snowflake.cortex.complete(?,?)\", (llm_option, context_str)).collect()[0][0]\n\n\n# Define the HTML code for the sub-heading\nhtml_code_llm_response = \"\"\"\n                        <h2>Here's a Summary of the Company's Earnings Press Release:</h2>\n                        \"\"\"\n\n# Display the HTML code using st.write()\nst.write(html_code_llm_response, unsafe_allow_html=True) \nst.write(results)",
   "execution_count": null
  },
  {
   "cell_type": "markdown",
   "id": "217955bb-e0e4-4f0c-b6dc-78c60d009024",
   "metadata": {
    "name": "MDDropObjects",
    "collapsed": false,
    "resultHeight": 107
   },
   "source": "## Drop the tables and other objects you created for this Notebook.  \n### If you wish, you can delete the objects this Notebook created.  "
  },
  {
   "cell_type": "code",
   "id": "38f8a496-1b4d-4c31-a756-28804f32d0e4",
   "metadata": {
    "language": "sql",
    "name": "Drop_Text_Classification_Table",
    "resultHeight": 112
   },
   "outputs": [],
   "source": "DROP TABLE text_classification_table;",
   "execution_count": null
  },
  {
   "cell_type": "code",
   "id": "6fa959fd-b7f3-4019-9d60-f510c6ccd84d",
   "metadata": {
    "language": "sql",
    "name": "DropStage",
    "resultHeight": 112
   },
   "outputs": [],
   "source": "DROP STAGE COMPANY_EARNINGS_PRESS_RELEASES_STG; ",
   "execution_count": null
  },
  {
   "cell_type": "code",
   "id": "2c7f45d8-9002-46ce-923c-686703788afe",
   "metadata": {
    "language": "sql",
    "name": "DropSequence",
    "resultHeight": 112
   },
   "outputs": [],
   "source": "DROP SEQUENCE PRESS_RELEASE_ID_SEQ;",
   "execution_count": null
  },
  {
   "cell_type": "code",
   "id": "2f692c52-1244-49fa-83be-bc6dc7f9a977",
   "metadata": {
    "language": "sql",
    "name": "Drop_TBL_COMPANY_PRESS_RELEASES_TBL",
    "collapsed": false,
    "resultHeight": 112
   },
   "outputs": [],
   "source": "DROP TABLE COMPANY_PRESS_RELEASES_TBL;",
   "execution_count": null
  },
  {
   "cell_type": "code",
   "id": "6d8f97b7-1e37-4cd8-b4ae-92ce69ee9e3b",
   "metadata": {
    "language": "sql",
    "name": "Drop_Tbl_COMPANY_PRESS_RELEASES_CHUNKS_TBL",
    "resultHeight": 112
   },
   "outputs": [],
   "source": "DROP TABLE COMPANY_PRESS_RELEASES_CHUNKS_TBL;",
   "execution_count": null
  },
  {
   "cell_type": "code",
   "id": "dff4b864-736e-4ef9-840d-591bbcd70ae4",
   "metadata": {
    "language": "sql",
    "name": "Drop_Cortex_Search_Service",
    "resultHeight": 112,
    "collapsed": false
   },
   "outputs": [],
   "source": "DROP CORTEX SEARCH SERVICE COMPANY_PRESS_RELEASES_SEARCH_SVC;",
   "execution_count": null
  }
 ]
}