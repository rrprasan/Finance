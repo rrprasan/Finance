{
 "metadata": {
  "kernelspec": {
   "display_name": "Streamlit Notebook",
   "name": "streamlit"
  },
  "lastEditStatus": {
   "notebookId": "k4ffoocd5f3itkzjvqzr",
   "authorId": "8795186554644",
   "authorName": "PRAJAGOPAL",
   "authorEmail": "prasanna.rajagopal@snowflake.com",
   "sessionId": "505deb89-e44c-417e-a027-cb7aa1afea03",
   "lastEditTime": 1757163256273
  }
 },
 "nbformat_minor": 5,
 "nbformat": 4,
 "cells": [
  {
   "cell_type": "markdown",
   "id": "5d772d90-7750-4183-aaaa-37566df7367a",
   "metadata": {
    "name": "MD_Demo_Snowflake_Cortex_AISQL",
    "collapsed": false
   },
   "source": "# Cash Flow Analysis Using Company Event Transcripts\n## Demo of Snowflake Cortex AISQL - AI_FILTER & AI_AGG"
  },
  {
   "cell_type": "markdown",
   "id": "8e8c082d-b5a1-45f4-9dd9-b87e9dd8d475",
   "metadata": {
    "name": "MD_Cashflow_Analysis",
    "collapsed": false
   },
   "source": "# The Challenge\n- ### Analyzing large volumes of unstructured text, like executive transcripts, is a significant challenge. \n- ### Traditional SQL queries can't easily identify and summarize nuanced themes like \"cash flow discussions.\" \n- ### To understand how a company's narrative around cash flow has changed over time, a financial analyst would typically have to:\n\n    - #### Locate the transcripts for each company and year.\n    - #### Manually read through each transcript to find relevant comments on cash flow.\n    - #### Synthesize the information to identify similarities and differences.\n    - #### This process is incredibly time-consuming, prone to human error, and difficult to scale across multiple companies.\n\n# The Solution and Why It's Awesome\nThis query solves the challenge by leveraging Snowflake's AI SQL functions, specifically ```AI_AGG``` and ```AI_FILTER```, to perform a natural language processing (NLP) task directly within the database.\n\n```AI_FILTER``` for Precision: The ```AI_FILTER``` function, combined with the PROMPT function, acts as a smart filter. It uses a large language model (LLM) to scan each piece of text and identify only the sentences that specifically discuss cash flow. This is a massive improvement over using simple keyword searches (like LIKE '%cash flow%'), which could miss important context or include irrelevant results.\n\n```AI_AGG``` for Synthesis: The ```AI_AGG``` function is the most powerful part of the solution. After ```AI_FILTER``` has isolated the relevant comments for each company, ```AI_AGG``` aggregates this text and sends it to the LLM with a specific prompt. This prompt instructs the model to analyze all the cash flow-related comments for a single company across multiple years and synthesize them into a concise, structured summary, highlighting both similarities and differences. The prompt is also designed to format the output with markdown headings and bullet points, making the final result easy to read and use.\n\n- ### This solution is **awesome** because it brings the power of generative AI directly into the data warehouse. \n- ### It transforms a complex, manual task into a simple, scalable SQL query. \n- ### Instead of spending hours reading transcripts, an analyst can now get a comprehensive, well-structured summary for multiple companies with a single query, **providing actionable insights in seconds**. \n- ### It shows how AI can be a powerful tool for analyzing unstructured data at scale."
  },
  {
   "cell_type": "markdown",
   "id": "92495e74-b14a-40cb-a1ee-94bdc1bdbb26",
   "metadata": {
    "name": "MD_Prerequisites",
    "collapsed": false
   },
   "source": "## Prerequisites\n- ### Create a Snowflake Database Called ```DEMODB``` \n- ### Create a Snowflake Schema Called ```EQUITY_RESEARCH```\n- ### Create an Snowflake Internal Stage Called ```COMPANY_EVENT_TRANSACRIPT_INT_STG```\n- ### Download the Transcript Zip file from Github.  \n- ### Unzip the Transcript Zip file.  \n- ### Upload the ```.csv.gz``` zip files (72 Files) to the internal stage\n- ### Create a Table - ```COMPANY_EVENT_TRANSCRIPT_TTBL``` - to Load the Comments from Various Company Executives.  "
  },
  {
   "cell_type": "markdown",
   "id": "25b5be40-98da-4712-ba80-1bd172b4e3dc",
   "metadata": {
    "name": "MD_Internal_Stage",
    "collapsed": false
   },
   "source": "## Create a Snowflake Internal Stage"
  },
  {
   "cell_type": "code",
   "id": "25eb2dd6-2978-44d7-9185-5b6c4936e494",
   "metadata": {
    "language": "sql",
    "name": "SQL_Create_Snowflake_Internal_Stage"
   },
   "outputs": [],
   "source": "-- Create an Internal Stage in Snowflake.  \nCREATE STAGE COMPANY_EVENT_TRANSCRIPT_INT_STG \n\tDIRECTORY = ( ENABLE = true ) \n\tENCRYPTION = ( TYPE = 'SNOWFLAKE_SSE' ) \n\tCOMMENT = 'Store the SEC Transcripts Released by the Company ';",
   "execution_count": null
  },
  {
   "cell_type": "markdown",
   "id": "aef3d8a6-930f-4217-a430-86a3ad2d0776",
   "metadata": {
    "name": "MD_Create_Table_Event_Transacript",
    "collapsed": false
   },
   "source": "## Create a table to store event transcripts.  "
  },
  {
   "cell_type": "code",
   "id": "f1f526ad-edd1-4e56-8731-a238bd266fb6",
   "metadata": {
    "language": "sql",
    "name": "SQL_Create_Table_For_Transcript"
   },
   "outputs": [],
   "source": "create or replace TRANSIENT TABLE DEMODB.EQUITY_RESEARCH.COMPANY_EVENT_TRANSCRIPT_TTBL (\n\tCOMPANY_ID VARCHAR(16777216),\n\tCIK VARCHAR(16777216),\n\tCOMPANY_NAME VARCHAR(16777216),\n\tPRIMARY_TICKER VARCHAR(16777216),\n\tEVENT_TIMESTAMP TIMESTAMP_NTZ(9),\n\tFISCAL_PERIOD VARCHAR(16777216),\n\tFISCAL_YEAR VARCHAR(16777216),\n\tEVENT_TYPE VARCHAR(16777216),\n\tTRANSCRIPT VARIANT\n);",
   "execution_count": null
  },
  {
   "cell_type": "markdown",
   "id": "7fac3784-e443-4fb6-b26e-540ed2a1000c",
   "metadata": {
    "name": "MD_Copy_Into_TBL",
    "collapsed": false
   },
   "source": "## Copy the transcript data into the table. \n### Please ensure you have uploaded the ```csv.gz``` files into the Snowflake internal stage before executing the ```COPY INTO``` command."
  },
  {
   "cell_type": "code",
   "id": "c061ffd2-f08d-43b1-9629-87366ce5db9f",
   "metadata": {
    "language": "sql",
    "name": "SQL_COPY_CSV_INTO_TBL"
   },
   "outputs": [],
   "source": "COPY INTO COMPANY_EVENT_TRANSCRIPT_TTBL\nFROM @COMPANY_EVENT_TRANSCRIPT_INT_STG/;",
   "execution_count": null
  },
  {
   "cell_type": "markdown",
   "id": "758f8229-b444-48ff-896f-326f9b3f909c",
   "metadata": {
    "name": "MD_Preview_Data_In_Transcript_Table",
    "collapsed": false
   },
   "source": "## Preview the data in the transcript table.\n### The Transcript is in a JSON object within an array.  \n```JSON\n[\n  {\n    \"speaker\": 1,\n    \"text\": \"Thank you. Good morning, everyone. Thank you for joining us today for The Hershey Company's Q3 2020 earnings Q and A session. I hope everyone has had the chance to read our press release and listen to our pre recorded management presentation, both of which are available on our website. In addition, we have posted a transcript of the pre recorded remarks. At the conclusion of today's live Q and A session, we will also post a transcript and audio replay of this call. Please note that during today's Q and A session, we may make forward looking statements that are subject to various risks and uncertainties. These statements include expectations and assumptions regarding the company's future operations and financial performance, including expectations and assumptions related to the impact of the COVID-nineteen pandemic. Actual results could differ materially from those projected as a result of the COVID-nineteen pandemic as well as other factors. The company undertakes no obligation to update these statements based on subsequent events. A detailed listing of such risks and uncertainties can be found in today's press release and the company's SEC filings. Finally, please note that we may refer to certain non GAAP financial measures that we believe will provide useful information for investors. The presentation of this information is not intended to be considered in isolation or as a substitute for the financial information presented in accordance with GAAP. Reconciliations to the GAAP results are included in this morning's press release. Joining me today are Hershey's Chairman and CEO, Michelle Buck and Hershey's Senior Vice President and CFO, Steve Voskal. With that, I will turn it over to the operator for the first question.\",\n    \"time_end\": 98.88931,\n    \"time_start\": 20.284\n  }\n]"
  },
  {
   "cell_type": "code",
   "id": "fb6918f2-01cd-4618-9967-df168ffd9d82",
   "metadata": {
    "language": "sql",
    "name": "SQL_Preview_Data_In_Transcript_Table"
   },
   "outputs": [],
   "source": "SELECT * FROM COMPANY_EVENT_TRANSCRIPT_TTBL LIMIT 10;",
   "execution_count": null
  },
  {
   "cell_type": "markdown",
   "id": "58c9a465-fa8c-4dcf-9554-8e459110a881",
   "metadata": {
    "name": "MD_Preview_Raw_Results_From_AI_FILTER",
    "collapsed": false
   },
   "source": "## Preview the Raw Results Returned By ```AI_FILTER``` function.\n## Use the ```LATERAL``` Keyword with the ```FLATTEN``` function to expand the JSON array into individual rows. \n## The ```AI_FILTER``` function will look for comments which discuss cash flow and related topics.   \n## The Prompt: \n- ```AI_FILTER(PROMPT('Does the transcript, \\'{0}\\', discuss cash flows?', SPEAKER_TEXT_WITH_FISCAL_YEAR))```"
  },
  {
   "cell_type": "code",
   "id": "5fbb6b5b-a26b-497d-aa43-bf0094661306",
   "metadata": {
    "language": "sql",
    "name": "SQL_Inspect_Raw_Results_From_AI_FILTER"
   },
   "outputs": [],
   "source": "-- Analysis of cash flow discussion by eecutives across fiscal years\n-- Highlight the similarities & difference in cash flow discussions by executives across fiscal years.  \n-- Define the CTE first\nWITH TranscriptData AS (\n    SELECT\n        PRIMARY_TICKER,\n        FISCAL_YEAR,\n        CONCAT('TICKER: ', PRIMARY_TICKER, ', ', 'FISCAL_YEAR: ', FISCAL_YEAR, '-',T2.VALUE:\"text\"::VARCHAR) AS SPEAKER_TEXT_WITH_FISCAL_YEAR\n    FROM\n        DEMODB.EQUITY_RESEARCH.COMPANY_EVENT_TRANSCRIPT_TTBL AS TA,\n        LATERAL FLATTEN(INPUT => TA.TRANSCRIPT) AS T2\n)\n-- Now select from the CTE where the alias is recognized\nSELECT\n    PRIMARY_TICKER,\n    FISCAL_YEAR,\n    SPEAKER_TEXT_WITH_FISCAL_YEAR,\nFROM\n    TranscriptData\nWHERE\n    PRIMARY_TICKER IN ('CPB', 'GIS', 'HRL', 'HSY', 'KO', 'PEP', 'TSN', 'KMB')\n    AND \n    AI_FILTER(PROMPT('Does the transcript, \\'{0}\\', discuss cash flows?', SPEAKER_TEXT_WITH_FISCAL_YEAR))\nORDER BY PRIMARY_TICKER, FISCAL_YEAR ASC\nLIMIT 20;",
   "execution_count": null
  },
  {
   "cell_type": "markdown",
   "id": "68920559-a565-4d9e-8131-a543bd369acc",
   "metadata": {
    "name": "MD_Similarities_Differences_Cash_Flows",
    "collapsed": false
   },
   "source": "## Analyze the Similarities & Differences in the Cash Flow Discussion by Executives Across Fiscal Years.  \n## Applies the ```AI_AGG``` function on the results from ```AI_FILTER```\n## The Prompt:\n- ```AI_AGG(SPEAKER_TEXT_WITH_FISCAL_YEAR, 'DESCRIBE THE SIMILARITIES AND DIFFERENCES IN THE COMPANY\\'S DISCUSSION ON CASHFLOWS ACROSS FISCAL YEARS. PROVIDE THE SIMILARITIES AND DIFFERENCES IN SEPARATE TITLED SECTIONS WITH PROPER MARKDOWN HEADINGS AND BULLET POINTS.INCLUDE THE TICKER, FOLLOWED BY THE RANGE OF FISCAL YEARS USED TO GENERATE THIS ANALYSIS IN THE TITLE. FOR EXAMPLE: TICKER: CPB, FISCAL YEARS: 2015-2020')```\n- The query can take 3-6 minutes to complete.  "
  },
  {
   "cell_type": "code",
   "id": "c8895cfe-2e6b-400e-94fd-0d100778f6dc",
   "metadata": {
    "language": "sql",
    "name": "SQL_CashFlow_Analysis_Across_FY"
   },
   "outputs": [],
   "source": "-- Analysis of cash flow discussion by eecutives across fiscal years\n-- Highlight the similarities & difference in cash flow discussions by executives across fiscal years.  \n-- Define the CTE first\nWITH TranscriptData AS (\n    SELECT\n        PRIMARY_TICKER,\n        FISCAL_YEAR,\n        CONCAT('TICKER: ', PRIMARY_TICKER, ', ', 'FISCAL_YEAR: ', FISCAL_YEAR, ',  Transcript: ',T2.VALUE:\"text\"::VARCHAR) AS SPEAKER_TEXT_WITH_FISCAL_YEAR\n    FROM\n        DEMODB.EQUITY_RESEARCH.COMPANY_EVENT_TRANSCRIPT_TTBL AS TA,\n        LATERAL FLATTEN(INPUT => TA.TRANSCRIPT) AS T2\n)\n-- Now select from the CTE where the alias is recognized\nSELECT\n    PRIMARY_TICKER,\n    AI_AGG(SPEAKER_TEXT_WITH_FISCAL_YEAR, 'DESCRIBE THE SIMILARITIES AND DIFFERENCES IN THE COMPANY\\'S DISCUSSION ON CASHFLOWS ACROSS FISCAL YEARS. PROVIDE THE SIMILARITIES AND DIFFERENCES IN SEPARATE TITLED SECTIONS WITH PROPER MARKDOWN HEADINGS AND BULLET POINTS.INCLUDE THE TICKER, FOLLOWED BY THE RANGE OF FISCAL YEARS USED TO GENERATE THIS ANALYSIS IN THE TITLE. FOR EXAMPLE: TICKER: CPB, FISCAL YEARS: 2015-2020') CASH_FLOW_DISCUSSION,\nFROM\n    TranscriptData\nWHERE\n    PRIMARY_TICKER IN ('CPB', 'GIS', 'HRL', 'HSY', 'KO', 'PEP', 'TSN', 'KMB')\n    AND \n    AI_FILTER(PROMPT('Does the transcript, \\'{0}\\', discuss cash flows?', SPEAKER_TEXT_WITH_FISCAL_YEAR))\nGROUP BY PRIMARY_TICKER\nORDER BY PRIMARY_TICKER ASC;",
   "execution_count": null
  },
  {
   "cell_type": "markdown",
   "id": "35550e2a-63f5-431e-941d-5bb2508eed45",
   "metadata": {
    "name": "MD_Hershy_Cash_Flow_Similarities_Differences_FY_2018_2024_Heading",
    "collapsed": false
   },
   "source": "## Cash Flow Discussion Similarities & Difference for Hershey for years 2018-2024"
  },
  {
   "cell_type": "markdown",
   "id": "cef51384-e131-44ac-992b-cd270d5fc2ba",
   "metadata": {
    "name": "MD_Hershy_Cash_Flow_Analysis_Similarties_Differences",
    "collapsed": false
   },
   "source": "# HSY: HERSHEY CO, FISCAL YEARS: 2018-2025\n## Similarities\n* The company consistently prioritizes investing in its brands, capabilities, and people to drive growth and maintain its competitive advantage across fiscal years.\n* Hershey's has a strong track record of delivering balanced top and bottom line growth, with a focus on increasing net sales, gross profit, and adjusted earnings per share.\n* The company has a history of returning cash to shareholders through dividends and share repurchases, with a commitment to maintaining a healthy dividend payout ratio.\n* Strong cash flow generation is a common theme across fiscal years, with the company emphasizing its ability to generate significant cash flow to reinvest in the business and return to shareholders.\n* The importance of price realization and productivity savings in maintaining profitability is highlighted across fiscal years.\n\n## Differences\n* The impact of COVID-19 on the company's operations and financial performance is a significant difference between fiscal years, with the company experiencing challenges in 2020 due to the pandemic, but not in later years.\n* The company's financial performance has been impacted by various factors, including supply chain disruptions, changes in consumer behavior, and fluctuations in gross margin.\n* The company has made acquisitions, such as the purchase of Dots and Pretzels, to expand its portfolio and drive growth in the snacking category in some years.\n* The company's capital spending outlook has changed, with a revised outlook of $400,000,000 to $450,000,000 in 2020, compared to $800,000,000 to $900,000,000 in 2023.\n* The company's approach to investing in the business has evolved, with a greater emphasis on digital infrastructure and capabilities in later years, compared to a focus on capacity expansion and ERP implementations in earlier years."
  },
  {
   "cell_type": "markdown",
   "id": "3f402ba2-8a9d-4cf2-a26c-89acf634c131",
   "metadata": {
    "name": "MD_Yearly_Cash_Flow_Analysis_Each_Ticker",
    "collapsed": false
   },
   "source": "## Yearly Cash Flow Analysis for Each Ticker"
  },
  {
   "cell_type": "code",
   "id": "5410e633-25b7-4577-97ae-49773bffedcd",
   "metadata": {
    "language": "sql",
    "name": "SQL_Yearly_Cash_Flow_Analysis_Each_Ticker"
   },
   "outputs": [],
   "source": "-- Use the Transient table to Run your queries.  \n-- \n-- Yearly Look at Cash Flow Discussion\n-- Define the CTE first\n-- \nWITH TranscriptData AS (\n    SELECT\n        PRIMARY_TICKER,\n        FISCAL_YEAR,\n        CONCAT('FISCAL YEAR: ', FISCAL_YEAR, ' TICKER: ', PRIMARY_TICKER, ' TRANSCRIPT: ', T2.VALUE:\"text\"::VARCHAR) AS SPEAKER_TEXT\n    FROM\n        DEMODB.EQUITY_RESEARCH.COMPANY_EVENT_TRANSCRIPT_TTBL AS TA,\n        LATERAL FLATTEN(INPUT => TA.TRANSCRIPT) AS T2\n)\n-- Now select from the CTE where the alias is recognized\nSELECT\n    PRIMARY_TICKER,\n    FISCAL_YEAR,\n    AI_AGG(SPEAKER_TEXT, 'SUMMARIZE THE COMPANY\\'S DISCUSSION ON CASHFLOWS. Provide the output in a clearly formatted markdown with bullet points. Start the summary with a title - \\'Cash Flow Discussion Summary: \\' - marked down as heading level 3. Include the Ticker and the Fiscal Year as Part of the title.') CASH_FLOW_DISCUSSION,\nFROM\n    TranscriptData\nWHERE\n    -- EVENT_TIMESTAMP >= TO_DATE('01-01-2025', 'MM-DD-YYYY')\n    -- AND \n    PRIMARY_TICKER IN ('CPB', 'GIS', 'HRL', 'HSY', 'KO', 'PEP', 'TSN', 'KMB')\n    AND AI_FILTER(PROMPT('Does the transcript, \\'{0}\\', discuss cash flows?', SPEAKER_TEXT))\n-- GROUP BY PRIMARY_TICKER;\nGROUP BY ALL\nORDER BY PRIMARY_TICKER, FISCAL_YEAR ASC;",
   "execution_count": null
  },
  {
   "cell_type": "markdown",
   "id": "aaf34d1d-d464-4bc4-983a-b08bed3222c7",
   "metadata": {
    "name": "MD_Cash_Flow_Analysis_PEP_FY_2023_Heading",
    "collapsed": false
   },
   "source": "## Cash Flow Analysis of Comments Made by Pepsi's Executives on Fiscal Year 2023"
  },
  {
   "cell_type": "markdown",
   "id": "388c4dab-131b-42c8-9462-7a46290fdde2",
   "metadata": {
    "name": "MD_Cash_Flow_Analysis_PEP_FY_2023",
    "collapsed": false
   },
   "source": "### Cash Flow Discussion Summary: PEP - Fiscal Year 2023\n* The company has been discussing its cash flow profile and capital investments for several years, with a focus on returning to higher levels of free cash flow conversion.\n* The new CFO sees opportunities to speed up the process of cash flow generation, but acknowledges that it may take time.\n* The company has been intentional about its capital investments, including catching up on capacity and investing in IT and digitalization.\n* The level of capital expenditures (CapEx) as a percent of sales is expected to trend down over time, which will help improve cash flow conversion.\n* Cash flow remains a priority for the company, with a focus on improving conversion rates."
  }
 ]
}