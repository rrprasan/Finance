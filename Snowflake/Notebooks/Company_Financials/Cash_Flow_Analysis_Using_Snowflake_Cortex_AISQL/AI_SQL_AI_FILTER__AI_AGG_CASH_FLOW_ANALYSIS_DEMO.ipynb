{
 "metadata": {
  "kernelspec": {
   "display_name": "Streamlit Notebook",
   "name": "streamlit"
  },
  "lastEditStatus": {
   "notebookId": "k4ffoocd5f3itkzjvqzr",
   "authorId": "8795186554644",
   "authorName": "PRAJAGOPAL",
   "authorEmail": "prasanna.rajagopal@snowflake.com",
   "sessionId": "6eb10309-167b-4b8d-9585-de0afd954b0e",
   "lastEditTime": 1757129103036
  }
 },
 "nbformat_minor": 5,
 "nbformat": 4,
 "cells": [
  {
   "cell_type": "markdown",
   "id": "5d772d90-7750-4183-aaaa-37566df7367a",
   "metadata": {
    "name": "MD_Demo_Snowflake_Cortex_AISQL",
    "collapsed": false
   },
   "source": "# Demo of Snowflake Cortex AISQL\n## Cash Flow Analysis Using Comments Made by Company Executives"
  },
  {
   "cell_type": "markdown",
   "id": "8e8c082d-b5a1-45f4-9dd9-b87e9dd8d475",
   "metadata": {
    "name": "MD_Cashflow_Analysis",
    "collapsed": false
   },
   "source": "# The Challenge\n- ### Analyzing large volumes of unstructured text, like executive transcripts, is a significant challenge. \n- ### Traditional SQL queries can't easily identify and summarize nuanced themes like \"cash flow discussions.\" \n- ### To understand how a company's narrative around cash flow has changed over time, a financial analyst would typically have to:\n\n    - #### Locate the transcripts for each company and year.\n    - #### Manually read through each transcript to find relevant comments on cash flow.\n    - #### Synthesize the information to identify similarities and differences.\n    - #### This process is incredibly time-consuming, prone to human error, and difficult to scale across multiple companies.\n\n# The Solution and Why It's Awesome\nThis query solves the challenge by leveraging Snowflake's AI SQL functions, specifically ```AI_AGG``` and ```AI_FILTER```, to perform a natural language processing (NLP) task directly within the database.\n\n```AI_FILTER``` for Precision: The ```AI_FILTER``` function, combined with the PROMPT function, acts as a smart filter. It uses a large language model (LLM) to scan each piece of text and identify only the sentences that specifically discuss cash flow. This is a massive improvement over using simple keyword searches (like LIKE '%cash flow%'), which could miss important context or include irrelevant results.\n\n```AI_AGG``` for Synthesis: The ```AI_AGG``` function is the most powerful part of the solution. After ```AI_FILTER``` has isolated the relevant comments for each company, ```AI_AGG``` aggregates this text and sends it to the LLM with a specific prompt. This prompt instructs the model to analyze all the cash flow-related comments for a single company across multiple years and synthesize them into a concise, structured summary, highlighting both similarities and differences. The prompt is also designed to format the output with markdown headings and bullet points, making the final result easy to read and use.\n\n- ### This solution is **awesome** because it brings the power of generative AI directly into the data warehouse. \n- ### It transforms a complex, manual task into a simple, scalable SQL query. \n- ### Instead of spending hours reading transcripts, an analyst can now get a comprehensive, well-structured summary for multiple companies with a single query, **providing actionable insights in seconds**. \n- ### It shows how AI can be a powerful tool for analyzing unstructured data at scale."
  },
  {
   "cell_type": "markdown",
   "id": "92495e74-b14a-40cb-a1ee-94bdc1bdbb26",
   "metadata": {
    "name": "MD_Prerequisites",
    "collapsed": false
   },
   "source": "## Prerequisites\n- ### Create a Snowflake Database Called ```DEMODB``` \n- ### Create a Snowflake Schema Called ```EQUITY_RESEARCH```\n- ### Create an Snowflake Internal Stage Called ```COMPANY_EVENT_TRANSACRIPT_INT_STG```\n- ### Download the Transcript Zip file from Github.  \n- ### Unzip the Transcript Zip file.  \n- ### Upload the ```.csv.gz``` zip files (72 Files) to the internal stage\n- ### Create a Table - ```COMPANY_EVENT_TRANSCRIPT_TTBL``` - to Load the Comments from Various Company Executives.  "
  },
  {
   "cell_type": "markdown",
   "id": "25b5be40-98da-4712-ba80-1bd172b4e3dc",
   "metadata": {
    "name": "MD_Internal_Stage",
    "collapsed": false
   },
   "source": "## Create a Snowflake Internal Stage"
  },
  {
   "cell_type": "code",
   "id": "25eb2dd6-2978-44d7-9185-5b6c4936e494",
   "metadata": {
    "language": "sql",
    "name": "SQL_Create_Snowflake_Internal_Stage"
   },
   "outputs": [],
   "source": "-- Create an Internal Stage in Snowflake.  \nCREATE STAGE COMPANY_EVENT_TRANSCRIPT_INT_STG \n\tDIRECTORY = ( ENABLE = true ) \n\tENCRYPTION = ( TYPE = 'SNOWFLAKE_SSE' ) \n\tCOMMENT = 'Store the SEC Transcripts Released by the Company ';",
   "execution_count": null
  },
  {
   "cell_type": "markdown",
   "id": "aef3d8a6-930f-4217-a430-86a3ad2d0776",
   "metadata": {
    "name": "MD_Create_Table_Event_Transacript",
    "collapsed": false
   },
   "source": "## Create a table to store event transcripts.  "
  },
  {
   "cell_type": "code",
   "id": "f1f526ad-edd1-4e56-8731-a238bd266fb6",
   "metadata": {
    "language": "sql",
    "name": "SQL_Create_Table_For_Transcript"
   },
   "outputs": [],
   "source": "create or replace TRANSIENT TABLE DEMODB.EQUITY_RESEARCH.COMPANY_EVENT_TRANSCRIPT_TTBL (\n\tCOMPANY_ID VARCHAR(16777216),\n\tCIK VARCHAR(16777216),\n\tCOMPANY_NAME VARCHAR(16777216),\n\tPRIMARY_TICKER VARCHAR(16777216),\n\tEVENT_TIMESTAMP TIMESTAMP_NTZ(9),\n\tFISCAL_PERIOD VARCHAR(16777216),\n\tFISCAL_YEAR VARCHAR(16777216),\n\tEVENT_TYPE VARCHAR(16777216),\n\tTRANSCRIPT VARIANT\n);",
   "execution_count": null
  },
  {
   "cell_type": "markdown",
   "id": "7fac3784-e443-4fb6-b26e-540ed2a1000c",
   "metadata": {
    "name": "MD_Copy_Into_TBL",
    "collapsed": false
   },
   "source": "## Copy the transcript data into the table. \n### Please ensure you have uploaded the ```csv.gz``` files into the Snowflake internal stage before executing the ```COPY INTO``` command."
  },
  {
   "cell_type": "code",
   "id": "c061ffd2-f08d-43b1-9629-87366ce5db9f",
   "metadata": {
    "language": "sql",
    "name": "SQL_COPY_CSV_INTO_TBL"
   },
   "outputs": [],
   "source": "COPY INTO COMPANY_EVENT_TRANSCRIPT_TTBL\nFROM @COMPANY_EVENT_TRANSCRIPT_INT_STG/;",
   "execution_count": null
  },
  {
   "cell_type": "markdown",
   "id": "758f8229-b444-48ff-896f-326f9b3f909c",
   "metadata": {
    "name": "MD_Preview_Data_In_Transcript_Table",
    "collapsed": false
   },
   "source": "## Preview the data in the transcript table.\n### The Transcript is in a JSON object within an array.  \n```JSON\n[\n  {\n    \"speaker\": 0,\n    \"text\": \"Good day, and welcome to the Lee Enterprises Third Quarter 2021 Webcast and Conference Call. The call is being recorded and will be available for replay beginning later this morning at investors. Lee.net. At the close of the planned remarks, there will be an opportunity for questions. Participants accessing this call by webcast may submit written questions through the website and they will be answered during the call as time permits. Otherwise, you will receive a response later. A link to the live webcast can be found at investors. Lee.net. Now, I will turn the call over to your host, Josh Reinholtz, Vice President of Finance.\",\n    \"time_end\": 39.96,\n    \"time_start\": 1.68\n  }\n]"
  },
  {
   "cell_type": "code",
   "id": "fb6918f2-01cd-4618-9967-df168ffd9d82",
   "metadata": {
    "language": "sql",
    "name": "SQL_Preview_Data_In_Transcript_Table"
   },
   "outputs": [],
   "source": "SELECT * FROM COMPANY_EVENT_TRANSCRIPT_TTBL LIMIT 10;",
   "execution_count": null
  },
  {
   "cell_type": "markdown",
   "id": "58c9a465-fa8c-4dcf-9554-8e459110a881",
   "metadata": {
    "name": "MD_Preview_Raw_Results_From_AI_FILTER",
    "collapsed": false
   },
   "source": "## Preview the Raw Results Returned By ```AI_FILTER``` function.\n## Use the ```LATERAL``` Keyword with the ```FLATTEN``` function to expand the JSON array into individual rows. \n## The ```AI_FILTER``` function will look for comments which discuss cash flow and related topics.   \n## The Prompt: \n- ```AI_FILTER(PROMPT('Does the transcript, \\'{0}\\', discuss cash flows?', SPEAKER_TEXT_WITH_FISCAL_YEAR))```"
  },
  {
   "cell_type": "code",
   "id": "5fbb6b5b-a26b-497d-aa43-bf0094661306",
   "metadata": {
    "language": "sql",
    "name": "SQL_Inspect_Raw_Results_From_AI_FILTER"
   },
   "outputs": [],
   "source": "-- Analysis of cash flow discussion by eecutives across fiscal years\n-- Highlight the similarities & difference in cash flow discussions by executives across fiscal years.  \n-- Define the CTE first\nWITH TranscriptData AS (\n    SELECT\n        PRIMARY_TICKER,\n        FISCAL_YEAR,\n        CONCAT('TICKER: ', PRIMARY_TICKER, ', ', 'FISCAL_YEAR: ', FISCAL_YEAR, '-',T2.VALUE:\"text\"::VARCHAR) AS SPEAKER_TEXT_WITH_FISCAL_YEAR\n    FROM\n        DEMODB.EQUITY_RESEARCH.COMPANY_EVENT_TRANSCRIPT_TTBL AS TA,\n        LATERAL FLATTEN(INPUT => TA.TRANSCRIPT) AS T2\n)\n-- Now select from the CTE where the alias is recognized\nSELECT\n    PRIMARY_TICKER,\n    FISCAL_YEAR,\n    SPEAKER_TEXT_WITH_FISCAL_YEAR,\nFROM\n    TranscriptData\nWHERE\n    PRIMARY_TICKER IN ('CPB', 'GIS', 'HRL', 'HSY', 'KO', 'PEP', 'TSN', 'KMB')\n    AND \n    AI_FILTER(PROMPT('Does the transcript, \\'{0}\\', discuss cash flows?', SPEAKER_TEXT_WITH_FISCAL_YEAR))\nORDER BY PRIMARY_TICKER, FISCAL_YEAR ASC\nLIMIT 20;",
   "execution_count": null
  },
  {
   "cell_type": "markdown",
   "id": "68920559-a565-4d9e-8131-a543bd369acc",
   "metadata": {
    "name": "MD_Similarities_Differences_Cash_Flows",
    "collapsed": false
   },
   "source": "## Analyze the Similarities & Differences in the Cash Flow Discussion by Executives Across Fiscal Years.  \n## Applies the ```AI_AGG``` function on the results from ```AI_FILTER```\n## The Prompt:\n- ```AI_AGG(SPEAKER_TEXT_WITH_FISCAL_YEAR, 'DESCRIBE THE SIMILARITIES AND DIFFERENCES IN THE COMPANY\\'S DISCUSSION ON CASHFLOWS ACROSS FISCAL YEARS. PROVIDE THE SIMILARITIES AND DIFFERENCES IN SEPARATE TITLED SECTIONS WITH PROPER MARKDOWN HEADINGS AND BULLET POINTS.INCLUDE THE TICKER, FOLLOWED BY THE RANGE OF FISCAL YEARS USED TO GENERATE THIS ANALYSIS IN THE TITLE. FOR EXAMPLE: TICKER: CPB, FISCAL YEARS: 2015-2020')```"
  },
  {
   "cell_type": "code",
   "id": "c8895cfe-2e6b-400e-94fd-0d100778f6dc",
   "metadata": {
    "language": "sql",
    "name": "SQL_CashFlow_Analysis_Across_FY"
   },
   "outputs": [],
   "source": "-- Analysis of cash flow discussion by eecutives across fiscal years\n-- Highlight the similarities & difference in cash flow discussions by executives across fiscal years.  \n-- Define the CTE first\nWITH TranscriptData AS (\n    SELECT\n        PRIMARY_TICKER,\n        FISCAL_YEAR,\n        CONCAT('TICKER: ', PRIMARY_TICKER, ', ', 'FISCAL_YEAR: ', FISCAL_YEAR, ',  Transcript: ',T2.VALUE:\"text\"::VARCHAR) AS SPEAKER_TEXT_WITH_FISCAL_YEAR\n    FROM\n        DEMODB.EQUITY_RESEARCH.COMPANY_EVENT_TRANSCRIPT_TTBL AS TA,\n        LATERAL FLATTEN(INPUT => TA.TRANSCRIPT) AS T2\n)\n-- Now select from the CTE where the alias is recognized\nSELECT\n    PRIMARY_TICKER,\n    AI_AGG(SPEAKER_TEXT_WITH_FISCAL_YEAR, 'DESCRIBE THE SIMILARITIES AND DIFFERENCES IN THE COMPANY\\'S DISCUSSION ON CASHFLOWS ACROSS FISCAL YEARS. PROVIDE THE SIMILARITIES AND DIFFERENCES IN SEPARATE TITLED SECTIONS WITH PROPER MARKDOWN HEADINGS AND BULLET POINTS.INCLUDE THE TICKER, FOLLOWED BY THE RANGE OF FISCAL YEARS USED TO GENERATE THIS ANALYSIS IN THE TITLE. FOR EXAMPLE: TICKER: CPB, FISCAL YEARS: 2015-2020') CASH_FLOW_DISCUSSION,\nFROM\n    TranscriptData\nWHERE\n    PRIMARY_TICKER IN ('CPB', 'GIS', 'HRL', 'HSY', 'KO', 'PEP', 'TSN', 'KMB')\n    AND \n    AI_FILTER(PROMPT('Does the transcript, \\'{0}\\', discuss cash flows?', SPEAKER_TEXT_WITH_FISCAL_YEAR))\nGROUP BY PRIMARY_TICKER\nORDER BY PRIMARY_TICKER ASC;",
   "execution_count": null
  },
  {
   "cell_type": "markdown",
   "id": "35550e2a-63f5-431e-941d-5bb2508eed45",
   "metadata": {
    "name": "MD_Hershy_Cash_Flow_Similarities_Differences_FY_2018_2024_Heading",
    "collapsed": false
   },
   "source": "## Cash Flow Discussion Similarities & Difference for Hershey for years 2018-2024"
  },
  {
   "cell_type": "markdown",
   "id": "cef51384-e131-44ac-992b-cd270d5fc2ba",
   "metadata": {
    "name": "MD_Hershy_Cash_Flow_Analysis_Similarties_Differences",
    "collapsed": false
   },
   "source": "# HSY, FISCAL YEARS: 2018-2024\n## Similarities\n* The company consistently emphasizes the importance of strong cash flow and a healthy balance sheet in managing through crises and investing in the business across different fiscal years.\n* The company prioritizes investing in the business, returning cash to shareholders, and maintaining a strong balance sheet across different fiscal years.\n* The company's discussion on cash flows often highlights the impact of pricing actions, supply chain costs, and inflation on its financial performance.\n* In both fiscal years 2021 and 2022, the company experienced strong cash generation, with operating cash flow exceeding \\$2,000,000,000 in 2021 and \\$656,000,000 in the first quarter of 2022.\n* The company invested in its brands, capabilities, and people to drive differentiated growth in both years.\n* Price realization was a primary driver of growth in both years, with mid-to-high single-digit price increases announced in 2021 and net price realization contributing 6.9 points of growth in the first quarter of 2022.\n* The company faced supply chain disruptions and inflation in both years, which impacted gross margins.\n* The company maintained a focus on operating with excellence and investing in its business for long-term growth in both years.\n\n## Differences\n* The company's cash flow and capital allocation priorities have evolved over time, with a greater emphasis on investing in core confection capacity, snacking scale and optimization, and supply chain resiliency in recent years.\n* The company's discussion on cash flows has become more nuanced, with a greater focus on the impact of external factors such as COVID-19, inflation, and supply chain disruptions on its financial performance.\n* The company's outlook for cash flows and capital allocation has become more cautious in recent years, with a greater emphasis on managing through uncertainty and volatility.\n* Net sales growth was 10.1% in 2021, while it was 16.1% in the first quarter of 2022, with an expected full-year growth of 10% to 12%.\n* Gross margin declined 40 basis points in the fourth quarter of 2021, while it was flat in the first quarter of 2022, with an expected full-year contraction of 120 to 140 basis points.\n* Advertising and related consumer marketing expenses decreased by 6.9% in the fourth quarter of 2021, while they decreased by about 1% in the first quarter of 2022.\n* The company expected adjusted EPS growth of 9% to 11% in 2022, while it achieved adjusted EPS growth of nearly 32% in the first quarter of 2022, with an expected full-year growth of 10% to 12%.\n* Capital expenditures were approximately \\$500,000,000 in 2021, while they were expected to be around \\$600,000,000 in 2022, with a focus on core confection capacity, snacking scale, and optimization, and supply chain resiliency."
  },
  {
   "cell_type": "markdown",
   "id": "3f402ba2-8a9d-4cf2-a26c-89acf634c131",
   "metadata": {
    "name": "MD_Yearly_Cash_Flow_Analysis_Each_Ticker",
    "collapsed": false
   },
   "source": "## Yearly Cash Flow Analysis for Each Ticker"
  },
  {
   "cell_type": "code",
   "id": "5410e633-25b7-4577-97ae-49773bffedcd",
   "metadata": {
    "language": "sql",
    "name": "SQL_Yearly_Cash_Flow_Analysis_Each_Ticker"
   },
   "outputs": [],
   "source": "-- Use the Transient table to Run your queries.  \n-- \n-- Yearly Look at Cash Flow Discussion\n-- Define the CTE first\n-- \nWITH TranscriptData AS (\n    SELECT\n        PRIMARY_TICKER,\n        FISCAL_YEAR,\n        CONCAT('FISCAL YEAR: ', FISCAL_YEAR, ' TICKER: ', PRIMARY_TICKER, ' TRANSCRIPT: ', T2.VALUE:\"text\"::VARCHAR) AS SPEAKER_TEXT\n    FROM\n        DEMODB.EQUITY_RESEARCH.COMPANY_EVENT_TRANSCRIPT_TTBL AS TA,\n        LATERAL FLATTEN(INPUT => TA.TRANSCRIPT) AS T2\n)\n-- Now select from the CTE where the alias is recognized\nSELECT\n    PRIMARY_TICKER,\n    FISCAL_YEAR,\n    AI_AGG(SPEAKER_TEXT, 'SUMMARIZE THE COMPANY\\'S DISCUSSION ON CASHFLOWS. Provide the output in a clearly formatted markdown with bullet points. Start the summary with a title - \\'Cash Flow Discussion Summary: \\' - marked down as heading level 3. Include the Ticker and the Fiscal Year as Part of the title.') CASH_FLOW_DISCUSSION,\nFROM\n    TranscriptData\nWHERE\n    -- EVENT_TIMESTAMP >= TO_DATE('01-01-2025', 'MM-DD-YYYY')\n    -- AND \n    PRIMARY_TICKER IN ('CPB', 'GIS', 'HRL', 'HSY', 'KO', 'PEP', 'TSN', 'KMB')\n    AND AI_FILTER(PROMPT('Does the transcript, \\'{0}\\', discuss cash flows?', SPEAKER_TEXT))\n-- GROUP BY PRIMARY_TICKER;\nGROUP BY ALL\nORDER BY PRIMARY_TICKER, FISCAL_YEAR ASC;",
   "execution_count": null
  },
  {
   "cell_type": "markdown",
   "id": "aaf34d1d-d464-4bc4-983a-b08bed3222c7",
   "metadata": {
    "name": "MD_Cash_Flow_Analysis_PEP_FY_2023_Heading",
    "collapsed": false
   },
   "source": "## Cash Flow Analysis for Pepsi Co. (PEP) for Fiscal Year 2023"
  },
  {
   "cell_type": "markdown",
   "id": "388c4dab-131b-42c8-9462-7a46290fdde2",
   "metadata": {
    "name": "MD_Cash_Flow_Analysis_PEP_FY_2023",
    "collapsed": false
   },
   "source": "### Cash Flow Discussion Summary: PEP - Fiscal Year 2023\n* The company has been discussing its cash flow profile and capital investments for several years, with a focus on returning to higher levels of free cash flow conversion.\n* The new CFO sees opportunities to speed up the process of cash flow generation, but acknowledges that it may take time.\n* The company has been intentional about its capital investments, including catching up on capacity and investing in IT and digitalization.\n* The level of capital expenditures (CapEx) as a percent of sales is expected to trend down over time, which will help improve cash flow conversion.\n* Cash flow remains a priority for the company, with a focus on improving conversion rates."
  }
 ]
}