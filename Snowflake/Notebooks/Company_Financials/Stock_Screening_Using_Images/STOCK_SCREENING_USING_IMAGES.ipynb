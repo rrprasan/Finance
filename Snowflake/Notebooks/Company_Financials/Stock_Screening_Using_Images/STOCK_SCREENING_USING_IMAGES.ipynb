{
 "metadata": {
  "kernelspec": {
   "display_name": "Streamlit Notebook",
   "name": "streamlit"
  },
  "lastEditStatus": {
   "notebookId": "tlywxbq3rmtmap6bsbos",
   "authorId": "8795186554644",
   "authorName": "PRAJAGOPAL",
   "authorEmail": "prasanna.rajagopal@snowflake.com",
   "sessionId": "b4dda649-f0eb-4fa9-9a9f-f2e80f410d8d",
   "lastEditTime": 1750554812781
  }
 },
 "nbformat_minor": 5,
 "nbformat": 4,
 "cells": [
  {
   "cell_type": "markdown",
   "id": "6a1792d8-416d-4379-b79f-43a3cca7000a",
   "metadata": {
    "name": "MDIntroStockScreeningUsingImages",
    "collapsed": false
   },
   "source": "# Gain Your Edge by Screening Stocks Using Any Document 🚀\n### From Pixels to Ratios: Calculate Financial Ratios Directly From Images 📈\nValuable financial data doesn't always live in clean, structured tables. It's often locked away in PDFs 📄, Excel, Word, Google Sheets, investor reports, and even screenshots 🖼️ — mostly unstructured, inaccessible, and expensive to process.\n\nFor decades, the answer was either costly contracts with data vendors 💸 or countless hours of error-prone manual data entry 😫. But what if you could bypass all of that?\n\n## What if you could treat an image of a balance sheet just like a database table? 🤯\n\nThis notebook demonstrates the new frontier of financial analysis. We will use Snowflake's built-in **AISQL** capabilities 🤖 to feed a multimodal Large Language Model an image of a company's balance sheet. With a simple prompt, we will direct the AI to:\n\n- ### See and Understand the contents of the image. 👀\n- ### Extract the specific values for Total Liabilities and Total Equity. 🔢\n- ### Calculate the Debt-to-Equity ratio on the fly. 🧮\n- ### No manual transcription. No complex data pipelines. \n    - ### Just a picture, a prompt, and powerful insights delivered in seconds. ⚡\n\nReady to unlock the data trapped in your documents? Let's dive in and run the cells below! 🚀\n"
  },
  {
   "cell_type": "markdown",
   "id": "d3521935-f516-4d4f-a3fd-6db2fe85a9cd",
   "metadata": {
    "name": "MDGoals",
    "collapsed": false
   },
   "source": "# Goals\n- ## Calculate the Debt-to-Equity Ratio Using a Balance Sheet Image. \n- ## Screen for Stocks with a Certain Debt-to-Equity Ratio. "
  },
  {
   "cell_type": "markdown",
   "id": "695d4114-784d-471e-82b6-b7155de4cfb8",
   "metadata": {
    "name": "MDIntroCortexAISQL",
    "collapsed": false
   },
   "source": "# Enter Snowflake's Cortex AISQL\nSnowflake Cortex **AISQL** allows users to run powerful analytics on unstructured text and image data using simple SQL functions. It provides built-in, serverless access to a suite of industry-leading Large Language Models (LLMs) from OpenAI, Anthropic, Meta, Mistral AI, and others.\n\n## Key Use Cases:\n\n- ### Data Enrichment: \n    - Extract entities (names, dates, locations) to enhance metadata and streamline data validation processes.\n- ### Customer Insights: \n    - Perform sentiment and aspect-based analysis on customer tickets and feedback to drive service improvements.\n- ### Content Intelligence: \n    - Filter, classify, and summarize content using natural language commands.\n- ### Support Global Operations: \n    - Translate and localize multilingual content for international audiences.\n- ### Advanced AI Pipelines: \n    - Parse and chunk documents to prepare them for analytics or to be used in Retrieval-Augmented Generation (RAG) applications.\n## Core Benefits:\n\n- ### Unified & Secure: \n    - Models are hosted within the Snowflake ecosystem. Your data stays in place, ensuring maximum security, governance, and compliance.\n- ### Performance at Scale: \n    - Leverage Snowflake's scalable compute engine for high-performance inference without managing complex infrastructure.\n- ### Simplicity: \n    - No need for separate AI/ML tools or data movement. If you know SQL, you can leverage state-of-the-art AI.\n"
  },
  {
   "cell_type": "markdown",
   "id": "1d1fda37-b680-4f7c-a1c4-02fbb82ff075",
   "metadata": {
    "name": "AISQLFunctions",
    "collapsed": false
   },
   "source": "# AISQL functions\nTask-specific functions are purpose-built and managed functions that automate routine tasks, like simple summaries and quick translations, that don’t require any customization.\n\n## AI_COMPLETE: \n- Generates a completion for a given text string or image using a selected LLM. Use this function for most generative AI tasks.\n- This is the updated version of COMPLETE (SNOWFLAKE.CORTEX).\n\n## AI_CLASSIFY: \n- Classifies text or images into user-defined categories.\n- This is the updated version of CLASSIFY_TEXT (SNOWFLAKE.CORTEX) with support for multi-label and image classification.\n\n## AI_FILTER: \n- Returns True or False for a given text or image input, allowing you to filter results in SELECT, WHERE, or JOIN ... ON clauses.\n\n## AI_AGG: \n- Aggregates a text column and returns insights across multiple rows based on a user-defined prompt. This function isn’t subject to context window limitations.\n\n## AI_SUMMARIZE_AGG: \n- Aggregates a text column and returns a summary across multiple rows. This function isn’t subject to context window limitations.\n\n## AI_SIMILARITY: \n- Calculates the embedding similarity between two inputs.\n\n## PARSE_DOCUMENT (SNOWFLAKE.CORTEX): \n- Extracts text (using OCR mode) or text with layout information (using LAYOUT mode) from documents in an internal or external stage.\n\n## TRANSLATE (SNOWFLAKE.CORTEX): \n- Translates text between supported languages.\n\n## SENTIMENT (SNOWFLAKE.CORTEX): \n- Extracts sentiment scores from text.\n\n## EXTRACT_ANSWER (SNOWFLAKE.CORTEX): \n- Extracts the answer to a question from unstructured data, provided that the relevant data exists.\n\n## SUMMARIZE (SNOWFLAKE.CORTEX): \n- Returns a summary of the text that you’ve specified.\n\n### Source: [Snowflake Documentation](https://docs.snowflake.com/en/user-guide/snowflake-cortex/aisql#aisql-functions)"
  },
  {
   "cell_type": "markdown",
   "id": "739bef7b-0baa-48ae-89f6-a8fe149b5d21",
   "metadata": {
    "name": "MDDemo",
    "collapsed": false
   },
   "source": "# Demo - Calculate Financial Ratios From Images of Balance Sheets.  \n"
  },
  {
   "cell_type": "code",
   "id": "15f17b8b-7ca1-429d-80a5-8385b3ee8014",
   "metadata": {
    "language": "python",
    "name": "PyImportStmts"
   },
   "outputs": [],
   "source": "# Snowpark Pandas API\n# import modin.pandas as spd\n# Import the Snowpark pandas plugin for modin\nimport streamlit as st\n# import matplotlib.pyplot as plt\n# import snowflake.snowpark.modin.plugin\n\nfrom snowflake.snowpark.context import get_active_session\n# Create a snowpark session\nsession = get_active_session()",
   "execution_count": null
  },
  {
   "cell_type": "markdown",
   "id": "4f3dc1c3-9baf-42b3-802a-dc8d0c11280a",
   "metadata": {
    "name": "MDStocksCoveredInNotebook",
    "collapsed": false
   },
   "source": "## Balance Sheets for Real Estate Investment Trusts (REIT)\n### FY 2024 - Year-Ending December 2024.  \n- Welltower Inc. (NYSE: [WELL](https://www.google.com/finance/quote/WELL:NYSE?window=1Y))\n- Prologis Inc. (NYSE: [PLD](https://www.google.com/finance/quote/PLD:NYSE?window=1Y))\n- Equinix Inc. (NASDAQ: [EQIX](https://www.google.com/finance/quote/EQIX:NASDAQ?window=1Y))\n- Digital Realty Trust (NYSE: [DLR](https://www.google.com/finance/quote/DLR:NYSE?window=1Y))\n- American Tower Corporation (NYSE: [AMT](https://www.google.com/finance/quote/AMT:NYSE?window=1Y))"
  },
  {
   "cell_type": "code",
   "id": "07e7ded9-2faa-4936-8bba-0962d2929e4c",
   "metadata": {
    "language": "python",
    "name": "PyImageDLRBalanceSheet",
    "collapsed": false,
    "codeCollapsed": true
   },
   "outputs": [],
   "source": "image = session.file.get_stream(\"@FINANCIAL_STMTS_IMAGES_INT_STG/DLR_BALANCE_SHEET_ENDING_DECEMBER_2024.png\" , decompress=False).read() \n# Display the image\nst.image(image)",
   "execution_count": null
  },
  {
   "cell_type": "code",
   "id": "7fa5d114-331a-4178-aeb1-dcac7ae9b42f",
   "metadata": {
    "language": "python",
    "name": "PyImageEQIXBalanceSheet",
    "collapsed": false,
    "codeCollapsed": true
   },
   "outputs": [],
   "source": "image = session.file.get_stream(\"@FINANCIAL_STMTS_IMAGES_INT_STG/EQIX_BALANCE_SHEET_ENDING_DECEMBER_2024.png\" , decompress=False).read() \n# Display the image\nst.image(image)",
   "execution_count": null
  },
  {
   "cell_type": "code",
   "id": "25b92699-5fa3-45ad-a69a-7cf884a4698e",
   "metadata": {
    "language": "python",
    "name": "cell8",
    "collapsed": false,
    "codeCollapsed": true
   },
   "outputs": [],
   "source": "image = session.file.get_stream(\"@FINANCIAL_STMTS_IMAGES_INT_STG/AMT_BALANCE_SHEET_ENDING_DECEMBER_2024.png\" , decompress=False).read() \n# Display the image\nst.image(image)",
   "execution_count": null
  },
  {
   "cell_type": "code",
   "id": "afebe9f2-fc1f-4ecc-8629-5d6dc6ee0ac4",
   "metadata": {
    "language": "python",
    "name": "PyImgWELLBalanceSheet",
    "collapsed": false,
    "codeCollapsed": true
   },
   "outputs": [],
   "source": "image = session.file.get_stream(\"@FINANCIAL_STMTS_IMAGES_INT_STG/WELL_BALANCE_SHEET_ENDING_DECEMBEr_2024.png\" , decompress=False).read() \n# Display the image\nst.image(image)",
   "execution_count": null
  },
  {
   "cell_type": "markdown",
   "id": "a5acb901-cfb8-45c6-aac7-ddc0b54cad9a",
   "metadata": {
    "name": "MDPrerequisites",
    "collapsed": false
   },
   "source": "## Prerequisites\n- ### Create a Stage in Snowflake.  \n```\nCREATE STAGE FINANCIAL_STMTS_IMAGES_INT_STG \n\tDIRECTORY = ( ENABLE = true ) \n\tENCRYPTION = ( TYPE = 'SNOWFLAKE_SSE' ) \n\tCOMMENT = 'An Snowflake-managed Stage to store the images of balance sheets for various Real Estate Investment Trusts.';\n```\n- ### Download the [REIT_Balance_Sheet_Image_Files.zip](https://github.com/rrprasan/Finance/tree/main/Snowflake/Notebooks/Company_Financials/Stock_Screening_Using_Images) from Github.  \n- ### Unzip the file and load the image files into the stage.  "
  },
  {
   "cell_type": "code",
   "id": "a8b1cb43-38d6-4258-ad73-72405dc8f40a",
   "metadata": {
    "language": "sql",
    "name": "SQLCreateStageInSnowflake"
   },
   "outputs": [],
   "source": "CREATE STAGE FINANCIAL_STMTS_IMAGES_INT_STG \n\tDIRECTORY = ( ENABLE = true ) \n\tENCRYPTION = ( TYPE = 'SNOWFLAKE_SSE' ) \n\tCOMMENT = 'An Snowflake-managed Stage to store the images of balance sheets for various Real Estate Investment Trusts.';",
   "execution_count": null
  },
  {
   "cell_type": "markdown",
   "id": "fe7c4c59-5c1d-4bed-8515-1d6609cc1cb4",
   "metadata": {
    "name": "MDListFiles",
    "collapsed": false
   },
   "source": "## List the Balance Sheet Image Files in the Stage.  "
  },
  {
   "cell_type": "code",
   "id": "24d31124-3f7a-4703-b4c7-526077319882",
   "metadata": {
    "language": "sql",
    "name": "SQLListFilesInTheStage"
   },
   "outputs": [],
   "source": "LIST @FINANCIAL_STMTS_IMAGES_INT_STG",
   "execution_count": null
  },
  {
   "cell_type": "markdown",
   "id": "f180c7ed-73c5-4d15-a403-8b78c523f5f0",
   "metadata": {
    "name": "MDThePrompt",
    "collapsed": false
   },
   "source": "## The Prompt\n### This prompt only returns the debt-to-equity ratio without the source data.  \nFrom the provided balance sheet image, perform the following steps:\n1.  Identify and extract the numerical value for 'Total Liabilities' for the period ending December 31, 2024.\n2.  Identify and extract the numerical value for 'Total Stockholders\\' Equity' (or 'Total Equity') for the same period.\n3.  Calculate the Debt-to-Equity ratio using the formula: Total Liabilities / Total Stockholders' Equity.\n\nAfter calculating, your entire response must contain ONLY the final numerical value, formatted to three decimal places. Do not include any text, explanation, currency signs, or preamble.\n\nEXAMPLE:\nIf Total Liabilities is 100,000 and Total Equity is 50,000, the calculation is 100,000 / 50,000 = 2.\nYour required output is:\n2.000\n\n\nIf either of the required values cannot be found on the balance sheet, your entire response must be the single word: NULL."
  },
  {
   "cell_type": "code",
   "id": "3ed11d90-8c01-49c7-a4d0-4bdf8bcb0ff5",
   "metadata": {
    "language": "sql",
    "name": "SQLAICOMPLETE_DEBT_TO_EQUITY"
   },
   "outputs": [],
   "source": "SELECT\n    relative_path AS FILE_NAME,\n    SPLIT_PART(relative_path, '_', 1) AS TICKER_SYMBOL,\n    AI_COMPLETE('claude-3-5-sonnet',\n        'From the provided balance sheet image, perform the following steps:\nIdentify and extract the numerical value for \\'Total Liabilities\\' for the period ending December 31, 2024.\nIdentify and extract the numerical value for \\'Total Stockholders\\' Equity\\' (or \\'Total Equity\\') for the same period.\nCalculate the Debt-to-Equity ratio using the formula: Total Liabilities / Total Stockholders\\' Equity.\nAfter calculating, your entire response must contain ONLY the final numerical value, formatted to three decimal places. Do not include any text, explanation, currency signs, or preamble.\n---\n**EXAMPLE:**\nIf Total Liabilities is 100,000 and Total Equity is 50,000, the calculation is 100,000 / 50,000 = 2.\nYour required output is:\n2.000\n---\nIf either of the required values cannot be found on the balance sheet, your entire response must be the single word: NULL.',\n        TO_FILE(file_url)\n    ) AS DEBT_TO_EQUITY\nFROM\n    DIRECTORY(@DEMODB.EQUITY_RESEARCH.FINANCIAL_STMTS_IMAGES_INT_STG);",
   "execution_count": null
  },
  {
   "cell_type": "markdown",
   "id": "8c6b3e08-872c-485b-a0b6-5c7a002956a4",
   "metadata": {
    "name": "MDPromptWithSourceData",
    "collapsed": false
   },
   "source": "## The Prompt that also returns the source data extracted from the images.\n### The Extracted Total Liabilities & Total Equity is shared in a JSON array along with the debt-to-equity result.  \nFrom the provided balance sheet image, perform the following steps:\n1.  Identify and extract the numerical value for 'Total Liabilities' for the period ending December 31, 2024.\n2.  Identify and extract the numerical value for 'Total Stockholders\\' Equity' (or 'Total Equity') for the same period.\n3.  Calculate the Debt-to-Equity ratio using the formula: Total Liabilities / Total Stockholders' Equity.\n\nAfter calculating, your entire response must contain ONLY a single, minified JSON object with three keys: \"total_liabilities\", \"total_equity\", and \"debt_to_equity_ratio\".\n- Do not use thousands separators in the numbers.\n- Do not include any text, explanation, or preamble outside the JSON object.\n\n\n**EXAMPLE:**\n- If Total Liabilities is 100,000 and Total Equity is 50,000, the calculation is 100,000 / 50,000 = 2.\n- Your required output is:\n{\"total_liabilities\":100000,\"total_equity\":50000,\"debt_to_equity_ratio\":2.000}\n\nIf any of the required values cannot be found, return a JSON object with null values.\n\n**Failure Example:**\n{\"total_liabilities\":100000,\"total_equity\":null,\"debt_to_equity_ratio\":null}"
  },
  {
   "cell_type": "code",
   "id": "bcfbd8d9-8fd5-49d5-8fdb-8139cdf45567",
   "metadata": {
    "language": "sql",
    "name": "SQLDebt_To_Equity_with_Source_Data"
   },
   "outputs": [],
   "source": "SELECT\n    relative_path AS FILE_NAME,\n    SPLIT_PART(relative_path, '_', 1) AS TICKER_SYMBOL,\n    AI_COMPLETE('claude-3-5-sonnet',\n        'From the provided balance sheet image, perform the following steps:\n1.  Identify and extract the numerical value for \\'Total Liabilities\\' for the period ending December 31, 2024.\n2.  Identify and extract the numerical value for \\'Total Stockholders\\' Equity\\' (or \\'Total Equity\\') for the same period.\n3.  Calculate the Debt-to-Equity ratio using the formula: Total Liabilities / Total Stockholders\\' Equity.\n\nAfter calculating, your entire response must contain ONLY a single, minified JSON object with three keys: \"total_liabilities\", \"total_equity\", and \"debt_to_equity_ratio\".\n- Do not use thousands separators in the numbers.\n- Do not include any text, explanation, or preamble outside the JSON object.\n\n---\n**EXAMPLE:**\nIf Total Liabilities is 100,000 and Total Equity is 50,000, the calculation is 100,000 / 50,000 = 2.\nYour required output is:\n{\"total_liabilities\":100000,\"total_equity\":50000,\"debt_to_equity_ratio\":2.000}\n---\n\nIf any of the required values cannot be found, return a JSON object with null values.\n**Failure Example:**\n{\"total_liabilities\":100000,\"total_equity\":null,\"debt_to_equity_ratio\":null}',\n        TO_FILE(file_url) -- TO_FILE is used here\n    ) AS DEBT_TO_EQUITY\nFROM\n    DIRECTORY(@DEMODB.EQUITY_RESEARCH.FINANCIAL_STMTS_IMAGES_INT_STG);",
   "execution_count": null
  },
  {
   "cell_type": "code",
   "id": "fc00b8d5-169f-4c24-8f20-09de338fd321",
   "metadata": {
    "language": "sql",
    "name": "SQLStockScreeeningCriteria"
   },
   "outputs": [],
   "source": "SELECT\n    relative_path AS FILE_NAME,\n    SPLIT_PART(relative_path, '_', 1) AS TICKER_SYMBOL,\n    AI_COMPLETE('claude-3-5-sonnet',\n        'From the provided balance sheet image, perform the following steps:\n1.  Identify and extract the numerical value for \\'Total Liabilities\\' for the period ending December 31, 2024.\n2.  Identify and extract the numerical value for \\'Total Stockholders\\' Equity\\' (or \\'Total Equity\\') for the same period.\n3.  Calculate the Debt-to-Equity ratio using the formula: Total Liabilities / Total Stockholders\\' Equity.\n\nAfter calculating, your entire response must contain ONLY a single, minified JSON object with three keys: \"total_liabilities\", \"total_equity\", and \"debt_to_equity_ratio\".\n- Do not use thousands separators in the numbers.\n- Do not include any text, explanation, or preamble outside the JSON object.\n\n---\n**EXAMPLE:**\nIf Total Liabilities is 100,000 and Total Equity is 50,000, the calculation is 100,000 / 50,000 = 2.\nYour required output is:\n{\"total_liabilities\":100000,\"total_equity\":50000,\"debt_to_equity_ratio\":2.000}\n---\n\nIf any of the required values cannot be found, return a JSON object with null values.\n**Failure Example:**\n{\"total_liabilities\":100000,\"total_equity\":null,\"debt_to_equity_ratio\":null}',\n        TO_FILE(file_url) -- TO_FILE is used here\n    ) AS DEBT_TO_EQUITY\nFROM\n    DIRECTORY(@DEMODB.EQUITY_RESEARCH.FINANCIAL_STMTS_IMAGES_INT_STG)\nWHERE\n    PARSE_JSON(DEBT_TO_EQUITY):debt_to_equity_ratio::NUMBER(10,3) < 1;",
   "execution_count": null
  },
  {
   "cell_type": "markdown",
   "id": "be94b00e-7ca3-4307-bb76-d1f2b45f40cb",
   "metadata": {
    "name": "MDDownloadNotebook",
    "collapsed": false
   },
   "source": "## Download the Notebook from Github:\nhttps://github.com/rrprasan/Finance/tree/main/Snowflake/Notebooks/Company_Financials/Stock_Screening_Using_Images\n\n## Try it today!  "
  }
 ]
}