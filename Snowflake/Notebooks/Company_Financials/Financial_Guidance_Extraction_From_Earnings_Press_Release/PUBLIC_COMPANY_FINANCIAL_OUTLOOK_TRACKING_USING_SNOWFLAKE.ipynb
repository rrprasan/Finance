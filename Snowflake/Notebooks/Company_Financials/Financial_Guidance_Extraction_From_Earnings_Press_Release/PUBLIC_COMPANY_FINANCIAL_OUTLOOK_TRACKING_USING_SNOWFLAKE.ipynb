{
 "metadata": {
  "kernelspec": {
   "display_name": "Streamlit Notebook",
   "name": "streamlit"
  },
  "lastEditStatus": {
   "notebookId": "2omvvtf3bqdvpq645met",
   "authorId": "8795186554644",
   "authorName": "PRAJAGOPAL",
   "authorEmail": "prasanna.rajagopal@snowflake.com",
   "sessionId": "a6f49b39-2fb8-4fbf-8396-bab63a3ceb65",
   "lastEditTime": 1748577693789
  }
 },
 "nbformat_minor": 5,
 "nbformat": 4,
 "cells": [
  {
   "cell_type": "markdown",
   "id": "75f0d45d-d5f6-414e-9bd5-a61b73260909",
   "metadata": {
    "name": "MDTitle",
    "collapsed": false
   },
   "source": "# Financial Guidance Insights From Earnings Press Release\n## Using Snowflake Cortex AI COMPLETE Structured Outputs to Extract, Transform, and Automate Financial Guidance"
  },
  {
   "cell_type": "markdown",
   "id": "b699bc07-aa0c-4b86-9be3-ca3a36ad4bf6",
   "metadata": {
    "name": "MDCreateStageInSnowflake",
    "collapsed": false
   },
   "source": "### Create Stage in Snowflake to Hold the Earnings Press Release PDF Files."
  },
  {
   "cell_type": "code",
   "id": "9f565b4d-cc4f-448f-a9fa-20970b812298",
   "metadata": {
    "language": "sql",
    "name": "SQLCreateStage",
    "collapsed": false,
    "codeCollapsed": false
   },
   "outputs": [],
   "source": "CREATE STAGE COMPANY_EARNINGS_PRESS_RELEASES_STG \n\tDIRECTORY = ( ENABLE = true ) \n\tENCRYPTION = ( TYPE = 'SNOWFLAKE_SSE' );",
   "execution_count": null
  },
  {
   "cell_type": "markdown",
   "id": "d681a508-d7d6-43d3-8f2e-d438ed892a57",
   "metadata": {
    "name": "MDLoadFilesIntoStage",
    "collapsed": false
   },
   "source": "## Instructions to upload the Earnings Press Release PDF files into the stage.\n\n- #### You can download the press release PDF files stored as a zip archive from [Github here](https://github.com/rrprasan/Finance/tree/main/Snowflake/Notebooks/Company_Financials/Financial_Guidance_Extraction_From_Earnings_Press_Release).\n- #### Unzip the files in your local drive. \n- #### Copy the PDF files into the Snowflake internal stage - COMPANY_EARNINGS_PRESS_RELEASES_STG.\n\n- #### Follow the [following steps](https://docs.snowflake.com/en/user-guide/data-load-local-file-system-stage-ui#upload-files-onto-a-named-internal-stage) in Snowsight to upload the files into the stage.  \n#### 1. Sign in to Snowsight.\n#### 2. Select Data » Add Data.\n#### 3. On the Add Data page, select Load files into a Stage.\n#### 4. In the Upload Your Files dialog that appears, select the files that you want to upload. You can upload multiple files at the same time.\n#### 5. Select the database schema in which you created the stage, then select the stage.\n#### 6. Optionally, select or create a path where you want to save your files within the stage.\n#### 7. Select Upload.\n\n#### The following press release PDF files are in the zipped archive:\n\n- ADBE_Q4_FY_2024_Earnings_Press_Release.pdf\n- AMZN_Q3_FY_2024_Earnings_Press_Release.pdf\n- CRM_Q3_FY_2025_Earnings_Press_Release.pdf\n- CSCO_Q1_FY_2025_Earnings_Press_Release.pdf\n- GOOGL_Q3_FY_2024_Earnings_Press_Release.pdf\n- MSFT_Q1_FY_2025_Earnings_Press_Release.pdf\n- NOW_Q3_FY_2024_Earnings_Press_Release.pdf\n- ORCL_Q2_FY_2025_Earnings_Press_Release.pdf\n- PANW_Q1_FY_2025_Earnings_Press_Release.pdf\n- PG_Q1_FY_2025_Earnings_Press_Release.pdf"
  },
  {
   "cell_type": "markdown",
   "id": "f45ac569-98b2-4e50-b66c-09489c72e165",
   "metadata": {
    "name": "MDListFilesInTheStage",
    "collapsed": false
   },
   "source": "### After the upload is complete, list the files in the stage.  "
  },
  {
   "cell_type": "code",
   "id": "09ff54fa-f64b-4d9b-be0b-70ea53e51497",
   "metadata": {
    "language": "sql",
    "name": "SQLListFilesInStage"
   },
   "outputs": [],
   "source": "LIST @COMPANY_EARNINGS_PRESS_RELEASES_STG;",
   "execution_count": null
  },
  {
   "cell_type": "markdown",
   "id": "6afd07b2-50d1-4ce8-9d72-3e5d7c428ea5",
   "metadata": {
    "name": "MDSequencePressReleaseID",
    "collapsed": false
   },
   "source": "### CREATE A SEQ FOR PRESS_RELEASES_TBL. \n### We will use the Sequence as a unique ID (`PRESS_RELEASE_ID`) in the `COMPANY_PRESS_RELEASES_TBL`.\n### This ID is not essential. \n### You can remove it from the table definition below, if you choose.  "
  },
  {
   "cell_type": "code",
   "id": "eb62dacf-1ef1-4cd8-89ee-c0cf596fd983",
   "metadata": {
    "language": "sql",
    "name": "SQLSequencePressReleaseIDSEQ"
   },
   "outputs": [],
   "source": "--****************\n-- CREATE A SEQ FOR PRESS_RELEASES_TBL. \n-- We will use the Sequence as a ID in the COMPANY_PRESS_RELEASES_TBL.\n-- This ID is not essential. \n-- You can remove it from the table definition below. \n--****************\nCREATE OR REPLACE SEQUENCE PRESS_RELEASE_ID_SEQ;\nSELECT PRESS_RELEASE_ID_SEQ.NEXTVAL;",
   "execution_count": null
  },
  {
   "cell_type": "markdown",
   "id": "0ab11af7-6da2-4fb1-bc92-c0709b0a22f1",
   "metadata": {
    "name": "MDCompanyPressReleasesTBL",
    "collapsed": false
   },
   "source": "### The Purpose of `COMPANY_PRESS_RELEASES_TBL`\nThis table, `COMPANY_PRESS_RELEASES_TBL`, serves as a centralized repository for storing the full text of earnings call press releases from various publicly traded companies.\n\nIt's designed to capture key details about each press release, including:\n\n- A unique ID - `PRESS_RELEASE_ID` - for each release.\n- The company's name - `COMPANY_NAME` - and its stock ticker symbol - `TICKER_SYMBOL`.\n- The type of press release - `PRESS_RELEASE_TYPE` - (specifically noting if it's an \"earnings\" release, but also allowing for \"news\" or other types).\n- The fiscal period - `PRESS_RELEASE_FISCAL_PERIOD` - (like \"Q1 FY 2025\" or \"Full-Year FY 2025\") the release pertains to.\n- The date the press release - `PRESS_RELEASE_DATE` - was issued.\n- Most importantly, the entire content - `PRESS_RELEASE_CONTENT` - of the press release itself.\n- In short, it's a dedicated place to store and organize the raw text of these important company announcements, making them easy to retrieve and analyze."
  },
  {
   "cell_type": "code",
   "id": "e5c00a55-61dc-4f28-b532-7711964560e3",
   "metadata": {
    "language": "sql",
    "name": "SQLCreateCOMPANY_PRESS_RELEASES_TBL"
   },
   "outputs": [],
   "source": "CREATE OR REPLACE TRANSIENT TABLE COMPANY_PRESS_RELEASES_TBL (\n    PRESS_RELEASE_ID NUMBER DEFAULT PRESS_RELEASE_ID_SEQ.NEXTVAL,\n    COMPANY_NAME VARCHAR,\n    TICKER_SYMBOL VARCHAR(10),\n    PRESS_RELEASE_TYPE VARCHAR COMMENT 'PRESS RELEASE TYPE EARNINGS, NEWS',\n    PRESS_RELEASE_FISCAL_PERIOD VARCHAR COMMENT 'SHOULD FOLLOW THIS FORMAT: Q1 FY 2025 OR FOR ANNUAL EARNINGS FULL-YEAR FY 2025',\n    PRESS_RELEASE_DATE DATE,\n    PRESS_RELEASE_CONTENT VARCHAR\n);",
   "execution_count": null
  },
  {
   "cell_type": "markdown",
   "id": "afb3c994-be70-41fd-8574-21f95d073a75",
   "metadata": {
    "name": "MDParsePDFFilePressRelease",
    "collapsed": false
   },
   "source": "# PARSE DOCUMENT\n#### [PARSE_DOCUMENT](https://docs.snowflake.com/en/user-guide/snowflake-cortex/parse-document)\n\nThe PARSE_DOCUMENT function is a Cortex AI **task-specific function** that gives you the ability to **extract text** or **layout** from documents stored in an internal or external stage. PARSE_DOCUMENT combines powerful Optical Character Recognition (OCR) capabilities with machine learning models to identify text content, information stored in tables, and the structural elements of PDF documents. You can use the PARSE_DOCUMENT function to extract text and document layout to build information retrieval systems on large archives of business documents, and to load the extracted information into structured Snowflake tables for use by your applications."
  },
  {
   "cell_type": "markdown",
   "id": "62d5e4a2-c36c-4b66-aac9-12ad8039cfeb",
   "metadata": {
    "name": "MDParseAdobePressRelease",
    "collapsed": false
   },
   "source": "### Parse Adobe's Earnings Press Release PDF Stored in the Stage. "
  },
  {
   "cell_type": "code",
   "id": "49c02cc7-5a4d-42c9-b2f9-aaad31cf4dd5",
   "metadata": {
    "language": "sql",
    "name": "SQLParseAdobeEarningsPressRelease"
   },
   "outputs": [],
   "source": "-- Parse Adobe's Earnings Press Release \n-- This is a test of the PARSE_DOCUMENT Function. \n-- company_earnings_press_releases_stg/ADBE_Q4_FY_2024_Earnings_Press_Release.pdf\nSELECT TO_VARCHAR(SNOWFLAKE.CORTEX.PARSE_DOCUMENT('@COMPANY_EARNINGS_PRESS_RELEASES_STG','ADBE_Q4_FY_2024_Earnings_Press_Release.pdf', {'mode': 'LAYOUT'}):content);",
   "execution_count": null
  },
  {
   "cell_type": "markdown",
   "id": "0b42317a-2c12-4af8-9b95-0394cabe9c5d",
   "metadata": {
    "name": "MDParseEachPDFFile",
    "collapsed": false
   },
   "source": "### Parse each PDF File and load the contents into the PRESS_RELEASE_CONTENT column.  \n### We have the other columns with the metadata information about each PRESS_RELEASE:\n- COMPANY_NAME\n- TICKER_SYMBOL\n- PRESS_RELEASE_TYPE\n- PRESS_RELEASE_FISCAL_PERIOD\n- PRESS_RELEASE_DATE\n### Process Amazon's Earnings Press Release. "
  },
  {
   "cell_type": "code",
   "id": "8c06fa21-c2f5-46ae-955f-aef98e80cde2",
   "metadata": {
    "language": "sql",
    "name": "SQLInsertAMZNEarningsCall"
   },
   "outputs": [],
   "source": "INSERT INTO COMPANY_PRESS_RELEASES_TBL \n    (COMPANY_NAME, \n     TICKER_SYMBOL, \n     PRESS_RELEASE_TYPE, \n     PRESS_RELEASE_FISCAL_PERIOD, \n     PRESS_RELEASE_DATE, \n     PRESS_RELEASE_CONTENT)\nSELECT 'AMAZON.COM, INC.', \n        'AMZN', \n        'EARNINGS',\n        'Q3 FY 2024', \n        '2024-12-03',       \nTO_VARCHAR(SNOWFLAKE.CORTEX.PARSE_DOCUMENT('@COMPANY_EARNINGS_PRESS_RELEASES_STG','AMZN_Q3_FY_2024_Earnings_Press_Release.pdf', {'mode': 'LAYOUT'}):content);",
   "execution_count": null
  },
  {
   "cell_type": "markdown",
   "id": "8be50f72-ed25-4934-b10f-d76fa2c12955",
   "metadata": {
    "name": "MDProcessAdobeEarningsPressRelease",
    "collapsed": false
   },
   "source": "### Process Adobe's Earnings Press Release"
  },
  {
   "cell_type": "code",
   "id": "617d9b9e-76ef-492b-8893-36da49b127a3",
   "metadata": {
    "language": "sql",
    "name": "SQLADOBEEarningsPressRelease"
   },
   "outputs": [],
   "source": "INSERT INTO COMPANY_PRESS_RELEASES_TBL \n    (COMPANY_NAME, \n     TICKER_SYMBOL, \n     PRESS_RELEASE_TYPE, \n     PRESS_RELEASE_FISCAL_PERIOD, \n     PRESS_RELEASE_DATE, \n     PRESS_RELEASE_CONTENT)\nSELECT 'ADOBE INC.', \n        'ADBE', \n        'EARNINGS',\n        'Q4 FY 2024', \n        '2024-12-11',       \nTO_VARCHAR(SNOWFLAKE.CORTEX.PARSE_DOCUMENT('@COMPANY_EARNINGS_PRESS_RELEASES_STG','ADBE_Q4_FY_2024_Earnings_Press_Release.pdf', {'mode': 'LAYOUT'}):content);",
   "execution_count": null
  },
  {
   "cell_type": "markdown",
   "id": "a36b9261-cec9-4afe-a45a-511104fc04b5",
   "metadata": {
    "name": "MDProcessSalesforceEarningsPressRelease",
    "collapsed": false
   },
   "source": "### Process Salesforce's Earnings Press Release"
  },
  {
   "cell_type": "code",
   "id": "f8c1aa61-18a0-4da0-b6a6-395a9e7e4d29",
   "metadata": {
    "language": "sql",
    "name": "SQLProcessSalesforceEarningsPressRelease"
   },
   "outputs": [],
   "source": "INSERT INTO COMPANY_PRESS_RELEASES_TBL \n    (COMPANY_NAME, \n     TICKER_SYMBOL, \n     PRESS_RELEASE_TYPE, \n     PRESS_RELEASE_FISCAL_PERIOD, \n     PRESS_RELEASE_DATE, \n     PRESS_RELEASE_CONTENT)\nSELECT 'Salesforce, Inc.', \n        'CRM', \n        'EARNINGS',\n        'Q3 FY 2025', \n        '2024-12-03',       \nTO_VARCHAR(SNOWFLAKE.CORTEX.PARSE_DOCUMENT('@COMPANY_EARNINGS_PRESS_RELEASES_STG','CRM_Q3_FY_2025_Earnings_Press_Release.pdf', {'mode': 'LAYOUT'}):content);",
   "execution_count": null
  },
  {
   "cell_type": "markdown",
   "id": "2396b06b-117a-4aa9-96a3-5279353d82d9",
   "metadata": {
    "name": "MDProcessCiscoSystemsEanringsPressRelease",
    "collapsed": false
   },
   "source": "### Process Cisco Systems' Earnings Press Release"
  },
  {
   "cell_type": "code",
   "id": "98ff9e80-b41c-4910-bb18-d88fb028f422",
   "metadata": {
    "language": "sql",
    "name": "SQLProcessCiscoEarningsPressRelease"
   },
   "outputs": [],
   "source": "INSERT INTO COMPANY_PRESS_RELEASES_TBL \n    (COMPANY_NAME, \n     TICKER_SYMBOL, \n     PRESS_RELEASE_TYPE, \n     PRESS_RELEASE_FISCAL_PERIOD, \n     PRESS_RELEASE_DATE, \n     PRESS_RELEASE_CONTENT)\nSELECT 'CISCO SYSTEMS, INC.', \n        'CSCO', \n        'EARNINGS',\n        'Q1 FY 2025', \n        '2024-11-13',       \nTO_VARCHAR(SNOWFLAKE.CORTEX.PARSE_DOCUMENT('@COMPANY_EARNINGS_PRESS_RELEASES_STG','CSCO_Q1_FY_2025_Earnings_Press_Release.pdf', {'mode': 'LAYOUT'}):content);",
   "execution_count": null
  },
  {
   "cell_type": "markdown",
   "id": "7337f665-624b-4397-9326-8714bcc26fb5",
   "metadata": {
    "name": "MDProcessGoogleEarningsPressRelease",
    "collapsed": false
   },
   "source": "### Process Google's Earnings Press Release"
  },
  {
   "cell_type": "code",
   "id": "d7116341-68a6-4560-8a22-3d7e0de64d9e",
   "metadata": {
    "language": "sql",
    "name": "SQLPrcessGoogleEarningsPressRelease"
   },
   "outputs": [],
   "source": "INSERT INTO COMPANY_PRESS_RELEASES_TBL \n    (COMPANY_NAME, \n     TICKER_SYMBOL, \n     PRESS_RELEASE_TYPE, \n     PRESS_RELEASE_FISCAL_PERIOD, \n     PRESS_RELEASE_DATE, \n     PRESS_RELEASE_CONTENT)\nSELECT 'Alphabet, Inc.', \n        'GOOGL', \n        'EARNINGS',\n        'Q3 FY 2024', \n        '2024-10-29',       \nTO_VARCHAR(SNOWFLAKE.CORTEX.PARSE_DOCUMENT('@COMPANY_EARNINGS_PRESS_RELEASES_STG','GOOGL_Q3_FY_2024_Earnings_Press_Release.pdf', {'mode': 'LAYOUT'}):content);",
   "execution_count": null
  },
  {
   "cell_type": "markdown",
   "id": "60b6b507-b99b-464f-a205-bfb24cf0690d",
   "metadata": {
    "name": "MDProcessMicrosoftEarningsPressRelease",
    "collapsed": false
   },
   "source": "### Process Microsoft's Earnings Press Release"
  },
  {
   "cell_type": "code",
   "id": "9e673b32-982d-46d7-a230-92520632b27a",
   "metadata": {
    "language": "sql",
    "name": "SQLProcessMicrosoftEarningsPressRelease"
   },
   "outputs": [],
   "source": "INSERT INTO COMPANY_PRESS_RELEASES_TBL \n    (COMPANY_NAME, \n     TICKER_SYMBOL, \n     PRESS_RELEASE_TYPE, \n     PRESS_RELEASE_FISCAL_PERIOD, \n     PRESS_RELEASE_DATE, \n     PRESS_RELEASE_CONTENT)\nSELECT 'Microsoft Corporation', \n        'MSFT', \n        'EARNINGS',\n        'Q1 FY 2025', \n        '2024-10-30',       \nTO_VARCHAR(SNOWFLAKE.CORTEX.PARSE_DOCUMENT('@COMPANY_EARNINGS_PRESS_RELEASES_STG','MSFT_Q1_FY_2025_Earnings_Press_Release.pdf', {'mode': 'LAYOUT'}):content);",
   "execution_count": null
  },
  {
   "cell_type": "markdown",
   "id": "d75a5733-c4b8-4693-8f92-6e675e92cbec",
   "metadata": {
    "name": "MDProcessServiceNowEarningsPressRelease",
    "collapsed": false
   },
   "source": "### Process ServiceNow's Earnings Press Release"
  },
  {
   "cell_type": "code",
   "id": "015fc3eb-5331-47fa-81af-2c724589d4cb",
   "metadata": {
    "language": "sql",
    "name": "SQLProcessServiceNowEarningsPressRelease"
   },
   "outputs": [],
   "source": "INSERT INTO COMPANY_PRESS_RELEASES_TBL \n    (COMPANY_NAME, \n     TICKER_SYMBOL, \n     PRESS_RELEASE_TYPE, \n     PRESS_RELEASE_FISCAL_PERIOD, \n     PRESS_RELEASE_DATE, \n     PRESS_RELEASE_CONTENT)\nSELECT 'SERVICENOW, INC.', \n        'NOW', \n        'EARNINGS',\n        'Q3 FY 2024', \n        '2024-10-23',       \nTO_VARCHAR(SNOWFLAKE.CORTEX.PARSE_DOCUMENT('@COMPANY_EARNINGS_PRESS_RELEASES_STG','NOW_Q3_FY_2024_Earnings_Press_Release.pdf',{'mode': 'LAYOUT'}):content);",
   "execution_count": null
  },
  {
   "cell_type": "markdown",
   "id": "f9f8ddb3-4c7d-48b9-a72d-18a9b97a84ab",
   "metadata": {
    "name": "MDProcessOracleEarningsPressRelease",
    "collapsed": false
   },
   "source": "### Process Oracle's Earnings Press Release"
  },
  {
   "cell_type": "code",
   "id": "e3ede61a-fc0a-4f09-b22e-f42b15957cb9",
   "metadata": {
    "language": "sql",
    "name": "SQLProcessOracleEarningsPressRelease"
   },
   "outputs": [],
   "source": "INSERT INTO COMPANY_PRESS_RELEASES_TBL \n    (COMPANY_NAME, \n     TICKER_SYMBOL, \n     PRESS_RELEASE_TYPE, \n     PRESS_RELEASE_FISCAL_PERIOD, \n     PRESS_RELEASE_DATE, \n     PRESS_RELEASE_CONTENT)\nSELECT 'Oracle Corporation', \n        'ORCL', \n        'EARNINGS',\n        'Q2 FY 2025', \n        '2024-12-09',       \nTO_VARCHAR(SNOWFLAKE.CORTEX.PARSE_DOCUMENT('@COMPANY_EARNINGS_PRESS_RELEASES_STG','ORCL_Q2_FY_2025_Earnings_Press_Release.pdf',{'mode': 'LAYOUT'}):content);",
   "execution_count": null
  },
  {
   "cell_type": "markdown",
   "id": "56025492-2656-485c-8936-b142dd8065b6",
   "metadata": {
    "name": "MDProcessPaloAltoNetworkEarningsPressRelease",
    "collapsed": false
   },
   "source": "### Process Palo Alto Networks' Earnings Press Release"
  },
  {
   "cell_type": "code",
   "id": "c6d00bd6-82a2-4176-aaf3-6f38f3dcf044",
   "metadata": {
    "language": "sql",
    "name": "SQLProcessPaloAltoEarningsPressRelease"
   },
   "outputs": [],
   "source": "INSERT INTO COMPANY_PRESS_RELEASES_TBL \n    (COMPANY_NAME, \n     TICKER_SYMBOL, \n     PRESS_RELEASE_TYPE, \n     PRESS_RELEASE_FISCAL_PERIOD, \n     PRESS_RELEASE_DATE, \n     PRESS_RELEASE_CONTENT)\nSELECT 'PALO ALTO NETWORKS, INC', \n        'PANW', \n        'EARNINGS',\n        'Q1 FY 2025', \n        '2024-11-20',       \nTO_VARCHAR(SNOWFLAKE.CORTEX.PARSE_DOCUMENT('@COMPANY_EARNINGS_PRESS_RELEASES_STG','PANW_Q1_FY_2025_Earnings_Press_Release.pdf',{'mode': 'LAYOUT'}):content);",
   "execution_count": null
  },
  {
   "cell_type": "markdown",
   "id": "48bb18fc-9735-42e2-b99e-02c1e5a6059c",
   "metadata": {
    "name": "MDPGEarningsPressRelease",
    "collapsed": false
   },
   "source": "### Process Procter & Gamble's Earnings Press Release"
  },
  {
   "cell_type": "code",
   "id": "8089e139-9fef-408b-9883-8b7cd937b9c5",
   "metadata": {
    "language": "sql",
    "name": "SQLProcessPGEarningsPressRelease"
   },
   "outputs": [],
   "source": "INSERT INTO COMPANY_PRESS_RELEASES_TBL \n    (COMPANY_NAME, \n     TICKER_SYMBOL, \n     PRESS_RELEASE_TYPE, \n     PRESS_RELEASE_FISCAL_PERIOD, \n     PRESS_RELEASE_DATE, \n     PRESS_RELEASE_CONTENT)\nSELECT 'Procter & Gamble', \n        'PG', \n        'EARNINGS',\n        'Q1 FY 2025', \n        '2024-10-18',       \nTO_VARCHAR(SNOWFLAKE.CORTEX.PARSE_DOCUMENT('@COMPANY_EARNINGS_PRESS_RELEASES_STG','PG_Q1_FY_2025_Earnings_Press_Release.pdf', {'mode': 'LAYOUT'}):content);",
   "execution_count": null
  },
  {
   "cell_type": "markdown",
   "id": "27082b1a-692a-4cb6-8eab-4b2d24e73eed",
   "metadata": {
    "name": "MDApplyCOMPLETEOnEntireDocument",
    "collapsed": false
   },
   "source": "# Efficiently Analyzing Earnings Press Releases with Cortex AI\n- ## Direct Application & Its Drawbacks: \n    - You can directly use the Cortex COMPLETE function on an entire earnings press release to get answers based on your prompt. However, this approach is typically not the most efficient way to gain targeted insights from the document.\n- ## A More Effective Strategy: \n    - For greater efficiency and precision, it is preferable to feed the COMPLETE function only the most relevant chunks of text and data from the press release that directly address your prompt.\n- ## The Value of Cortex Search: \n    - This is where Cortex Search provides significant value. It allows you to use your prompt to first pinpoint and retrieve these pertinent sections from the document. \n    - Supplying this curated input to the COMPLETE function makes the insight generation process more focused and efficient."
  },
  {
   "cell_type": "code",
   "id": "32e51233-8dbb-4398-adee-5b8b54b5902f",
   "metadata": {
    "language": "sql",
    "name": "SQLSelectOnEntirePressReleaseContent"
   },
   "outputs": [],
   "source": "SELECT SNOWFLAKE.CORTEX.COMPLETE('claude-3-5-sonnet', [\n        {\n        'role': 'user',\n        'content': \n        'Extract the following from the Press_Release_Content: 1. Quarterly Revenue Target: Identify the reported forecasted, targeted, or guidance quarterly revenue. If a range is provided, return the lower and upper bounds separately.\n2.  Annual Revenue Target: Identify the forecasted, targeted, or guidance total annual revenue. If a range is provided, return the lower and upper bounds separately.\n3. Missing Data: If any quarterly or annual target revenue/sales data is unavailable, state \\'NOT_FOUND_OR_AVAILABLE\\'.\n4. Forecast Type:\nFor both quarterly and annual revenue forecasts, specify if the forecast is \\'dollar_forecast\\' or \\'percentage_forecast\\'.\n' || PRESS_RELEASE_CONTENT\n            }\n    ],\n    {\n        'temperature': 0,\n        'max_tokens': 8192,\n        'response_format':{\n            'type':'json',\n            'schema': {\n                'type': 'object',\n                'properties': {\n                    'revenue_targets': {\n                        'type': 'array',\n                        'items': {\n                            'type': 'object',\n                            'properties': {\n                                'lower_quarterly_revenue_target': {'type': 'string'},\n                                'upper_quarterly_revenue_target': {'type': 'string'},\n                                'lower_annual_revenue_target': {'type': 'string'},\n                                'upper_annual_revenue_target': {'type': 'string'},\n                                'quarterly_forecast_type': {'type': 'string'},\n                                'annual_forecast_type': {'type': 'string'}\n                            },\n                            'required': []\n                        }\n                    }\n                }\n            }\n            }\n    }\n) Revenue_Forecast \nFROM \n    DEMODB.EQUITY_RESEARCH.COMPANY_PRESS_RELEASES_TBL \nWHERE \n    TICKER_SYMBOL = 'NOW';",
   "execution_count": null
  },
  {
   "cell_type": "markdown",
   "id": "499d580b-6d8b-4d76-8dbb-94c073956d15",
   "metadata": {
    "name": "MDOutputFromTheSQLCOMPLETEFn",
    "collapsed": false
   },
   "source": "## Output from the SELECT SQL With COMPLETE Function.\n```JSON\n{\n  \"created\": 1748575481,\n  \"model\": \"claude-3-5-sonnet\",\n  \"structured_output\": [\n    {\n      \"raw_message\": {\n        \"revenue_targets\": [\n          {\n            \"annual_forecast_type\": \"dollar_forecast\",\n            \"lower_annual_revenue_target\": \"10655\",\n            \"lower_quarterly_revenue_target\": \"2875\",\n            \"quarterly_forecast_type\": \"dollar_forecast\",\n            \"upper_annual_revenue_target\": \"10660\",\n            \"upper_quarterly_revenue_target\": \"2880\"\n          }\n        ]\n      },\n      \"type\": \"json\"\n    }\n  ],\n  \"usage\": {\n    \"completion_tokens\": 33,\n    \"prompt_tokens\": 9503,\n    \"total_tokens\": 9536\n  }\n}\n```"
  },
  {
   "cell_type": "markdown",
   "id": "2e31a597-69c1-4026-b9bc-971302cef0a4",
   "metadata": {
    "name": "MDWhyUseCortexSearchWithCOMPLETE",
    "collapsed": false
   },
   "source": "## Why Use Cortex Search with the COMPLETE Function? \n- ### Direct COMPLETE Function Use: \n    - Applying the Cortex AI COMPLETE function directly to an entire press release PDF is an option, but it can be inefficient and costly.\n- ### Tailored Input for Efficiency: \n    - For better results and cost-effectiveness, it's advisable to tailor the input for the COMPLETE function based on the specific question (prompt) you're aiming to answer.\n- ### Leveraging Cortex Search: \n    - Cortex Search facilitates this by allowing you to use your prompt to first identify and extract the most relevant text segments from the press release.\n- ### Optimized Workflow: \n    - Feeding these targeted search results into the COMPLETE function creates a more efficient and focused information extraction process. "
  },
  {
   "cell_type": "markdown",
   "id": "be5cb378-50b4-41c3-917d-1e6a6bae5b5a",
   "metadata": {
    "name": "MDCreateCortexSearchService",
    "collapsed": false
   },
   "source": "## Create [Cortex Search Service](https://docs.snowflake.com/en/user-guide/snowflake-cortex/cortex-search/cortex-search-overview) \nCortex Search enables low-latency, high-quality “fuzzy” search over your Snowflake data. Cortex Search powers a broad array of search experiences for Snowflake users including Retrieval Augmented Generation (RAG) applications leveraging Large Language Models (LLMs).\n\nCortex Search gets you up and running with a hybrid (vector and keyword) search engine on your text data in minutes, without having to worry about embedding, infrastructure maintenance, search quality parameter tuning, or ongoing index refreshes. This means you can spend less time on infrastructure and search quality tuning, and more time developing high-quality chat and search experiences using your data. Check out the Cortex Search tutorials for step-by-step instructions on using Cortex Search to power AI chat and search applications."
  },
  {
   "cell_type": "markdown",
   "id": "caf3a3a6-7d4d-4642-bd97-f57a57b0a8f8",
   "metadata": {
    "name": "MDSplitText",
    "collapsed": false
   },
   "source": "- ### We split the text from the press release documents to create text chunks.  \n- ### Cortex Search service creates vectors on the text chunks. \n- ### Use the Snowflake Cortex [SPLIT_TEXT_RECURSIVE_CHARACTER](https://docs.snowflake.com/en/sql-reference/functions/split_text_recursive_character-snowflake-cortex) to create chunks from each press release.  \n- ### Store the chunks along with the meta data about each press release into a new \"chunks\" table - COMPANY_PRESS_RELEASES_CHUNKS_TBL"
  },
  {
   "cell_type": "code",
   "id": "baf683d2-c5e0-4df3-a17b-10fc5ec676df",
   "metadata": {
    "language": "sql",
    "name": "SQLCreatePressReleaseChunksTable"
   },
   "outputs": [],
   "source": "CREATE OR REPLACE TRANSIENT TABLE COMPANY_PRESS_RELEASES_CHUNKS_TBL \nAS\nSELECT\n   COMPANY_NAME, \n     TICKER_SYMBOL, \n     PRESS_RELEASE_TYPE, \n     PRESS_RELEASE_FISCAL_PERIOD, \n     PRESS_RELEASE_DATE, \n     PRESS_RELEASE_CONTENT,\n     TO_VARCHAR(CHUNK_TXT.VALUE) AS PRESS_RELEASE_CHUNK\nFROM\n   COMPANY_PRESS_RELEASES_TBL,\n   LATERAL FLATTEN( input => SNOWFLAKE.CORTEX.SPLIT_TEXT_RECURSIVE_CHARACTER (\n      PRESS_RELEASE_CONTENT,\n      'none',\n      300,\n      75\n   )) CHUNK_TXT;",
   "execution_count": null
  },
  {
   "cell_type": "code",
   "id": "26fb9bc9-9493-47a5-af67-ee839358d756",
   "metadata": {
    "language": "sql",
    "name": "SQLCreateCortexSearchService",
    "collapsed": false,
    "codeCollapsed": false
   },
   "outputs": [],
   "source": "CREATE CORTEX SEARCH SERVICE COMPANY_PRESS_RELEASES_SEARCH_SVC\n    ON PRESS_RELEASE_CHUNK\n    ATTRIBUTES COMPANY_NAME, TICKER_SYMBOL, PRESS_RELEASE_TYPE\n    WAREHOUSE = COMPUTE_WH\n    TARGET_LAG = '1 hour'\n    AS (\n        SELECT \n        *\n        FROM COMPANY_PRESS_RELEASES_CHUNKS_TBL\n    );",
   "execution_count": null
  },
  {
   "cell_type": "markdown",
   "id": "e1322d3c-dc1a-4b29-a981-a24a598d843a",
   "metadata": {
    "name": "MDTextCortexSearchService",
    "collapsed": false
   },
   "source": "### Test the Cortex Search Service by using the Snowflake Cortex [SEARCH_PREVIEW](https://docs.snowflake.com/en/sql-reference/functions/search_preview-snowflake-cortex) SQL function.  "
  },
  {
   "cell_type": "code",
   "id": "cf5c9c73-604a-4f38-a665-bec2f7e9f228",
   "metadata": {
    "language": "sql",
    "name": "SQLTestCortexSearchService"
   },
   "outputs": [],
   "source": "SELECT PARSE_JSON(\n  SNOWFLAKE.CORTEX.SEARCH_PREVIEW(\n      'DEMODB.EQUITY_RESEARCH.COMPANY_PRESS_RELEASES_SEARCH_SVC',\n      '{\n        \"query\": \"Summarize the earnings press release\",\n        \"columns\":[\n            \"PRESS_RELEASE_CHUNK\"\n        ],\n        \"filter\": {\"@eq\": {\"TICKER_SYMBOL\": \"ADBE\"} },\n        \"limit\":5\n      }'\n  )\n)['results'] as results;",
   "execution_count": null
  },
  {
   "cell_type": "code",
   "id": "a6b4e5c1-cd48-4d55-bfda-144b0fcbcbc0",
   "metadata": {
    "language": "python",
    "name": "PyImportStatements"
   },
   "outputs": [],
   "source": "# Import python packages\nimport streamlit as st\nfrom snowflake.core import Root\nfrom snowflake.snowpark.context import get_active_session",
   "execution_count": null
  },
  {
   "cell_type": "code",
   "id": "512a24f1-2c23-40cc-bbc3-1b40caa084ed",
   "metadata": {
    "language": "python",
    "name": "PyLLMOptions"
   },
   "outputs": [],
   "source": "llm_option = st.selectbox(\n    'Select a LLM:',\n    ('claude-3-5-sonnet', 'llama3.2-1b', 'llama3.2-3b',\n     'llama3.1-8b', 'llama3.1-70b', 'llama3.1-405b',\n     'snowflake-arctic', 'reka-core', 'reka-flash',\n     'mistral-large2', 'mixtral-8x7b', 'mistral-7b',\n     'jamba-instruct', 'jamba-1.5-mini', 'jamba-1.5-large',\n     'gemma-7b'))\nstr_selected_llm = f\"\"\"You Selected {llm_option} LLM Model. This model will be used in the SNOWFLAKE.CORTEX.COMPLETE function.\"\"\"\nst.write(str_selected_llm)",
   "execution_count": null
  },
  {
   "cell_type": "code",
   "id": "12c18ab4-b2fa-46ef-a149-af01e0acb025",
   "metadata": {
    "language": "python",
    "name": "PySessionSelectCompany"
   },
   "outputs": [],
   "source": "session = get_active_session()\nroot = Root(session)\nselected_company = st.selectbox('Select a Company:', \n                session.sql(\"SELECT DISTINCT COMPANY_NAME FROM COMPANY_PRESS_RELEASES_TBL\").collect())\n\nst.write(selected_company)",
   "execution_count": null
  },
  {
   "cell_type": "code",
   "id": "82eff026-153b-46f4-a562-4b653c8c8278",
   "metadata": {
    "language": "python",
    "name": "PySetDB"
   },
   "outputs": [],
   "source": "database_name = 'DEMODB'\nschema_name = 'EQUITY_RESEARCH'\ncortex_search_service_name = 'COMPANY_PRESS_RELEASES_SEARCH_SVC'",
   "execution_count": null
  },
  {
   "cell_type": "markdown",
   "id": "371bb318-7657-4ef8-b130-b08d386133b3",
   "metadata": {
    "name": "MDPrompt",
    "collapsed": false
   },
   "source": "### The Prompt:\nExtract the following from the Press_Release_Content:\n\n-   **Quarterly Revenue Target:** Identify the reported forecasted, targeted, or guidance quarterly revenue. If a range is provided, return the lower and upper bounds separately.\n-   **Annual Revenue Target:** Identify the forecasted, targeted, or guidance total annual revenue. If a range is provided, return the lower and upper bounds separately.\n-   **Missing Data:** If any quarterly or annual target revenue/sales data is unavailable, state 'NOT_FOUND_OR_AVAILABLE'.\n-   **Forecast Type:** For both quarterly and annual revenue forecasts, specify if the forecast is 'dollar_forecast' or 'percentage_forecast'."
  },
  {
   "cell_type": "code",
   "id": "b4e793c8-ae34-45a9-90c2-26b345548b60",
   "metadata": {
    "language": "python",
    "name": "PySetPromptStr"
   },
   "outputs": [],
   "source": "prompt_str = f\"\"\"Extract the following from the Press_Release_Content:\n-   **Quarterly Revenue Target:** Identify the reported forecasted, targeted, or guidance quarterly revenue. If a range is provided, return the lower and upper bounds separately.\n-   **Annual Revenue Target:** Identify the forecasted, targeted, or guidance total annual revenue. If a range is provided, return the lower and upper bounds separately.\n-   **Missing Data:** If any quarterly or annual target revenue/sales data is unavailable, state 'NOT_FOUND_OR_AVAILABLE'.\n-   **Forecast Type:** For both quarterly and annual revenue forecasts, specify if the forecast is 'dollar_forecast' or 'percentage_forecast'.\n\"\"\"",
   "execution_count": null
  },
  {
   "cell_type": "code",
   "id": "8cd6a9db-da34-42d6-bd0d-e1f55dba8d23",
   "metadata": {
    "language": "python",
    "name": "PySetSearchService"
   },
   "outputs": [],
   "source": "cortex_search_service = (\n        root.databases[database_name]\n        .schemas[schema_name]\n        .cortex_search_services[cortex_search_service_name]\n    )\ncontext_documents = cortex_search_service.search(\n         prompt_str, \n         columns=['PRESS_RELEASE_CHUNK'], \n         filter={\"@eq\": {\"COMPANY_NAME\": selected_company} },\n         limit=12\n    )\nresults = context_documents.results",
   "execution_count": null
  },
  {
   "cell_type": "code",
   "id": "9fdda9b4-2302-4718-bf4a-3a3738b6257b",
   "metadata": {
    "language": "python",
    "name": "PyCortexSearchResults"
   },
   "outputs": [],
   "source": "# Define the HTML code for the sub-heading\nhtml_code_llm_response = \"\"\"\n                        <h2>Here are the results returned by Cortex Search:</h2>\n                        \"\"\"\n\n# Display the HTML code using st.write()\nst.write(html_code_llm_response, unsafe_allow_html=True) \nst.write(results)",
   "execution_count": null
  },
  {
   "cell_type": "markdown",
   "id": "476a0355-f980-4c06-af85-226a8e030b9a",
   "metadata": {
    "name": "MDConcatenateSearchResults",
    "collapsed": false
   },
   "source": "### Concatenate the Search Results to Feed it to the Cortex AI COMPLETE LLM SQL Function."
  },
  {
   "cell_type": "code",
   "id": "6017b3fa-b432-4ab6-9c71-2e3ada9e0b54",
   "metadata": {
    "language": "python",
    "name": "PyConcatenateSearchResults"
   },
   "outputs": [],
   "source": "search_results_str = \"\"\nfor i, r in enumerate(results):\n    # st.write(r)\n    # context_str += f\"Context document {i+1}: {r['PRESS_RELEASE_CHUNK']} \\n\" + \"\\n\"\n    search_results_str += f\"{r['PRESS_RELEASE_CHUNK']} \\n\"\n    # st.write(context_str)\nst.write(search_results_str)",
   "execution_count": null
  },
  {
   "cell_type": "code",
   "id": "57f089ab-b1c5-4b67-beee-a8d15c21dbfd",
   "metadata": {
    "language": "python",
    "name": "PyConstructTheCOMPLETECall"
   },
   "outputs": [],
   "source": "import json\ncontentStr = f\"\"\"Extract the following from the Press_Release_Content:\n-   **Quarterly Revenue Target:** Identify the reported forecasted, targeted, or guidance quarterly revenue. If a range is provided, return the lower and upper bounds separately.\n-   **Annual Revenue Target:** Identify the forecasted, targeted, or guidance total annual revenue. If a range is provided, return the lower and upper bounds separately.\n-   **Missing Data:** If any quarterly or annual target revenue/sales data is unavailable, state 'NOT_FOUND_OR_AVAILABLE'.\n-   **Forecast Type:** For both quarterly and annual revenue forecasts, specify if the forecast is 'dollar_forecast' or 'percentage_forecast'. {search_results_str}\"\"\" \n# Your provided structure as a Python list of dictionaries\n# Note: I'm replacing the SQL-like '|| PRESS_RELEASE_CONTENT' with a placeholder\n# for now, as that's a SQL concatenation, not Python.\n# In a real scenario, you'd insert the actual content here.\ndata_structure = [\n    {\n        'role': 'user',\n        'content': contentStr \n    },\n    {\n        'temperature': 0,\n        'max_tokens': 8192,\n        'response_format': {\n            'type': 'json',\n            'schema': {\n                'type': 'object',\n                'properties': {\n                    'revenue_targets': {\n                        'type': 'array',\n                        'items': {\n                            'type': 'object',\n                            'properties': {\n                                'lower_quarterly_revenue_target': {'type': 'string'},\n                                'upper_quarterly_revenue_target': {'type': 'string'},\n                                'lower_annual_revenue_target': {'type': 'string'},\n                                'upper_annual_revenue_target': {'type': 'string'},\n                                'quarterly_forecast_type': {'type': 'string'},\n                                'annual_forecast_type': {'type': 'string'}\n                            },\n                            'required': []\n                        }\n                    }\n                }\n            }\n        }\n    }\n]\n\n# Convert the Python data structure to a JSON string\njson_string = json.dumps(data_structure, indent=4) # indent for pretty printing\n\nprint(json_string)\n\n# Example of how you might dynamically insert the press release content\npress_release_content_variable = \"This is the actual press release content for the query.\"\ndata_structure[0]['content'] = data_structure[0]['content'].replace(\"[PLACEHOLDER_PRESS_RELEASE_CONTENT]\", press_release_content_variable)\n\n# Convert to JSON string again with the updated content\njson_string_with_content = json.dumps(data_structure, indent=4)\nprint(\"\\n--- JSON string with actual content inserted ---\")\nprint(json_string_with_content)",
   "execution_count": null
  },
  {
   "cell_type": "code",
   "id": "cff8c8be-e0f8-411a-bb02-8205df97abbd",
   "metadata": {
    "language": "python",
    "name": "PyCallCOMPLETE"
   },
   "outputs": [],
   "source": "results = session.sql(\"SELECT SNOWFLAKE.CORTEX.COMPLETE(?, ?) Revenue_Forecast FROM DEMODB.EQUITY_RESEARCH.COMPANY_PRESS_RELEASES_TBL\", (llm_option, json_string_with_content)).collect()[0][0]\n\n# Define the HTML code for the sub-heading\nhtml_code_llm_response = f\"\"\"\n                            <h2>Here's the Structured output (JSON) of {selected_company} from its Earnings Press Release:</h2>\n                          \"\"\"\n\n# Display the HTML code using st.write()\nst.write(html_code_llm_response, unsafe_allow_html=True) \nst.write(results)",
   "execution_count": null
  },
  {
   "cell_type": "markdown",
   "id": "d4fb5b2e-e172-4f1c-a4bf-62ca023af9f9",
   "metadata": {
    "name": "MDParseJSON",
    "collapsed": false
   },
   "source": "## Parse the JSON (Optional) and prepare for inserting the data into a table. "
  },
  {
   "cell_type": "code",
   "id": "18320979-dac8-4a25-9e89-5ab8df823a70",
   "metadata": {
    "language": "python",
    "name": "PyPrinttheResults"
   },
   "outputs": [],
   "source": "import json\n\n# Assuming 'results' is a JSON string\n# results = '{\"revenue_targets\": [100, 200], \"other_data\": \"some_value\"}'\n\ntry:\n    results_dict = json.loads(results)\n    revenue_targets_list = results_dict.get(\"revenue_targets\")\n    st.write(revenue_targets_list)\n    lowerBoundNextQtrRevenue = revenue_targets_list[0][\"lower_quarterly_revenue_target\"]\n    upperBoundNextQtrRevenue = revenue_targets_list[0][\"upper_quarterly_revenue_target\"]\n    qtrlyRevenueForecastType = revenue_targets_list[0][\"quarterly_forecast_type\"]\n    lowerBoundAnnualRevenue = revenue_targets_list[0][\"lower_annual_revenue_target\"]\n    upperBoundAnnualRevenue = revenue_targets_list[0][\"upper_annual_revenue_target\"]\n    annualRevenueForecastType = revenue_targets_list[0][\"annual_forecast_type\"]\n    st.write(f\"\"\"Lower Bound Next Quarter Revenue Target: {revenue_targets_list[0][\"lower_quarterly_revenue_target\"]}\"\"\")\n    st.write(f\"\"\"Upper Bound Next Quarter Revenue Target: {revenue_targets_list[0][\"upper_quarterly_revenue_target\"]}\"\"\")\n    st.write(f\"\"\"Quarterly Forecast Type Provided by the Company (Dollar or Percentage): {revenue_targets_list[0][\"quarterly_forecast_type\"]}\"\"\")\n    st.write(f\"\"\"Lower Bound Next Annual Revenue Target: {revenue_targets_list[0][\"lower_annual_revenue_target\"]}\"\"\")\n    st.write(f\"\"\"Upper Bound Next Annual Revenue Target: {revenue_targets_list[0][\"upper_annual_revenue_target\"]}\"\"\")\n    st.write(f\"\"\"Annual Forecast Type Provided by the Company (Dollar or Percentage) {revenue_targets_list[0][\"annual_forecast_type\"]}\"\"\")\nexcept json.JSONDecodeError:\n    print(\"Error: 'results' is not a valid JSON string.\")\n    # Handle the error, perhaps by logging it or setting a default value",
   "execution_count": null
  },
  {
   "cell_type": "markdown",
   "id": "501c712f-ce44-457f-8296-bf48079caa7e",
   "metadata": {
    "name": "MDCreateTable",
    "collapsed": false
   },
   "source": "## Create a table to store the results obtained from the earnings press release document.  "
  },
  {
   "cell_type": "code",
   "id": "87ea9b47-e393-4c25-8f25-6c5a09cd0b2c",
   "metadata": {
    "language": "sql",
    "name": "SQLCreateTableToStoreTheOutput"
   },
   "outputs": [],
   "source": "CREATE TRANSIENT TABLE COMPANY_FINANCIAL_OUTLOOK_TBL\n(\n    COMPANY_NAME VARCHAR COMMENT 'Store the name of the company which issued the financial forecast (provided an outlook for revenue or profit or both)',\n    LOWER_BOUND_NEXT_QUARTER_REVENUE_TARGET VARCHAR COMMENT 'Store the lower bound of the revenue target for the next quarter provided by the company',\n    UPPER_BOUND_NEXT_QUARTER_REVENUE_TARGET VARCHAR,\n    TYPE_OF_NEXT_QUARTER_FORECAST VARCHAR COMMENT 'The type of next quarter forecast provided by the company: Dollar or Percentage',\n    LOWER_BOUND_ANNUAL_REVENUE_TARGET VARCHAR,\n    UPPER_BOUND_ANNUAL_REVENUE_TARGET VARCHAR,\n    TYPE_OF_NEXT_ANNUAL_FORECAST VARCHAR COMMENT 'The type of next annual forecast provided by the company: Dollar or Percentage'  \n)",
   "execution_count": null
  },
  {
   "cell_type": "code",
   "id": "6c11cb96-9e6f-42ab-9610-46993c331350",
   "metadata": {
    "language": "python",
    "name": "PyExecuteInsertStatement"
   },
   "outputs": [],
   "source": "insertSQLStr = f\"\"\"insert into \n    COMPANY_FINANCIAL_OUTLOOK_TBL \nVALUES \n    (\\'{selected_company}\\', \n     \\'{lowerBoundNextQtrRevenue}\\', \n     \\'{upperBoundNextQtrRevenue}\\',\n     \\'{qtrlyRevenueForecastType}\\',\n     \\'{lowerBoundAnnualRevenue}\\',\n     \\'{upperBoundAnnualRevenue}\\',\n     \\'{annualRevenueForecastType}\\'\n     )\"\"\"\nst.write(insertSQLStr)\nsession.sql(insertSQLStr).collect()",
   "execution_count": null
  },
  {
   "cell_type": "markdown",
   "id": "6186b29e-0674-4947-ac12-4089a6e56703",
   "metadata": {
    "name": "MDKeyTakeaway",
    "collapsed": false
   },
   "source": "# Snowflake = EASY\n## Snowflake has made it easy for your extract data and insights from a document and store that in a table or use it to drive any workflow. \n"
  },
  {
   "cell_type": "code",
   "id": "48f43c50-1d77-4f07-b473-ba1db957d114",
   "metadata": {
    "language": "sql",
    "name": "SQLSelectFromTable"
   },
   "outputs": [],
   "source": "SELECT * FROM COMPANY_FINANCIAL_OUTLOOK_TBL;",
   "execution_count": null
  }
 ]
}