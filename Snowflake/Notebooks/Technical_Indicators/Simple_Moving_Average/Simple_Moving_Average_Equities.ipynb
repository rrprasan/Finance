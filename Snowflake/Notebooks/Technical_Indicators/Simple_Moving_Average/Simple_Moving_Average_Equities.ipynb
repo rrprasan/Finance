{
 "metadata": {
  "kernelspec": {
   "display_name": "Streamlit Notebook",
   "name": "streamlit"
  },
  "lastEditStatus": {
   "notebookId": "ezfckksxmlbfbhfccb6o",
   "authorId": "8795186554644",
   "authorName": "PRAJAGOPAL",
   "authorEmail": "prasanna.rajagopal@snowflake.com",
   "sessionId": "4b8684e4-74be-41de-b85f-8317a16130e6",
   "lastEditTime": 1737340675425
  }
 },
 "nbformat_minor": 5,
 "nbformat": 4,
 "cells": [
  {
   "cell_type": "markdown",
   "id": "850490d3-a29f-41de-9a05-90241520818d",
   "metadata": {
    "name": "MDSMADefinition",
    "collapsed": false,
    "resultHeight": 847
   },
   "source": "## 📈 What is the Simple Moving Average (SMA)? \n\nSimple Moving Average is a powerful statistical tool that calculates the average of data points over a specific time period, helping identify trends and smooth out price fluctuations. It's fascinating how this simple concept has such widespread applications:\n\n## 🏦 In Finance:\n- Stock market trend analysis\n- Trading signal generation\n- Risk management\n- Portfolio rebalancing decisions\n\n## 🏭 In Manufacturing:\n- Quality control monitoring\n- Production output forecasting\n- Equipment performance tracking\n- Inventory level optimization\n\n## 🛍️ In Retail:\n- Sales trend analysis\n- Demand forecasting\n- Seasonal pattern identification\n- Inventory management\n\nIn equities, the [simple moving average](https://www.investopedia.com/terms/s/sma.asp) (SMA) smooths out price data by calculating the average price over a specific time period. It's a powerful tool that helps identify trends and reduce noise in data."
  },
  {
   "cell_type": "markdown",
   "id": "c0c3e365-e466-4b73-80ae-2a054f260264",
   "metadata": {
    "name": "MDTitleAndPurpose",
    "collapsed": false,
    "resultHeight": 255
   },
   "source": "## Calculate the SMA for Equities\nIn this Notebook, we will calculate the 50-Day and 100-Day SMA for various stocks.\n## Use OHLC Data for SMA Calculation\nOHLC stands for Open, High, Low, and Close. \nWe will use the daily OHLC data provided by [Polygon.io](https://polygon.io/). Each row of data represents the daily opening, high, low and closing price."
  },
  {
   "cell_type": "markdown",
   "id": "9ccf12ab-dbb6-4444-b384-ca3d393ff8ba",
   "metadata": {
    "name": "MDCreateStage",
    "collapsed": false,
    "resultHeight": 127
   },
   "source": "## Stage for Hosting OHLC Data\nCreate a stage in Snowflake to host the OHLC Data Files. \nThe data files are in the [CSV](https://en.wikipedia.org/wiki/Comma-separated_values#:~:text=CSV%20is%20a%20delimited%20data,all%20line%2Dend%20variations) format.  "
  },
  {
   "cell_type": "code",
   "id": "b933f2b0-3643-4c07-8d6c-03b44e3f1808",
   "metadata": {
    "language": "sql",
    "name": "CrStageSQL",
    "collapsed": false,
    "resultHeight": 111
   },
   "outputs": [],
   "source": "CREATE STAGE OHLC_DATA_STG \n\tDIRECTORY = ( ENABLE = true ) \n\tENCRYPTION = ( TYPE = 'SNOWFLAKE_SSE' );",
   "execution_count": null
  },
  {
   "cell_type": "markdown",
   "id": "4eeeeb57-b914-4d4e-989d-33c06c9f8dfa",
   "metadata": {
    "name": "cell1",
    "collapsed": false,
    "resultHeight": 60
   },
   "source": "## Create Table for OHLC Data"
  },
  {
   "cell_type": "code",
   "id": "5ded3aed-1686-4567-8d23-57da13f2404e",
   "metadata": {
    "language": "sql",
    "name": "CrOHLCTblSQL",
    "collapsed": false,
    "resultHeight": 111
   },
   "outputs": [],
   "source": "CREATE TABLE EQUITIES_OHLC_DATA_TBL (\n    TICKER_SYMBOL VARCHAR,\n    TRADE_DATE    DATE,\n    DAY_OPEN_PRICE FLOAT,\n\tDAY_HIGH_PRICE FLOAT,\n\tDAY_LOW_PRICE FLOAT,\n\tDAY_CLOSE_PRICE FLOAT\n    );",
   "execution_count": null
  },
  {
   "cell_type": "markdown",
   "id": "a700530b-aec4-49f8-811a-d6805899e95d",
   "metadata": {
    "name": "MDLoadOHLCToStage",
    "collapsed": false,
    "resultHeight": 972
   },
   "source": "## Instructions to upload the OHLC Data files into the stage.\n\n- #### You can download the OHLC Data files stored as a zip archive from [Github here](https://github.com/rrprasan/Finance/blob/main/Snowflake/Notebooks/Technical_Indicators/Simple_Moving_Average/Equities_OHLC_Data.zip).\n    - ##### The zip file is titled: Equities_OHLC_DATA.zip\n    - ##### Unzip the files in your local drive. \n    - ##### Copy the data files into the Snowflake internal stage - OHLC_DATA_STG.\n\n- #### Follow the [following steps](https://docs.snowflake.com/en/user-guide/data-load-local-file-system-stage-ui#upload-files-onto-a-named-internal-stage) in Snowsight to upload the files into the stage.  \n#### 1. Sign in to Snowsight.\n#### 2. Select Data » Add Data.\n#### 3. On the Add Data page, select Load files into a Stage.\n#### 4. In the Upload Your Files dialog that appears, select the files that you want to upload. You can upload multiple files at the same time.\n#### 5. Select the database schema in which you created the stage, then select the stage.\n#### 6. Optionally, select or create a path where you want to save your files within the stage.\n#### 7. Select Upload.\n\n#### The following OHLC data files are in the zipped archive:\n- AMZN\n- MSFT \n- NVDA\n- GOOGL\n- PG\n- KO\n- XOM"
  },
  {
   "cell_type": "markdown",
   "id": "5c4439ec-253e-4fc7-8450-edaf42380998",
   "metadata": {
    "name": "MDCopyIntoSQL",
    "collapsed": false,
    "resultHeight": 497
   },
   "source": "### COPY INTO <TABLE> to Load the CSV Data into EQUITIES_OHLC_DATA_TBL\n\nThe [COPY INTO](https://docs.snowflake.com/en/sql-reference/sql/copy-into-table) command gives you an easy and flexible tool to load data from files into a Snowflake database. \n\nLoads data from files to an existing table. The files must already be in one of the following locations:\n\nNamed internal stage (or table/user stage). Files can be staged using the PUT command.\n\nNamed external stage that references an external location (Amazon S3, Google Cloud Storage, or Microsoft Azure).\n\nYou cannot access data held in archival cloud storage classes that requires restoration before it can be retrieved. These archival storage classes include, for example, the Amazon S3 Glacier Flexible Retrieval or Glacier Deep Archive storage class, or Microsoft Azure Archive Storage.\n\nExternal location (Amazon S3, Google Cloud Storage, or Microsoft Azure)."
  },
  {
   "cell_type": "code",
   "id": "8097cc4c-f8d6-4dae-bf54-6c8aba78a267",
   "metadata": {
    "language": "sql",
    "name": "CopyCmdSQL",
    "collapsed": false,
    "resultHeight": 181
   },
   "outputs": [],
   "source": "COPY INTO EQUITIES_OHLC_DATA_TBL FROM @OHLC_DATA_STG\nFILE_FORMAT = (TYPE = CSV);",
   "execution_count": null
  },
  {
   "cell_type": "markdown",
   "id": "963a242c-f52b-4b67-a9b0-18f195c2dadd",
   "metadata": {
    "name": "MDSeEQUITIES_OHLC_DATA_TBL",
    "collapsed": false,
    "resultHeight": 68
   },
   "source": "### Run a Select query to see the data in the EQUITIES_OHLC_DATA_TBL table"
  },
  {
   "cell_type": "code",
   "id": "f5b05673-204c-4769-b462-126fd6100d32",
   "metadata": {
    "language": "sql",
    "name": "SeEQUITIES_OHLC_DATA_TBL",
    "resultHeight": 286,
    "collapsed": false
   },
   "outputs": [],
   "source": "SELECT DISTINCT TICKER_SYMBOL FROM EQUITIES_OHLC_DATA_TBL;",
   "execution_count": null
  },
  {
   "cell_type": "markdown",
   "id": "d16187fa-84a0-4f9d-a335-85db8cc89c79",
   "metadata": {
    "name": "MDWindowFunction",
    "collapsed": false,
    "resultHeight": 507
   },
   "source": "## Calculate the 50-Day & 100-Day Simple Moving Average\nWe use Snowflake's WINDOW FUNCTION to comput the SMA. \n### Snowflake [WINDOW FUNCTION](https://docs.snowflake.com/en/user-guide/functions-window-using)\n\n- A window function is an analytic SQL function that operates on a group of related rows known as a partition. \n- A partition is usually a logical group of rows along some familiar dimension, such as product category, location, time period, or business unit. \n- Function results are computed over each partition, with respect to an implicit or explicit window frame. \n- A window frame is a fixed or variable set of rows relative to the current row. \n- The current row is a single input row for which the function result is currently being computed. \n- Function results are calculated row by row within each partition, and each row in the window frame takes its turn as the current row.\n\nSource: Snowflake Documentation"
  },
  {
   "cell_type": "code",
   "id": "df42a683-330d-4efb-9b34-3c50a9cc2faf",
   "metadata": {
    "language": "sql",
    "name": "Se50Day100DaySMA",
    "collapsed": false,
    "resultHeight": 438
   },
   "outputs": [],
   "source": "SELECT \n    EQUITIES_OHLC_DATA_TBL.TRADE_DATE,\n    EQUITIES_OHLC_DATA_TBL.TICKER_SYMBOL,\n    EQUITIES_OHLC_DATA_TBL.DAY_CLOSE_PRICE,\n    AVG(EQUITIES_OHLC_DATA_TBL.DAY_CLOSE_PRICE) OVER (PARTITION BY TICKER_SYMBOL ORDER BY EQUITIES_OHLC_DATA_TBL.TRADE_DATE ASC ROWS BETWEEN 49 PRECEDING AND CURRENT ROW) FIFTY_DAY_SMA,\n    AVG(EQUITIES_OHLC_DATA_TBL.DAY_CLOSE_PRICE) OVER (PARTITION BY TICKER_SYMBOL ORDER BY EQUITIES_OHLC_DATA_TBL.TRADE_DATE ASC ROWS BETWEEN 99 PRECEDING AND CURRENT ROW) HUNDRED_DAY_SMA\nFROM\n    EQUITIES_OHLC_DATA_TBL;",
   "execution_count": null
  },
  {
   "cell_type": "code",
   "id": "2ed3e33e-09a5-42c0-bd62-98484fa8f784",
   "metadata": {
    "language": "sql",
    "name": "CrVWSMA",
    "collapsed": false,
    "resultHeight": 111
   },
   "outputs": [],
   "source": "CREATE OR REPLACE VIEW EQUITIES_50_DAY_100_DAY_SMA_VW \nAS\nSELECT \n    EQUITIES_OHLC_DATA_TBL.TRADE_DATE,\n    EQUITIES_OHLC_DATA_TBL.TICKER_SYMBOL,\n    EQUITIES_OHLC_DATA_TBL.DAY_CLOSE_PRICE,\n    AVG(EQUITIES_OHLC_DATA_TBL.DAY_CLOSE_PRICE) OVER (PARTITION BY TICKER_SYMBOL ORDER BY EQUITIES_OHLC_DATA_TBL.TRADE_DATE ASC ROWS BETWEEN 49 PRECEDING AND CURRENT ROW) FIFTY_DAY_SMA,\n    AVG(EQUITIES_OHLC_DATA_TBL.DAY_CLOSE_PRICE) OVER (PARTITION BY TICKER_SYMBOL ORDER BY EQUITIES_OHLC_DATA_TBL.TRADE_DATE ASC ROWS BETWEEN 99 PRECEDING AND CURRENT ROW) HUNDRED_DAY_SMA\nFROM\n    EQUITIES_OHLC_DATA_TBL;",
   "execution_count": null
  },
  {
   "cell_type": "markdown",
   "id": "4df41454-3452-44e0-b036-63c636db2d51",
   "metadata": {
    "name": "MDLineChartDefinition",
    "collapsed": false,
    "resultHeight": 107
   },
   "source": "## Line Chart of the 50-Day & 100-Day SMA\n### Identify patterns such the [Golden Cross](https://www.investopedia.com/terms/g/goldencross.asp) or [Death Cross](https://www.investopedia.com/terms/d/deathcross.asp)"
  },
  {
   "cell_type": "markdown",
   "id": "8a05ad96-2d91-43c7-af85-499d26358271",
   "metadata": {
    "name": "PyAddPackages",
    "collapsed": false,
    "resultHeight": 197
   },
   "source": "Start by adding neccessary libraries using the `Packages` dropdown, the additional libraries needed for this notebook is: \n* `modin`\n* `snowflake`\n* `matplotlib`\n* `seaborn`"
  },
  {
   "cell_type": "code",
   "id": "372cab5a-ecef-464d-837d-ab7c891cfa6d",
   "metadata": {
    "language": "python",
    "name": "PyImportStmts",
    "collapsed": false,
    "resultHeight": 0
   },
   "outputs": [],
   "source": "import streamlit as st\nimport matplotlib.pyplot as plt\nimport seaborn as sns",
   "execution_count": null
  },
  {
   "cell_type": "code",
   "id": "88381a1e-fead-4d48-80ea-4a06b688cfd8",
   "metadata": {
    "language": "python",
    "name": "PyGetActiveSession",
    "collapsed": false,
    "resultHeight": 0
   },
   "outputs": [],
   "source": "# Snowpark Pandas API\nimport modin.pandas as spd\n# Import the Snowpark pandas plugin for modin\nimport snowflake.snowpark.modin.plugin\n\nfrom snowflake.snowpark.context import get_active_session\n# Create a snowpark session\nsession = get_active_session()",
   "execution_count": null
  },
  {
   "cell_type": "markdown",
   "id": "fe49f8fd-943d-4cf7-a1b8-7c6382f7696e",
   "metadata": {
    "name": "MDSetDBSchema",
    "collapsed": false,
    "resultHeight": 89
   },
   "source": "## SET THE SNOWFLAKE DATABASE & SCHEMA BEFORE PROCEDDING FURTHER!"
  },
  {
   "cell_type": "code",
   "id": "3f9d3c9d-afc9-4027-8a61-bff3663e43be",
   "metadata": {
    "language": "python",
    "name": "PySetDBSchema",
    "collapsed": false,
    "resultHeight": 0
   },
   "outputs": [],
   "source": "# Name of the sample database and the schema to be used\nSOURCE_DATA_PATH = \"DEMODB.EQUITY_RESEARCH\"\nSAVE_DATA_PATH = \"DEMODB.EQUITY_RESEARCH\"\n# Make sure we use the created database and schema for temp tables etc\nsession.use_schema(SAVE_DATA_PATH)",
   "execution_count": null
  },
  {
   "cell_type": "markdown",
   "id": "a4227ebd-a317-4501-a329-382c278d42ea",
   "metadata": {
    "name": "MDTickerSymbol",
    "collapsed": false,
    "resultHeight": 324
   },
   "source": "## Set the Ticker Symbol to Create a Line Chart.\n### Available Ticker Symbols:\n- AMZN\n- MSFT \n- NVDA\n- GOOGL\n- PG\n- KO\n- XOM"
  },
  {
   "cell_type": "code",
   "id": "70184e71-629c-4424-8576-57fa234c70b3",
   "metadata": {
    "language": "python",
    "name": "PySetTickerSymbol",
    "collapsed": false,
    "resultHeight": 0
   },
   "outputs": [],
   "source": "ticker_symbol_value = 'KO'",
   "execution_count": null
  },
  {
   "cell_type": "code",
   "id": "0c0e2777-1d3c-465b-993d-218d6b840d34",
   "metadata": {
    "language": "python",
    "name": "PyFilterSnowflakePandas",
    "collapsed": false,
    "resultHeight": 0
   },
   "outputs": [],
   "source": "Fifty_Hundred_Day_SMA_df = spd.read_snowflake(f\"{SOURCE_DATA_PATH}.EQUITIES_50_DAY_100_DAY_SMA_VW\").sort_values([\"TICKER_SYMBOL\", \"TRADE_DATE\"], ascending = True)\nFifty_Hundred_Day_SMA_df = Fifty_Hundred_Day_SMA_df.where(Fifty_Hundred_Day_SMA_df['TICKER_SYMBOL'] == ticker_symbol_value)\nFifty_Hundred_Day_SMA_df = Fifty_Hundred_Day_SMA_df.dropna()",
   "execution_count": null
  },
  {
   "cell_type": "code",
   "id": "352537a8-8c79-4f98-b285-9f34414def04",
   "metadata": {
    "language": "python",
    "name": "PyPrintTheDataFrame",
    "collapsed": false,
    "resultHeight": 172
   },
   "outputs": [],
   "source": "Fifty_Hundred_Day_SMA_df.head()",
   "execution_count": null
  },
  {
   "cell_type": "code",
   "id": "8205d9f4-380f-49c8-899c-7e0d182f3109",
   "metadata": {
    "language": "python",
    "name": "PyLineChart50D_100D_SMA",
    "collapsed": false,
    "resultHeight": 664
   },
   "outputs": [],
   "source": "data = {\n    'TRADE_DATE': Fifty_Hundred_Day_SMA_df['TRADE_DATE'],\n    'FIFTY_DAY_SMA': Fifty_Hundred_Day_SMA_df['FIFTY_DAY_SMA'],\n    'HUNDRED_DAY_SMA': Fifty_Hundred_Day_SMA_df['HUNDRED_DAY_SMA']\n}\n\ndf = spd.DataFrame(data)\n\n# Create the plot\nplt.figure(figsize=(15, 6))\nplt.plot(df['TRADE_DATE'], df['FIFTY_DAY_SMA'], label='50-DAY SMA')\nplt.plot(df['TRADE_DATE'], df['HUNDRED_DAY_SMA'], label='100-DAY SMA')\n\n# Add title, labels, and legend\nplt.title(ticker_symbol_value + ' Simple Moving Average (SMA)')\nplt.xlabel('TRADE DATE')\nplt.ylabel('SMA')\nplt.legend()\n\n# Show the plot\nplt.show()",
   "execution_count": null
  }
 ]
}