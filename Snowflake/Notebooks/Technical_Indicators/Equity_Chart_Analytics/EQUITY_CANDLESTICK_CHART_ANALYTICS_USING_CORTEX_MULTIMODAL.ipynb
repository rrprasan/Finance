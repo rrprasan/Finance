{
 "metadata": {
  "kernelspec": {
   "display_name": "Streamlit Notebook",
   "name": "streamlit"
  },
  "lastEditStatus": {
   "notebookId": "hp7r7yuahxahenhsacjh",
   "authorId": "8795186554644",
   "authorName": "PRAJAGOPAL",
   "authorEmail": "prasanna.rajagopal@snowflake.com",
   "sessionId": "5949b1c9-70e1-41fb-8882-db2566a6a2e5",
   "lastEditTime": 1747456260291
  }
 },
 "nbformat_minor": 5,
 "nbformat": 4,
 "cells": [
  {
   "cell_type": "markdown",
   "id": "9f067641-1e07-4b3b-b9cf-ef49d7fb5e18",
   "metadata": {
    "name": "MDIntroduction",
    "collapsed": false
   },
   "source": "# :chart_with_upwards_trend: Equity Chart Analytics Using :snowflake: Snowflake Cortex AI :snowflake: \n## Demo of [COMPLETE Multimodal](https://docs.snowflake.com/en/user-guide/snowflake-cortex/complete-multimodal) LLM SQL Function\n### Author: [Prasanna Rajagopal](https://www.linkedin.com/in/prasannarajagopal/)\n#### May 2025"
  },
  {
   "cell_type": "markdown",
   "id": "8f4f70f4-aa0f-4d11-8ac9-4b909f5fa614",
   "metadata": {
    "name": "MDChallengesOfManualChartReading",
    "collapsed": false
   },
   "source": "## The Challenges of Manual Chart Reading\n- ### ⏳ Time Drain\n    - Deciphering price action across multiple asset classes eats up valuable time.\n- ### 🤯 Analysis Overload\n    - Jumping between dozens of charts makes it tough to retain insights and spot broader trends. \n    - It's easy to analyze one and forget the nuances of the last!\n- ### ✍️ Note-Taking Hurdles\n    - Capturing key learnings and investment takeaways often falls by the wayside.\n- ### 🤝 Sharing Limitations\n    - Explaining chart patterns and analysis to others can be cumbersome without a clear, concise summary.\n"
  },
  {
   "cell_type": "markdown",
   "id": "bc91f385-358a-40fa-b8a9-145a845bc825",
   "metadata": {
    "name": "MDTheSolution",
    "collapsed": false
   },
   "source": "## The Solution - Snowflake Cortex LLM Function\n- ### Snowflake Cortex COMPLETE Multimodal\n- #### A general-purpose function capable of performing a wide range of user-specified text and vision processing tasks. \n- ### Use COMPLETE for:\n    - Comparing images\n    - Captioning images\n    - Classifying images\n    - Extracting entities from images\n    - Answering questions using data in graphs and charts\n"
  },
  {
   "cell_type": "markdown",
   "id": "a370a80b-73d7-46f0-bb08-8bbd3ef27f2a",
   "metadata": {
    "name": "MDTheProcessForMultimodalAnalysis",
    "collapsed": false
   },
   "source": "## The Process\n- ### Ingest Market Data into Snowflake\n- ### Construct Candlestick Charts Using Python Plotly Module\n- ### Convert Charts into .PNG File\n- ### Store Charts in a Stage in Snowflake\n- ### Create A Snowflake Table with Asset Information & Chart Location\n- ### Insert Asset Information & Chart Location into the Table\n- ### Apply Snowflake Cortex AI Multimodal\n\n### This demo starts with storing the charts in a Snowflake Stage. \n### Specifically from the step **'Store Charts in a Stage in Snowflake'** onwards in the process of automating Equity Chart Analytics with Snowflake Cortex AI COMPLETE."
  },
  {
   "cell_type": "markdown",
   "id": "4c14b213-2f44-4b71-99f7-b51959b0b0d6",
   "metadata": {
    "name": "MDCreateStage",
    "collapsed": false
   },
   "source": "## Create a Stage to Store the Images of the Candlestick Charts"
  },
  {
   "cell_type": "code",
   "id": "021c7b39-96bf-443f-a85f-7c443ec3d9b4",
   "metadata": {
    "language": "sql",
    "name": "SQLCreateStageforEquityCandlestickCharts"
   },
   "outputs": [],
   "source": "CREATE STAGE Equity_Candlestick_Chart_Analytics_Cortex_Multimodal_demo_int_stg \n\tDIRECTORY = ( ENABLE = true ) \n\tENCRYPTION = ( TYPE = 'SNOWFLAKE_SSE' ) \n\tCOMMENT = 'Snowflake Managed Stage for the Cortex AI Multi-modal Demo.';",
   "execution_count": null
  },
  {
   "cell_type": "markdown",
   "id": "14354a46-4263-48ed-9020-7d83f9e6e71e",
   "metadata": {
    "name": "MDUploadImagesIntoStage",
    "collapsed": false
   },
   "source": "## Download the Zip file [JPM_ETF_Candlestick_Chart_Images.zip](https://github.com/rrprasan/Finance/tree/main/Snowflake/Notebooks/Technical_Indicators/Equity_Chart_Analytics) from Github\n## Unzip and Upload the Image Files into the Stage\n#### Stage Name: Equity_Candlestick_Chart_Analytics_Cortex_Multimodal_demo_int_stg\n### Image Files in the Zip file:\n- JEPI_start_date_2025-03-31_end_date_2025-05-15_candlestick_chart.png\n- JGLO_start_date_2025-03-31_end_date_2025-05-15_candlestick_chart.png\n- JGRO_start_date_2025-03-31_end_date_2025-05-15_candlestick_chart.png\n- JQUA_start_date_2025-03-31_end_date_2025-05-15_candlestick_chart.png"
  },
  {
   "cell_type": "markdown",
   "id": "bed29ffc-cd12-4f98-bf73-84b004623dfe",
   "metadata": {
    "name": "MDListFileInStage",
    "collapsed": false
   },
   "source": "## List the Files in the Stage."
  },
  {
   "cell_type": "code",
   "id": "b077a29d-2861-4ba5-8272-925ad54a99fd",
   "metadata": {
    "language": "sql",
    "name": "SQLListImageFilesInStage"
   },
   "outputs": [],
   "source": "LIST @Equity_Candlestick_Chart_Analytics_Cortex_Multimodal_demo_int_stg",
   "execution_count": null
  },
  {
   "cell_type": "markdown",
   "id": "222269c2-7ff8-4809-a1c0-822eb2818099",
   "metadata": {
    "name": "MDCreateTable",
    "collapsed": false
   },
   "source": "## Create a Table to Store the Candlestick Image File and the Details about the Equity.\n### Take note of the [FILE Datatype](https://docs.snowflake.com/en/sql-reference/data-types-unstructured#file-data-type) used in the Table\n#### Snowflake provides the FILE data type for unstructured data. \n#### A FILE value represents a file stored in an internal or external stage, but does not store the file’s data, only a reference to it. It includes the following metadata:\n\n- STAGE: The name of the stage on which the file resides.\n- RELATIVE_PATH: The relative path of the file in its stage.\n- STAGE_FILE_URL: The stage file URL.\n- SCOPED_FILE_URL: A scoped file URL.\n- CONTENT_TYPE: The MIME type of the file.\n- SIZE: The size, in bytes, of the file.\n- ETAG: A unique hash of the file contents.\n- LAST_MODIFIED: The timestamp at which the file was last modified.\n\n#### Not all of these fields are required. \n#### A FILE must have CONTENT_TYPE, SIZE, ETAG, and LAST_MODIFIED fields, and also the file’s location specified by STAGE plus RELATIVE_PATH, STAGE_FILE_URL, or SCOPED_FILE_URL."
  },
  {
   "cell_type": "code",
   "id": "aa59f6bc-e962-430f-ab91-fa967c394eff",
   "metadata": {
    "language": "sql",
    "name": "SQLCreateImagesTbl"
   },
   "outputs": [],
   "source": "CREATE OR REPLACE TRANSIENT TABLE EQUITY_ETF_CANDLESTICK_IMAGES_TBL\n(\n    TICKER_SYMBOL                   VARCHAR,\n    ETF_NAME                        VARCHAR,\n    SECTOR                          VARCHAR,\n    ETF_CHART                       FILE,\n    ETF_CHART_PERIOD_START          DATE,\n    ETF_CHART_PERIOD_END            DATE,\n    CORTEX_AI_ANALYSIS_PERFORMANCE  VARCHAR,\n    CORTEX_AI_ANALYSIS_VOLATILITY   VARCHAR,\n    CORTEX_AI_ANALYSIS_MOMENTUM     VARCHAR);",
   "execution_count": null
  },
  {
   "cell_type": "markdown",
   "id": "bbced407-4eb0-4805-9b09-e7e02b4e95e1",
   "metadata": {
    "name": "MDRequirementsForInsert",
    "collapsed": false
   },
   "source": "### You will have to use ```INSERT INTO <TABLE_NAME> SELECT``` statement to insert the data into the FILE datatype.  \n### Please ensure DIRECTORY TABLE is enabled on the stage. "
  },
  {
   "cell_type": "code",
   "id": "f6e5f9ad-26de-4290-b7e1-0f4e44871281",
   "metadata": {
    "language": "sql",
    "name": "SQLInsertImageIntoFILE1"
   },
   "outputs": [],
   "source": "INSERT INTO EQUITY_ETF_CANDLESTICK_IMAGES_TBL \nSELECT \n    'JEPI',\n    'JPMorgan Equity Premium Income ETF',\n    'DERIVATIVE INCOME',\n    TO_FILE(BUILD_STAGE_FILE_URL('@Equity_Candlestick_Chart_Analytics_Cortex_Multimodal_demo_int_stg', 'JEPI_start_date_2025-03-31_end_date_2025-05-15_candlestick_chart.png')),\n    '2025-03-31',\n    '2025-05-15',\n    'TEXT',\n    'TEXT',\n    'TEXT';",
   "execution_count": null
  },
  {
   "cell_type": "code",
   "id": "4531049f-4b9d-404f-907f-3d370b0b7e3d",
   "metadata": {
    "language": "sql",
    "name": "SQLInsertImageIntoFILE2"
   },
   "outputs": [],
   "source": "INSERT INTO EQUITY_ETF_CANDLESTICK_IMAGES_TBL \nSELECT \n    'JGLO',\n    'JPMorgan Global Select Equity ETF',\n    'GLOBAL LARGE-STOCK BLEND',\n    TO_FILE(BUILD_STAGE_FILE_URL('@Equity_Candlestick_Chart_Analytics_Cortex_Multimodal_demo_int_stg', 'JGLO_start_date_2025-03-31_end_date_2025-05-15_candlestick_chart.png')),\n    '2025-03-31',\n    '2025-05-15',\n    'TEXT',\n    'TEXT',\n    'TEXT';",
   "execution_count": null
  },
  {
   "cell_type": "code",
   "id": "0b9bd979-df26-43c0-9013-ef71fb0ab76f",
   "metadata": {
    "language": "sql",
    "name": "SQLInsertImageIntoFILE3"
   },
   "outputs": [],
   "source": "INSERT INTO EQUITY_ETF_CANDLESTICK_IMAGES_TBL \nSELECT \n    'JGRO',\n    'JPMorgan Active Growth ETF',\n    'LARGE GROWTH',\n    TO_FILE(BUILD_STAGE_FILE_URL('@Equity_Candlestick_Chart_Analytics_Cortex_Multimodal_demo_int_stg', 'JGRO_start_date_2025-03-31_end_date_2025-05-15_candlestick_chart.png')),\n    '2025-03-31',\n    '2025-05-15',\n    'TEXT',\n    'TEXT',\n    'TEXT';",
   "execution_count": null
  },
  {
   "cell_type": "code",
   "id": "6a25b449-e4b2-4c71-a050-621b1846f933",
   "metadata": {
    "language": "sql",
    "name": "SQLInsertImageIntoFILE4"
   },
   "outputs": [],
   "source": "INSERT INTO EQUITY_ETF_CANDLESTICK_IMAGES_TBL \nSELECT \n    'JQUA',\n    'JPMorgan U.S. Quality Factor ETF',\n    'LARGE BLEND',\n    TO_FILE(BUILD_STAGE_FILE_URL('@Equity_Candlestick_Chart_Analytics_Cortex_Multimodal_demo_int_stg', 'JQUA_start_date_2025-03-31_end_date_2025-05-15_candlestick_chart.png')),\n    '2025-03-31',\n    '2025-05-15',\n    'TEXT',\n    'TEXT',\n    'TEXT';",
   "execution_count": null
  },
  {
   "cell_type": "markdown",
   "id": "f6904015-b5a7-4140-9d27-b6a4d9b871c3",
   "metadata": {
    "name": "MDApplyTheCOMPLETEMultimodalFn",
    "collapsed": false
   },
   "source": "## Apply the :snowflake: Snowflake :snowflake: Cortex AI ```COMPLETE``` LLM SQL function"
  },
  {
   "cell_type": "code",
   "id": "61526404-ee56-40b9-a34a-a686a46c74f5",
   "metadata": {
    "language": "sql",
    "name": "SQLSelectAnalyzeETFMomentumUsingCompleteFn"
   },
   "outputs": [],
   "source": "SELECT SNOWFLAKE.CORTEX.COMPLETE('claude-3-5-sonnet',\n                    'Analyze the momentum of the ETF over the past month and a half. Describe the current trend (uptrend, downtrend, sideways) and the strength of this momentum. Are there any signs of accelerating or decelerating momentum?',\n                    TO_FILE(ETF_CHART)\n                ) month_momentum,\n                TICKER_SYMBOL\n            FROM \n                EQUITY_ETF_CANDLESTICK_IMAGES_TBL; ",
   "execution_count": null
  },
  {
   "cell_type": "markdown",
   "id": "d52c7128-6119-4689-bc8d-0dc96e8a61b5",
   "metadata": {
    "name": "MDOutputOfCortexAIMultimodal",
    "collapsed": false
   },
   "source": "## The Output of :snowflake: Snowflake :snowflake: Cortex AI COMPLETE Multimodal SQL Function :fire: \nLooking at the **JEPI ETF chart** over the past month and a half, here's my analysis of its **momentum**:\n\n### Current Trend: Overall Uptrend\nThe ETF has been showing a general upward trend since early April, recovering from a low around \\$50-51 to current levels around \\$56. This represents a significant recovery of approximately 10%.\n\n### Momentum Characteristics:\n1. Early Period (Late March - Early April): High volatility with sharp downward movement\n2. Mid-April: Consolidation and base formation around $53-54 level\n3. Late April - Present: Steadier upward momentum with less volatility\n\n### Momentum Strength:\n- The initial recovery from early April lows showed strong momentum\n- The recent movement (May) shows decelerating momentum, with:\n  * Smaller price ranges\n  * More sideways consolidation\n  * Shorter candlesticks indicating less aggressive buying\n\n### Signs of Momentum Change:\n**1. Recent price action shows signs of momentum deceleration**\n\n**2. The uptrend appears to be losing steam as it approaches the $56-57 range**\n\n**3. Recent candlesticks show more indecision (smaller bodies, more doji-like patterns)**\n\n**The current pattern suggests the strong upward momentum is transitioning into a more consolidative phase**, though the overall uptrend remains intact for now."
  },
  {
   "cell_type": "markdown",
   "id": "343387f6-beb1-4eba-b95e-d90cd9dec928",
   "metadata": {
    "name": "MDUpdateTblWithCortexAnalysisOfCandlestickChart",
    "collapsed": false
   },
   "source": "### Rather than rerunning the Cortex AI Complete function each time, the analysis can be generated once and stored in the table. \n### This allows for easy display in an application or sharing with others."
  },
  {
   "cell_type": "code",
   "id": "faeab880-8bff-475e-8337-7d3ad3c2c399",
   "metadata": {
    "language": "sql",
    "name": "SQLUpdateTableWithCOMPLETEAnalysis"
   },
   "outputs": [],
   "source": "UPDATE EQUITY_ETF_CANDLESTICK_IMAGES_TBL SET CORTEX_AI_ANALYSIS_MOMENTUM = b.month_momentum\nFROM\n        (\n            SELECT SNOWFLAKE.CORTEX.COMPLETE('claude-3-5-sonnet',\n                    'Analyze the momentum of the ETF over the past month and a half. Describe the current trend (uptrend, downtrend, sideways) and the strength of this momentum. Are there any signs of accelerating or decelerating momentum?',\n                    TO_FILE(ETF_CHART)\n                ) month_momentum,\n                TICKER_SYMBOL\n            FROM \n                EQUITY_ETF_CANDLESTICK_IMAGES_TBL \n            WHERE \n                EQUITY_ETF_CANDLESTICK_IMAGES_TBL.TICKER_SYMBOL = 'JEPI') b\nWHERE\n    EQUITY_ETF_CANDLESTICK_IMAGES_TBL.TICKER_SYMBOL = B.TICKER_SYMBOL;",
   "execution_count": null
  },
  {
   "cell_type": "code",
   "id": "13b441c0-72d0-41ee-bdfe-e908ca9037ac",
   "metadata": {
    "language": "sql",
    "name": "SQLSelectJEPI_MOMENTUM_ANALYSIS"
   },
   "outputs": [],
   "source": "SELECT * FROM EQUITY_ETF_CANDLESTICK_IMAGES_TBL WHERE TICKER_SYMBOL = 'JEPI';",
   "execution_count": null
  },
  {
   "cell_type": "code",
   "id": "9f3b1402-7ffb-490a-b64d-0bd077c76bb3",
   "metadata": {
    "language": "python",
    "name": "PyImportStatements"
   },
   "outputs": [],
   "source": "import streamlit as st\nfrom snowflake.snowpark.context import get_active_session\n# Create a snowpark session\nsession = get_active_session()",
   "execution_count": null
  },
  {
   "cell_type": "code",
   "id": "2b811761-5894-49d9-ad31-9c4b1939b7b5",
   "metadata": {
    "language": "python",
    "name": "PyDisplayETFCandlestickChart"
   },
   "outputs": [],
   "source": "image = session.file.get_stream(\"@Equity_Candlestick_Chart_Analytics_Cortex_Multimodal_demo_int_stg/JEPI_start_date_2025-03-31_end_date_2025-05-15_candlestick_chart.png\" , decompress=False).read() \n# Display the image\nst.image(image)",
   "execution_count": null
  }
 ]
}